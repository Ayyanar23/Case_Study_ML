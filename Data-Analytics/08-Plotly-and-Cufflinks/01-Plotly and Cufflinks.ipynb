{
 "cells": [
  {
   "cell_type": "markdown",
   "metadata": {},
   "source": [
    "\n",
    "# Plotly and Cufflinks"
   ]
  },
  {
   "cell_type": "markdown",
   "metadata": {},
   "source": [
    "Plotly is a library that allows you to create interactive plots that you can use in dashboards or websites (you can save them as html files or static images).\n",
    "\n",
    "## Installation\n",
    "\n",
    "In order for this all to work, you'll need to install plotly and cufflinks to call plots directly off of a pandas dataframe. These libraries are not currently available through **conda** but are available through **pip**. Install the libraries at your command line/terminal using:\n",
    "\n",
    "    pip install plotly\n",
    "    pip install cufflinks\n",
    "\n",
    "** NOTE: Make sure you only have one installation of Python on your computer when you do this, otherwise the installation may not work. **\n",
    "\n",
    "## Imports and Set-up"
   ]
  },
  {
   "cell_type": "code",
   "execution_count": 3,
   "metadata": {},
   "outputs": [],
   "source": [
    "import pandas as pd\n",
    "import numpy as np\n",
    "%matplotlib inline"
   ]
  },
  {
   "cell_type": "code",
   "execution_count": 4,
   "metadata": {},
   "outputs": [
    {
     "name": "stdout",
     "output_type": "stream",
     "text": [
      "4.6.0\n"
     ]
    }
   ],
   "source": [
    "from plotly import __version__\n",
    "from plotly.offline import download_plotlyjs, init_notebook_mode, plot, iplot\n",
    "\n",
    "print(__version__) # requires version >= 1.9.0"
   ]
  },
  {
   "cell_type": "code",
   "execution_count": 5,
   "metadata": {},
   "outputs": [],
   "source": [
    "import cufflinks as cf"
   ]
  },
  {
   "cell_type": "code",
   "execution_count": 12,
   "metadata": {},
   "outputs": [
    {
     "data": {
      "text/html": [
       "        <script type=\"text/javascript\">\n",
       "        window.PlotlyConfig = {MathJaxConfig: 'local'};\n",
       "        if (window.MathJax) {MathJax.Hub.Config({SVG: {font: \"STIX-Web\"}});}\n",
       "        if (typeof require !== 'undefined') {\n",
       "        require.undef(\"plotly\");\n",
       "        requirejs.config({\n",
       "            paths: {\n",
       "                'plotly': ['https://cdn.plot.ly/plotly-latest.min']\n",
       "            }\n",
       "        });\n",
       "        require(['plotly'], function(Plotly) {\n",
       "            window._Plotly = Plotly;\n",
       "        });\n",
       "        }\n",
       "        </script>\n",
       "        "
      ]
     },
     "metadata": {},
     "output_type": "display_data"
    }
   ],
   "source": [
    "# For Notebooks\n",
    "init_notebook_mode(connected=True)"
   ]
  },
  {
   "cell_type": "code",
   "execution_count": 15,
   "metadata": {},
   "outputs": [
    {
     "data": {
      "text/html": [
       "        <script type=\"text/javascript\">\n",
       "        window.PlotlyConfig = {MathJaxConfig: 'local'};\n",
       "        if (window.MathJax) {MathJax.Hub.Config({SVG: {font: \"STIX-Web\"}});}\n",
       "        if (typeof require !== 'undefined') {\n",
       "        require.undef(\"plotly\");\n",
       "        requirejs.config({\n",
       "            paths: {\n",
       "                'plotly': ['https://cdn.plot.ly/plotly-latest.min']\n",
       "            }\n",
       "        });\n",
       "        require(['plotly'], function(Plotly) {\n",
       "            window._Plotly = Plotly;\n",
       "        });\n",
       "        }\n",
       "        </script>\n",
       "        "
      ]
     },
     "metadata": {},
     "output_type": "display_data"
    }
   ],
   "source": [
    "# For offline use\n",
    "cf.go_offline()"
   ]
  },
  {
   "cell_type": "markdown",
   "metadata": {},
   "source": [
    "### Fake Data"
   ]
  },
  {
   "cell_type": "code",
   "execution_count": 6,
   "metadata": {},
   "outputs": [],
   "source": [
    "df = pd.DataFrame(np.random.randn(100,4),columns='A B C D'.split())"
   ]
  },
  {
   "cell_type": "code",
   "execution_count": 7,
   "metadata": {},
   "outputs": [
    {
     "data": {
      "text/html": [
       "<div>\n",
       "<style scoped>\n",
       "    .dataframe tbody tr th:only-of-type {\n",
       "        vertical-align: middle;\n",
       "    }\n",
       "\n",
       "    .dataframe tbody tr th {\n",
       "        vertical-align: top;\n",
       "    }\n",
       "\n",
       "    .dataframe thead th {\n",
       "        text-align: right;\n",
       "    }\n",
       "</style>\n",
       "<table border=\"1\" class=\"dataframe\">\n",
       "  <thead>\n",
       "    <tr style=\"text-align: right;\">\n",
       "      <th></th>\n",
       "      <th>A</th>\n",
       "      <th>B</th>\n",
       "      <th>C</th>\n",
       "      <th>D</th>\n",
       "    </tr>\n",
       "  </thead>\n",
       "  <tbody>\n",
       "    <tr>\n",
       "      <th>0</th>\n",
       "      <td>-0.137751</td>\n",
       "      <td>0.486704</td>\n",
       "      <td>-1.137493</td>\n",
       "      <td>-0.704724</td>\n",
       "    </tr>\n",
       "    <tr>\n",
       "      <th>1</th>\n",
       "      <td>-1.993305</td>\n",
       "      <td>1.244048</td>\n",
       "      <td>0.765388</td>\n",
       "      <td>1.246993</td>\n",
       "    </tr>\n",
       "    <tr>\n",
       "      <th>2</th>\n",
       "      <td>-0.954504</td>\n",
       "      <td>2.333226</td>\n",
       "      <td>0.363540</td>\n",
       "      <td>0.140309</td>\n",
       "    </tr>\n",
       "    <tr>\n",
       "      <th>3</th>\n",
       "      <td>1.401416</td>\n",
       "      <td>1.689469</td>\n",
       "      <td>-0.126456</td>\n",
       "      <td>-0.454942</td>\n",
       "    </tr>\n",
       "    <tr>\n",
       "      <th>4</th>\n",
       "      <td>-1.131922</td>\n",
       "      <td>0.266005</td>\n",
       "      <td>0.209023</td>\n",
       "      <td>0.062464</td>\n",
       "    </tr>\n",
       "  </tbody>\n",
       "</table>\n",
       "</div>"
      ],
      "text/plain": [
       "          A         B         C         D\n",
       "0 -0.137751  0.486704 -1.137493 -0.704724\n",
       "1 -1.993305  1.244048  0.765388  1.246993\n",
       "2 -0.954504  2.333226  0.363540  0.140309\n",
       "3  1.401416  1.689469 -0.126456 -0.454942\n",
       "4 -1.131922  0.266005  0.209023  0.062464"
      ]
     },
     "execution_count": 7,
     "metadata": {},
     "output_type": "execute_result"
    }
   ],
   "source": [
    "df.head()"
   ]
  },
  {
   "cell_type": "code",
   "execution_count": 9,
   "metadata": {},
   "outputs": [],
   "source": [
    "df2 = pd.DataFrame({'Category':['A','B','C'],'Values':[32,43,50]})"
   ]
  },
  {
   "cell_type": "code",
   "execution_count": 10,
   "metadata": {},
   "outputs": [
    {
     "data": {
      "text/html": [
       "<div>\n",
       "<style scoped>\n",
       "    .dataframe tbody tr th:only-of-type {\n",
       "        vertical-align: middle;\n",
       "    }\n",
       "\n",
       "    .dataframe tbody tr th {\n",
       "        vertical-align: top;\n",
       "    }\n",
       "\n",
       "    .dataframe thead th {\n",
       "        text-align: right;\n",
       "    }\n",
       "</style>\n",
       "<table border=\"1\" class=\"dataframe\">\n",
       "  <thead>\n",
       "    <tr style=\"text-align: right;\">\n",
       "      <th></th>\n",
       "      <th>Category</th>\n",
       "      <th>Values</th>\n",
       "    </tr>\n",
       "  </thead>\n",
       "  <tbody>\n",
       "    <tr>\n",
       "      <th>0</th>\n",
       "      <td>A</td>\n",
       "      <td>32</td>\n",
       "    </tr>\n",
       "    <tr>\n",
       "      <th>1</th>\n",
       "      <td>B</td>\n",
       "      <td>43</td>\n",
       "    </tr>\n",
       "    <tr>\n",
       "      <th>2</th>\n",
       "      <td>C</td>\n",
       "      <td>50</td>\n",
       "    </tr>\n",
       "  </tbody>\n",
       "</table>\n",
       "</div>"
      ],
      "text/plain": [
       "  Category  Values\n",
       "0        A      32\n",
       "1        B      43\n",
       "2        C      50"
      ]
     },
     "execution_count": 10,
     "metadata": {},
     "output_type": "execute_result"
    }
   ],
   "source": [
    "df2.head()"
   ]
  },
  {
   "cell_type": "markdown",
   "metadata": {},
   "source": [
    "## Using Cufflinks and iplot()\n",
    "\n",
    "* scatter\n",
    "* bar\n",
    "* box\n",
    "* spread\n",
    "* ratio\n",
    "* heatmap\n",
    "* surface\n",
    "* histogram\n",
    "* bubble"
   ]
  },
  {
   "cell_type": "markdown",
   "metadata": {},
   "source": [
    "## Scatter"
   ]
  },
  {
   "cell_type": "code",
   "execution_count": 16,
   "metadata": {},
   "outputs": [
    {
     "data": {
      "application/vnd.plotly.v1+json": {
       "config": {
        "linkText": "Export to plot.ly",
        "plotlyServerURL": "https://plot.ly",
        "showLink": true
       },
       "data": [
        {
         "line": {
          "color": "rgba(255, 153, 51, 1.0)",
          "dash": "solid",
          "shape": "linear",
          "width": 1.3
         },
         "marker": {
          "size": 10,
          "symbol": "circle"
         },
         "mode": "markers",
         "name": "B",
         "text": "",
         "type": "scatter",
         "x": [
          -0.13775086430743813,
          -1.9933049229514477,
          -0.9545044762222105,
          1.4014164640928737,
          -1.13192187578824,
          -1.3617171661286414,
          -0.9083961716634638,
          1.3303928616547227,
          0.8057925035002808,
          -0.6897784200723086,
          -2.0953961176504903,
          0.4779895237770411,
          0.7541183143416599,
          1.0885380483057463,
          -1.9447575190926418,
          0.9975927283186687,
          0.5396244432324852,
          -0.42383547340641514,
          0.7186773780770584,
          2.6607077784921724,
          0.5419253101691794,
          0.48168350903181256,
          0.00016683141743905627,
          -1.434810587490341,
          0.7715714846893815,
          0.7456802660196701,
          -0.36542221125466307,
          -1.0166942651772195,
          0.3093832415310271,
          -1.3304186784288994,
          -0.38208893085136053,
          1.070745280547997,
          -0.24166411883649572,
          1.0156796479926795,
          0.34835168994849247,
          -0.4191523215594431,
          0.06173604008436236,
          -1.432936038291852,
          0.3258606651601762,
          -1.349954164282741,
          -0.7095098045451561,
          1.010145452103435,
          -1.1105120080278759,
          0.21666021830827295,
          0.05047695299247232,
          1.6979340768084248,
          0.4829406701478865,
          -0.09070487712543199,
          0.8532304688136618,
          -0.8942411416717861,
          -0.42457176708669925,
          -1.5657072405052173,
          -0.17728663186775215,
          -0.907529302042309,
          0.015237382008090744,
          0.17182485828798016,
          -0.422959094891893,
          -0.7740227863443343,
          -1.0208775652388034,
          -0.6324799702992057,
          0.10822694435312787,
          -0.3496517337932419,
          0.33060914060953733,
          -1.0106999926023936,
          -0.7222417619394348,
          -0.5332812245676131,
          -0.776755834796644,
          1.1941171480095443,
          1.2686298712847948,
          -1.017278861018582,
          -1.1774948698526817,
          -0.4239516911089791,
          -0.3945051098098888,
          -1.360817658415006,
          -0.863416437132497,
          0.7226579837082056,
          -1.071158632435797,
          -0.7010972899518247,
          1.2145562514183765,
          -0.28080634140698185,
          0.4366347441230707,
          1.314812375540971,
          1.5722102595136485,
          2.3812552615192804,
          -1.0672037558626681,
          -0.053593780034868706,
          0.5976597621802904,
          -0.5418992969522781,
          -0.8921719903625399,
          0.32805956293816935,
          0.8811900268496274,
          -0.6639785072700968,
          -0.4073355000059551,
          -0.5740298447265203,
          0.033388134057522056,
          -1.3913553444512943,
          0.20930846462947625,
          -1.8181242562227442,
          0.20084981290816206,
          -0.8380964279862918
         ],
         "y": [
          0.4867039677135526,
          1.244047840402478,
          2.3332257859437378,
          1.689469317780753,
          0.26600468702917085,
          -1.5534056582883649,
          -1.4715859849210289,
          -0.2044115131727728,
          0.26871657375985414,
          -0.3422180501613123,
          -1.7735616597332367,
          -0.016933444517672404,
          -0.7293476753347374,
          -0.624452059783926,
          -1.2763146611944258,
          1.2724287629354616,
          0.3481211380276087,
          -1.0169552849327732,
          0.10521745932772313,
          -0.6304304028436521,
          -0.5041196367567813,
          0.3161120551419451,
          0.7369874147128881,
          -1.0598247277896868,
          -0.18506125663662593,
          0.810477229270296,
          -1.384807705451281,
          -0.8863863326525558,
          0.9147353176181667,
          -0.5385833168165204,
          0.23579161115875363,
          1.3922065321592305,
          -0.029253693715969455,
          0.9869678719055079,
          -0.8315582910357844,
          -0.15630658169048334,
          0.3630713272506266,
          -0.5732445399171228,
          0.6868772378242992,
          1.1003303290999775,
          0.18612995904760574,
          0.6946198041945933,
          -2.365577687112027,
          0.8905083947588157,
          0.6373915150218937,
          -1.5590165623571386,
          -1.8099737250328467,
          0.8187923807100435,
          -0.566006465230476,
          -0.2075092147286489,
          -1.5463956090468263,
          -0.2027034353912444,
          0.6110919682579047,
          -0.4024096082165716,
          0.1092393679292165,
          -1.549036721036476,
          -0.28602484732646627,
          -1.596958432253144,
          -1.2934586866600908,
          -0.4345286168661543,
          -0.6577383489380272,
          0.7483943244863837,
          1.079000643133668,
          -1.5546810209164317,
          -0.7525658730481593,
          0.9060783055285099,
          -1.4556490922061072,
          1.5641473539411717,
          0.867404487903958,
          -0.7804546920722069,
          -0.2626463976382476,
          1.0219316310317808,
          -0.940622822003576,
          -0.7058560462667333,
          0.40742227057372776,
          -1.06757106950965,
          -0.7515626021053561,
          2.1636224076620234,
          0.286759747917996,
          -0.8385984718681364,
          -0.7641870886396996,
          -0.48373459403747987,
          0.10528249278382575,
          -0.9632439023829252,
          1.903457634504097,
          -0.16604985961639618,
          0.5530277500259455,
          0.0951366549917921,
          0.10390345527482063,
          0.12218714334909844,
          -1.1493425592465587,
          0.5883479007961637,
          0.23124416068370013,
          1.0861293480045746,
          1.2786656219423185,
          -0.10469047643119377,
          0.664352682995852,
          -0.45585776757309304,
          -0.309786574014567,
          -1.1229610739076694
         ]
        }
       ],
       "layout": {
        "legend": {
         "bgcolor": "#F5F6F9",
         "font": {
          "color": "#4D5663"
         }
        },
        "paper_bgcolor": "#F5F6F9",
        "plot_bgcolor": "#F5F6F9",
        "template": {
         "data": {
          "bar": [
           {
            "error_x": {
             "color": "#2a3f5f"
            },
            "error_y": {
             "color": "#2a3f5f"
            },
            "marker": {
             "line": {
              "color": "#E5ECF6",
              "width": 0.5
             }
            },
            "type": "bar"
           }
          ],
          "barpolar": [
           {
            "marker": {
             "line": {
              "color": "#E5ECF6",
              "width": 0.5
             }
            },
            "type": "barpolar"
           }
          ],
          "carpet": [
           {
            "aaxis": {
             "endlinecolor": "#2a3f5f",
             "gridcolor": "white",
             "linecolor": "white",
             "minorgridcolor": "white",
             "startlinecolor": "#2a3f5f"
            },
            "baxis": {
             "endlinecolor": "#2a3f5f",
             "gridcolor": "white",
             "linecolor": "white",
             "minorgridcolor": "white",
             "startlinecolor": "#2a3f5f"
            },
            "type": "carpet"
           }
          ],
          "choropleth": [
           {
            "colorbar": {
             "outlinewidth": 0,
             "ticks": ""
            },
            "type": "choropleth"
           }
          ],
          "contour": [
           {
            "colorbar": {
             "outlinewidth": 0,
             "ticks": ""
            },
            "colorscale": [
             [
              0,
              "#0d0887"
             ],
             [
              0.1111111111111111,
              "#46039f"
             ],
             [
              0.2222222222222222,
              "#7201a8"
             ],
             [
              0.3333333333333333,
              "#9c179e"
             ],
             [
              0.4444444444444444,
              "#bd3786"
             ],
             [
              0.5555555555555556,
              "#d8576b"
             ],
             [
              0.6666666666666666,
              "#ed7953"
             ],
             [
              0.7777777777777778,
              "#fb9f3a"
             ],
             [
              0.8888888888888888,
              "#fdca26"
             ],
             [
              1,
              "#f0f921"
             ]
            ],
            "type": "contour"
           }
          ],
          "contourcarpet": [
           {
            "colorbar": {
             "outlinewidth": 0,
             "ticks": ""
            },
            "type": "contourcarpet"
           }
          ],
          "heatmap": [
           {
            "colorbar": {
             "outlinewidth": 0,
             "ticks": ""
            },
            "colorscale": [
             [
              0,
              "#0d0887"
             ],
             [
              0.1111111111111111,
              "#46039f"
             ],
             [
              0.2222222222222222,
              "#7201a8"
             ],
             [
              0.3333333333333333,
              "#9c179e"
             ],
             [
              0.4444444444444444,
              "#bd3786"
             ],
             [
              0.5555555555555556,
              "#d8576b"
             ],
             [
              0.6666666666666666,
              "#ed7953"
             ],
             [
              0.7777777777777778,
              "#fb9f3a"
             ],
             [
              0.8888888888888888,
              "#fdca26"
             ],
             [
              1,
              "#f0f921"
             ]
            ],
            "type": "heatmap"
           }
          ],
          "heatmapgl": [
           {
            "colorbar": {
             "outlinewidth": 0,
             "ticks": ""
            },
            "colorscale": [
             [
              0,
              "#0d0887"
             ],
             [
              0.1111111111111111,
              "#46039f"
             ],
             [
              0.2222222222222222,
              "#7201a8"
             ],
             [
              0.3333333333333333,
              "#9c179e"
             ],
             [
              0.4444444444444444,
              "#bd3786"
             ],
             [
              0.5555555555555556,
              "#d8576b"
             ],
             [
              0.6666666666666666,
              "#ed7953"
             ],
             [
              0.7777777777777778,
              "#fb9f3a"
             ],
             [
              0.8888888888888888,
              "#fdca26"
             ],
             [
              1,
              "#f0f921"
             ]
            ],
            "type": "heatmapgl"
           }
          ],
          "histogram": [
           {
            "marker": {
             "colorbar": {
              "outlinewidth": 0,
              "ticks": ""
             }
            },
            "type": "histogram"
           }
          ],
          "histogram2d": [
           {
            "colorbar": {
             "outlinewidth": 0,
             "ticks": ""
            },
            "colorscale": [
             [
              0,
              "#0d0887"
             ],
             [
              0.1111111111111111,
              "#46039f"
             ],
             [
              0.2222222222222222,
              "#7201a8"
             ],
             [
              0.3333333333333333,
              "#9c179e"
             ],
             [
              0.4444444444444444,
              "#bd3786"
             ],
             [
              0.5555555555555556,
              "#d8576b"
             ],
             [
              0.6666666666666666,
              "#ed7953"
             ],
             [
              0.7777777777777778,
              "#fb9f3a"
             ],
             [
              0.8888888888888888,
              "#fdca26"
             ],
             [
              1,
              "#f0f921"
             ]
            ],
            "type": "histogram2d"
           }
          ],
          "histogram2dcontour": [
           {
            "colorbar": {
             "outlinewidth": 0,
             "ticks": ""
            },
            "colorscale": [
             [
              0,
              "#0d0887"
             ],
             [
              0.1111111111111111,
              "#46039f"
             ],
             [
              0.2222222222222222,
              "#7201a8"
             ],
             [
              0.3333333333333333,
              "#9c179e"
             ],
             [
              0.4444444444444444,
              "#bd3786"
             ],
             [
              0.5555555555555556,
              "#d8576b"
             ],
             [
              0.6666666666666666,
              "#ed7953"
             ],
             [
              0.7777777777777778,
              "#fb9f3a"
             ],
             [
              0.8888888888888888,
              "#fdca26"
             ],
             [
              1,
              "#f0f921"
             ]
            ],
            "type": "histogram2dcontour"
           }
          ],
          "mesh3d": [
           {
            "colorbar": {
             "outlinewidth": 0,
             "ticks": ""
            },
            "type": "mesh3d"
           }
          ],
          "parcoords": [
           {
            "line": {
             "colorbar": {
              "outlinewidth": 0,
              "ticks": ""
             }
            },
            "type": "parcoords"
           }
          ],
          "pie": [
           {
            "automargin": true,
            "type": "pie"
           }
          ],
          "scatter": [
           {
            "marker": {
             "colorbar": {
              "outlinewidth": 0,
              "ticks": ""
             }
            },
            "type": "scatter"
           }
          ],
          "scatter3d": [
           {
            "line": {
             "colorbar": {
              "outlinewidth": 0,
              "ticks": ""
             }
            },
            "marker": {
             "colorbar": {
              "outlinewidth": 0,
              "ticks": ""
             }
            },
            "type": "scatter3d"
           }
          ],
          "scattercarpet": [
           {
            "marker": {
             "colorbar": {
              "outlinewidth": 0,
              "ticks": ""
             }
            },
            "type": "scattercarpet"
           }
          ],
          "scattergeo": [
           {
            "marker": {
             "colorbar": {
              "outlinewidth": 0,
              "ticks": ""
             }
            },
            "type": "scattergeo"
           }
          ],
          "scattergl": [
           {
            "marker": {
             "colorbar": {
              "outlinewidth": 0,
              "ticks": ""
             }
            },
            "type": "scattergl"
           }
          ],
          "scattermapbox": [
           {
            "marker": {
             "colorbar": {
              "outlinewidth": 0,
              "ticks": ""
             }
            },
            "type": "scattermapbox"
           }
          ],
          "scatterpolar": [
           {
            "marker": {
             "colorbar": {
              "outlinewidth": 0,
              "ticks": ""
             }
            },
            "type": "scatterpolar"
           }
          ],
          "scatterpolargl": [
           {
            "marker": {
             "colorbar": {
              "outlinewidth": 0,
              "ticks": ""
             }
            },
            "type": "scatterpolargl"
           }
          ],
          "scatterternary": [
           {
            "marker": {
             "colorbar": {
              "outlinewidth": 0,
              "ticks": ""
             }
            },
            "type": "scatterternary"
           }
          ],
          "surface": [
           {
            "colorbar": {
             "outlinewidth": 0,
             "ticks": ""
            },
            "colorscale": [
             [
              0,
              "#0d0887"
             ],
             [
              0.1111111111111111,
              "#46039f"
             ],
             [
              0.2222222222222222,
              "#7201a8"
             ],
             [
              0.3333333333333333,
              "#9c179e"
             ],
             [
              0.4444444444444444,
              "#bd3786"
             ],
             [
              0.5555555555555556,
              "#d8576b"
             ],
             [
              0.6666666666666666,
              "#ed7953"
             ],
             [
              0.7777777777777778,
              "#fb9f3a"
             ],
             [
              0.8888888888888888,
              "#fdca26"
             ],
             [
              1,
              "#f0f921"
             ]
            ],
            "type": "surface"
           }
          ],
          "table": [
           {
            "cells": {
             "fill": {
              "color": "#EBF0F8"
             },
             "line": {
              "color": "white"
             }
            },
            "header": {
             "fill": {
              "color": "#C8D4E3"
             },
             "line": {
              "color": "white"
             }
            },
            "type": "table"
           }
          ]
         },
         "layout": {
          "annotationdefaults": {
           "arrowcolor": "#2a3f5f",
           "arrowhead": 0,
           "arrowwidth": 1
          },
          "coloraxis": {
           "colorbar": {
            "outlinewidth": 0,
            "ticks": ""
           }
          },
          "colorscale": {
           "diverging": [
            [
             0,
             "#8e0152"
            ],
            [
             0.1,
             "#c51b7d"
            ],
            [
             0.2,
             "#de77ae"
            ],
            [
             0.3,
             "#f1b6da"
            ],
            [
             0.4,
             "#fde0ef"
            ],
            [
             0.5,
             "#f7f7f7"
            ],
            [
             0.6,
             "#e6f5d0"
            ],
            [
             0.7,
             "#b8e186"
            ],
            [
             0.8,
             "#7fbc41"
            ],
            [
             0.9,
             "#4d9221"
            ],
            [
             1,
             "#276419"
            ]
           ],
           "sequential": [
            [
             0,
             "#0d0887"
            ],
            [
             0.1111111111111111,
             "#46039f"
            ],
            [
             0.2222222222222222,
             "#7201a8"
            ],
            [
             0.3333333333333333,
             "#9c179e"
            ],
            [
             0.4444444444444444,
             "#bd3786"
            ],
            [
             0.5555555555555556,
             "#d8576b"
            ],
            [
             0.6666666666666666,
             "#ed7953"
            ],
            [
             0.7777777777777778,
             "#fb9f3a"
            ],
            [
             0.8888888888888888,
             "#fdca26"
            ],
            [
             1,
             "#f0f921"
            ]
           ],
           "sequentialminus": [
            [
             0,
             "#0d0887"
            ],
            [
             0.1111111111111111,
             "#46039f"
            ],
            [
             0.2222222222222222,
             "#7201a8"
            ],
            [
             0.3333333333333333,
             "#9c179e"
            ],
            [
             0.4444444444444444,
             "#bd3786"
            ],
            [
             0.5555555555555556,
             "#d8576b"
            ],
            [
             0.6666666666666666,
             "#ed7953"
            ],
            [
             0.7777777777777778,
             "#fb9f3a"
            ],
            [
             0.8888888888888888,
             "#fdca26"
            ],
            [
             1,
             "#f0f921"
            ]
           ]
          },
          "colorway": [
           "#636efa",
           "#EF553B",
           "#00cc96",
           "#ab63fa",
           "#FFA15A",
           "#19d3f3",
           "#FF6692",
           "#B6E880",
           "#FF97FF",
           "#FECB52"
          ],
          "font": {
           "color": "#2a3f5f"
          },
          "geo": {
           "bgcolor": "white",
           "lakecolor": "white",
           "landcolor": "#E5ECF6",
           "showlakes": true,
           "showland": true,
           "subunitcolor": "white"
          },
          "hoverlabel": {
           "align": "left"
          },
          "hovermode": "closest",
          "mapbox": {
           "style": "light"
          },
          "paper_bgcolor": "white",
          "plot_bgcolor": "#E5ECF6",
          "polar": {
           "angularaxis": {
            "gridcolor": "white",
            "linecolor": "white",
            "ticks": ""
           },
           "bgcolor": "#E5ECF6",
           "radialaxis": {
            "gridcolor": "white",
            "linecolor": "white",
            "ticks": ""
           }
          },
          "scene": {
           "xaxis": {
            "backgroundcolor": "#E5ECF6",
            "gridcolor": "white",
            "gridwidth": 2,
            "linecolor": "white",
            "showbackground": true,
            "ticks": "",
            "zerolinecolor": "white"
           },
           "yaxis": {
            "backgroundcolor": "#E5ECF6",
            "gridcolor": "white",
            "gridwidth": 2,
            "linecolor": "white",
            "showbackground": true,
            "ticks": "",
            "zerolinecolor": "white"
           },
           "zaxis": {
            "backgroundcolor": "#E5ECF6",
            "gridcolor": "white",
            "gridwidth": 2,
            "linecolor": "white",
            "showbackground": true,
            "ticks": "",
            "zerolinecolor": "white"
           }
          },
          "shapedefaults": {
           "line": {
            "color": "#2a3f5f"
           }
          },
          "ternary": {
           "aaxis": {
            "gridcolor": "white",
            "linecolor": "white",
            "ticks": ""
           },
           "baxis": {
            "gridcolor": "white",
            "linecolor": "white",
            "ticks": ""
           },
           "bgcolor": "#E5ECF6",
           "caxis": {
            "gridcolor": "white",
            "linecolor": "white",
            "ticks": ""
           }
          },
          "title": {
           "x": 0.05
          },
          "xaxis": {
           "automargin": true,
           "gridcolor": "white",
           "linecolor": "white",
           "ticks": "",
           "title": {
            "standoff": 15
           },
           "zerolinecolor": "white",
           "zerolinewidth": 2
          },
          "yaxis": {
           "automargin": true,
           "gridcolor": "white",
           "linecolor": "white",
           "ticks": "",
           "title": {
            "standoff": 15
           },
           "zerolinecolor": "white",
           "zerolinewidth": 2
          }
         }
        },
        "title": {
         "font": {
          "color": "#4D5663"
         }
        },
        "xaxis": {
         "gridcolor": "#E1E5ED",
         "showgrid": true,
         "tickfont": {
          "color": "#4D5663"
         },
         "title": {
          "font": {
           "color": "#4D5663"
          },
          "text": ""
         },
         "zerolinecolor": "#E1E5ED"
        },
        "yaxis": {
         "gridcolor": "#E1E5ED",
         "showgrid": true,
         "tickfont": {
          "color": "#4D5663"
         },
         "title": {
          "font": {
           "color": "#4D5663"
          },
          "text": ""
         },
         "zerolinecolor": "#E1E5ED"
        }
       }
      },
      "text/html": [
       "<div>\n",
       "        \n",
       "        \n",
       "            <div id=\"36660c73-7105-4467-9066-6999c22f3428\" class=\"plotly-graph-div\" style=\"height:525px; width:100%;\"></div>\n",
       "            <script type=\"text/javascript\">\n",
       "                require([\"plotly\"], function(Plotly) {\n",
       "                    window.PLOTLYENV=window.PLOTLYENV || {};\n",
       "                    window.PLOTLYENV.BASE_URL='https://plot.ly';\n",
       "                    \n",
       "                if (document.getElementById(\"36660c73-7105-4467-9066-6999c22f3428\")) {\n",
       "                    Plotly.newPlot(\n",
       "                        '36660c73-7105-4467-9066-6999c22f3428',\n",
       "                        [{\"line\": {\"color\": \"rgba(255, 153, 51, 1.0)\", \"dash\": \"solid\", \"shape\": \"linear\", \"width\": 1.3}, \"marker\": {\"size\": 10, \"symbol\": \"circle\"}, \"mode\": \"markers\", \"name\": \"B\", \"text\": \"\", \"type\": \"scatter\", \"x\": [-0.13775086430743813, -1.9933049229514477, -0.9545044762222105, 1.4014164640928737, -1.13192187578824, -1.3617171661286414, -0.9083961716634638, 1.3303928616547227, 0.8057925035002808, -0.6897784200723086, -2.0953961176504903, 0.4779895237770411, 0.7541183143416599, 1.0885380483057463, -1.9447575190926418, 0.9975927283186687, 0.5396244432324852, -0.42383547340641514, 0.7186773780770584, 2.6607077784921724, 0.5419253101691794, 0.48168350903181256, 0.00016683141743905627, -1.434810587490341, 0.7715714846893815, 0.7456802660196701, -0.36542221125466307, -1.0166942651772195, 0.3093832415310271, -1.3304186784288994, -0.38208893085136053, 1.070745280547997, -0.24166411883649572, 1.0156796479926795, 0.34835168994849247, -0.4191523215594431, 0.06173604008436236, -1.432936038291852, 0.3258606651601762, -1.349954164282741, -0.7095098045451561, 1.010145452103435, -1.1105120080278759, 0.21666021830827295, 0.05047695299247232, 1.6979340768084248, 0.4829406701478865, -0.09070487712543199, 0.8532304688136618, -0.8942411416717861, -0.42457176708669925, -1.5657072405052173, -0.17728663186775215, -0.907529302042309, 0.015237382008090744, 0.17182485828798016, -0.422959094891893, -0.7740227863443343, -1.0208775652388034, -0.6324799702992057, 0.10822694435312787, -0.3496517337932419, 0.33060914060953733, -1.0106999926023936, -0.7222417619394348, -0.5332812245676131, -0.776755834796644, 1.1941171480095443, 1.2686298712847948, -1.017278861018582, -1.1774948698526817, -0.4239516911089791, -0.3945051098098888, -1.360817658415006, -0.863416437132497, 0.7226579837082056, -1.071158632435797, -0.7010972899518247, 1.2145562514183765, -0.28080634140698185, 0.4366347441230707, 1.314812375540971, 1.5722102595136485, 2.3812552615192804, -1.0672037558626681, -0.053593780034868706, 0.5976597621802904, -0.5418992969522781, -0.8921719903625399, 0.32805956293816935, 0.8811900268496274, -0.6639785072700968, -0.4073355000059551, -0.5740298447265203, 0.033388134057522056, -1.3913553444512943, 0.20930846462947625, -1.8181242562227442, 0.20084981290816206, -0.8380964279862918], \"y\": [0.4867039677135526, 1.244047840402478, 2.3332257859437378, 1.689469317780753, 0.26600468702917085, -1.5534056582883649, -1.4715859849210289, -0.2044115131727728, 0.26871657375985414, -0.3422180501613123, -1.7735616597332367, -0.016933444517672404, -0.7293476753347374, -0.624452059783926, -1.2763146611944258, 1.2724287629354616, 0.3481211380276087, -1.0169552849327732, 0.10521745932772313, -0.6304304028436521, -0.5041196367567813, 0.3161120551419451, 0.7369874147128881, -1.0598247277896868, -0.18506125663662593, 0.810477229270296, -1.384807705451281, -0.8863863326525558, 0.9147353176181667, -0.5385833168165204, 0.23579161115875363, 1.3922065321592305, -0.029253693715969455, 0.9869678719055079, -0.8315582910357844, -0.15630658169048334, 0.3630713272506266, -0.5732445399171228, 0.6868772378242992, 1.1003303290999775, 0.18612995904760574, 0.6946198041945933, -2.365577687112027, 0.8905083947588157, 0.6373915150218937, -1.5590165623571386, -1.8099737250328467, 0.8187923807100435, -0.566006465230476, -0.2075092147286489, -1.5463956090468263, -0.2027034353912444, 0.6110919682579047, -0.4024096082165716, 0.1092393679292165, -1.549036721036476, -0.28602484732646627, -1.596958432253144, -1.2934586866600908, -0.4345286168661543, -0.6577383489380272, 0.7483943244863837, 1.079000643133668, -1.5546810209164317, -0.7525658730481593, 0.9060783055285099, -1.4556490922061072, 1.5641473539411717, 0.867404487903958, -0.7804546920722069, -0.2626463976382476, 1.0219316310317808, -0.940622822003576, -0.7058560462667333, 0.40742227057372776, -1.06757106950965, -0.7515626021053561, 2.1636224076620234, 0.286759747917996, -0.8385984718681364, -0.7641870886396996, -0.48373459403747987, 0.10528249278382575, -0.9632439023829252, 1.903457634504097, -0.16604985961639618, 0.5530277500259455, 0.0951366549917921, 0.10390345527482063, 0.12218714334909844, -1.1493425592465587, 0.5883479007961637, 0.23124416068370013, 1.0861293480045746, 1.2786656219423185, -0.10469047643119377, 0.664352682995852, -0.45585776757309304, -0.309786574014567, -1.1229610739076694]}],\n",
       "                        {\"legend\": {\"bgcolor\": \"#F5F6F9\", \"font\": {\"color\": \"#4D5663\"}}, \"paper_bgcolor\": \"#F5F6F9\", \"plot_bgcolor\": \"#F5F6F9\", \"template\": {\"data\": {\"bar\": [{\"error_x\": {\"color\": \"#2a3f5f\"}, \"error_y\": {\"color\": \"#2a3f5f\"}, \"marker\": {\"line\": {\"color\": \"#E5ECF6\", \"width\": 0.5}}, \"type\": \"bar\"}], \"barpolar\": [{\"marker\": {\"line\": {\"color\": \"#E5ECF6\", \"width\": 0.5}}, \"type\": \"barpolar\"}], \"carpet\": [{\"aaxis\": {\"endlinecolor\": \"#2a3f5f\", \"gridcolor\": \"white\", \"linecolor\": \"white\", \"minorgridcolor\": \"white\", \"startlinecolor\": \"#2a3f5f\"}, \"baxis\": {\"endlinecolor\": \"#2a3f5f\", \"gridcolor\": \"white\", \"linecolor\": \"white\", \"minorgridcolor\": \"white\", \"startlinecolor\": \"#2a3f5f\"}, \"type\": \"carpet\"}], \"choropleth\": [{\"colorbar\": {\"outlinewidth\": 0, \"ticks\": \"\"}, \"type\": \"choropleth\"}], \"contour\": [{\"colorbar\": {\"outlinewidth\": 0, \"ticks\": \"\"}, \"colorscale\": [[0.0, \"#0d0887\"], [0.1111111111111111, \"#46039f\"], [0.2222222222222222, \"#7201a8\"], [0.3333333333333333, \"#9c179e\"], [0.4444444444444444, \"#bd3786\"], [0.5555555555555556, \"#d8576b\"], [0.6666666666666666, \"#ed7953\"], [0.7777777777777778, \"#fb9f3a\"], [0.8888888888888888, \"#fdca26\"], [1.0, \"#f0f921\"]], \"type\": \"contour\"}], \"contourcarpet\": [{\"colorbar\": {\"outlinewidth\": 0, \"ticks\": \"\"}, \"type\": \"contourcarpet\"}], \"heatmap\": [{\"colorbar\": {\"outlinewidth\": 0, \"ticks\": \"\"}, \"colorscale\": [[0.0, \"#0d0887\"], [0.1111111111111111, \"#46039f\"], [0.2222222222222222, \"#7201a8\"], [0.3333333333333333, \"#9c179e\"], [0.4444444444444444, \"#bd3786\"], [0.5555555555555556, \"#d8576b\"], [0.6666666666666666, \"#ed7953\"], [0.7777777777777778, \"#fb9f3a\"], [0.8888888888888888, \"#fdca26\"], [1.0, \"#f0f921\"]], \"type\": \"heatmap\"}], \"heatmapgl\": [{\"colorbar\": {\"outlinewidth\": 0, \"ticks\": \"\"}, \"colorscale\": [[0.0, \"#0d0887\"], [0.1111111111111111, \"#46039f\"], [0.2222222222222222, \"#7201a8\"], [0.3333333333333333, \"#9c179e\"], [0.4444444444444444, \"#bd3786\"], [0.5555555555555556, \"#d8576b\"], [0.6666666666666666, \"#ed7953\"], [0.7777777777777778, \"#fb9f3a\"], [0.8888888888888888, \"#fdca26\"], [1.0, \"#f0f921\"]], \"type\": \"heatmapgl\"}], \"histogram\": [{\"marker\": {\"colorbar\": {\"outlinewidth\": 0, \"ticks\": \"\"}}, \"type\": \"histogram\"}], \"histogram2d\": [{\"colorbar\": {\"outlinewidth\": 0, \"ticks\": \"\"}, \"colorscale\": [[0.0, \"#0d0887\"], [0.1111111111111111, \"#46039f\"], [0.2222222222222222, \"#7201a8\"], [0.3333333333333333, \"#9c179e\"], [0.4444444444444444, \"#bd3786\"], [0.5555555555555556, \"#d8576b\"], [0.6666666666666666, \"#ed7953\"], [0.7777777777777778, \"#fb9f3a\"], [0.8888888888888888, \"#fdca26\"], [1.0, \"#f0f921\"]], \"type\": \"histogram2d\"}], \"histogram2dcontour\": [{\"colorbar\": {\"outlinewidth\": 0, \"ticks\": \"\"}, \"colorscale\": [[0.0, \"#0d0887\"], [0.1111111111111111, \"#46039f\"], [0.2222222222222222, \"#7201a8\"], [0.3333333333333333, \"#9c179e\"], [0.4444444444444444, \"#bd3786\"], [0.5555555555555556, \"#d8576b\"], [0.6666666666666666, \"#ed7953\"], [0.7777777777777778, \"#fb9f3a\"], [0.8888888888888888, \"#fdca26\"], [1.0, \"#f0f921\"]], \"type\": \"histogram2dcontour\"}], \"mesh3d\": [{\"colorbar\": {\"outlinewidth\": 0, \"ticks\": \"\"}, \"type\": \"mesh3d\"}], \"parcoords\": [{\"line\": {\"colorbar\": {\"outlinewidth\": 0, \"ticks\": \"\"}}, \"type\": \"parcoords\"}], \"pie\": [{\"automargin\": true, \"type\": \"pie\"}], \"scatter\": [{\"marker\": {\"colorbar\": {\"outlinewidth\": 0, \"ticks\": \"\"}}, \"type\": \"scatter\"}], \"scatter3d\": [{\"line\": {\"colorbar\": {\"outlinewidth\": 0, \"ticks\": \"\"}}, \"marker\": {\"colorbar\": {\"outlinewidth\": 0, \"ticks\": \"\"}}, \"type\": \"scatter3d\"}], \"scattercarpet\": [{\"marker\": {\"colorbar\": {\"outlinewidth\": 0, \"ticks\": \"\"}}, \"type\": \"scattercarpet\"}], \"scattergeo\": [{\"marker\": {\"colorbar\": {\"outlinewidth\": 0, \"ticks\": \"\"}}, \"type\": \"scattergeo\"}], \"scattergl\": [{\"marker\": {\"colorbar\": {\"outlinewidth\": 0, \"ticks\": \"\"}}, \"type\": \"scattergl\"}], \"scattermapbox\": [{\"marker\": {\"colorbar\": {\"outlinewidth\": 0, \"ticks\": \"\"}}, \"type\": \"scattermapbox\"}], \"scatterpolar\": [{\"marker\": {\"colorbar\": {\"outlinewidth\": 0, \"ticks\": \"\"}}, \"type\": \"scatterpolar\"}], \"scatterpolargl\": [{\"marker\": {\"colorbar\": {\"outlinewidth\": 0, \"ticks\": \"\"}}, \"type\": \"scatterpolargl\"}], \"scatterternary\": [{\"marker\": {\"colorbar\": {\"outlinewidth\": 0, \"ticks\": \"\"}}, \"type\": \"scatterternary\"}], \"surface\": [{\"colorbar\": {\"outlinewidth\": 0, \"ticks\": \"\"}, \"colorscale\": [[0.0, \"#0d0887\"], [0.1111111111111111, \"#46039f\"], [0.2222222222222222, \"#7201a8\"], [0.3333333333333333, \"#9c179e\"], [0.4444444444444444, \"#bd3786\"], [0.5555555555555556, \"#d8576b\"], [0.6666666666666666, \"#ed7953\"], [0.7777777777777778, \"#fb9f3a\"], [0.8888888888888888, \"#fdca26\"], [1.0, \"#f0f921\"]], \"type\": \"surface\"}], \"table\": [{\"cells\": {\"fill\": {\"color\": \"#EBF0F8\"}, \"line\": {\"color\": \"white\"}}, \"header\": {\"fill\": {\"color\": \"#C8D4E3\"}, \"line\": {\"color\": \"white\"}}, \"type\": \"table\"}]}, \"layout\": {\"annotationdefaults\": {\"arrowcolor\": \"#2a3f5f\", \"arrowhead\": 0, \"arrowwidth\": 1}, \"coloraxis\": {\"colorbar\": {\"outlinewidth\": 0, \"ticks\": \"\"}}, \"colorscale\": {\"diverging\": [[0, \"#8e0152\"], [0.1, \"#c51b7d\"], [0.2, \"#de77ae\"], [0.3, \"#f1b6da\"], [0.4, \"#fde0ef\"], [0.5, \"#f7f7f7\"], [0.6, \"#e6f5d0\"], [0.7, \"#b8e186\"], [0.8, \"#7fbc41\"], [0.9, \"#4d9221\"], [1, \"#276419\"]], \"sequential\": [[0.0, \"#0d0887\"], [0.1111111111111111, \"#46039f\"], [0.2222222222222222, \"#7201a8\"], [0.3333333333333333, \"#9c179e\"], [0.4444444444444444, \"#bd3786\"], [0.5555555555555556, \"#d8576b\"], [0.6666666666666666, \"#ed7953\"], [0.7777777777777778, \"#fb9f3a\"], [0.8888888888888888, \"#fdca26\"], [1.0, \"#f0f921\"]], \"sequentialminus\": [[0.0, \"#0d0887\"], [0.1111111111111111, \"#46039f\"], [0.2222222222222222, \"#7201a8\"], [0.3333333333333333, \"#9c179e\"], [0.4444444444444444, \"#bd3786\"], [0.5555555555555556, \"#d8576b\"], [0.6666666666666666, \"#ed7953\"], [0.7777777777777778, \"#fb9f3a\"], [0.8888888888888888, \"#fdca26\"], [1.0, \"#f0f921\"]]}, \"colorway\": [\"#636efa\", \"#EF553B\", \"#00cc96\", \"#ab63fa\", \"#FFA15A\", \"#19d3f3\", \"#FF6692\", \"#B6E880\", \"#FF97FF\", \"#FECB52\"], \"font\": {\"color\": \"#2a3f5f\"}, \"geo\": {\"bgcolor\": \"white\", \"lakecolor\": \"white\", \"landcolor\": \"#E5ECF6\", \"showlakes\": true, \"showland\": true, \"subunitcolor\": \"white\"}, \"hoverlabel\": {\"align\": \"left\"}, \"hovermode\": \"closest\", \"mapbox\": {\"style\": \"light\"}, \"paper_bgcolor\": \"white\", \"plot_bgcolor\": \"#E5ECF6\", \"polar\": {\"angularaxis\": {\"gridcolor\": \"white\", \"linecolor\": \"white\", \"ticks\": \"\"}, \"bgcolor\": \"#E5ECF6\", \"radialaxis\": {\"gridcolor\": \"white\", \"linecolor\": \"white\", \"ticks\": \"\"}}, \"scene\": {\"xaxis\": {\"backgroundcolor\": \"#E5ECF6\", \"gridcolor\": \"white\", \"gridwidth\": 2, \"linecolor\": \"white\", \"showbackground\": true, \"ticks\": \"\", \"zerolinecolor\": \"white\"}, \"yaxis\": {\"backgroundcolor\": \"#E5ECF6\", \"gridcolor\": \"white\", \"gridwidth\": 2, \"linecolor\": \"white\", \"showbackground\": true, \"ticks\": \"\", \"zerolinecolor\": \"white\"}, \"zaxis\": {\"backgroundcolor\": \"#E5ECF6\", \"gridcolor\": \"white\", \"gridwidth\": 2, \"linecolor\": \"white\", \"showbackground\": true, \"ticks\": \"\", \"zerolinecolor\": \"white\"}}, \"shapedefaults\": {\"line\": {\"color\": \"#2a3f5f\"}}, \"ternary\": {\"aaxis\": {\"gridcolor\": \"white\", \"linecolor\": \"white\", \"ticks\": \"\"}, \"baxis\": {\"gridcolor\": \"white\", \"linecolor\": \"white\", \"ticks\": \"\"}, \"bgcolor\": \"#E5ECF6\", \"caxis\": {\"gridcolor\": \"white\", \"linecolor\": \"white\", \"ticks\": \"\"}}, \"title\": {\"x\": 0.05}, \"xaxis\": {\"automargin\": true, \"gridcolor\": \"white\", \"linecolor\": \"white\", \"ticks\": \"\", \"title\": {\"standoff\": 15}, \"zerolinecolor\": \"white\", \"zerolinewidth\": 2}, \"yaxis\": {\"automargin\": true, \"gridcolor\": \"white\", \"linecolor\": \"white\", \"ticks\": \"\", \"title\": {\"standoff\": 15}, \"zerolinecolor\": \"white\", \"zerolinewidth\": 2}}}, \"title\": {\"font\": {\"color\": \"#4D5663\"}}, \"xaxis\": {\"gridcolor\": \"#E1E5ED\", \"showgrid\": true, \"tickfont\": {\"color\": \"#4D5663\"}, \"title\": {\"font\": {\"color\": \"#4D5663\"}, \"text\": \"\"}, \"zerolinecolor\": \"#E1E5ED\"}, \"yaxis\": {\"gridcolor\": \"#E1E5ED\", \"showgrid\": true, \"tickfont\": {\"color\": \"#4D5663\"}, \"title\": {\"font\": {\"color\": \"#4D5663\"}, \"text\": \"\"}, \"zerolinecolor\": \"#E1E5ED\"}},\n",
       "                        {\"showLink\": true, \"linkText\": \"Export to plot.ly\", \"plotlyServerURL\": \"https://plot.ly\", \"responsive\": true}\n",
       "                    ).then(function(){\n",
       "                            \n",
       "var gd = document.getElementById('36660c73-7105-4467-9066-6999c22f3428');\n",
       "var x = new MutationObserver(function (mutations, observer) {{\n",
       "        var display = window.getComputedStyle(gd).display;\n",
       "        if (!display || display === 'none') {{\n",
       "            console.log([gd, 'removed!']);\n",
       "            Plotly.purge(gd);\n",
       "            observer.disconnect();\n",
       "        }}\n",
       "}});\n",
       "\n",
       "// Listen for the removal of the full notebook cells\n",
       "var notebookContainer = gd.closest('#notebook-container');\n",
       "if (notebookContainer) {{\n",
       "    x.observe(notebookContainer, {childList: true});\n",
       "}}\n",
       "\n",
       "// Listen for the clearing of the current output cell\n",
       "var outputEl = gd.closest('.output');\n",
       "if (outputEl) {{\n",
       "    x.observe(outputEl, {childList: true});\n",
       "}}\n",
       "\n",
       "                        })\n",
       "                };\n",
       "                });\n",
       "            </script>\n",
       "        </div>"
      ]
     },
     "metadata": {},
     "output_type": "display_data"
    }
   ],
   "source": [
    "df.iplot(kind='scatter',x='A',y='B',mode='markers',size=10)"
   ]
  },
  {
   "cell_type": "markdown",
   "metadata": {},
   "source": [
    "## Bar Plots"
   ]
  },
  {
   "cell_type": "code",
   "execution_count": 17,
   "metadata": {},
   "outputs": [
    {
     "data": {
      "application/vnd.plotly.v1+json": {
       "config": {
        "linkText": "Export to plot.ly",
        "plotlyServerURL": "https://plot.ly",
        "showLink": true
       },
       "data": [
        {
         "marker": {
          "color": "rgba(255, 153, 51, 0.6)",
          "line": {
           "color": "rgba(255, 153, 51, 1.0)",
           "width": 1
          }
         },
         "name": "Values",
         "orientation": "v",
         "text": "",
         "type": "bar",
         "x": [
          "A",
          "B",
          "C"
         ],
         "y": [
          32,
          43,
          50
         ]
        }
       ],
       "layout": {
        "legend": {
         "bgcolor": "#F5F6F9",
         "font": {
          "color": "#4D5663"
         }
        },
        "paper_bgcolor": "#F5F6F9",
        "plot_bgcolor": "#F5F6F9",
        "template": {
         "data": {
          "bar": [
           {
            "error_x": {
             "color": "#2a3f5f"
            },
            "error_y": {
             "color": "#2a3f5f"
            },
            "marker": {
             "line": {
              "color": "#E5ECF6",
              "width": 0.5
             }
            },
            "type": "bar"
           }
          ],
          "barpolar": [
           {
            "marker": {
             "line": {
              "color": "#E5ECF6",
              "width": 0.5
             }
            },
            "type": "barpolar"
           }
          ],
          "carpet": [
           {
            "aaxis": {
             "endlinecolor": "#2a3f5f",
             "gridcolor": "white",
             "linecolor": "white",
             "minorgridcolor": "white",
             "startlinecolor": "#2a3f5f"
            },
            "baxis": {
             "endlinecolor": "#2a3f5f",
             "gridcolor": "white",
             "linecolor": "white",
             "minorgridcolor": "white",
             "startlinecolor": "#2a3f5f"
            },
            "type": "carpet"
           }
          ],
          "choropleth": [
           {
            "colorbar": {
             "outlinewidth": 0,
             "ticks": ""
            },
            "type": "choropleth"
           }
          ],
          "contour": [
           {
            "colorbar": {
             "outlinewidth": 0,
             "ticks": ""
            },
            "colorscale": [
             [
              0,
              "#0d0887"
             ],
             [
              0.1111111111111111,
              "#46039f"
             ],
             [
              0.2222222222222222,
              "#7201a8"
             ],
             [
              0.3333333333333333,
              "#9c179e"
             ],
             [
              0.4444444444444444,
              "#bd3786"
             ],
             [
              0.5555555555555556,
              "#d8576b"
             ],
             [
              0.6666666666666666,
              "#ed7953"
             ],
             [
              0.7777777777777778,
              "#fb9f3a"
             ],
             [
              0.8888888888888888,
              "#fdca26"
             ],
             [
              1,
              "#f0f921"
             ]
            ],
            "type": "contour"
           }
          ],
          "contourcarpet": [
           {
            "colorbar": {
             "outlinewidth": 0,
             "ticks": ""
            },
            "type": "contourcarpet"
           }
          ],
          "heatmap": [
           {
            "colorbar": {
             "outlinewidth": 0,
             "ticks": ""
            },
            "colorscale": [
             [
              0,
              "#0d0887"
             ],
             [
              0.1111111111111111,
              "#46039f"
             ],
             [
              0.2222222222222222,
              "#7201a8"
             ],
             [
              0.3333333333333333,
              "#9c179e"
             ],
             [
              0.4444444444444444,
              "#bd3786"
             ],
             [
              0.5555555555555556,
              "#d8576b"
             ],
             [
              0.6666666666666666,
              "#ed7953"
             ],
             [
              0.7777777777777778,
              "#fb9f3a"
             ],
             [
              0.8888888888888888,
              "#fdca26"
             ],
             [
              1,
              "#f0f921"
             ]
            ],
            "type": "heatmap"
           }
          ],
          "heatmapgl": [
           {
            "colorbar": {
             "outlinewidth": 0,
             "ticks": ""
            },
            "colorscale": [
             [
              0,
              "#0d0887"
             ],
             [
              0.1111111111111111,
              "#46039f"
             ],
             [
              0.2222222222222222,
              "#7201a8"
             ],
             [
              0.3333333333333333,
              "#9c179e"
             ],
             [
              0.4444444444444444,
              "#bd3786"
             ],
             [
              0.5555555555555556,
              "#d8576b"
             ],
             [
              0.6666666666666666,
              "#ed7953"
             ],
             [
              0.7777777777777778,
              "#fb9f3a"
             ],
             [
              0.8888888888888888,
              "#fdca26"
             ],
             [
              1,
              "#f0f921"
             ]
            ],
            "type": "heatmapgl"
           }
          ],
          "histogram": [
           {
            "marker": {
             "colorbar": {
              "outlinewidth": 0,
              "ticks": ""
             }
            },
            "type": "histogram"
           }
          ],
          "histogram2d": [
           {
            "colorbar": {
             "outlinewidth": 0,
             "ticks": ""
            },
            "colorscale": [
             [
              0,
              "#0d0887"
             ],
             [
              0.1111111111111111,
              "#46039f"
             ],
             [
              0.2222222222222222,
              "#7201a8"
             ],
             [
              0.3333333333333333,
              "#9c179e"
             ],
             [
              0.4444444444444444,
              "#bd3786"
             ],
             [
              0.5555555555555556,
              "#d8576b"
             ],
             [
              0.6666666666666666,
              "#ed7953"
             ],
             [
              0.7777777777777778,
              "#fb9f3a"
             ],
             [
              0.8888888888888888,
              "#fdca26"
             ],
             [
              1,
              "#f0f921"
             ]
            ],
            "type": "histogram2d"
           }
          ],
          "histogram2dcontour": [
           {
            "colorbar": {
             "outlinewidth": 0,
             "ticks": ""
            },
            "colorscale": [
             [
              0,
              "#0d0887"
             ],
             [
              0.1111111111111111,
              "#46039f"
             ],
             [
              0.2222222222222222,
              "#7201a8"
             ],
             [
              0.3333333333333333,
              "#9c179e"
             ],
             [
              0.4444444444444444,
              "#bd3786"
             ],
             [
              0.5555555555555556,
              "#d8576b"
             ],
             [
              0.6666666666666666,
              "#ed7953"
             ],
             [
              0.7777777777777778,
              "#fb9f3a"
             ],
             [
              0.8888888888888888,
              "#fdca26"
             ],
             [
              1,
              "#f0f921"
             ]
            ],
            "type": "histogram2dcontour"
           }
          ],
          "mesh3d": [
           {
            "colorbar": {
             "outlinewidth": 0,
             "ticks": ""
            },
            "type": "mesh3d"
           }
          ],
          "parcoords": [
           {
            "line": {
             "colorbar": {
              "outlinewidth": 0,
              "ticks": ""
             }
            },
            "type": "parcoords"
           }
          ],
          "pie": [
           {
            "automargin": true,
            "type": "pie"
           }
          ],
          "scatter": [
           {
            "marker": {
             "colorbar": {
              "outlinewidth": 0,
              "ticks": ""
             }
            },
            "type": "scatter"
           }
          ],
          "scatter3d": [
           {
            "line": {
             "colorbar": {
              "outlinewidth": 0,
              "ticks": ""
             }
            },
            "marker": {
             "colorbar": {
              "outlinewidth": 0,
              "ticks": ""
             }
            },
            "type": "scatter3d"
           }
          ],
          "scattercarpet": [
           {
            "marker": {
             "colorbar": {
              "outlinewidth": 0,
              "ticks": ""
             }
            },
            "type": "scattercarpet"
           }
          ],
          "scattergeo": [
           {
            "marker": {
             "colorbar": {
              "outlinewidth": 0,
              "ticks": ""
             }
            },
            "type": "scattergeo"
           }
          ],
          "scattergl": [
           {
            "marker": {
             "colorbar": {
              "outlinewidth": 0,
              "ticks": ""
             }
            },
            "type": "scattergl"
           }
          ],
          "scattermapbox": [
           {
            "marker": {
             "colorbar": {
              "outlinewidth": 0,
              "ticks": ""
             }
            },
            "type": "scattermapbox"
           }
          ],
          "scatterpolar": [
           {
            "marker": {
             "colorbar": {
              "outlinewidth": 0,
              "ticks": ""
             }
            },
            "type": "scatterpolar"
           }
          ],
          "scatterpolargl": [
           {
            "marker": {
             "colorbar": {
              "outlinewidth": 0,
              "ticks": ""
             }
            },
            "type": "scatterpolargl"
           }
          ],
          "scatterternary": [
           {
            "marker": {
             "colorbar": {
              "outlinewidth": 0,
              "ticks": ""
             }
            },
            "type": "scatterternary"
           }
          ],
          "surface": [
           {
            "colorbar": {
             "outlinewidth": 0,
             "ticks": ""
            },
            "colorscale": [
             [
              0,
              "#0d0887"
             ],
             [
              0.1111111111111111,
              "#46039f"
             ],
             [
              0.2222222222222222,
              "#7201a8"
             ],
             [
              0.3333333333333333,
              "#9c179e"
             ],
             [
              0.4444444444444444,
              "#bd3786"
             ],
             [
              0.5555555555555556,
              "#d8576b"
             ],
             [
              0.6666666666666666,
              "#ed7953"
             ],
             [
              0.7777777777777778,
              "#fb9f3a"
             ],
             [
              0.8888888888888888,
              "#fdca26"
             ],
             [
              1,
              "#f0f921"
             ]
            ],
            "type": "surface"
           }
          ],
          "table": [
           {
            "cells": {
             "fill": {
              "color": "#EBF0F8"
             },
             "line": {
              "color": "white"
             }
            },
            "header": {
             "fill": {
              "color": "#C8D4E3"
             },
             "line": {
              "color": "white"
             }
            },
            "type": "table"
           }
          ]
         },
         "layout": {
          "annotationdefaults": {
           "arrowcolor": "#2a3f5f",
           "arrowhead": 0,
           "arrowwidth": 1
          },
          "coloraxis": {
           "colorbar": {
            "outlinewidth": 0,
            "ticks": ""
           }
          },
          "colorscale": {
           "diverging": [
            [
             0,
             "#8e0152"
            ],
            [
             0.1,
             "#c51b7d"
            ],
            [
             0.2,
             "#de77ae"
            ],
            [
             0.3,
             "#f1b6da"
            ],
            [
             0.4,
             "#fde0ef"
            ],
            [
             0.5,
             "#f7f7f7"
            ],
            [
             0.6,
             "#e6f5d0"
            ],
            [
             0.7,
             "#b8e186"
            ],
            [
             0.8,
             "#7fbc41"
            ],
            [
             0.9,
             "#4d9221"
            ],
            [
             1,
             "#276419"
            ]
           ],
           "sequential": [
            [
             0,
             "#0d0887"
            ],
            [
             0.1111111111111111,
             "#46039f"
            ],
            [
             0.2222222222222222,
             "#7201a8"
            ],
            [
             0.3333333333333333,
             "#9c179e"
            ],
            [
             0.4444444444444444,
             "#bd3786"
            ],
            [
             0.5555555555555556,
             "#d8576b"
            ],
            [
             0.6666666666666666,
             "#ed7953"
            ],
            [
             0.7777777777777778,
             "#fb9f3a"
            ],
            [
             0.8888888888888888,
             "#fdca26"
            ],
            [
             1,
             "#f0f921"
            ]
           ],
           "sequentialminus": [
            [
             0,
             "#0d0887"
            ],
            [
             0.1111111111111111,
             "#46039f"
            ],
            [
             0.2222222222222222,
             "#7201a8"
            ],
            [
             0.3333333333333333,
             "#9c179e"
            ],
            [
             0.4444444444444444,
             "#bd3786"
            ],
            [
             0.5555555555555556,
             "#d8576b"
            ],
            [
             0.6666666666666666,
             "#ed7953"
            ],
            [
             0.7777777777777778,
             "#fb9f3a"
            ],
            [
             0.8888888888888888,
             "#fdca26"
            ],
            [
             1,
             "#f0f921"
            ]
           ]
          },
          "colorway": [
           "#636efa",
           "#EF553B",
           "#00cc96",
           "#ab63fa",
           "#FFA15A",
           "#19d3f3",
           "#FF6692",
           "#B6E880",
           "#FF97FF",
           "#FECB52"
          ],
          "font": {
           "color": "#2a3f5f"
          },
          "geo": {
           "bgcolor": "white",
           "lakecolor": "white",
           "landcolor": "#E5ECF6",
           "showlakes": true,
           "showland": true,
           "subunitcolor": "white"
          },
          "hoverlabel": {
           "align": "left"
          },
          "hovermode": "closest",
          "mapbox": {
           "style": "light"
          },
          "paper_bgcolor": "white",
          "plot_bgcolor": "#E5ECF6",
          "polar": {
           "angularaxis": {
            "gridcolor": "white",
            "linecolor": "white",
            "ticks": ""
           },
           "bgcolor": "#E5ECF6",
           "radialaxis": {
            "gridcolor": "white",
            "linecolor": "white",
            "ticks": ""
           }
          },
          "scene": {
           "xaxis": {
            "backgroundcolor": "#E5ECF6",
            "gridcolor": "white",
            "gridwidth": 2,
            "linecolor": "white",
            "showbackground": true,
            "ticks": "",
            "zerolinecolor": "white"
           },
           "yaxis": {
            "backgroundcolor": "#E5ECF6",
            "gridcolor": "white",
            "gridwidth": 2,
            "linecolor": "white",
            "showbackground": true,
            "ticks": "",
            "zerolinecolor": "white"
           },
           "zaxis": {
            "backgroundcolor": "#E5ECF6",
            "gridcolor": "white",
            "gridwidth": 2,
            "linecolor": "white",
            "showbackground": true,
            "ticks": "",
            "zerolinecolor": "white"
           }
          },
          "shapedefaults": {
           "line": {
            "color": "#2a3f5f"
           }
          },
          "ternary": {
           "aaxis": {
            "gridcolor": "white",
            "linecolor": "white",
            "ticks": ""
           },
           "baxis": {
            "gridcolor": "white",
            "linecolor": "white",
            "ticks": ""
           },
           "bgcolor": "#E5ECF6",
           "caxis": {
            "gridcolor": "white",
            "linecolor": "white",
            "ticks": ""
           }
          },
          "title": {
           "x": 0.05
          },
          "xaxis": {
           "automargin": true,
           "gridcolor": "white",
           "linecolor": "white",
           "ticks": "",
           "title": {
            "standoff": 15
           },
           "zerolinecolor": "white",
           "zerolinewidth": 2
          },
          "yaxis": {
           "automargin": true,
           "gridcolor": "white",
           "linecolor": "white",
           "ticks": "",
           "title": {
            "standoff": 15
           },
           "zerolinecolor": "white",
           "zerolinewidth": 2
          }
         }
        },
        "title": {
         "font": {
          "color": "#4D5663"
         }
        },
        "xaxis": {
         "gridcolor": "#E1E5ED",
         "showgrid": true,
         "tickfont": {
          "color": "#4D5663"
         },
         "title": {
          "font": {
           "color": "#4D5663"
          },
          "text": ""
         },
         "zerolinecolor": "#E1E5ED"
        },
        "yaxis": {
         "gridcolor": "#E1E5ED",
         "showgrid": true,
         "tickfont": {
          "color": "#4D5663"
         },
         "title": {
          "font": {
           "color": "#4D5663"
          },
          "text": ""
         },
         "zerolinecolor": "#E1E5ED"
        }
       }
      },
      "text/html": [
       "<div>\n",
       "        \n",
       "        \n",
       "            <div id=\"0dd8aa24-d781-4e52-b613-502ab6dee08c\" class=\"plotly-graph-div\" style=\"height:525px; width:100%;\"></div>\n",
       "            <script type=\"text/javascript\">\n",
       "                require([\"plotly\"], function(Plotly) {\n",
       "                    window.PLOTLYENV=window.PLOTLYENV || {};\n",
       "                    window.PLOTLYENV.BASE_URL='https://plot.ly';\n",
       "                    \n",
       "                if (document.getElementById(\"0dd8aa24-d781-4e52-b613-502ab6dee08c\")) {\n",
       "                    Plotly.newPlot(\n",
       "                        '0dd8aa24-d781-4e52-b613-502ab6dee08c',\n",
       "                        [{\"marker\": {\"color\": \"rgba(255, 153, 51, 0.6)\", \"line\": {\"color\": \"rgba(255, 153, 51, 1.0)\", \"width\": 1}}, \"name\": \"Values\", \"orientation\": \"v\", \"text\": \"\", \"type\": \"bar\", \"x\": [\"A\", \"B\", \"C\"], \"y\": [32, 43, 50]}],\n",
       "                        {\"legend\": {\"bgcolor\": \"#F5F6F9\", \"font\": {\"color\": \"#4D5663\"}}, \"paper_bgcolor\": \"#F5F6F9\", \"plot_bgcolor\": \"#F5F6F9\", \"template\": {\"data\": {\"bar\": [{\"error_x\": {\"color\": \"#2a3f5f\"}, \"error_y\": {\"color\": \"#2a3f5f\"}, \"marker\": {\"line\": {\"color\": \"#E5ECF6\", \"width\": 0.5}}, \"type\": \"bar\"}], \"barpolar\": [{\"marker\": {\"line\": {\"color\": \"#E5ECF6\", \"width\": 0.5}}, \"type\": \"barpolar\"}], \"carpet\": [{\"aaxis\": {\"endlinecolor\": \"#2a3f5f\", \"gridcolor\": \"white\", \"linecolor\": \"white\", \"minorgridcolor\": \"white\", \"startlinecolor\": \"#2a3f5f\"}, \"baxis\": {\"endlinecolor\": \"#2a3f5f\", \"gridcolor\": \"white\", \"linecolor\": \"white\", \"minorgridcolor\": \"white\", \"startlinecolor\": \"#2a3f5f\"}, \"type\": \"carpet\"}], \"choropleth\": [{\"colorbar\": {\"outlinewidth\": 0, \"ticks\": \"\"}, \"type\": \"choropleth\"}], \"contour\": [{\"colorbar\": {\"outlinewidth\": 0, \"ticks\": \"\"}, \"colorscale\": [[0.0, \"#0d0887\"], [0.1111111111111111, \"#46039f\"], [0.2222222222222222, \"#7201a8\"], [0.3333333333333333, \"#9c179e\"], [0.4444444444444444, \"#bd3786\"], [0.5555555555555556, \"#d8576b\"], [0.6666666666666666, \"#ed7953\"], [0.7777777777777778, \"#fb9f3a\"], [0.8888888888888888, \"#fdca26\"], [1.0, \"#f0f921\"]], \"type\": \"contour\"}], \"contourcarpet\": [{\"colorbar\": {\"outlinewidth\": 0, \"ticks\": \"\"}, \"type\": \"contourcarpet\"}], \"heatmap\": [{\"colorbar\": {\"outlinewidth\": 0, \"ticks\": \"\"}, \"colorscale\": [[0.0, \"#0d0887\"], [0.1111111111111111, \"#46039f\"], [0.2222222222222222, \"#7201a8\"], [0.3333333333333333, \"#9c179e\"], [0.4444444444444444, \"#bd3786\"], [0.5555555555555556, \"#d8576b\"], [0.6666666666666666, \"#ed7953\"], [0.7777777777777778, \"#fb9f3a\"], [0.8888888888888888, \"#fdca26\"], [1.0, \"#f0f921\"]], \"type\": \"heatmap\"}], \"heatmapgl\": [{\"colorbar\": {\"outlinewidth\": 0, \"ticks\": \"\"}, \"colorscale\": [[0.0, \"#0d0887\"], [0.1111111111111111, \"#46039f\"], [0.2222222222222222, \"#7201a8\"], [0.3333333333333333, \"#9c179e\"], [0.4444444444444444, \"#bd3786\"], [0.5555555555555556, \"#d8576b\"], [0.6666666666666666, \"#ed7953\"], [0.7777777777777778, \"#fb9f3a\"], [0.8888888888888888, \"#fdca26\"], [1.0, \"#f0f921\"]], \"type\": \"heatmapgl\"}], \"histogram\": [{\"marker\": {\"colorbar\": {\"outlinewidth\": 0, \"ticks\": \"\"}}, \"type\": \"histogram\"}], \"histogram2d\": [{\"colorbar\": {\"outlinewidth\": 0, \"ticks\": \"\"}, \"colorscale\": [[0.0, \"#0d0887\"], [0.1111111111111111, \"#46039f\"], [0.2222222222222222, \"#7201a8\"], [0.3333333333333333, \"#9c179e\"], [0.4444444444444444, \"#bd3786\"], [0.5555555555555556, \"#d8576b\"], [0.6666666666666666, \"#ed7953\"], [0.7777777777777778, \"#fb9f3a\"], [0.8888888888888888, \"#fdca26\"], [1.0, \"#f0f921\"]], \"type\": \"histogram2d\"}], \"histogram2dcontour\": [{\"colorbar\": {\"outlinewidth\": 0, \"ticks\": \"\"}, \"colorscale\": [[0.0, \"#0d0887\"], [0.1111111111111111, \"#46039f\"], [0.2222222222222222, \"#7201a8\"], [0.3333333333333333, \"#9c179e\"], [0.4444444444444444, \"#bd3786\"], [0.5555555555555556, \"#d8576b\"], [0.6666666666666666, \"#ed7953\"], [0.7777777777777778, \"#fb9f3a\"], [0.8888888888888888, \"#fdca26\"], [1.0, \"#f0f921\"]], \"type\": \"histogram2dcontour\"}], \"mesh3d\": [{\"colorbar\": {\"outlinewidth\": 0, \"ticks\": \"\"}, \"type\": \"mesh3d\"}], \"parcoords\": [{\"line\": {\"colorbar\": {\"outlinewidth\": 0, \"ticks\": \"\"}}, \"type\": \"parcoords\"}], \"pie\": [{\"automargin\": true, \"type\": \"pie\"}], \"scatter\": [{\"marker\": {\"colorbar\": {\"outlinewidth\": 0, \"ticks\": \"\"}}, \"type\": \"scatter\"}], \"scatter3d\": [{\"line\": {\"colorbar\": {\"outlinewidth\": 0, \"ticks\": \"\"}}, \"marker\": {\"colorbar\": {\"outlinewidth\": 0, \"ticks\": \"\"}}, \"type\": \"scatter3d\"}], \"scattercarpet\": [{\"marker\": {\"colorbar\": {\"outlinewidth\": 0, \"ticks\": \"\"}}, \"type\": \"scattercarpet\"}], \"scattergeo\": [{\"marker\": {\"colorbar\": {\"outlinewidth\": 0, \"ticks\": \"\"}}, \"type\": \"scattergeo\"}], \"scattergl\": [{\"marker\": {\"colorbar\": {\"outlinewidth\": 0, \"ticks\": \"\"}}, \"type\": \"scattergl\"}], \"scattermapbox\": [{\"marker\": {\"colorbar\": {\"outlinewidth\": 0, \"ticks\": \"\"}}, \"type\": \"scattermapbox\"}], \"scatterpolar\": [{\"marker\": {\"colorbar\": {\"outlinewidth\": 0, \"ticks\": \"\"}}, \"type\": \"scatterpolar\"}], \"scatterpolargl\": [{\"marker\": {\"colorbar\": {\"outlinewidth\": 0, \"ticks\": \"\"}}, \"type\": \"scatterpolargl\"}], \"scatterternary\": [{\"marker\": {\"colorbar\": {\"outlinewidth\": 0, \"ticks\": \"\"}}, \"type\": \"scatterternary\"}], \"surface\": [{\"colorbar\": {\"outlinewidth\": 0, \"ticks\": \"\"}, \"colorscale\": [[0.0, \"#0d0887\"], [0.1111111111111111, \"#46039f\"], [0.2222222222222222, \"#7201a8\"], [0.3333333333333333, \"#9c179e\"], [0.4444444444444444, \"#bd3786\"], [0.5555555555555556, \"#d8576b\"], [0.6666666666666666, \"#ed7953\"], [0.7777777777777778, \"#fb9f3a\"], [0.8888888888888888, \"#fdca26\"], [1.0, \"#f0f921\"]], \"type\": \"surface\"}], \"table\": [{\"cells\": {\"fill\": {\"color\": \"#EBF0F8\"}, \"line\": {\"color\": \"white\"}}, \"header\": {\"fill\": {\"color\": \"#C8D4E3\"}, \"line\": {\"color\": \"white\"}}, \"type\": \"table\"}]}, \"layout\": {\"annotationdefaults\": {\"arrowcolor\": \"#2a3f5f\", \"arrowhead\": 0, \"arrowwidth\": 1}, \"coloraxis\": {\"colorbar\": {\"outlinewidth\": 0, \"ticks\": \"\"}}, \"colorscale\": {\"diverging\": [[0, \"#8e0152\"], [0.1, \"#c51b7d\"], [0.2, \"#de77ae\"], [0.3, \"#f1b6da\"], [0.4, \"#fde0ef\"], [0.5, \"#f7f7f7\"], [0.6, \"#e6f5d0\"], [0.7, \"#b8e186\"], [0.8, \"#7fbc41\"], [0.9, \"#4d9221\"], [1, \"#276419\"]], \"sequential\": [[0.0, \"#0d0887\"], [0.1111111111111111, \"#46039f\"], [0.2222222222222222, \"#7201a8\"], [0.3333333333333333, \"#9c179e\"], [0.4444444444444444, \"#bd3786\"], [0.5555555555555556, \"#d8576b\"], [0.6666666666666666, \"#ed7953\"], [0.7777777777777778, \"#fb9f3a\"], [0.8888888888888888, \"#fdca26\"], [1.0, \"#f0f921\"]], \"sequentialminus\": [[0.0, \"#0d0887\"], [0.1111111111111111, \"#46039f\"], [0.2222222222222222, \"#7201a8\"], [0.3333333333333333, \"#9c179e\"], [0.4444444444444444, \"#bd3786\"], [0.5555555555555556, \"#d8576b\"], [0.6666666666666666, \"#ed7953\"], [0.7777777777777778, \"#fb9f3a\"], [0.8888888888888888, \"#fdca26\"], [1.0, \"#f0f921\"]]}, \"colorway\": [\"#636efa\", \"#EF553B\", \"#00cc96\", \"#ab63fa\", \"#FFA15A\", \"#19d3f3\", \"#FF6692\", \"#B6E880\", \"#FF97FF\", \"#FECB52\"], \"font\": {\"color\": \"#2a3f5f\"}, \"geo\": {\"bgcolor\": \"white\", \"lakecolor\": \"white\", \"landcolor\": \"#E5ECF6\", \"showlakes\": true, \"showland\": true, \"subunitcolor\": \"white\"}, \"hoverlabel\": {\"align\": \"left\"}, \"hovermode\": \"closest\", \"mapbox\": {\"style\": \"light\"}, \"paper_bgcolor\": \"white\", \"plot_bgcolor\": \"#E5ECF6\", \"polar\": {\"angularaxis\": {\"gridcolor\": \"white\", \"linecolor\": \"white\", \"ticks\": \"\"}, \"bgcolor\": \"#E5ECF6\", \"radialaxis\": {\"gridcolor\": \"white\", \"linecolor\": \"white\", \"ticks\": \"\"}}, \"scene\": {\"xaxis\": {\"backgroundcolor\": \"#E5ECF6\", \"gridcolor\": \"white\", \"gridwidth\": 2, \"linecolor\": \"white\", \"showbackground\": true, \"ticks\": \"\", \"zerolinecolor\": \"white\"}, \"yaxis\": {\"backgroundcolor\": \"#E5ECF6\", \"gridcolor\": \"white\", \"gridwidth\": 2, \"linecolor\": \"white\", \"showbackground\": true, \"ticks\": \"\", \"zerolinecolor\": \"white\"}, \"zaxis\": {\"backgroundcolor\": \"#E5ECF6\", \"gridcolor\": \"white\", \"gridwidth\": 2, \"linecolor\": \"white\", \"showbackground\": true, \"ticks\": \"\", \"zerolinecolor\": \"white\"}}, \"shapedefaults\": {\"line\": {\"color\": \"#2a3f5f\"}}, \"ternary\": {\"aaxis\": {\"gridcolor\": \"white\", \"linecolor\": \"white\", \"ticks\": \"\"}, \"baxis\": {\"gridcolor\": \"white\", \"linecolor\": \"white\", \"ticks\": \"\"}, \"bgcolor\": \"#E5ECF6\", \"caxis\": {\"gridcolor\": \"white\", \"linecolor\": \"white\", \"ticks\": \"\"}}, \"title\": {\"x\": 0.05}, \"xaxis\": {\"automargin\": true, \"gridcolor\": \"white\", \"linecolor\": \"white\", \"ticks\": \"\", \"title\": {\"standoff\": 15}, \"zerolinecolor\": \"white\", \"zerolinewidth\": 2}, \"yaxis\": {\"automargin\": true, \"gridcolor\": \"white\", \"linecolor\": \"white\", \"ticks\": \"\", \"title\": {\"standoff\": 15}, \"zerolinecolor\": \"white\", \"zerolinewidth\": 2}}}, \"title\": {\"font\": {\"color\": \"#4D5663\"}}, \"xaxis\": {\"gridcolor\": \"#E1E5ED\", \"showgrid\": true, \"tickfont\": {\"color\": \"#4D5663\"}, \"title\": {\"font\": {\"color\": \"#4D5663\"}, \"text\": \"\"}, \"zerolinecolor\": \"#E1E5ED\"}, \"yaxis\": {\"gridcolor\": \"#E1E5ED\", \"showgrid\": true, \"tickfont\": {\"color\": \"#4D5663\"}, \"title\": {\"font\": {\"color\": \"#4D5663\"}, \"text\": \"\"}, \"zerolinecolor\": \"#E1E5ED\"}},\n",
       "                        {\"showLink\": true, \"linkText\": \"Export to plot.ly\", \"plotlyServerURL\": \"https://plot.ly\", \"responsive\": true}\n",
       "                    ).then(function(){\n",
       "                            \n",
       "var gd = document.getElementById('0dd8aa24-d781-4e52-b613-502ab6dee08c');\n",
       "var x = new MutationObserver(function (mutations, observer) {{\n",
       "        var display = window.getComputedStyle(gd).display;\n",
       "        if (!display || display === 'none') {{\n",
       "            console.log([gd, 'removed!']);\n",
       "            Plotly.purge(gd);\n",
       "            observer.disconnect();\n",
       "        }}\n",
       "}});\n",
       "\n",
       "// Listen for the removal of the full notebook cells\n",
       "var notebookContainer = gd.closest('#notebook-container');\n",
       "if (notebookContainer) {{\n",
       "    x.observe(notebookContainer, {childList: true});\n",
       "}}\n",
       "\n",
       "// Listen for the clearing of the current output cell\n",
       "var outputEl = gd.closest('.output');\n",
       "if (outputEl) {{\n",
       "    x.observe(outputEl, {childList: true});\n",
       "}}\n",
       "\n",
       "                        })\n",
       "                };\n",
       "                });\n",
       "            </script>\n",
       "        </div>"
      ]
     },
     "metadata": {},
     "output_type": "display_data"
    }
   ],
   "source": [
    "df2.iplot(kind='bar',x='Category',y='Values')"
   ]
  },
  {
   "cell_type": "code",
   "execution_count": 18,
   "metadata": {},
   "outputs": [
    {
     "data": {
      "application/vnd.plotly.v1+json": {
       "config": {
        "linkText": "Export to plot.ly",
        "plotlyServerURL": "https://plot.ly",
        "showLink": true
       },
       "data": [
        {
         "marker": {
          "color": "rgba(255, 153, 51, 0.6)",
          "line": {
           "color": "rgba(255, 153, 51, 1.0)",
           "width": 1
          }
         },
         "name": "None",
         "orientation": "v",
         "text": "",
         "type": "bar",
         "x": [
          "A",
          "B",
          "C",
          "D"
         ],
         "y": [
          100,
          100,
          100,
          100
         ]
        }
       ],
       "layout": {
        "legend": {
         "bgcolor": "#F5F6F9",
         "font": {
          "color": "#4D5663"
         }
        },
        "paper_bgcolor": "#F5F6F9",
        "plot_bgcolor": "#F5F6F9",
        "template": {
         "data": {
          "bar": [
           {
            "error_x": {
             "color": "#2a3f5f"
            },
            "error_y": {
             "color": "#2a3f5f"
            },
            "marker": {
             "line": {
              "color": "#E5ECF6",
              "width": 0.5
             }
            },
            "type": "bar"
           }
          ],
          "barpolar": [
           {
            "marker": {
             "line": {
              "color": "#E5ECF6",
              "width": 0.5
             }
            },
            "type": "barpolar"
           }
          ],
          "carpet": [
           {
            "aaxis": {
             "endlinecolor": "#2a3f5f",
             "gridcolor": "white",
             "linecolor": "white",
             "minorgridcolor": "white",
             "startlinecolor": "#2a3f5f"
            },
            "baxis": {
             "endlinecolor": "#2a3f5f",
             "gridcolor": "white",
             "linecolor": "white",
             "minorgridcolor": "white",
             "startlinecolor": "#2a3f5f"
            },
            "type": "carpet"
           }
          ],
          "choropleth": [
           {
            "colorbar": {
             "outlinewidth": 0,
             "ticks": ""
            },
            "type": "choropleth"
           }
          ],
          "contour": [
           {
            "colorbar": {
             "outlinewidth": 0,
             "ticks": ""
            },
            "colorscale": [
             [
              0,
              "#0d0887"
             ],
             [
              0.1111111111111111,
              "#46039f"
             ],
             [
              0.2222222222222222,
              "#7201a8"
             ],
             [
              0.3333333333333333,
              "#9c179e"
             ],
             [
              0.4444444444444444,
              "#bd3786"
             ],
             [
              0.5555555555555556,
              "#d8576b"
             ],
             [
              0.6666666666666666,
              "#ed7953"
             ],
             [
              0.7777777777777778,
              "#fb9f3a"
             ],
             [
              0.8888888888888888,
              "#fdca26"
             ],
             [
              1,
              "#f0f921"
             ]
            ],
            "type": "contour"
           }
          ],
          "contourcarpet": [
           {
            "colorbar": {
             "outlinewidth": 0,
             "ticks": ""
            },
            "type": "contourcarpet"
           }
          ],
          "heatmap": [
           {
            "colorbar": {
             "outlinewidth": 0,
             "ticks": ""
            },
            "colorscale": [
             [
              0,
              "#0d0887"
             ],
             [
              0.1111111111111111,
              "#46039f"
             ],
             [
              0.2222222222222222,
              "#7201a8"
             ],
             [
              0.3333333333333333,
              "#9c179e"
             ],
             [
              0.4444444444444444,
              "#bd3786"
             ],
             [
              0.5555555555555556,
              "#d8576b"
             ],
             [
              0.6666666666666666,
              "#ed7953"
             ],
             [
              0.7777777777777778,
              "#fb9f3a"
             ],
             [
              0.8888888888888888,
              "#fdca26"
             ],
             [
              1,
              "#f0f921"
             ]
            ],
            "type": "heatmap"
           }
          ],
          "heatmapgl": [
           {
            "colorbar": {
             "outlinewidth": 0,
             "ticks": ""
            },
            "colorscale": [
             [
              0,
              "#0d0887"
             ],
             [
              0.1111111111111111,
              "#46039f"
             ],
             [
              0.2222222222222222,
              "#7201a8"
             ],
             [
              0.3333333333333333,
              "#9c179e"
             ],
             [
              0.4444444444444444,
              "#bd3786"
             ],
             [
              0.5555555555555556,
              "#d8576b"
             ],
             [
              0.6666666666666666,
              "#ed7953"
             ],
             [
              0.7777777777777778,
              "#fb9f3a"
             ],
             [
              0.8888888888888888,
              "#fdca26"
             ],
             [
              1,
              "#f0f921"
             ]
            ],
            "type": "heatmapgl"
           }
          ],
          "histogram": [
           {
            "marker": {
             "colorbar": {
              "outlinewidth": 0,
              "ticks": ""
             }
            },
            "type": "histogram"
           }
          ],
          "histogram2d": [
           {
            "colorbar": {
             "outlinewidth": 0,
             "ticks": ""
            },
            "colorscale": [
             [
              0,
              "#0d0887"
             ],
             [
              0.1111111111111111,
              "#46039f"
             ],
             [
              0.2222222222222222,
              "#7201a8"
             ],
             [
              0.3333333333333333,
              "#9c179e"
             ],
             [
              0.4444444444444444,
              "#bd3786"
             ],
             [
              0.5555555555555556,
              "#d8576b"
             ],
             [
              0.6666666666666666,
              "#ed7953"
             ],
             [
              0.7777777777777778,
              "#fb9f3a"
             ],
             [
              0.8888888888888888,
              "#fdca26"
             ],
             [
              1,
              "#f0f921"
             ]
            ],
            "type": "histogram2d"
           }
          ],
          "histogram2dcontour": [
           {
            "colorbar": {
             "outlinewidth": 0,
             "ticks": ""
            },
            "colorscale": [
             [
              0,
              "#0d0887"
             ],
             [
              0.1111111111111111,
              "#46039f"
             ],
             [
              0.2222222222222222,
              "#7201a8"
             ],
             [
              0.3333333333333333,
              "#9c179e"
             ],
             [
              0.4444444444444444,
              "#bd3786"
             ],
             [
              0.5555555555555556,
              "#d8576b"
             ],
             [
              0.6666666666666666,
              "#ed7953"
             ],
             [
              0.7777777777777778,
              "#fb9f3a"
             ],
             [
              0.8888888888888888,
              "#fdca26"
             ],
             [
              1,
              "#f0f921"
             ]
            ],
            "type": "histogram2dcontour"
           }
          ],
          "mesh3d": [
           {
            "colorbar": {
             "outlinewidth": 0,
             "ticks": ""
            },
            "type": "mesh3d"
           }
          ],
          "parcoords": [
           {
            "line": {
             "colorbar": {
              "outlinewidth": 0,
              "ticks": ""
             }
            },
            "type": "parcoords"
           }
          ],
          "pie": [
           {
            "automargin": true,
            "type": "pie"
           }
          ],
          "scatter": [
           {
            "marker": {
             "colorbar": {
              "outlinewidth": 0,
              "ticks": ""
             }
            },
            "type": "scatter"
           }
          ],
          "scatter3d": [
           {
            "line": {
             "colorbar": {
              "outlinewidth": 0,
              "ticks": ""
             }
            },
            "marker": {
             "colorbar": {
              "outlinewidth": 0,
              "ticks": ""
             }
            },
            "type": "scatter3d"
           }
          ],
          "scattercarpet": [
           {
            "marker": {
             "colorbar": {
              "outlinewidth": 0,
              "ticks": ""
             }
            },
            "type": "scattercarpet"
           }
          ],
          "scattergeo": [
           {
            "marker": {
             "colorbar": {
              "outlinewidth": 0,
              "ticks": ""
             }
            },
            "type": "scattergeo"
           }
          ],
          "scattergl": [
           {
            "marker": {
             "colorbar": {
              "outlinewidth": 0,
              "ticks": ""
             }
            },
            "type": "scattergl"
           }
          ],
          "scattermapbox": [
           {
            "marker": {
             "colorbar": {
              "outlinewidth": 0,
              "ticks": ""
             }
            },
            "type": "scattermapbox"
           }
          ],
          "scatterpolar": [
           {
            "marker": {
             "colorbar": {
              "outlinewidth": 0,
              "ticks": ""
             }
            },
            "type": "scatterpolar"
           }
          ],
          "scatterpolargl": [
           {
            "marker": {
             "colorbar": {
              "outlinewidth": 0,
              "ticks": ""
             }
            },
            "type": "scatterpolargl"
           }
          ],
          "scatterternary": [
           {
            "marker": {
             "colorbar": {
              "outlinewidth": 0,
              "ticks": ""
             }
            },
            "type": "scatterternary"
           }
          ],
          "surface": [
           {
            "colorbar": {
             "outlinewidth": 0,
             "ticks": ""
            },
            "colorscale": [
             [
              0,
              "#0d0887"
             ],
             [
              0.1111111111111111,
              "#46039f"
             ],
             [
              0.2222222222222222,
              "#7201a8"
             ],
             [
              0.3333333333333333,
              "#9c179e"
             ],
             [
              0.4444444444444444,
              "#bd3786"
             ],
             [
              0.5555555555555556,
              "#d8576b"
             ],
             [
              0.6666666666666666,
              "#ed7953"
             ],
             [
              0.7777777777777778,
              "#fb9f3a"
             ],
             [
              0.8888888888888888,
              "#fdca26"
             ],
             [
              1,
              "#f0f921"
             ]
            ],
            "type": "surface"
           }
          ],
          "table": [
           {
            "cells": {
             "fill": {
              "color": "#EBF0F8"
             },
             "line": {
              "color": "white"
             }
            },
            "header": {
             "fill": {
              "color": "#C8D4E3"
             },
             "line": {
              "color": "white"
             }
            },
            "type": "table"
           }
          ]
         },
         "layout": {
          "annotationdefaults": {
           "arrowcolor": "#2a3f5f",
           "arrowhead": 0,
           "arrowwidth": 1
          },
          "coloraxis": {
           "colorbar": {
            "outlinewidth": 0,
            "ticks": ""
           }
          },
          "colorscale": {
           "diverging": [
            [
             0,
             "#8e0152"
            ],
            [
             0.1,
             "#c51b7d"
            ],
            [
             0.2,
             "#de77ae"
            ],
            [
             0.3,
             "#f1b6da"
            ],
            [
             0.4,
             "#fde0ef"
            ],
            [
             0.5,
             "#f7f7f7"
            ],
            [
             0.6,
             "#e6f5d0"
            ],
            [
             0.7,
             "#b8e186"
            ],
            [
             0.8,
             "#7fbc41"
            ],
            [
             0.9,
             "#4d9221"
            ],
            [
             1,
             "#276419"
            ]
           ],
           "sequential": [
            [
             0,
             "#0d0887"
            ],
            [
             0.1111111111111111,
             "#46039f"
            ],
            [
             0.2222222222222222,
             "#7201a8"
            ],
            [
             0.3333333333333333,
             "#9c179e"
            ],
            [
             0.4444444444444444,
             "#bd3786"
            ],
            [
             0.5555555555555556,
             "#d8576b"
            ],
            [
             0.6666666666666666,
             "#ed7953"
            ],
            [
             0.7777777777777778,
             "#fb9f3a"
            ],
            [
             0.8888888888888888,
             "#fdca26"
            ],
            [
             1,
             "#f0f921"
            ]
           ],
           "sequentialminus": [
            [
             0,
             "#0d0887"
            ],
            [
             0.1111111111111111,
             "#46039f"
            ],
            [
             0.2222222222222222,
             "#7201a8"
            ],
            [
             0.3333333333333333,
             "#9c179e"
            ],
            [
             0.4444444444444444,
             "#bd3786"
            ],
            [
             0.5555555555555556,
             "#d8576b"
            ],
            [
             0.6666666666666666,
             "#ed7953"
            ],
            [
             0.7777777777777778,
             "#fb9f3a"
            ],
            [
             0.8888888888888888,
             "#fdca26"
            ],
            [
             1,
             "#f0f921"
            ]
           ]
          },
          "colorway": [
           "#636efa",
           "#EF553B",
           "#00cc96",
           "#ab63fa",
           "#FFA15A",
           "#19d3f3",
           "#FF6692",
           "#B6E880",
           "#FF97FF",
           "#FECB52"
          ],
          "font": {
           "color": "#2a3f5f"
          },
          "geo": {
           "bgcolor": "white",
           "lakecolor": "white",
           "landcolor": "#E5ECF6",
           "showlakes": true,
           "showland": true,
           "subunitcolor": "white"
          },
          "hoverlabel": {
           "align": "left"
          },
          "hovermode": "closest",
          "mapbox": {
           "style": "light"
          },
          "paper_bgcolor": "white",
          "plot_bgcolor": "#E5ECF6",
          "polar": {
           "angularaxis": {
            "gridcolor": "white",
            "linecolor": "white",
            "ticks": ""
           },
           "bgcolor": "#E5ECF6",
           "radialaxis": {
            "gridcolor": "white",
            "linecolor": "white",
            "ticks": ""
           }
          },
          "scene": {
           "xaxis": {
            "backgroundcolor": "#E5ECF6",
            "gridcolor": "white",
            "gridwidth": 2,
            "linecolor": "white",
            "showbackground": true,
            "ticks": "",
            "zerolinecolor": "white"
           },
           "yaxis": {
            "backgroundcolor": "#E5ECF6",
            "gridcolor": "white",
            "gridwidth": 2,
            "linecolor": "white",
            "showbackground": true,
            "ticks": "",
            "zerolinecolor": "white"
           },
           "zaxis": {
            "backgroundcolor": "#E5ECF6",
            "gridcolor": "white",
            "gridwidth": 2,
            "linecolor": "white",
            "showbackground": true,
            "ticks": "",
            "zerolinecolor": "white"
           }
          },
          "shapedefaults": {
           "line": {
            "color": "#2a3f5f"
           }
          },
          "ternary": {
           "aaxis": {
            "gridcolor": "white",
            "linecolor": "white",
            "ticks": ""
           },
           "baxis": {
            "gridcolor": "white",
            "linecolor": "white",
            "ticks": ""
           },
           "bgcolor": "#E5ECF6",
           "caxis": {
            "gridcolor": "white",
            "linecolor": "white",
            "ticks": ""
           }
          },
          "title": {
           "x": 0.05
          },
          "xaxis": {
           "automargin": true,
           "gridcolor": "white",
           "linecolor": "white",
           "ticks": "",
           "title": {
            "standoff": 15
           },
           "zerolinecolor": "white",
           "zerolinewidth": 2
          },
          "yaxis": {
           "automargin": true,
           "gridcolor": "white",
           "linecolor": "white",
           "ticks": "",
           "title": {
            "standoff": 15
           },
           "zerolinecolor": "white",
           "zerolinewidth": 2
          }
         }
        },
        "title": {
         "font": {
          "color": "#4D5663"
         }
        },
        "xaxis": {
         "gridcolor": "#E1E5ED",
         "showgrid": true,
         "tickfont": {
          "color": "#4D5663"
         },
         "title": {
          "font": {
           "color": "#4D5663"
          },
          "text": ""
         },
         "zerolinecolor": "#E1E5ED"
        },
        "yaxis": {
         "gridcolor": "#E1E5ED",
         "showgrid": true,
         "tickfont": {
          "color": "#4D5663"
         },
         "title": {
          "font": {
           "color": "#4D5663"
          },
          "text": ""
         },
         "zerolinecolor": "#E1E5ED"
        }
       }
      },
      "text/html": [
       "<div>\n",
       "        \n",
       "        \n",
       "            <div id=\"49d537e8-6cae-4ab9-834d-9dd9a3a38851\" class=\"plotly-graph-div\" style=\"height:525px; width:100%;\"></div>\n",
       "            <script type=\"text/javascript\">\n",
       "                require([\"plotly\"], function(Plotly) {\n",
       "                    window.PLOTLYENV=window.PLOTLYENV || {};\n",
       "                    window.PLOTLYENV.BASE_URL='https://plot.ly';\n",
       "                    \n",
       "                if (document.getElementById(\"49d537e8-6cae-4ab9-834d-9dd9a3a38851\")) {\n",
       "                    Plotly.newPlot(\n",
       "                        '49d537e8-6cae-4ab9-834d-9dd9a3a38851',\n",
       "                        [{\"marker\": {\"color\": \"rgba(255, 153, 51, 0.6)\", \"line\": {\"color\": \"rgba(255, 153, 51, 1.0)\", \"width\": 1}}, \"name\": \"None\", \"orientation\": \"v\", \"text\": \"\", \"type\": \"bar\", \"x\": [\"A\", \"B\", \"C\", \"D\"], \"y\": [100, 100, 100, 100]}],\n",
       "                        {\"legend\": {\"bgcolor\": \"#F5F6F9\", \"font\": {\"color\": \"#4D5663\"}}, \"paper_bgcolor\": \"#F5F6F9\", \"plot_bgcolor\": \"#F5F6F9\", \"template\": {\"data\": {\"bar\": [{\"error_x\": {\"color\": \"#2a3f5f\"}, \"error_y\": {\"color\": \"#2a3f5f\"}, \"marker\": {\"line\": {\"color\": \"#E5ECF6\", \"width\": 0.5}}, \"type\": \"bar\"}], \"barpolar\": [{\"marker\": {\"line\": {\"color\": \"#E5ECF6\", \"width\": 0.5}}, \"type\": \"barpolar\"}], \"carpet\": [{\"aaxis\": {\"endlinecolor\": \"#2a3f5f\", \"gridcolor\": \"white\", \"linecolor\": \"white\", \"minorgridcolor\": \"white\", \"startlinecolor\": \"#2a3f5f\"}, \"baxis\": {\"endlinecolor\": \"#2a3f5f\", \"gridcolor\": \"white\", \"linecolor\": \"white\", \"minorgridcolor\": \"white\", \"startlinecolor\": \"#2a3f5f\"}, \"type\": \"carpet\"}], \"choropleth\": [{\"colorbar\": {\"outlinewidth\": 0, \"ticks\": \"\"}, \"type\": \"choropleth\"}], \"contour\": [{\"colorbar\": {\"outlinewidth\": 0, \"ticks\": \"\"}, \"colorscale\": [[0.0, \"#0d0887\"], [0.1111111111111111, \"#46039f\"], [0.2222222222222222, \"#7201a8\"], [0.3333333333333333, \"#9c179e\"], [0.4444444444444444, \"#bd3786\"], [0.5555555555555556, \"#d8576b\"], [0.6666666666666666, \"#ed7953\"], [0.7777777777777778, \"#fb9f3a\"], [0.8888888888888888, \"#fdca26\"], [1.0, \"#f0f921\"]], \"type\": \"contour\"}], \"contourcarpet\": [{\"colorbar\": {\"outlinewidth\": 0, \"ticks\": \"\"}, \"type\": \"contourcarpet\"}], \"heatmap\": [{\"colorbar\": {\"outlinewidth\": 0, \"ticks\": \"\"}, \"colorscale\": [[0.0, \"#0d0887\"], [0.1111111111111111, \"#46039f\"], [0.2222222222222222, \"#7201a8\"], [0.3333333333333333, \"#9c179e\"], [0.4444444444444444, \"#bd3786\"], [0.5555555555555556, \"#d8576b\"], [0.6666666666666666, \"#ed7953\"], [0.7777777777777778, \"#fb9f3a\"], [0.8888888888888888, \"#fdca26\"], [1.0, \"#f0f921\"]], \"type\": \"heatmap\"}], \"heatmapgl\": [{\"colorbar\": {\"outlinewidth\": 0, \"ticks\": \"\"}, \"colorscale\": [[0.0, \"#0d0887\"], [0.1111111111111111, \"#46039f\"], [0.2222222222222222, \"#7201a8\"], [0.3333333333333333, \"#9c179e\"], [0.4444444444444444, \"#bd3786\"], [0.5555555555555556, \"#d8576b\"], [0.6666666666666666, \"#ed7953\"], [0.7777777777777778, \"#fb9f3a\"], [0.8888888888888888, \"#fdca26\"], [1.0, \"#f0f921\"]], \"type\": \"heatmapgl\"}], \"histogram\": [{\"marker\": {\"colorbar\": {\"outlinewidth\": 0, \"ticks\": \"\"}}, \"type\": \"histogram\"}], \"histogram2d\": [{\"colorbar\": {\"outlinewidth\": 0, \"ticks\": \"\"}, \"colorscale\": [[0.0, \"#0d0887\"], [0.1111111111111111, \"#46039f\"], [0.2222222222222222, \"#7201a8\"], [0.3333333333333333, \"#9c179e\"], [0.4444444444444444, \"#bd3786\"], [0.5555555555555556, \"#d8576b\"], [0.6666666666666666, \"#ed7953\"], [0.7777777777777778, \"#fb9f3a\"], [0.8888888888888888, \"#fdca26\"], [1.0, \"#f0f921\"]], \"type\": \"histogram2d\"}], \"histogram2dcontour\": [{\"colorbar\": {\"outlinewidth\": 0, \"ticks\": \"\"}, \"colorscale\": [[0.0, \"#0d0887\"], [0.1111111111111111, \"#46039f\"], [0.2222222222222222, \"#7201a8\"], [0.3333333333333333, \"#9c179e\"], [0.4444444444444444, \"#bd3786\"], [0.5555555555555556, \"#d8576b\"], [0.6666666666666666, \"#ed7953\"], [0.7777777777777778, \"#fb9f3a\"], [0.8888888888888888, \"#fdca26\"], [1.0, \"#f0f921\"]], \"type\": \"histogram2dcontour\"}], \"mesh3d\": [{\"colorbar\": {\"outlinewidth\": 0, \"ticks\": \"\"}, \"type\": \"mesh3d\"}], \"parcoords\": [{\"line\": {\"colorbar\": {\"outlinewidth\": 0, \"ticks\": \"\"}}, \"type\": \"parcoords\"}], \"pie\": [{\"automargin\": true, \"type\": \"pie\"}], \"scatter\": [{\"marker\": {\"colorbar\": {\"outlinewidth\": 0, \"ticks\": \"\"}}, \"type\": \"scatter\"}], \"scatter3d\": [{\"line\": {\"colorbar\": {\"outlinewidth\": 0, \"ticks\": \"\"}}, \"marker\": {\"colorbar\": {\"outlinewidth\": 0, \"ticks\": \"\"}}, \"type\": \"scatter3d\"}], \"scattercarpet\": [{\"marker\": {\"colorbar\": {\"outlinewidth\": 0, \"ticks\": \"\"}}, \"type\": \"scattercarpet\"}], \"scattergeo\": [{\"marker\": {\"colorbar\": {\"outlinewidth\": 0, \"ticks\": \"\"}}, \"type\": \"scattergeo\"}], \"scattergl\": [{\"marker\": {\"colorbar\": {\"outlinewidth\": 0, \"ticks\": \"\"}}, \"type\": \"scattergl\"}], \"scattermapbox\": [{\"marker\": {\"colorbar\": {\"outlinewidth\": 0, \"ticks\": \"\"}}, \"type\": \"scattermapbox\"}], \"scatterpolar\": [{\"marker\": {\"colorbar\": {\"outlinewidth\": 0, \"ticks\": \"\"}}, \"type\": \"scatterpolar\"}], \"scatterpolargl\": [{\"marker\": {\"colorbar\": {\"outlinewidth\": 0, \"ticks\": \"\"}}, \"type\": \"scatterpolargl\"}], \"scatterternary\": [{\"marker\": {\"colorbar\": {\"outlinewidth\": 0, \"ticks\": \"\"}}, \"type\": \"scatterternary\"}], \"surface\": [{\"colorbar\": {\"outlinewidth\": 0, \"ticks\": \"\"}, \"colorscale\": [[0.0, \"#0d0887\"], [0.1111111111111111, \"#46039f\"], [0.2222222222222222, \"#7201a8\"], [0.3333333333333333, \"#9c179e\"], [0.4444444444444444, \"#bd3786\"], [0.5555555555555556, \"#d8576b\"], [0.6666666666666666, \"#ed7953\"], [0.7777777777777778, \"#fb9f3a\"], [0.8888888888888888, \"#fdca26\"], [1.0, \"#f0f921\"]], \"type\": \"surface\"}], \"table\": [{\"cells\": {\"fill\": {\"color\": \"#EBF0F8\"}, \"line\": {\"color\": \"white\"}}, \"header\": {\"fill\": {\"color\": \"#C8D4E3\"}, \"line\": {\"color\": \"white\"}}, \"type\": \"table\"}]}, \"layout\": {\"annotationdefaults\": {\"arrowcolor\": \"#2a3f5f\", \"arrowhead\": 0, \"arrowwidth\": 1}, \"coloraxis\": {\"colorbar\": {\"outlinewidth\": 0, \"ticks\": \"\"}}, \"colorscale\": {\"diverging\": [[0, \"#8e0152\"], [0.1, \"#c51b7d\"], [0.2, \"#de77ae\"], [0.3, \"#f1b6da\"], [0.4, \"#fde0ef\"], [0.5, \"#f7f7f7\"], [0.6, \"#e6f5d0\"], [0.7, \"#b8e186\"], [0.8, \"#7fbc41\"], [0.9, \"#4d9221\"], [1, \"#276419\"]], \"sequential\": [[0.0, \"#0d0887\"], [0.1111111111111111, \"#46039f\"], [0.2222222222222222, \"#7201a8\"], [0.3333333333333333, \"#9c179e\"], [0.4444444444444444, \"#bd3786\"], [0.5555555555555556, \"#d8576b\"], [0.6666666666666666, \"#ed7953\"], [0.7777777777777778, \"#fb9f3a\"], [0.8888888888888888, \"#fdca26\"], [1.0, \"#f0f921\"]], \"sequentialminus\": [[0.0, \"#0d0887\"], [0.1111111111111111, \"#46039f\"], [0.2222222222222222, \"#7201a8\"], [0.3333333333333333, \"#9c179e\"], [0.4444444444444444, \"#bd3786\"], [0.5555555555555556, \"#d8576b\"], [0.6666666666666666, \"#ed7953\"], [0.7777777777777778, \"#fb9f3a\"], [0.8888888888888888, \"#fdca26\"], [1.0, \"#f0f921\"]]}, \"colorway\": [\"#636efa\", \"#EF553B\", \"#00cc96\", \"#ab63fa\", \"#FFA15A\", \"#19d3f3\", \"#FF6692\", \"#B6E880\", \"#FF97FF\", \"#FECB52\"], \"font\": {\"color\": \"#2a3f5f\"}, \"geo\": {\"bgcolor\": \"white\", \"lakecolor\": \"white\", \"landcolor\": \"#E5ECF6\", \"showlakes\": true, \"showland\": true, \"subunitcolor\": \"white\"}, \"hoverlabel\": {\"align\": \"left\"}, \"hovermode\": \"closest\", \"mapbox\": {\"style\": \"light\"}, \"paper_bgcolor\": \"white\", \"plot_bgcolor\": \"#E5ECF6\", \"polar\": {\"angularaxis\": {\"gridcolor\": \"white\", \"linecolor\": \"white\", \"ticks\": \"\"}, \"bgcolor\": \"#E5ECF6\", \"radialaxis\": {\"gridcolor\": \"white\", \"linecolor\": \"white\", \"ticks\": \"\"}}, \"scene\": {\"xaxis\": {\"backgroundcolor\": \"#E5ECF6\", \"gridcolor\": \"white\", \"gridwidth\": 2, \"linecolor\": \"white\", \"showbackground\": true, \"ticks\": \"\", \"zerolinecolor\": \"white\"}, \"yaxis\": {\"backgroundcolor\": \"#E5ECF6\", \"gridcolor\": \"white\", \"gridwidth\": 2, \"linecolor\": \"white\", \"showbackground\": true, \"ticks\": \"\", \"zerolinecolor\": \"white\"}, \"zaxis\": {\"backgroundcolor\": \"#E5ECF6\", \"gridcolor\": \"white\", \"gridwidth\": 2, \"linecolor\": \"white\", \"showbackground\": true, \"ticks\": \"\", \"zerolinecolor\": \"white\"}}, \"shapedefaults\": {\"line\": {\"color\": \"#2a3f5f\"}}, \"ternary\": {\"aaxis\": {\"gridcolor\": \"white\", \"linecolor\": \"white\", \"ticks\": \"\"}, \"baxis\": {\"gridcolor\": \"white\", \"linecolor\": \"white\", \"ticks\": \"\"}, \"bgcolor\": \"#E5ECF6\", \"caxis\": {\"gridcolor\": \"white\", \"linecolor\": \"white\", \"ticks\": \"\"}}, \"title\": {\"x\": 0.05}, \"xaxis\": {\"automargin\": true, \"gridcolor\": \"white\", \"linecolor\": \"white\", \"ticks\": \"\", \"title\": {\"standoff\": 15}, \"zerolinecolor\": \"white\", \"zerolinewidth\": 2}, \"yaxis\": {\"automargin\": true, \"gridcolor\": \"white\", \"linecolor\": \"white\", \"ticks\": \"\", \"title\": {\"standoff\": 15}, \"zerolinecolor\": \"white\", \"zerolinewidth\": 2}}}, \"title\": {\"font\": {\"color\": \"#4D5663\"}}, \"xaxis\": {\"gridcolor\": \"#E1E5ED\", \"showgrid\": true, \"tickfont\": {\"color\": \"#4D5663\"}, \"title\": {\"font\": {\"color\": \"#4D5663\"}, \"text\": \"\"}, \"zerolinecolor\": \"#E1E5ED\"}, \"yaxis\": {\"gridcolor\": \"#E1E5ED\", \"showgrid\": true, \"tickfont\": {\"color\": \"#4D5663\"}, \"title\": {\"font\": {\"color\": \"#4D5663\"}, \"text\": \"\"}, \"zerolinecolor\": \"#E1E5ED\"}},\n",
       "                        {\"showLink\": true, \"linkText\": \"Export to plot.ly\", \"plotlyServerURL\": \"https://plot.ly\", \"responsive\": true}\n",
       "                    ).then(function(){\n",
       "                            \n",
       "var gd = document.getElementById('49d537e8-6cae-4ab9-834d-9dd9a3a38851');\n",
       "var x = new MutationObserver(function (mutations, observer) {{\n",
       "        var display = window.getComputedStyle(gd).display;\n",
       "        if (!display || display === 'none') {{\n",
       "            console.log([gd, 'removed!']);\n",
       "            Plotly.purge(gd);\n",
       "            observer.disconnect();\n",
       "        }}\n",
       "}});\n",
       "\n",
       "// Listen for the removal of the full notebook cells\n",
       "var notebookContainer = gd.closest('#notebook-container');\n",
       "if (notebookContainer) {{\n",
       "    x.observe(notebookContainer, {childList: true});\n",
       "}}\n",
       "\n",
       "// Listen for the clearing of the current output cell\n",
       "var outputEl = gd.closest('.output');\n",
       "if (outputEl) {{\n",
       "    x.observe(outputEl, {childList: true});\n",
       "}}\n",
       "\n",
       "                        })\n",
       "                };\n",
       "                });\n",
       "            </script>\n",
       "        </div>"
      ]
     },
     "metadata": {},
     "output_type": "display_data"
    }
   ],
   "source": [
    "df.count().iplot(kind='bar')"
   ]
  },
  {
   "cell_type": "markdown",
   "metadata": {},
   "source": [
    "## Boxplots"
   ]
  },
  {
   "cell_type": "code",
   "execution_count": 19,
   "metadata": {},
   "outputs": [
    {
     "data": {
      "application/vnd.plotly.v1+json": {
       "config": {
        "linkText": "Export to plot.ly",
        "plotlyServerURL": "https://plot.ly",
        "showLink": true
       },
       "data": [
        {
         "boxpoints": false,
         "line": {
          "width": 1.3
         },
         "marker": {
          "color": "rgba(255, 153, 51, 1.0)"
         },
         "name": "A",
         "orientation": "v",
         "type": "box",
         "y": [
          -0.13775086430743813,
          -1.9933049229514477,
          -0.9545044762222105,
          1.4014164640928737,
          -1.13192187578824,
          -1.3617171661286414,
          -0.9083961716634638,
          1.3303928616547227,
          0.8057925035002808,
          -0.6897784200723086,
          -2.0953961176504903,
          0.4779895237770411,
          0.7541183143416599,
          1.0885380483057463,
          -1.9447575190926418,
          0.9975927283186687,
          0.5396244432324852,
          -0.42383547340641514,
          0.7186773780770584,
          2.6607077784921724,
          0.5419253101691794,
          0.48168350903181256,
          0.00016683141743905627,
          -1.434810587490341,
          0.7715714846893815,
          0.7456802660196701,
          -0.36542221125466307,
          -1.0166942651772195,
          0.3093832415310271,
          -1.3304186784288994,
          -0.38208893085136053,
          1.070745280547997,
          -0.24166411883649572,
          1.0156796479926795,
          0.34835168994849247,
          -0.4191523215594431,
          0.06173604008436236,
          -1.432936038291852,
          0.3258606651601762,
          -1.349954164282741,
          -0.7095098045451561,
          1.010145452103435,
          -1.1105120080278759,
          0.21666021830827295,
          0.05047695299247232,
          1.6979340768084248,
          0.4829406701478865,
          -0.09070487712543199,
          0.8532304688136618,
          -0.8942411416717861,
          -0.42457176708669925,
          -1.5657072405052173,
          -0.17728663186775215,
          -0.907529302042309,
          0.015237382008090744,
          0.17182485828798016,
          -0.422959094891893,
          -0.7740227863443343,
          -1.0208775652388034,
          -0.6324799702992057,
          0.10822694435312787,
          -0.3496517337932419,
          0.33060914060953733,
          -1.0106999926023936,
          -0.7222417619394348,
          -0.5332812245676131,
          -0.776755834796644,
          1.1941171480095443,
          1.2686298712847948,
          -1.017278861018582,
          -1.1774948698526817,
          -0.4239516911089791,
          -0.3945051098098888,
          -1.360817658415006,
          -0.863416437132497,
          0.7226579837082056,
          -1.071158632435797,
          -0.7010972899518247,
          1.2145562514183765,
          -0.28080634140698185,
          0.4366347441230707,
          1.314812375540971,
          1.5722102595136485,
          2.3812552615192804,
          -1.0672037558626681,
          -0.053593780034868706,
          0.5976597621802904,
          -0.5418992969522781,
          -0.8921719903625399,
          0.32805956293816935,
          0.8811900268496274,
          -0.6639785072700968,
          -0.4073355000059551,
          -0.5740298447265203,
          0.033388134057522056,
          -1.3913553444512943,
          0.20930846462947625,
          -1.8181242562227442,
          0.20084981290816206,
          -0.8380964279862918
         ]
        },
        {
         "boxpoints": false,
         "line": {
          "width": 1.3
         },
         "marker": {
          "color": "rgba(55, 128, 191, 1.0)"
         },
         "name": "B",
         "orientation": "v",
         "type": "box",
         "y": [
          0.4867039677135526,
          1.244047840402478,
          2.3332257859437378,
          1.689469317780753,
          0.26600468702917085,
          -1.5534056582883649,
          -1.4715859849210289,
          -0.2044115131727728,
          0.26871657375985414,
          -0.3422180501613123,
          -1.7735616597332367,
          -0.016933444517672404,
          -0.7293476753347374,
          -0.624452059783926,
          -1.2763146611944258,
          1.2724287629354616,
          0.3481211380276087,
          -1.0169552849327732,
          0.10521745932772313,
          -0.6304304028436521,
          -0.5041196367567813,
          0.3161120551419451,
          0.7369874147128881,
          -1.0598247277896868,
          -0.18506125663662593,
          0.810477229270296,
          -1.384807705451281,
          -0.8863863326525558,
          0.9147353176181667,
          -0.5385833168165204,
          0.23579161115875363,
          1.3922065321592305,
          -0.029253693715969455,
          0.9869678719055079,
          -0.8315582910357844,
          -0.15630658169048334,
          0.3630713272506266,
          -0.5732445399171228,
          0.6868772378242992,
          1.1003303290999775,
          0.18612995904760574,
          0.6946198041945933,
          -2.365577687112027,
          0.8905083947588157,
          0.6373915150218937,
          -1.5590165623571386,
          -1.8099737250328467,
          0.8187923807100435,
          -0.566006465230476,
          -0.2075092147286489,
          -1.5463956090468263,
          -0.2027034353912444,
          0.6110919682579047,
          -0.4024096082165716,
          0.1092393679292165,
          -1.549036721036476,
          -0.28602484732646627,
          -1.596958432253144,
          -1.2934586866600908,
          -0.4345286168661543,
          -0.6577383489380272,
          0.7483943244863837,
          1.079000643133668,
          -1.5546810209164317,
          -0.7525658730481593,
          0.9060783055285099,
          -1.4556490922061072,
          1.5641473539411717,
          0.867404487903958,
          -0.7804546920722069,
          -0.2626463976382476,
          1.0219316310317808,
          -0.940622822003576,
          -0.7058560462667333,
          0.40742227057372776,
          -1.06757106950965,
          -0.7515626021053561,
          2.1636224076620234,
          0.286759747917996,
          -0.8385984718681364,
          -0.7641870886396996,
          -0.48373459403747987,
          0.10528249278382575,
          -0.9632439023829252,
          1.903457634504097,
          -0.16604985961639618,
          0.5530277500259455,
          0.0951366549917921,
          0.10390345527482063,
          0.12218714334909844,
          -1.1493425592465587,
          0.5883479007961637,
          0.23124416068370013,
          1.0861293480045746,
          1.2786656219423185,
          -0.10469047643119377,
          0.664352682995852,
          -0.45585776757309304,
          -0.309786574014567,
          -1.1229610739076694
         ]
        },
        {
         "boxpoints": false,
         "line": {
          "width": 1.3
         },
         "marker": {
          "color": "rgba(50, 171, 96, 1.0)"
         },
         "name": "C",
         "orientation": "v",
         "type": "box",
         "y": [
          -1.13749315482382,
          0.7653879229528251,
          0.36353993423080283,
          -0.1264559329598941,
          0.20902322993125227,
          0.004425724623742667,
          -1.5809516932518117,
          0.21132144886763912,
          -0.09207767881977709,
          -0.9986667851679848,
          0.24249197845322157,
          -0.1670722755498319,
          -0.25989403824354784,
          -1.2128858047674451,
          -0.6066845874730094,
          0.38747203527688656,
          0.6703817625268776,
          0.5893838408432945,
          -0.2515646505395043,
          0.015830081332728074,
          0.7518553601532176,
          -0.8279223222360815,
          0.13447461632924104,
          0.5038845288746462,
          -0.7991348009888153,
          -0.6017576901506447,
          -0.9471261239516784,
          -1.4158141594145313,
          0.8046294420633452,
          -1.88418076448262,
          -0.7244974928743495,
          0.8062482595739058,
          1.468972588346329,
          -1.3065576529651353,
          0.19761452884566194,
          -0.5142486337830402,
          -0.5366617937602675,
          0.41674173632929223,
          0.07040277780338344,
          0.5867604556708543,
          -0.5307208193118907,
          0.5532314718964406,
          0.33618900518926537,
          -2.0316632223733553,
          1.2037899892305588,
          1.495760261609705,
          0.9461871905850956,
          0.4148510504342809,
          1.2917872098988403,
          0.038159176615340996,
          -0.7903494308684608,
          0.8724093738391323,
          0.5084019544516403,
          1.6802366581185233,
          -0.03835829382367422,
          0.8921323672959719,
          -3.1048789733083635,
          -0.9959838237283308,
          -1.4776596679815992,
          -1.6042472658044309,
          -0.898057711597044,
          -0.0014952871568699056,
          -0.060323124861548186,
          -1.5214938503202469,
          0.5440691871580189,
          1.7948911997294532,
          -2.3114850872544577,
          -1.2511453085315185,
          -0.9192439666370511,
          1.3347845456976195,
          -2.7084887701278917,
          -0.6872683553989607,
          0.1633739608597954,
          0.7011899016772642,
          -0.43252875504230487,
          0.4669155858262645,
          -1.3804452333866417,
          -0.7129946601176602,
          1.1510291635751115,
          -0.37340888390995575,
          -0.7678549843810049,
          1.4537991209345367,
          -1.6103328597013777,
          -0.08098437022756322,
          0.04938978891788958,
          0.8818090088558648,
          -0.4463209623346439,
          -0.05772006728779314,
          0.2094643862383853,
          -0.788480693768257,
          -0.9700506115589369,
          -0.6309762622528706,
          -0.1496590724180059,
          -1.5557199092524507,
          1.2173731944856414,
          -0.9646377814844951,
          0.35472679974346744,
          0.8580392133991638,
          -0.47948073381113515,
          -0.4451400361562025
         ]
        },
        {
         "boxpoints": false,
         "line": {
          "width": 1.3
         },
         "marker": {
          "color": "rgba(128, 0, 128, 1.0)"
         },
         "name": "D",
         "orientation": "v",
         "type": "box",
         "y": [
          -0.7047235523489176,
          1.246993324176599,
          0.1403089172780101,
          -0.4549420408995085,
          0.06246430342814528,
          -0.0014477722750879122,
          0.7173287158977242,
          1.3939915546321147,
          -2.0722469934200163,
          1.126921877025309,
          1.1541613504362467,
          -1.1229505194346185,
          1.217198074129629,
          -0.22721537044679177,
          0.21435434921557553,
          -0.9376024029308394,
          -0.45691627457818557,
          -0.19797153024436692,
          -2.5355487909269643,
          -0.11762947145539833,
          0.6199621320706129,
          1.2091447197385286,
          -1.5780488351712234,
          -0.021510994529677023,
          -0.06212691573040214,
          -0.2559669080909139,
          -0.43365185916771815,
          -0.37165169246290414,
          0.4001482227159277,
          -0.2808384077050134,
          0.3200323481265974,
          0.548912422765533,
          -2.3704572275044256,
          -0.3644523198278164,
          0.039454027249712476,
          1.0623529672146794,
          0.7864934855343091,
          0.7256637434622966,
          0.6976639154125662,
          1.4743878281038973,
          -2.0616148606854043,
          -0.2937432964169668,
          -0.3792343959203282,
          0.576380223053573,
          -1.9159063740657722,
          0.40713157217015117,
          -0.29436880522574765,
          -0.9394752185978784,
          0.78876931567213,
          0.8895989554239737,
          1.5664726941314182,
          0.48441540775546776,
          -3.0591518070458266,
          2.3911231558435726,
          -1.4449033644934874,
          -1.3924275408123392,
          0.17382197797757712,
          -0.5567243993245482,
          -0.08447779634123187,
          0.4301868761448119,
          1.2355330417977177,
          -0.5063159694727445,
          -0.8187281572673231,
          1.6039646080964505,
          -0.2009598120941732,
          2.8029560142061323,
          0.2984548560518197,
          0.8999436772220767,
          -1.7319802294637427,
          -1.3607715721374827,
          -0.3818650465129761,
          -0.24119446662667235,
          0.49573677929622895,
          0.37516568660625255,
          -1.3963206832653954,
          0.08370478226323531,
          -0.802838008300142,
          1.126644556541517,
          0.2456983810060282,
          -0.31141590823350834,
          0.14924592582376356,
          0.0586862032747273,
          -0.8810342851515048,
          -0.5630394604053154,
          -1.0394141444088514,
          1.5754312986766652,
          1.080653351869836,
          -0.9897339047293988,
          0.45902392135464376,
          -1.34379459005792,
          0.987088063065103,
          -0.003852969120063484,
          0.003105491270756242,
          2.3288587458423207,
          -0.26636891054765377,
          -0.5588559210488281,
          -2.897762586549168,
          -0.9471056471452588,
          0.58355518513356,
          0.22462303171811882
         ]
        }
       ],
       "layout": {
        "legend": {
         "bgcolor": "#F5F6F9",
         "font": {
          "color": "#4D5663"
         }
        },
        "paper_bgcolor": "#F5F6F9",
        "plot_bgcolor": "#F5F6F9",
        "template": {
         "data": {
          "bar": [
           {
            "error_x": {
             "color": "#2a3f5f"
            },
            "error_y": {
             "color": "#2a3f5f"
            },
            "marker": {
             "line": {
              "color": "#E5ECF6",
              "width": 0.5
             }
            },
            "type": "bar"
           }
          ],
          "barpolar": [
           {
            "marker": {
             "line": {
              "color": "#E5ECF6",
              "width": 0.5
             }
            },
            "type": "barpolar"
           }
          ],
          "carpet": [
           {
            "aaxis": {
             "endlinecolor": "#2a3f5f",
             "gridcolor": "white",
             "linecolor": "white",
             "minorgridcolor": "white",
             "startlinecolor": "#2a3f5f"
            },
            "baxis": {
             "endlinecolor": "#2a3f5f",
             "gridcolor": "white",
             "linecolor": "white",
             "minorgridcolor": "white",
             "startlinecolor": "#2a3f5f"
            },
            "type": "carpet"
           }
          ],
          "choropleth": [
           {
            "colorbar": {
             "outlinewidth": 0,
             "ticks": ""
            },
            "type": "choropleth"
           }
          ],
          "contour": [
           {
            "colorbar": {
             "outlinewidth": 0,
             "ticks": ""
            },
            "colorscale": [
             [
              0,
              "#0d0887"
             ],
             [
              0.1111111111111111,
              "#46039f"
             ],
             [
              0.2222222222222222,
              "#7201a8"
             ],
             [
              0.3333333333333333,
              "#9c179e"
             ],
             [
              0.4444444444444444,
              "#bd3786"
             ],
             [
              0.5555555555555556,
              "#d8576b"
             ],
             [
              0.6666666666666666,
              "#ed7953"
             ],
             [
              0.7777777777777778,
              "#fb9f3a"
             ],
             [
              0.8888888888888888,
              "#fdca26"
             ],
             [
              1,
              "#f0f921"
             ]
            ],
            "type": "contour"
           }
          ],
          "contourcarpet": [
           {
            "colorbar": {
             "outlinewidth": 0,
             "ticks": ""
            },
            "type": "contourcarpet"
           }
          ],
          "heatmap": [
           {
            "colorbar": {
             "outlinewidth": 0,
             "ticks": ""
            },
            "colorscale": [
             [
              0,
              "#0d0887"
             ],
             [
              0.1111111111111111,
              "#46039f"
             ],
             [
              0.2222222222222222,
              "#7201a8"
             ],
             [
              0.3333333333333333,
              "#9c179e"
             ],
             [
              0.4444444444444444,
              "#bd3786"
             ],
             [
              0.5555555555555556,
              "#d8576b"
             ],
             [
              0.6666666666666666,
              "#ed7953"
             ],
             [
              0.7777777777777778,
              "#fb9f3a"
             ],
             [
              0.8888888888888888,
              "#fdca26"
             ],
             [
              1,
              "#f0f921"
             ]
            ],
            "type": "heatmap"
           }
          ],
          "heatmapgl": [
           {
            "colorbar": {
             "outlinewidth": 0,
             "ticks": ""
            },
            "colorscale": [
             [
              0,
              "#0d0887"
             ],
             [
              0.1111111111111111,
              "#46039f"
             ],
             [
              0.2222222222222222,
              "#7201a8"
             ],
             [
              0.3333333333333333,
              "#9c179e"
             ],
             [
              0.4444444444444444,
              "#bd3786"
             ],
             [
              0.5555555555555556,
              "#d8576b"
             ],
             [
              0.6666666666666666,
              "#ed7953"
             ],
             [
              0.7777777777777778,
              "#fb9f3a"
             ],
             [
              0.8888888888888888,
              "#fdca26"
             ],
             [
              1,
              "#f0f921"
             ]
            ],
            "type": "heatmapgl"
           }
          ],
          "histogram": [
           {
            "marker": {
             "colorbar": {
              "outlinewidth": 0,
              "ticks": ""
             }
            },
            "type": "histogram"
           }
          ],
          "histogram2d": [
           {
            "colorbar": {
             "outlinewidth": 0,
             "ticks": ""
            },
            "colorscale": [
             [
              0,
              "#0d0887"
             ],
             [
              0.1111111111111111,
              "#46039f"
             ],
             [
              0.2222222222222222,
              "#7201a8"
             ],
             [
              0.3333333333333333,
              "#9c179e"
             ],
             [
              0.4444444444444444,
              "#bd3786"
             ],
             [
              0.5555555555555556,
              "#d8576b"
             ],
             [
              0.6666666666666666,
              "#ed7953"
             ],
             [
              0.7777777777777778,
              "#fb9f3a"
             ],
             [
              0.8888888888888888,
              "#fdca26"
             ],
             [
              1,
              "#f0f921"
             ]
            ],
            "type": "histogram2d"
           }
          ],
          "histogram2dcontour": [
           {
            "colorbar": {
             "outlinewidth": 0,
             "ticks": ""
            },
            "colorscale": [
             [
              0,
              "#0d0887"
             ],
             [
              0.1111111111111111,
              "#46039f"
             ],
             [
              0.2222222222222222,
              "#7201a8"
             ],
             [
              0.3333333333333333,
              "#9c179e"
             ],
             [
              0.4444444444444444,
              "#bd3786"
             ],
             [
              0.5555555555555556,
              "#d8576b"
             ],
             [
              0.6666666666666666,
              "#ed7953"
             ],
             [
              0.7777777777777778,
              "#fb9f3a"
             ],
             [
              0.8888888888888888,
              "#fdca26"
             ],
             [
              1,
              "#f0f921"
             ]
            ],
            "type": "histogram2dcontour"
           }
          ],
          "mesh3d": [
           {
            "colorbar": {
             "outlinewidth": 0,
             "ticks": ""
            },
            "type": "mesh3d"
           }
          ],
          "parcoords": [
           {
            "line": {
             "colorbar": {
              "outlinewidth": 0,
              "ticks": ""
             }
            },
            "type": "parcoords"
           }
          ],
          "pie": [
           {
            "automargin": true,
            "type": "pie"
           }
          ],
          "scatter": [
           {
            "marker": {
             "colorbar": {
              "outlinewidth": 0,
              "ticks": ""
             }
            },
            "type": "scatter"
           }
          ],
          "scatter3d": [
           {
            "line": {
             "colorbar": {
              "outlinewidth": 0,
              "ticks": ""
             }
            },
            "marker": {
             "colorbar": {
              "outlinewidth": 0,
              "ticks": ""
             }
            },
            "type": "scatter3d"
           }
          ],
          "scattercarpet": [
           {
            "marker": {
             "colorbar": {
              "outlinewidth": 0,
              "ticks": ""
             }
            },
            "type": "scattercarpet"
           }
          ],
          "scattergeo": [
           {
            "marker": {
             "colorbar": {
              "outlinewidth": 0,
              "ticks": ""
             }
            },
            "type": "scattergeo"
           }
          ],
          "scattergl": [
           {
            "marker": {
             "colorbar": {
              "outlinewidth": 0,
              "ticks": ""
             }
            },
            "type": "scattergl"
           }
          ],
          "scattermapbox": [
           {
            "marker": {
             "colorbar": {
              "outlinewidth": 0,
              "ticks": ""
             }
            },
            "type": "scattermapbox"
           }
          ],
          "scatterpolar": [
           {
            "marker": {
             "colorbar": {
              "outlinewidth": 0,
              "ticks": ""
             }
            },
            "type": "scatterpolar"
           }
          ],
          "scatterpolargl": [
           {
            "marker": {
             "colorbar": {
              "outlinewidth": 0,
              "ticks": ""
             }
            },
            "type": "scatterpolargl"
           }
          ],
          "scatterternary": [
           {
            "marker": {
             "colorbar": {
              "outlinewidth": 0,
              "ticks": ""
             }
            },
            "type": "scatterternary"
           }
          ],
          "surface": [
           {
            "colorbar": {
             "outlinewidth": 0,
             "ticks": ""
            },
            "colorscale": [
             [
              0,
              "#0d0887"
             ],
             [
              0.1111111111111111,
              "#46039f"
             ],
             [
              0.2222222222222222,
              "#7201a8"
             ],
             [
              0.3333333333333333,
              "#9c179e"
             ],
             [
              0.4444444444444444,
              "#bd3786"
             ],
             [
              0.5555555555555556,
              "#d8576b"
             ],
             [
              0.6666666666666666,
              "#ed7953"
             ],
             [
              0.7777777777777778,
              "#fb9f3a"
             ],
             [
              0.8888888888888888,
              "#fdca26"
             ],
             [
              1,
              "#f0f921"
             ]
            ],
            "type": "surface"
           }
          ],
          "table": [
           {
            "cells": {
             "fill": {
              "color": "#EBF0F8"
             },
             "line": {
              "color": "white"
             }
            },
            "header": {
             "fill": {
              "color": "#C8D4E3"
             },
             "line": {
              "color": "white"
             }
            },
            "type": "table"
           }
          ]
         },
         "layout": {
          "annotationdefaults": {
           "arrowcolor": "#2a3f5f",
           "arrowhead": 0,
           "arrowwidth": 1
          },
          "coloraxis": {
           "colorbar": {
            "outlinewidth": 0,
            "ticks": ""
           }
          },
          "colorscale": {
           "diverging": [
            [
             0,
             "#8e0152"
            ],
            [
             0.1,
             "#c51b7d"
            ],
            [
             0.2,
             "#de77ae"
            ],
            [
             0.3,
             "#f1b6da"
            ],
            [
             0.4,
             "#fde0ef"
            ],
            [
             0.5,
             "#f7f7f7"
            ],
            [
             0.6,
             "#e6f5d0"
            ],
            [
             0.7,
             "#b8e186"
            ],
            [
             0.8,
             "#7fbc41"
            ],
            [
             0.9,
             "#4d9221"
            ],
            [
             1,
             "#276419"
            ]
           ],
           "sequential": [
            [
             0,
             "#0d0887"
            ],
            [
             0.1111111111111111,
             "#46039f"
            ],
            [
             0.2222222222222222,
             "#7201a8"
            ],
            [
             0.3333333333333333,
             "#9c179e"
            ],
            [
             0.4444444444444444,
             "#bd3786"
            ],
            [
             0.5555555555555556,
             "#d8576b"
            ],
            [
             0.6666666666666666,
             "#ed7953"
            ],
            [
             0.7777777777777778,
             "#fb9f3a"
            ],
            [
             0.8888888888888888,
             "#fdca26"
            ],
            [
             1,
             "#f0f921"
            ]
           ],
           "sequentialminus": [
            [
             0,
             "#0d0887"
            ],
            [
             0.1111111111111111,
             "#46039f"
            ],
            [
             0.2222222222222222,
             "#7201a8"
            ],
            [
             0.3333333333333333,
             "#9c179e"
            ],
            [
             0.4444444444444444,
             "#bd3786"
            ],
            [
             0.5555555555555556,
             "#d8576b"
            ],
            [
             0.6666666666666666,
             "#ed7953"
            ],
            [
             0.7777777777777778,
             "#fb9f3a"
            ],
            [
             0.8888888888888888,
             "#fdca26"
            ],
            [
             1,
             "#f0f921"
            ]
           ]
          },
          "colorway": [
           "#636efa",
           "#EF553B",
           "#00cc96",
           "#ab63fa",
           "#FFA15A",
           "#19d3f3",
           "#FF6692",
           "#B6E880",
           "#FF97FF",
           "#FECB52"
          ],
          "font": {
           "color": "#2a3f5f"
          },
          "geo": {
           "bgcolor": "white",
           "lakecolor": "white",
           "landcolor": "#E5ECF6",
           "showlakes": true,
           "showland": true,
           "subunitcolor": "white"
          },
          "hoverlabel": {
           "align": "left"
          },
          "hovermode": "closest",
          "mapbox": {
           "style": "light"
          },
          "paper_bgcolor": "white",
          "plot_bgcolor": "#E5ECF6",
          "polar": {
           "angularaxis": {
            "gridcolor": "white",
            "linecolor": "white",
            "ticks": ""
           },
           "bgcolor": "#E5ECF6",
           "radialaxis": {
            "gridcolor": "white",
            "linecolor": "white",
            "ticks": ""
           }
          },
          "scene": {
           "xaxis": {
            "backgroundcolor": "#E5ECF6",
            "gridcolor": "white",
            "gridwidth": 2,
            "linecolor": "white",
            "showbackground": true,
            "ticks": "",
            "zerolinecolor": "white"
           },
           "yaxis": {
            "backgroundcolor": "#E5ECF6",
            "gridcolor": "white",
            "gridwidth": 2,
            "linecolor": "white",
            "showbackground": true,
            "ticks": "",
            "zerolinecolor": "white"
           },
           "zaxis": {
            "backgroundcolor": "#E5ECF6",
            "gridcolor": "white",
            "gridwidth": 2,
            "linecolor": "white",
            "showbackground": true,
            "ticks": "",
            "zerolinecolor": "white"
           }
          },
          "shapedefaults": {
           "line": {
            "color": "#2a3f5f"
           }
          },
          "ternary": {
           "aaxis": {
            "gridcolor": "white",
            "linecolor": "white",
            "ticks": ""
           },
           "baxis": {
            "gridcolor": "white",
            "linecolor": "white",
            "ticks": ""
           },
           "bgcolor": "#E5ECF6",
           "caxis": {
            "gridcolor": "white",
            "linecolor": "white",
            "ticks": ""
           }
          },
          "title": {
           "x": 0.05
          },
          "xaxis": {
           "automargin": true,
           "gridcolor": "white",
           "linecolor": "white",
           "ticks": "",
           "title": {
            "standoff": 15
           },
           "zerolinecolor": "white",
           "zerolinewidth": 2
          },
          "yaxis": {
           "automargin": true,
           "gridcolor": "white",
           "linecolor": "white",
           "ticks": "",
           "title": {
            "standoff": 15
           },
           "zerolinecolor": "white",
           "zerolinewidth": 2
          }
         }
        },
        "title": {
         "font": {
          "color": "#4D5663"
         }
        },
        "xaxis": {
         "gridcolor": "#E1E5ED",
         "showgrid": true,
         "tickfont": {
          "color": "#4D5663"
         },
         "title": {
          "font": {
           "color": "#4D5663"
          },
          "text": ""
         },
         "zerolinecolor": "#E1E5ED"
        },
        "yaxis": {
         "gridcolor": "#E1E5ED",
         "showgrid": true,
         "tickfont": {
          "color": "#4D5663"
         },
         "title": {
          "font": {
           "color": "#4D5663"
          },
          "text": ""
         },
         "zerolinecolor": "#E1E5ED"
        }
       }
      },
      "text/html": [
       "<div>\n",
       "        \n",
       "        \n",
       "            <div id=\"3f768466-0b26-48d3-9001-6868921c30a5\" class=\"plotly-graph-div\" style=\"height:525px; width:100%;\"></div>\n",
       "            <script type=\"text/javascript\">\n",
       "                require([\"plotly\"], function(Plotly) {\n",
       "                    window.PLOTLYENV=window.PLOTLYENV || {};\n",
       "                    window.PLOTLYENV.BASE_URL='https://plot.ly';\n",
       "                    \n",
       "                if (document.getElementById(\"3f768466-0b26-48d3-9001-6868921c30a5\")) {\n",
       "                    Plotly.newPlot(\n",
       "                        '3f768466-0b26-48d3-9001-6868921c30a5',\n",
       "                        [{\"boxpoints\": false, \"line\": {\"width\": 1.3}, \"marker\": {\"color\": \"rgba(255, 153, 51, 1.0)\"}, \"name\": \"A\", \"orientation\": \"v\", \"type\": \"box\", \"y\": [-0.13775086430743813, -1.9933049229514477, -0.9545044762222105, 1.4014164640928737, -1.13192187578824, -1.3617171661286414, -0.9083961716634638, 1.3303928616547227, 0.8057925035002808, -0.6897784200723086, -2.0953961176504903, 0.4779895237770411, 0.7541183143416599, 1.0885380483057463, -1.9447575190926418, 0.9975927283186687, 0.5396244432324852, -0.42383547340641514, 0.7186773780770584, 2.6607077784921724, 0.5419253101691794, 0.48168350903181256, 0.00016683141743905627, -1.434810587490341, 0.7715714846893815, 0.7456802660196701, -0.36542221125466307, -1.0166942651772195, 0.3093832415310271, -1.3304186784288994, -0.38208893085136053, 1.070745280547997, -0.24166411883649572, 1.0156796479926795, 0.34835168994849247, -0.4191523215594431, 0.06173604008436236, -1.432936038291852, 0.3258606651601762, -1.349954164282741, -0.7095098045451561, 1.010145452103435, -1.1105120080278759, 0.21666021830827295, 0.05047695299247232, 1.6979340768084248, 0.4829406701478865, -0.09070487712543199, 0.8532304688136618, -0.8942411416717861, -0.42457176708669925, -1.5657072405052173, -0.17728663186775215, -0.907529302042309, 0.015237382008090744, 0.17182485828798016, -0.422959094891893, -0.7740227863443343, -1.0208775652388034, -0.6324799702992057, 0.10822694435312787, -0.3496517337932419, 0.33060914060953733, -1.0106999926023936, -0.7222417619394348, -0.5332812245676131, -0.776755834796644, 1.1941171480095443, 1.2686298712847948, -1.017278861018582, -1.1774948698526817, -0.4239516911089791, -0.3945051098098888, -1.360817658415006, -0.863416437132497, 0.7226579837082056, -1.071158632435797, -0.7010972899518247, 1.2145562514183765, -0.28080634140698185, 0.4366347441230707, 1.314812375540971, 1.5722102595136485, 2.3812552615192804, -1.0672037558626681, -0.053593780034868706, 0.5976597621802904, -0.5418992969522781, -0.8921719903625399, 0.32805956293816935, 0.8811900268496274, -0.6639785072700968, -0.4073355000059551, -0.5740298447265203, 0.033388134057522056, -1.3913553444512943, 0.20930846462947625, -1.8181242562227442, 0.20084981290816206, -0.8380964279862918]}, {\"boxpoints\": false, \"line\": {\"width\": 1.3}, \"marker\": {\"color\": \"rgba(55, 128, 191, 1.0)\"}, \"name\": \"B\", \"orientation\": \"v\", \"type\": \"box\", \"y\": [0.4867039677135526, 1.244047840402478, 2.3332257859437378, 1.689469317780753, 0.26600468702917085, -1.5534056582883649, -1.4715859849210289, -0.2044115131727728, 0.26871657375985414, -0.3422180501613123, -1.7735616597332367, -0.016933444517672404, -0.7293476753347374, -0.624452059783926, -1.2763146611944258, 1.2724287629354616, 0.3481211380276087, -1.0169552849327732, 0.10521745932772313, -0.6304304028436521, -0.5041196367567813, 0.3161120551419451, 0.7369874147128881, -1.0598247277896868, -0.18506125663662593, 0.810477229270296, -1.384807705451281, -0.8863863326525558, 0.9147353176181667, -0.5385833168165204, 0.23579161115875363, 1.3922065321592305, -0.029253693715969455, 0.9869678719055079, -0.8315582910357844, -0.15630658169048334, 0.3630713272506266, -0.5732445399171228, 0.6868772378242992, 1.1003303290999775, 0.18612995904760574, 0.6946198041945933, -2.365577687112027, 0.8905083947588157, 0.6373915150218937, -1.5590165623571386, -1.8099737250328467, 0.8187923807100435, -0.566006465230476, -0.2075092147286489, -1.5463956090468263, -0.2027034353912444, 0.6110919682579047, -0.4024096082165716, 0.1092393679292165, -1.549036721036476, -0.28602484732646627, -1.596958432253144, -1.2934586866600908, -0.4345286168661543, -0.6577383489380272, 0.7483943244863837, 1.079000643133668, -1.5546810209164317, -0.7525658730481593, 0.9060783055285099, -1.4556490922061072, 1.5641473539411717, 0.867404487903958, -0.7804546920722069, -0.2626463976382476, 1.0219316310317808, -0.940622822003576, -0.7058560462667333, 0.40742227057372776, -1.06757106950965, -0.7515626021053561, 2.1636224076620234, 0.286759747917996, -0.8385984718681364, -0.7641870886396996, -0.48373459403747987, 0.10528249278382575, -0.9632439023829252, 1.903457634504097, -0.16604985961639618, 0.5530277500259455, 0.0951366549917921, 0.10390345527482063, 0.12218714334909844, -1.1493425592465587, 0.5883479007961637, 0.23124416068370013, 1.0861293480045746, 1.2786656219423185, -0.10469047643119377, 0.664352682995852, -0.45585776757309304, -0.309786574014567, -1.1229610739076694]}, {\"boxpoints\": false, \"line\": {\"width\": 1.3}, \"marker\": {\"color\": \"rgba(50, 171, 96, 1.0)\"}, \"name\": \"C\", \"orientation\": \"v\", \"type\": \"box\", \"y\": [-1.13749315482382, 0.7653879229528251, 0.36353993423080283, -0.1264559329598941, 0.20902322993125227, 0.004425724623742667, -1.5809516932518117, 0.21132144886763912, -0.09207767881977709, -0.9986667851679848, 0.24249197845322157, -0.1670722755498319, -0.25989403824354784, -1.2128858047674451, -0.6066845874730094, 0.38747203527688656, 0.6703817625268776, 0.5893838408432945, -0.2515646505395043, 0.015830081332728074, 0.7518553601532176, -0.8279223222360815, 0.13447461632924104, 0.5038845288746462, -0.7991348009888153, -0.6017576901506447, -0.9471261239516784, -1.4158141594145313, 0.8046294420633452, -1.88418076448262, -0.7244974928743495, 0.8062482595739058, 1.468972588346329, -1.3065576529651353, 0.19761452884566194, -0.5142486337830402, -0.5366617937602675, 0.41674173632929223, 0.07040277780338344, 0.5867604556708543, -0.5307208193118907, 0.5532314718964406, 0.33618900518926537, -2.0316632223733553, 1.2037899892305588, 1.495760261609705, 0.9461871905850956, 0.4148510504342809, 1.2917872098988403, 0.038159176615340996, -0.7903494308684608, 0.8724093738391323, 0.5084019544516403, 1.6802366581185233, -0.03835829382367422, 0.8921323672959719, -3.1048789733083635, -0.9959838237283308, -1.4776596679815992, -1.6042472658044309, -0.898057711597044, -0.0014952871568699056, -0.060323124861548186, -1.5214938503202469, 0.5440691871580189, 1.7948911997294532, -2.3114850872544577, -1.2511453085315185, -0.9192439666370511, 1.3347845456976195, -2.7084887701278917, -0.6872683553989607, 0.1633739608597954, 0.7011899016772642, -0.43252875504230487, 0.4669155858262645, -1.3804452333866417, -0.7129946601176602, 1.1510291635751115, -0.37340888390995575, -0.7678549843810049, 1.4537991209345367, -1.6103328597013777, -0.08098437022756322, 0.04938978891788958, 0.8818090088558648, -0.4463209623346439, -0.05772006728779314, 0.2094643862383853, -0.788480693768257, -0.9700506115589369, -0.6309762622528706, -0.1496590724180059, -1.5557199092524507, 1.2173731944856414, -0.9646377814844951, 0.35472679974346744, 0.8580392133991638, -0.47948073381113515, -0.4451400361562025]}, {\"boxpoints\": false, \"line\": {\"width\": 1.3}, \"marker\": {\"color\": \"rgba(128, 0, 128, 1.0)\"}, \"name\": \"D\", \"orientation\": \"v\", \"type\": \"box\", \"y\": [-0.7047235523489176, 1.246993324176599, 0.1403089172780101, -0.4549420408995085, 0.06246430342814528, -0.0014477722750879122, 0.7173287158977242, 1.3939915546321147, -2.0722469934200163, 1.126921877025309, 1.1541613504362467, -1.1229505194346185, 1.217198074129629, -0.22721537044679177, 0.21435434921557553, -0.9376024029308394, -0.45691627457818557, -0.19797153024436692, -2.5355487909269643, -0.11762947145539833, 0.6199621320706129, 1.2091447197385286, -1.5780488351712234, -0.021510994529677023, -0.06212691573040214, -0.2559669080909139, -0.43365185916771815, -0.37165169246290414, 0.4001482227159277, -0.2808384077050134, 0.3200323481265974, 0.548912422765533, -2.3704572275044256, -0.3644523198278164, 0.039454027249712476, 1.0623529672146794, 0.7864934855343091, 0.7256637434622966, 0.6976639154125662, 1.4743878281038973, -2.0616148606854043, -0.2937432964169668, -0.3792343959203282, 0.576380223053573, -1.9159063740657722, 0.40713157217015117, -0.29436880522574765, -0.9394752185978784, 0.78876931567213, 0.8895989554239737, 1.5664726941314182, 0.48441540775546776, -3.0591518070458266, 2.3911231558435726, -1.4449033644934874, -1.3924275408123392, 0.17382197797757712, -0.5567243993245482, -0.08447779634123187, 0.4301868761448119, 1.2355330417977177, -0.5063159694727445, -0.8187281572673231, 1.6039646080964505, -0.2009598120941732, 2.8029560142061323, 0.2984548560518197, 0.8999436772220767, -1.7319802294637427, -1.3607715721374827, -0.3818650465129761, -0.24119446662667235, 0.49573677929622895, 0.37516568660625255, -1.3963206832653954, 0.08370478226323531, -0.802838008300142, 1.126644556541517, 0.2456983810060282, -0.31141590823350834, 0.14924592582376356, 0.0586862032747273, -0.8810342851515048, -0.5630394604053154, -1.0394141444088514, 1.5754312986766652, 1.080653351869836, -0.9897339047293988, 0.45902392135464376, -1.34379459005792, 0.987088063065103, -0.003852969120063484, 0.003105491270756242, 2.3288587458423207, -0.26636891054765377, -0.5588559210488281, -2.897762586549168, -0.9471056471452588, 0.58355518513356, 0.22462303171811882]}],\n",
       "                        {\"legend\": {\"bgcolor\": \"#F5F6F9\", \"font\": {\"color\": \"#4D5663\"}}, \"paper_bgcolor\": \"#F5F6F9\", \"plot_bgcolor\": \"#F5F6F9\", \"template\": {\"data\": {\"bar\": [{\"error_x\": {\"color\": \"#2a3f5f\"}, \"error_y\": {\"color\": \"#2a3f5f\"}, \"marker\": {\"line\": {\"color\": \"#E5ECF6\", \"width\": 0.5}}, \"type\": \"bar\"}], \"barpolar\": [{\"marker\": {\"line\": {\"color\": \"#E5ECF6\", \"width\": 0.5}}, \"type\": \"barpolar\"}], \"carpet\": [{\"aaxis\": {\"endlinecolor\": \"#2a3f5f\", \"gridcolor\": \"white\", \"linecolor\": \"white\", \"minorgridcolor\": \"white\", \"startlinecolor\": \"#2a3f5f\"}, \"baxis\": {\"endlinecolor\": \"#2a3f5f\", \"gridcolor\": \"white\", \"linecolor\": \"white\", \"minorgridcolor\": \"white\", \"startlinecolor\": \"#2a3f5f\"}, \"type\": \"carpet\"}], \"choropleth\": [{\"colorbar\": {\"outlinewidth\": 0, \"ticks\": \"\"}, \"type\": \"choropleth\"}], \"contour\": [{\"colorbar\": {\"outlinewidth\": 0, \"ticks\": \"\"}, \"colorscale\": [[0.0, \"#0d0887\"], [0.1111111111111111, \"#46039f\"], [0.2222222222222222, \"#7201a8\"], [0.3333333333333333, \"#9c179e\"], [0.4444444444444444, \"#bd3786\"], [0.5555555555555556, \"#d8576b\"], [0.6666666666666666, \"#ed7953\"], [0.7777777777777778, \"#fb9f3a\"], [0.8888888888888888, \"#fdca26\"], [1.0, \"#f0f921\"]], \"type\": \"contour\"}], \"contourcarpet\": [{\"colorbar\": {\"outlinewidth\": 0, \"ticks\": \"\"}, \"type\": \"contourcarpet\"}], \"heatmap\": [{\"colorbar\": {\"outlinewidth\": 0, \"ticks\": \"\"}, \"colorscale\": [[0.0, \"#0d0887\"], [0.1111111111111111, \"#46039f\"], [0.2222222222222222, \"#7201a8\"], [0.3333333333333333, \"#9c179e\"], [0.4444444444444444, \"#bd3786\"], [0.5555555555555556, \"#d8576b\"], [0.6666666666666666, \"#ed7953\"], [0.7777777777777778, \"#fb9f3a\"], [0.8888888888888888, \"#fdca26\"], [1.0, \"#f0f921\"]], \"type\": \"heatmap\"}], \"heatmapgl\": [{\"colorbar\": {\"outlinewidth\": 0, \"ticks\": \"\"}, \"colorscale\": [[0.0, \"#0d0887\"], [0.1111111111111111, \"#46039f\"], [0.2222222222222222, \"#7201a8\"], [0.3333333333333333, \"#9c179e\"], [0.4444444444444444, \"#bd3786\"], [0.5555555555555556, \"#d8576b\"], [0.6666666666666666, \"#ed7953\"], [0.7777777777777778, \"#fb9f3a\"], [0.8888888888888888, \"#fdca26\"], [1.0, \"#f0f921\"]], \"type\": \"heatmapgl\"}], \"histogram\": [{\"marker\": {\"colorbar\": {\"outlinewidth\": 0, \"ticks\": \"\"}}, \"type\": \"histogram\"}], \"histogram2d\": [{\"colorbar\": {\"outlinewidth\": 0, \"ticks\": \"\"}, \"colorscale\": [[0.0, \"#0d0887\"], [0.1111111111111111, \"#46039f\"], [0.2222222222222222, \"#7201a8\"], [0.3333333333333333, \"#9c179e\"], [0.4444444444444444, \"#bd3786\"], [0.5555555555555556, \"#d8576b\"], [0.6666666666666666, \"#ed7953\"], [0.7777777777777778, \"#fb9f3a\"], [0.8888888888888888, \"#fdca26\"], [1.0, \"#f0f921\"]], \"type\": \"histogram2d\"}], \"histogram2dcontour\": [{\"colorbar\": {\"outlinewidth\": 0, \"ticks\": \"\"}, \"colorscale\": [[0.0, \"#0d0887\"], [0.1111111111111111, \"#46039f\"], [0.2222222222222222, \"#7201a8\"], [0.3333333333333333, \"#9c179e\"], [0.4444444444444444, \"#bd3786\"], [0.5555555555555556, \"#d8576b\"], [0.6666666666666666, \"#ed7953\"], [0.7777777777777778, \"#fb9f3a\"], [0.8888888888888888, \"#fdca26\"], [1.0, \"#f0f921\"]], \"type\": \"histogram2dcontour\"}], \"mesh3d\": [{\"colorbar\": {\"outlinewidth\": 0, \"ticks\": \"\"}, \"type\": \"mesh3d\"}], \"parcoords\": [{\"line\": {\"colorbar\": {\"outlinewidth\": 0, \"ticks\": \"\"}}, \"type\": \"parcoords\"}], \"pie\": [{\"automargin\": true, \"type\": \"pie\"}], \"scatter\": [{\"marker\": {\"colorbar\": {\"outlinewidth\": 0, \"ticks\": \"\"}}, \"type\": \"scatter\"}], \"scatter3d\": [{\"line\": {\"colorbar\": {\"outlinewidth\": 0, \"ticks\": \"\"}}, \"marker\": {\"colorbar\": {\"outlinewidth\": 0, \"ticks\": \"\"}}, \"type\": \"scatter3d\"}], \"scattercarpet\": [{\"marker\": {\"colorbar\": {\"outlinewidth\": 0, \"ticks\": \"\"}}, \"type\": \"scattercarpet\"}], \"scattergeo\": [{\"marker\": {\"colorbar\": {\"outlinewidth\": 0, \"ticks\": \"\"}}, \"type\": \"scattergeo\"}], \"scattergl\": [{\"marker\": {\"colorbar\": {\"outlinewidth\": 0, \"ticks\": \"\"}}, \"type\": \"scattergl\"}], \"scattermapbox\": [{\"marker\": {\"colorbar\": {\"outlinewidth\": 0, \"ticks\": \"\"}}, \"type\": \"scattermapbox\"}], \"scatterpolar\": [{\"marker\": {\"colorbar\": {\"outlinewidth\": 0, \"ticks\": \"\"}}, \"type\": \"scatterpolar\"}], \"scatterpolargl\": [{\"marker\": {\"colorbar\": {\"outlinewidth\": 0, \"ticks\": \"\"}}, \"type\": \"scatterpolargl\"}], \"scatterternary\": [{\"marker\": {\"colorbar\": {\"outlinewidth\": 0, \"ticks\": \"\"}}, \"type\": \"scatterternary\"}], \"surface\": [{\"colorbar\": {\"outlinewidth\": 0, \"ticks\": \"\"}, \"colorscale\": [[0.0, \"#0d0887\"], [0.1111111111111111, \"#46039f\"], [0.2222222222222222, \"#7201a8\"], [0.3333333333333333, \"#9c179e\"], [0.4444444444444444, \"#bd3786\"], [0.5555555555555556, \"#d8576b\"], [0.6666666666666666, \"#ed7953\"], [0.7777777777777778, \"#fb9f3a\"], [0.8888888888888888, \"#fdca26\"], [1.0, \"#f0f921\"]], \"type\": \"surface\"}], \"table\": [{\"cells\": {\"fill\": {\"color\": \"#EBF0F8\"}, \"line\": {\"color\": \"white\"}}, \"header\": {\"fill\": {\"color\": \"#C8D4E3\"}, \"line\": {\"color\": \"white\"}}, \"type\": \"table\"}]}, \"layout\": {\"annotationdefaults\": {\"arrowcolor\": \"#2a3f5f\", \"arrowhead\": 0, \"arrowwidth\": 1}, \"coloraxis\": {\"colorbar\": {\"outlinewidth\": 0, \"ticks\": \"\"}}, \"colorscale\": {\"diverging\": [[0, \"#8e0152\"], [0.1, \"#c51b7d\"], [0.2, \"#de77ae\"], [0.3, \"#f1b6da\"], [0.4, \"#fde0ef\"], [0.5, \"#f7f7f7\"], [0.6, \"#e6f5d0\"], [0.7, \"#b8e186\"], [0.8, \"#7fbc41\"], [0.9, \"#4d9221\"], [1, \"#276419\"]], \"sequential\": [[0.0, \"#0d0887\"], [0.1111111111111111, \"#46039f\"], [0.2222222222222222, \"#7201a8\"], [0.3333333333333333, \"#9c179e\"], [0.4444444444444444, \"#bd3786\"], [0.5555555555555556, \"#d8576b\"], [0.6666666666666666, \"#ed7953\"], [0.7777777777777778, \"#fb9f3a\"], [0.8888888888888888, \"#fdca26\"], [1.0, \"#f0f921\"]], \"sequentialminus\": [[0.0, \"#0d0887\"], [0.1111111111111111, \"#46039f\"], [0.2222222222222222, \"#7201a8\"], [0.3333333333333333, \"#9c179e\"], [0.4444444444444444, \"#bd3786\"], [0.5555555555555556, \"#d8576b\"], [0.6666666666666666, \"#ed7953\"], [0.7777777777777778, \"#fb9f3a\"], [0.8888888888888888, \"#fdca26\"], [1.0, \"#f0f921\"]]}, \"colorway\": [\"#636efa\", \"#EF553B\", \"#00cc96\", \"#ab63fa\", \"#FFA15A\", \"#19d3f3\", \"#FF6692\", \"#B6E880\", \"#FF97FF\", \"#FECB52\"], \"font\": {\"color\": \"#2a3f5f\"}, \"geo\": {\"bgcolor\": \"white\", \"lakecolor\": \"white\", \"landcolor\": \"#E5ECF6\", \"showlakes\": true, \"showland\": true, \"subunitcolor\": \"white\"}, \"hoverlabel\": {\"align\": \"left\"}, \"hovermode\": \"closest\", \"mapbox\": {\"style\": \"light\"}, \"paper_bgcolor\": \"white\", \"plot_bgcolor\": \"#E5ECF6\", \"polar\": {\"angularaxis\": {\"gridcolor\": \"white\", \"linecolor\": \"white\", \"ticks\": \"\"}, \"bgcolor\": \"#E5ECF6\", \"radialaxis\": {\"gridcolor\": \"white\", \"linecolor\": \"white\", \"ticks\": \"\"}}, \"scene\": {\"xaxis\": {\"backgroundcolor\": \"#E5ECF6\", \"gridcolor\": \"white\", \"gridwidth\": 2, \"linecolor\": \"white\", \"showbackground\": true, \"ticks\": \"\", \"zerolinecolor\": \"white\"}, \"yaxis\": {\"backgroundcolor\": \"#E5ECF6\", \"gridcolor\": \"white\", \"gridwidth\": 2, \"linecolor\": \"white\", \"showbackground\": true, \"ticks\": \"\", \"zerolinecolor\": \"white\"}, \"zaxis\": {\"backgroundcolor\": \"#E5ECF6\", \"gridcolor\": \"white\", \"gridwidth\": 2, \"linecolor\": \"white\", \"showbackground\": true, \"ticks\": \"\", \"zerolinecolor\": \"white\"}}, \"shapedefaults\": {\"line\": {\"color\": \"#2a3f5f\"}}, \"ternary\": {\"aaxis\": {\"gridcolor\": \"white\", \"linecolor\": \"white\", \"ticks\": \"\"}, \"baxis\": {\"gridcolor\": \"white\", \"linecolor\": \"white\", \"ticks\": \"\"}, \"bgcolor\": \"#E5ECF6\", \"caxis\": {\"gridcolor\": \"white\", \"linecolor\": \"white\", \"ticks\": \"\"}}, \"title\": {\"x\": 0.05}, \"xaxis\": {\"automargin\": true, \"gridcolor\": \"white\", \"linecolor\": \"white\", \"ticks\": \"\", \"title\": {\"standoff\": 15}, \"zerolinecolor\": \"white\", \"zerolinewidth\": 2}, \"yaxis\": {\"automargin\": true, \"gridcolor\": \"white\", \"linecolor\": \"white\", \"ticks\": \"\", \"title\": {\"standoff\": 15}, \"zerolinecolor\": \"white\", \"zerolinewidth\": 2}}}, \"title\": {\"font\": {\"color\": \"#4D5663\"}}, \"xaxis\": {\"gridcolor\": \"#E1E5ED\", \"showgrid\": true, \"tickfont\": {\"color\": \"#4D5663\"}, \"title\": {\"font\": {\"color\": \"#4D5663\"}, \"text\": \"\"}, \"zerolinecolor\": \"#E1E5ED\"}, \"yaxis\": {\"gridcolor\": \"#E1E5ED\", \"showgrid\": true, \"tickfont\": {\"color\": \"#4D5663\"}, \"title\": {\"font\": {\"color\": \"#4D5663\"}, \"text\": \"\"}, \"zerolinecolor\": \"#E1E5ED\"}},\n",
       "                        {\"showLink\": true, \"linkText\": \"Export to plot.ly\", \"plotlyServerURL\": \"https://plot.ly\", \"responsive\": true}\n",
       "                    ).then(function(){\n",
       "                            \n",
       "var gd = document.getElementById('3f768466-0b26-48d3-9001-6868921c30a5');\n",
       "var x = new MutationObserver(function (mutations, observer) {{\n",
       "        var display = window.getComputedStyle(gd).display;\n",
       "        if (!display || display === 'none') {{\n",
       "            console.log([gd, 'removed!']);\n",
       "            Plotly.purge(gd);\n",
       "            observer.disconnect();\n",
       "        }}\n",
       "}});\n",
       "\n",
       "// Listen for the removal of the full notebook cells\n",
       "var notebookContainer = gd.closest('#notebook-container');\n",
       "if (notebookContainer) {{\n",
       "    x.observe(notebookContainer, {childList: true});\n",
       "}}\n",
       "\n",
       "// Listen for the clearing of the current output cell\n",
       "var outputEl = gd.closest('.output');\n",
       "if (outputEl) {{\n",
       "    x.observe(outputEl, {childList: true});\n",
       "}}\n",
       "\n",
       "                        })\n",
       "                };\n",
       "                });\n",
       "            </script>\n",
       "        </div>"
      ]
     },
     "metadata": {},
     "output_type": "display_data"
    }
   ],
   "source": [
    "df.iplot(kind='box')"
   ]
  },
  {
   "cell_type": "markdown",
   "metadata": {},
   "source": [
    "## 3d Surface"
   ]
  },
  {
   "cell_type": "code",
   "execution_count": 20,
   "metadata": {},
   "outputs": [
    {
     "data": {
      "application/vnd.plotly.v1+json": {
       "config": {
        "linkText": "Export to plot.ly",
        "plotlyServerURL": "https://plot.ly",
        "showLink": true
       },
       "data": [
        {
         "colorscale": [
          [
           0,
           "rgb(165,0,38)"
          ],
          [
           0.1,
           "rgb(215,48,39)"
          ],
          [
           0.2,
           "rgb(244,109,67)"
          ],
          [
           0.3,
           "rgb(253,174,97)"
          ],
          [
           0.4,
           "rgb(254,224,144)"
          ],
          [
           0.5,
           "rgb(255,255,191)"
          ],
          [
           0.6,
           "rgb(224,243,248)"
          ],
          [
           0.7,
           "rgb(171,217,233)"
          ],
          [
           0.8,
           "rgb(116,173,209)"
          ],
          [
           0.9,
           "rgb(69,117,180)"
          ],
          [
           1,
           "rgb(49,54,149)"
          ]
         ],
         "type": "surface",
         "x": [
          0,
          1,
          2,
          3,
          4
         ],
         "y": [
          "x",
          "y",
          "z"
         ],
         "z": [
          [
           1,
           2,
           3,
           4,
           5
          ],
          [
           10,
           20,
           30,
           20,
           10
          ],
          [
           5,
           4,
           3,
           2,
           1
          ]
         ]
        }
       ],
       "layout": {
        "legend": {
         "bgcolor": "#F5F6F9",
         "font": {
          "color": "#4D5663"
         }
        },
        "paper_bgcolor": "#F5F6F9",
        "plot_bgcolor": "#F5F6F9",
        "template": {
         "data": {
          "bar": [
           {
            "error_x": {
             "color": "#2a3f5f"
            },
            "error_y": {
             "color": "#2a3f5f"
            },
            "marker": {
             "line": {
              "color": "#E5ECF6",
              "width": 0.5
             }
            },
            "type": "bar"
           }
          ],
          "barpolar": [
           {
            "marker": {
             "line": {
              "color": "#E5ECF6",
              "width": 0.5
             }
            },
            "type": "barpolar"
           }
          ],
          "carpet": [
           {
            "aaxis": {
             "endlinecolor": "#2a3f5f",
             "gridcolor": "white",
             "linecolor": "white",
             "minorgridcolor": "white",
             "startlinecolor": "#2a3f5f"
            },
            "baxis": {
             "endlinecolor": "#2a3f5f",
             "gridcolor": "white",
             "linecolor": "white",
             "minorgridcolor": "white",
             "startlinecolor": "#2a3f5f"
            },
            "type": "carpet"
           }
          ],
          "choropleth": [
           {
            "colorbar": {
             "outlinewidth": 0,
             "ticks": ""
            },
            "type": "choropleth"
           }
          ],
          "contour": [
           {
            "colorbar": {
             "outlinewidth": 0,
             "ticks": ""
            },
            "colorscale": [
             [
              0,
              "#0d0887"
             ],
             [
              0.1111111111111111,
              "#46039f"
             ],
             [
              0.2222222222222222,
              "#7201a8"
             ],
             [
              0.3333333333333333,
              "#9c179e"
             ],
             [
              0.4444444444444444,
              "#bd3786"
             ],
             [
              0.5555555555555556,
              "#d8576b"
             ],
             [
              0.6666666666666666,
              "#ed7953"
             ],
             [
              0.7777777777777778,
              "#fb9f3a"
             ],
             [
              0.8888888888888888,
              "#fdca26"
             ],
             [
              1,
              "#f0f921"
             ]
            ],
            "type": "contour"
           }
          ],
          "contourcarpet": [
           {
            "colorbar": {
             "outlinewidth": 0,
             "ticks": ""
            },
            "type": "contourcarpet"
           }
          ],
          "heatmap": [
           {
            "colorbar": {
             "outlinewidth": 0,
             "ticks": ""
            },
            "colorscale": [
             [
              0,
              "#0d0887"
             ],
             [
              0.1111111111111111,
              "#46039f"
             ],
             [
              0.2222222222222222,
              "#7201a8"
             ],
             [
              0.3333333333333333,
              "#9c179e"
             ],
             [
              0.4444444444444444,
              "#bd3786"
             ],
             [
              0.5555555555555556,
              "#d8576b"
             ],
             [
              0.6666666666666666,
              "#ed7953"
             ],
             [
              0.7777777777777778,
              "#fb9f3a"
             ],
             [
              0.8888888888888888,
              "#fdca26"
             ],
             [
              1,
              "#f0f921"
             ]
            ],
            "type": "heatmap"
           }
          ],
          "heatmapgl": [
           {
            "colorbar": {
             "outlinewidth": 0,
             "ticks": ""
            },
            "colorscale": [
             [
              0,
              "#0d0887"
             ],
             [
              0.1111111111111111,
              "#46039f"
             ],
             [
              0.2222222222222222,
              "#7201a8"
             ],
             [
              0.3333333333333333,
              "#9c179e"
             ],
             [
              0.4444444444444444,
              "#bd3786"
             ],
             [
              0.5555555555555556,
              "#d8576b"
             ],
             [
              0.6666666666666666,
              "#ed7953"
             ],
             [
              0.7777777777777778,
              "#fb9f3a"
             ],
             [
              0.8888888888888888,
              "#fdca26"
             ],
             [
              1,
              "#f0f921"
             ]
            ],
            "type": "heatmapgl"
           }
          ],
          "histogram": [
           {
            "marker": {
             "colorbar": {
              "outlinewidth": 0,
              "ticks": ""
             }
            },
            "type": "histogram"
           }
          ],
          "histogram2d": [
           {
            "colorbar": {
             "outlinewidth": 0,
             "ticks": ""
            },
            "colorscale": [
             [
              0,
              "#0d0887"
             ],
             [
              0.1111111111111111,
              "#46039f"
             ],
             [
              0.2222222222222222,
              "#7201a8"
             ],
             [
              0.3333333333333333,
              "#9c179e"
             ],
             [
              0.4444444444444444,
              "#bd3786"
             ],
             [
              0.5555555555555556,
              "#d8576b"
             ],
             [
              0.6666666666666666,
              "#ed7953"
             ],
             [
              0.7777777777777778,
              "#fb9f3a"
             ],
             [
              0.8888888888888888,
              "#fdca26"
             ],
             [
              1,
              "#f0f921"
             ]
            ],
            "type": "histogram2d"
           }
          ],
          "histogram2dcontour": [
           {
            "colorbar": {
             "outlinewidth": 0,
             "ticks": ""
            },
            "colorscale": [
             [
              0,
              "#0d0887"
             ],
             [
              0.1111111111111111,
              "#46039f"
             ],
             [
              0.2222222222222222,
              "#7201a8"
             ],
             [
              0.3333333333333333,
              "#9c179e"
             ],
             [
              0.4444444444444444,
              "#bd3786"
             ],
             [
              0.5555555555555556,
              "#d8576b"
             ],
             [
              0.6666666666666666,
              "#ed7953"
             ],
             [
              0.7777777777777778,
              "#fb9f3a"
             ],
             [
              0.8888888888888888,
              "#fdca26"
             ],
             [
              1,
              "#f0f921"
             ]
            ],
            "type": "histogram2dcontour"
           }
          ],
          "mesh3d": [
           {
            "colorbar": {
             "outlinewidth": 0,
             "ticks": ""
            },
            "type": "mesh3d"
           }
          ],
          "parcoords": [
           {
            "line": {
             "colorbar": {
              "outlinewidth": 0,
              "ticks": ""
             }
            },
            "type": "parcoords"
           }
          ],
          "pie": [
           {
            "automargin": true,
            "type": "pie"
           }
          ],
          "scatter": [
           {
            "marker": {
             "colorbar": {
              "outlinewidth": 0,
              "ticks": ""
             }
            },
            "type": "scatter"
           }
          ],
          "scatter3d": [
           {
            "line": {
             "colorbar": {
              "outlinewidth": 0,
              "ticks": ""
             }
            },
            "marker": {
             "colorbar": {
              "outlinewidth": 0,
              "ticks": ""
             }
            },
            "type": "scatter3d"
           }
          ],
          "scattercarpet": [
           {
            "marker": {
             "colorbar": {
              "outlinewidth": 0,
              "ticks": ""
             }
            },
            "type": "scattercarpet"
           }
          ],
          "scattergeo": [
           {
            "marker": {
             "colorbar": {
              "outlinewidth": 0,
              "ticks": ""
             }
            },
            "type": "scattergeo"
           }
          ],
          "scattergl": [
           {
            "marker": {
             "colorbar": {
              "outlinewidth": 0,
              "ticks": ""
             }
            },
            "type": "scattergl"
           }
          ],
          "scattermapbox": [
           {
            "marker": {
             "colorbar": {
              "outlinewidth": 0,
              "ticks": ""
             }
            },
            "type": "scattermapbox"
           }
          ],
          "scatterpolar": [
           {
            "marker": {
             "colorbar": {
              "outlinewidth": 0,
              "ticks": ""
             }
            },
            "type": "scatterpolar"
           }
          ],
          "scatterpolargl": [
           {
            "marker": {
             "colorbar": {
              "outlinewidth": 0,
              "ticks": ""
             }
            },
            "type": "scatterpolargl"
           }
          ],
          "scatterternary": [
           {
            "marker": {
             "colorbar": {
              "outlinewidth": 0,
              "ticks": ""
             }
            },
            "type": "scatterternary"
           }
          ],
          "surface": [
           {
            "colorbar": {
             "outlinewidth": 0,
             "ticks": ""
            },
            "colorscale": [
             [
              0,
              "#0d0887"
             ],
             [
              0.1111111111111111,
              "#46039f"
             ],
             [
              0.2222222222222222,
              "#7201a8"
             ],
             [
              0.3333333333333333,
              "#9c179e"
             ],
             [
              0.4444444444444444,
              "#bd3786"
             ],
             [
              0.5555555555555556,
              "#d8576b"
             ],
             [
              0.6666666666666666,
              "#ed7953"
             ],
             [
              0.7777777777777778,
              "#fb9f3a"
             ],
             [
              0.8888888888888888,
              "#fdca26"
             ],
             [
              1,
              "#f0f921"
             ]
            ],
            "type": "surface"
           }
          ],
          "table": [
           {
            "cells": {
             "fill": {
              "color": "#EBF0F8"
             },
             "line": {
              "color": "white"
             }
            },
            "header": {
             "fill": {
              "color": "#C8D4E3"
             },
             "line": {
              "color": "white"
             }
            },
            "type": "table"
           }
          ]
         },
         "layout": {
          "annotationdefaults": {
           "arrowcolor": "#2a3f5f",
           "arrowhead": 0,
           "arrowwidth": 1
          },
          "coloraxis": {
           "colorbar": {
            "outlinewidth": 0,
            "ticks": ""
           }
          },
          "colorscale": {
           "diverging": [
            [
             0,
             "#8e0152"
            ],
            [
             0.1,
             "#c51b7d"
            ],
            [
             0.2,
             "#de77ae"
            ],
            [
             0.3,
             "#f1b6da"
            ],
            [
             0.4,
             "#fde0ef"
            ],
            [
             0.5,
             "#f7f7f7"
            ],
            [
             0.6,
             "#e6f5d0"
            ],
            [
             0.7,
             "#b8e186"
            ],
            [
             0.8,
             "#7fbc41"
            ],
            [
             0.9,
             "#4d9221"
            ],
            [
             1,
             "#276419"
            ]
           ],
           "sequential": [
            [
             0,
             "#0d0887"
            ],
            [
             0.1111111111111111,
             "#46039f"
            ],
            [
             0.2222222222222222,
             "#7201a8"
            ],
            [
             0.3333333333333333,
             "#9c179e"
            ],
            [
             0.4444444444444444,
             "#bd3786"
            ],
            [
             0.5555555555555556,
             "#d8576b"
            ],
            [
             0.6666666666666666,
             "#ed7953"
            ],
            [
             0.7777777777777778,
             "#fb9f3a"
            ],
            [
             0.8888888888888888,
             "#fdca26"
            ],
            [
             1,
             "#f0f921"
            ]
           ],
           "sequentialminus": [
            [
             0,
             "#0d0887"
            ],
            [
             0.1111111111111111,
             "#46039f"
            ],
            [
             0.2222222222222222,
             "#7201a8"
            ],
            [
             0.3333333333333333,
             "#9c179e"
            ],
            [
             0.4444444444444444,
             "#bd3786"
            ],
            [
             0.5555555555555556,
             "#d8576b"
            ],
            [
             0.6666666666666666,
             "#ed7953"
            ],
            [
             0.7777777777777778,
             "#fb9f3a"
            ],
            [
             0.8888888888888888,
             "#fdca26"
            ],
            [
             1,
             "#f0f921"
            ]
           ]
          },
          "colorway": [
           "#636efa",
           "#EF553B",
           "#00cc96",
           "#ab63fa",
           "#FFA15A",
           "#19d3f3",
           "#FF6692",
           "#B6E880",
           "#FF97FF",
           "#FECB52"
          ],
          "font": {
           "color": "#2a3f5f"
          },
          "geo": {
           "bgcolor": "white",
           "lakecolor": "white",
           "landcolor": "#E5ECF6",
           "showlakes": true,
           "showland": true,
           "subunitcolor": "white"
          },
          "hoverlabel": {
           "align": "left"
          },
          "hovermode": "closest",
          "mapbox": {
           "style": "light"
          },
          "paper_bgcolor": "white",
          "plot_bgcolor": "#E5ECF6",
          "polar": {
           "angularaxis": {
            "gridcolor": "white",
            "linecolor": "white",
            "ticks": ""
           },
           "bgcolor": "#E5ECF6",
           "radialaxis": {
            "gridcolor": "white",
            "linecolor": "white",
            "ticks": ""
           }
          },
          "scene": {
           "xaxis": {
            "backgroundcolor": "#E5ECF6",
            "gridcolor": "white",
            "gridwidth": 2,
            "linecolor": "white",
            "showbackground": true,
            "ticks": "",
            "zerolinecolor": "white"
           },
           "yaxis": {
            "backgroundcolor": "#E5ECF6",
            "gridcolor": "white",
            "gridwidth": 2,
            "linecolor": "white",
            "showbackground": true,
            "ticks": "",
            "zerolinecolor": "white"
           },
           "zaxis": {
            "backgroundcolor": "#E5ECF6",
            "gridcolor": "white",
            "gridwidth": 2,
            "linecolor": "white",
            "showbackground": true,
            "ticks": "",
            "zerolinecolor": "white"
           }
          },
          "shapedefaults": {
           "line": {
            "color": "#2a3f5f"
           }
          },
          "ternary": {
           "aaxis": {
            "gridcolor": "white",
            "linecolor": "white",
            "ticks": ""
           },
           "baxis": {
            "gridcolor": "white",
            "linecolor": "white",
            "ticks": ""
           },
           "bgcolor": "#E5ECF6",
           "caxis": {
            "gridcolor": "white",
            "linecolor": "white",
            "ticks": ""
           }
          },
          "title": {
           "x": 0.05
          },
          "xaxis": {
           "automargin": true,
           "gridcolor": "white",
           "linecolor": "white",
           "ticks": "",
           "title": {
            "standoff": 15
           },
           "zerolinecolor": "white",
           "zerolinewidth": 2
          },
          "yaxis": {
           "automargin": true,
           "gridcolor": "white",
           "linecolor": "white",
           "ticks": "",
           "title": {
            "standoff": 15
           },
           "zerolinecolor": "white",
           "zerolinewidth": 2
          }
         }
        },
        "title": {
         "font": {
          "color": "#4D5663"
         }
        },
        "xaxis": {
         "gridcolor": "#E1E5ED",
         "showgrid": true,
         "tickfont": {
          "color": "#4D5663"
         },
         "title": {
          "font": {
           "color": "#4D5663"
          },
          "text": ""
         },
         "zerolinecolor": "#E1E5ED"
        },
        "yaxis": {
         "gridcolor": "#E1E5ED",
         "showgrid": true,
         "tickfont": {
          "color": "#4D5663"
         },
         "title": {
          "font": {
           "color": "#4D5663"
          },
          "text": ""
         },
         "zerolinecolor": "#E1E5ED"
        }
       }
      },
      "text/html": [
       "<div>\n",
       "        \n",
       "        \n",
       "            <div id=\"9d88d789-7a09-4a83-beac-ae151e9a4bdd\" class=\"plotly-graph-div\" style=\"height:525px; width:100%;\"></div>\n",
       "            <script type=\"text/javascript\">\n",
       "                require([\"plotly\"], function(Plotly) {\n",
       "                    window.PLOTLYENV=window.PLOTLYENV || {};\n",
       "                    window.PLOTLYENV.BASE_URL='https://plot.ly';\n",
       "                    \n",
       "                if (document.getElementById(\"9d88d789-7a09-4a83-beac-ae151e9a4bdd\")) {\n",
       "                    Plotly.newPlot(\n",
       "                        '9d88d789-7a09-4a83-beac-ae151e9a4bdd',\n",
       "                        [{\"colorscale\": [[0.0, \"rgb(165,0,38)\"], [0.1, \"rgb(215,48,39)\"], [0.2, \"rgb(244,109,67)\"], [0.3, \"rgb(253,174,97)\"], [0.4, \"rgb(254,224,144)\"], [0.5, \"rgb(255,255,191)\"], [0.6, \"rgb(224,243,248)\"], [0.7, \"rgb(171,217,233)\"], [0.8, \"rgb(116,173,209)\"], [0.9, \"rgb(69,117,180)\"], [1.0, \"rgb(49,54,149)\"]], \"type\": \"surface\", \"x\": [0, 1, 2, 3, 4], \"y\": [\"x\", \"y\", \"z\"], \"z\": [[1, 2, 3, 4, 5], [10, 20, 30, 20, 10], [5, 4, 3, 2, 1]]}],\n",
       "                        {\"legend\": {\"bgcolor\": \"#F5F6F9\", \"font\": {\"color\": \"#4D5663\"}}, \"paper_bgcolor\": \"#F5F6F9\", \"plot_bgcolor\": \"#F5F6F9\", \"template\": {\"data\": {\"bar\": [{\"error_x\": {\"color\": \"#2a3f5f\"}, \"error_y\": {\"color\": \"#2a3f5f\"}, \"marker\": {\"line\": {\"color\": \"#E5ECF6\", \"width\": 0.5}}, \"type\": \"bar\"}], \"barpolar\": [{\"marker\": {\"line\": {\"color\": \"#E5ECF6\", \"width\": 0.5}}, \"type\": \"barpolar\"}], \"carpet\": [{\"aaxis\": {\"endlinecolor\": \"#2a3f5f\", \"gridcolor\": \"white\", \"linecolor\": \"white\", \"minorgridcolor\": \"white\", \"startlinecolor\": \"#2a3f5f\"}, \"baxis\": {\"endlinecolor\": \"#2a3f5f\", \"gridcolor\": \"white\", \"linecolor\": \"white\", \"minorgridcolor\": \"white\", \"startlinecolor\": \"#2a3f5f\"}, \"type\": \"carpet\"}], \"choropleth\": [{\"colorbar\": {\"outlinewidth\": 0, \"ticks\": \"\"}, \"type\": \"choropleth\"}], \"contour\": [{\"colorbar\": {\"outlinewidth\": 0, \"ticks\": \"\"}, \"colorscale\": [[0.0, \"#0d0887\"], [0.1111111111111111, \"#46039f\"], [0.2222222222222222, \"#7201a8\"], [0.3333333333333333, \"#9c179e\"], [0.4444444444444444, \"#bd3786\"], [0.5555555555555556, \"#d8576b\"], [0.6666666666666666, \"#ed7953\"], [0.7777777777777778, \"#fb9f3a\"], [0.8888888888888888, \"#fdca26\"], [1.0, \"#f0f921\"]], \"type\": \"contour\"}], \"contourcarpet\": [{\"colorbar\": {\"outlinewidth\": 0, \"ticks\": \"\"}, \"type\": \"contourcarpet\"}], \"heatmap\": [{\"colorbar\": {\"outlinewidth\": 0, \"ticks\": \"\"}, \"colorscale\": [[0.0, \"#0d0887\"], [0.1111111111111111, \"#46039f\"], [0.2222222222222222, \"#7201a8\"], [0.3333333333333333, \"#9c179e\"], [0.4444444444444444, \"#bd3786\"], [0.5555555555555556, \"#d8576b\"], [0.6666666666666666, \"#ed7953\"], [0.7777777777777778, \"#fb9f3a\"], [0.8888888888888888, \"#fdca26\"], [1.0, \"#f0f921\"]], \"type\": \"heatmap\"}], \"heatmapgl\": [{\"colorbar\": {\"outlinewidth\": 0, \"ticks\": \"\"}, \"colorscale\": [[0.0, \"#0d0887\"], [0.1111111111111111, \"#46039f\"], [0.2222222222222222, \"#7201a8\"], [0.3333333333333333, \"#9c179e\"], [0.4444444444444444, \"#bd3786\"], [0.5555555555555556, \"#d8576b\"], [0.6666666666666666, \"#ed7953\"], [0.7777777777777778, \"#fb9f3a\"], [0.8888888888888888, \"#fdca26\"], [1.0, \"#f0f921\"]], \"type\": \"heatmapgl\"}], \"histogram\": [{\"marker\": {\"colorbar\": {\"outlinewidth\": 0, \"ticks\": \"\"}}, \"type\": \"histogram\"}], \"histogram2d\": [{\"colorbar\": {\"outlinewidth\": 0, \"ticks\": \"\"}, \"colorscale\": [[0.0, \"#0d0887\"], [0.1111111111111111, \"#46039f\"], [0.2222222222222222, \"#7201a8\"], [0.3333333333333333, \"#9c179e\"], [0.4444444444444444, \"#bd3786\"], [0.5555555555555556, \"#d8576b\"], [0.6666666666666666, \"#ed7953\"], [0.7777777777777778, \"#fb9f3a\"], [0.8888888888888888, \"#fdca26\"], [1.0, \"#f0f921\"]], \"type\": \"histogram2d\"}], \"histogram2dcontour\": [{\"colorbar\": {\"outlinewidth\": 0, \"ticks\": \"\"}, \"colorscale\": [[0.0, \"#0d0887\"], [0.1111111111111111, \"#46039f\"], [0.2222222222222222, \"#7201a8\"], [0.3333333333333333, \"#9c179e\"], [0.4444444444444444, \"#bd3786\"], [0.5555555555555556, \"#d8576b\"], [0.6666666666666666, \"#ed7953\"], [0.7777777777777778, \"#fb9f3a\"], [0.8888888888888888, \"#fdca26\"], [1.0, \"#f0f921\"]], \"type\": \"histogram2dcontour\"}], \"mesh3d\": [{\"colorbar\": {\"outlinewidth\": 0, \"ticks\": \"\"}, \"type\": \"mesh3d\"}], \"parcoords\": [{\"line\": {\"colorbar\": {\"outlinewidth\": 0, \"ticks\": \"\"}}, \"type\": \"parcoords\"}], \"pie\": [{\"automargin\": true, \"type\": \"pie\"}], \"scatter\": [{\"marker\": {\"colorbar\": {\"outlinewidth\": 0, \"ticks\": \"\"}}, \"type\": \"scatter\"}], \"scatter3d\": [{\"line\": {\"colorbar\": {\"outlinewidth\": 0, \"ticks\": \"\"}}, \"marker\": {\"colorbar\": {\"outlinewidth\": 0, \"ticks\": \"\"}}, \"type\": \"scatter3d\"}], \"scattercarpet\": [{\"marker\": {\"colorbar\": {\"outlinewidth\": 0, \"ticks\": \"\"}}, \"type\": \"scattercarpet\"}], \"scattergeo\": [{\"marker\": {\"colorbar\": {\"outlinewidth\": 0, \"ticks\": \"\"}}, \"type\": \"scattergeo\"}], \"scattergl\": [{\"marker\": {\"colorbar\": {\"outlinewidth\": 0, \"ticks\": \"\"}}, \"type\": \"scattergl\"}], \"scattermapbox\": [{\"marker\": {\"colorbar\": {\"outlinewidth\": 0, \"ticks\": \"\"}}, \"type\": \"scattermapbox\"}], \"scatterpolar\": [{\"marker\": {\"colorbar\": {\"outlinewidth\": 0, \"ticks\": \"\"}}, \"type\": \"scatterpolar\"}], \"scatterpolargl\": [{\"marker\": {\"colorbar\": {\"outlinewidth\": 0, \"ticks\": \"\"}}, \"type\": \"scatterpolargl\"}], \"scatterternary\": [{\"marker\": {\"colorbar\": {\"outlinewidth\": 0, \"ticks\": \"\"}}, \"type\": \"scatterternary\"}], \"surface\": [{\"colorbar\": {\"outlinewidth\": 0, \"ticks\": \"\"}, \"colorscale\": [[0.0, \"#0d0887\"], [0.1111111111111111, \"#46039f\"], [0.2222222222222222, \"#7201a8\"], [0.3333333333333333, \"#9c179e\"], [0.4444444444444444, \"#bd3786\"], [0.5555555555555556, \"#d8576b\"], [0.6666666666666666, \"#ed7953\"], [0.7777777777777778, \"#fb9f3a\"], [0.8888888888888888, \"#fdca26\"], [1.0, \"#f0f921\"]], \"type\": \"surface\"}], \"table\": [{\"cells\": {\"fill\": {\"color\": \"#EBF0F8\"}, \"line\": {\"color\": \"white\"}}, \"header\": {\"fill\": {\"color\": \"#C8D4E3\"}, \"line\": {\"color\": \"white\"}}, \"type\": \"table\"}]}, \"layout\": {\"annotationdefaults\": {\"arrowcolor\": \"#2a3f5f\", \"arrowhead\": 0, \"arrowwidth\": 1}, \"coloraxis\": {\"colorbar\": {\"outlinewidth\": 0, \"ticks\": \"\"}}, \"colorscale\": {\"diverging\": [[0, \"#8e0152\"], [0.1, \"#c51b7d\"], [0.2, \"#de77ae\"], [0.3, \"#f1b6da\"], [0.4, \"#fde0ef\"], [0.5, \"#f7f7f7\"], [0.6, \"#e6f5d0\"], [0.7, \"#b8e186\"], [0.8, \"#7fbc41\"], [0.9, \"#4d9221\"], [1, \"#276419\"]], \"sequential\": [[0.0, \"#0d0887\"], [0.1111111111111111, \"#46039f\"], [0.2222222222222222, \"#7201a8\"], [0.3333333333333333, \"#9c179e\"], [0.4444444444444444, \"#bd3786\"], [0.5555555555555556, \"#d8576b\"], [0.6666666666666666, \"#ed7953\"], [0.7777777777777778, \"#fb9f3a\"], [0.8888888888888888, \"#fdca26\"], [1.0, \"#f0f921\"]], \"sequentialminus\": [[0.0, \"#0d0887\"], [0.1111111111111111, \"#46039f\"], [0.2222222222222222, \"#7201a8\"], [0.3333333333333333, \"#9c179e\"], [0.4444444444444444, \"#bd3786\"], [0.5555555555555556, \"#d8576b\"], [0.6666666666666666, \"#ed7953\"], [0.7777777777777778, \"#fb9f3a\"], [0.8888888888888888, \"#fdca26\"], [1.0, \"#f0f921\"]]}, \"colorway\": [\"#636efa\", \"#EF553B\", \"#00cc96\", \"#ab63fa\", \"#FFA15A\", \"#19d3f3\", \"#FF6692\", \"#B6E880\", \"#FF97FF\", \"#FECB52\"], \"font\": {\"color\": \"#2a3f5f\"}, \"geo\": {\"bgcolor\": \"white\", \"lakecolor\": \"white\", \"landcolor\": \"#E5ECF6\", \"showlakes\": true, \"showland\": true, \"subunitcolor\": \"white\"}, \"hoverlabel\": {\"align\": \"left\"}, \"hovermode\": \"closest\", \"mapbox\": {\"style\": \"light\"}, \"paper_bgcolor\": \"white\", \"plot_bgcolor\": \"#E5ECF6\", \"polar\": {\"angularaxis\": {\"gridcolor\": \"white\", \"linecolor\": \"white\", \"ticks\": \"\"}, \"bgcolor\": \"#E5ECF6\", \"radialaxis\": {\"gridcolor\": \"white\", \"linecolor\": \"white\", \"ticks\": \"\"}}, \"scene\": {\"xaxis\": {\"backgroundcolor\": \"#E5ECF6\", \"gridcolor\": \"white\", \"gridwidth\": 2, \"linecolor\": \"white\", \"showbackground\": true, \"ticks\": \"\", \"zerolinecolor\": \"white\"}, \"yaxis\": {\"backgroundcolor\": \"#E5ECF6\", \"gridcolor\": \"white\", \"gridwidth\": 2, \"linecolor\": \"white\", \"showbackground\": true, \"ticks\": \"\", \"zerolinecolor\": \"white\"}, \"zaxis\": {\"backgroundcolor\": \"#E5ECF6\", \"gridcolor\": \"white\", \"gridwidth\": 2, \"linecolor\": \"white\", \"showbackground\": true, \"ticks\": \"\", \"zerolinecolor\": \"white\"}}, \"shapedefaults\": {\"line\": {\"color\": \"#2a3f5f\"}}, \"ternary\": {\"aaxis\": {\"gridcolor\": \"white\", \"linecolor\": \"white\", \"ticks\": \"\"}, \"baxis\": {\"gridcolor\": \"white\", \"linecolor\": \"white\", \"ticks\": \"\"}, \"bgcolor\": \"#E5ECF6\", \"caxis\": {\"gridcolor\": \"white\", \"linecolor\": \"white\", \"ticks\": \"\"}}, \"title\": {\"x\": 0.05}, \"xaxis\": {\"automargin\": true, \"gridcolor\": \"white\", \"linecolor\": \"white\", \"ticks\": \"\", \"title\": {\"standoff\": 15}, \"zerolinecolor\": \"white\", \"zerolinewidth\": 2}, \"yaxis\": {\"automargin\": true, \"gridcolor\": \"white\", \"linecolor\": \"white\", \"ticks\": \"\", \"title\": {\"standoff\": 15}, \"zerolinecolor\": \"white\", \"zerolinewidth\": 2}}}, \"title\": {\"font\": {\"color\": \"#4D5663\"}}, \"xaxis\": {\"gridcolor\": \"#E1E5ED\", \"showgrid\": true, \"tickfont\": {\"color\": \"#4D5663\"}, \"title\": {\"font\": {\"color\": \"#4D5663\"}, \"text\": \"\"}, \"zerolinecolor\": \"#E1E5ED\"}, \"yaxis\": {\"gridcolor\": \"#E1E5ED\", \"showgrid\": true, \"tickfont\": {\"color\": \"#4D5663\"}, \"title\": {\"font\": {\"color\": \"#4D5663\"}, \"text\": \"\"}, \"zerolinecolor\": \"#E1E5ED\"}},\n",
       "                        {\"showLink\": true, \"linkText\": \"Export to plot.ly\", \"plotlyServerURL\": \"https://plot.ly\", \"responsive\": true}\n",
       "                    ).then(function(){\n",
       "                            \n",
       "var gd = document.getElementById('9d88d789-7a09-4a83-beac-ae151e9a4bdd');\n",
       "var x = new MutationObserver(function (mutations, observer) {{\n",
       "        var display = window.getComputedStyle(gd).display;\n",
       "        if (!display || display === 'none') {{\n",
       "            console.log([gd, 'removed!']);\n",
       "            Plotly.purge(gd);\n",
       "            observer.disconnect();\n",
       "        }}\n",
       "}});\n",
       "\n",
       "// Listen for the removal of the full notebook cells\n",
       "var notebookContainer = gd.closest('#notebook-container');\n",
       "if (notebookContainer) {{\n",
       "    x.observe(notebookContainer, {childList: true});\n",
       "}}\n",
       "\n",
       "// Listen for the clearing of the current output cell\n",
       "var outputEl = gd.closest('.output');\n",
       "if (outputEl) {{\n",
       "    x.observe(outputEl, {childList: true});\n",
       "}}\n",
       "\n",
       "                        })\n",
       "                };\n",
       "                });\n",
       "            </script>\n",
       "        </div>"
      ]
     },
     "metadata": {},
     "output_type": "display_data"
    }
   ],
   "source": [
    "df3 = pd.DataFrame({'x':[1,2,3,4,5],'y':[10,20,30,20,10],'z':[5,4,3,2,1]})\n",
    "df3.iplot(kind='surface',colorscale='rdylbu')"
   ]
  },
  {
   "cell_type": "markdown",
   "metadata": {},
   "source": [
    "## Spread"
   ]
  },
  {
   "cell_type": "code",
   "execution_count": 21,
   "metadata": {},
   "outputs": [
    {
     "name": "stderr",
     "output_type": "stream",
     "text": [
      "C:\\anaconda3\\lib\\site-packages\\cufflinks\\plotlytools.py:849: FutureWarning:\n",
      "\n",
      "The pandas.np module is deprecated and will be removed from pandas in a future version. Import numpy directly instead\n",
      "\n",
      "C:\\anaconda3\\lib\\site-packages\\cufflinks\\plotlytools.py:850: FutureWarning:\n",
      "\n",
      "The pandas.np module is deprecated and will be removed from pandas in a future version. Import numpy directly instead\n",
      "\n"
     ]
    },
    {
     "data": {
      "application/vnd.plotly.v1+json": {
       "config": {
        "linkText": "Export to plot.ly",
        "plotlyServerURL": "https://plot.ly",
        "showLink": true
       },
       "data": [
        {
         "line": {
          "color": "rgba(255, 153, 51, 1.0)",
          "dash": "solid",
          "shape": "linear",
          "width": 1.3
         },
         "mode": "lines",
         "name": "A",
         "text": "",
         "type": "scatter",
         "x": [
          0,
          1,
          2,
          3,
          4,
          5,
          6,
          7,
          8,
          9,
          10,
          11,
          12,
          13,
          14,
          15,
          16,
          17,
          18,
          19,
          20,
          21,
          22,
          23,
          24,
          25,
          26,
          27,
          28,
          29,
          30,
          31,
          32,
          33,
          34,
          35,
          36,
          37,
          38,
          39,
          40,
          41,
          42,
          43,
          44,
          45,
          46,
          47,
          48,
          49,
          50,
          51,
          52,
          53,
          54,
          55,
          56,
          57,
          58,
          59,
          60,
          61,
          62,
          63,
          64,
          65,
          66,
          67,
          68,
          69,
          70,
          71,
          72,
          73,
          74,
          75,
          76,
          77,
          78,
          79,
          80,
          81,
          82,
          83,
          84,
          85,
          86,
          87,
          88,
          89,
          90,
          91,
          92,
          93,
          94,
          95,
          96,
          97,
          98,
          99
         ],
         "y": [
          -0.13775086430743813,
          -1.9933049229514477,
          -0.9545044762222105,
          1.4014164640928737,
          -1.13192187578824,
          -1.3617171661286414,
          -0.9083961716634638,
          1.3303928616547227,
          0.8057925035002808,
          -0.6897784200723086,
          -2.0953961176504903,
          0.4779895237770411,
          0.7541183143416599,
          1.0885380483057463,
          -1.9447575190926418,
          0.9975927283186687,
          0.5396244432324852,
          -0.42383547340641514,
          0.7186773780770584,
          2.6607077784921724,
          0.5419253101691794,
          0.48168350903181256,
          0.00016683141743905627,
          -1.434810587490341,
          0.7715714846893815,
          0.7456802660196701,
          -0.36542221125466307,
          -1.0166942651772195,
          0.3093832415310271,
          -1.3304186784288994,
          -0.38208893085136053,
          1.070745280547997,
          -0.24166411883649572,
          1.0156796479926795,
          0.34835168994849247,
          -0.4191523215594431,
          0.06173604008436236,
          -1.432936038291852,
          0.3258606651601762,
          -1.349954164282741,
          -0.7095098045451561,
          1.010145452103435,
          -1.1105120080278759,
          0.21666021830827295,
          0.05047695299247232,
          1.6979340768084248,
          0.4829406701478865,
          -0.09070487712543199,
          0.8532304688136618,
          -0.8942411416717861,
          -0.42457176708669925,
          -1.5657072405052173,
          -0.17728663186775215,
          -0.907529302042309,
          0.015237382008090744,
          0.17182485828798016,
          -0.422959094891893,
          -0.7740227863443343,
          -1.0208775652388034,
          -0.6324799702992057,
          0.10822694435312787,
          -0.3496517337932419,
          0.33060914060953733,
          -1.0106999926023936,
          -0.7222417619394348,
          -0.5332812245676131,
          -0.776755834796644,
          1.1941171480095443,
          1.2686298712847948,
          -1.017278861018582,
          -1.1774948698526817,
          -0.4239516911089791,
          -0.3945051098098888,
          -1.360817658415006,
          -0.863416437132497,
          0.7226579837082056,
          -1.071158632435797,
          -0.7010972899518247,
          1.2145562514183765,
          -0.28080634140698185,
          0.4366347441230707,
          1.314812375540971,
          1.5722102595136485,
          2.3812552615192804,
          -1.0672037558626681,
          -0.053593780034868706,
          0.5976597621802904,
          -0.5418992969522781,
          -0.8921719903625399,
          0.32805956293816935,
          0.8811900268496274,
          -0.6639785072700968,
          -0.4073355000059551,
          -0.5740298447265203,
          0.033388134057522056,
          -1.3913553444512943,
          0.20930846462947625,
          -1.8181242562227442,
          0.20084981290816206,
          -0.8380964279862918
         ]
        },
        {
         "line": {
          "color": "rgba(55, 128, 191, 1.0)",
          "dash": "solid",
          "shape": "linear",
          "width": 1.3
         },
         "mode": "lines",
         "name": "B",
         "text": "",
         "type": "scatter",
         "x": [
          0,
          1,
          2,
          3,
          4,
          5,
          6,
          7,
          8,
          9,
          10,
          11,
          12,
          13,
          14,
          15,
          16,
          17,
          18,
          19,
          20,
          21,
          22,
          23,
          24,
          25,
          26,
          27,
          28,
          29,
          30,
          31,
          32,
          33,
          34,
          35,
          36,
          37,
          38,
          39,
          40,
          41,
          42,
          43,
          44,
          45,
          46,
          47,
          48,
          49,
          50,
          51,
          52,
          53,
          54,
          55,
          56,
          57,
          58,
          59,
          60,
          61,
          62,
          63,
          64,
          65,
          66,
          67,
          68,
          69,
          70,
          71,
          72,
          73,
          74,
          75,
          76,
          77,
          78,
          79,
          80,
          81,
          82,
          83,
          84,
          85,
          86,
          87,
          88,
          89,
          90,
          91,
          92,
          93,
          94,
          95,
          96,
          97,
          98,
          99
         ],
         "y": [
          0.4867039677135526,
          1.244047840402478,
          2.3332257859437378,
          1.689469317780753,
          0.26600468702917085,
          -1.5534056582883649,
          -1.4715859849210289,
          -0.2044115131727728,
          0.26871657375985414,
          -0.3422180501613123,
          -1.7735616597332367,
          -0.016933444517672404,
          -0.7293476753347374,
          -0.624452059783926,
          -1.2763146611944258,
          1.2724287629354616,
          0.3481211380276087,
          -1.0169552849327732,
          0.10521745932772313,
          -0.6304304028436521,
          -0.5041196367567813,
          0.3161120551419451,
          0.7369874147128881,
          -1.0598247277896868,
          -0.18506125663662593,
          0.810477229270296,
          -1.384807705451281,
          -0.8863863326525558,
          0.9147353176181667,
          -0.5385833168165204,
          0.23579161115875363,
          1.3922065321592305,
          -0.029253693715969455,
          0.9869678719055079,
          -0.8315582910357844,
          -0.15630658169048334,
          0.3630713272506266,
          -0.5732445399171228,
          0.6868772378242992,
          1.1003303290999775,
          0.18612995904760574,
          0.6946198041945933,
          -2.365577687112027,
          0.8905083947588157,
          0.6373915150218937,
          -1.5590165623571386,
          -1.8099737250328467,
          0.8187923807100435,
          -0.566006465230476,
          -0.2075092147286489,
          -1.5463956090468263,
          -0.2027034353912444,
          0.6110919682579047,
          -0.4024096082165716,
          0.1092393679292165,
          -1.549036721036476,
          -0.28602484732646627,
          -1.596958432253144,
          -1.2934586866600908,
          -0.4345286168661543,
          -0.6577383489380272,
          0.7483943244863837,
          1.079000643133668,
          -1.5546810209164317,
          -0.7525658730481593,
          0.9060783055285099,
          -1.4556490922061072,
          1.5641473539411717,
          0.867404487903958,
          -0.7804546920722069,
          -0.2626463976382476,
          1.0219316310317808,
          -0.940622822003576,
          -0.7058560462667333,
          0.40742227057372776,
          -1.06757106950965,
          -0.7515626021053561,
          2.1636224076620234,
          0.286759747917996,
          -0.8385984718681364,
          -0.7641870886396996,
          -0.48373459403747987,
          0.10528249278382575,
          -0.9632439023829252,
          1.903457634504097,
          -0.16604985961639618,
          0.5530277500259455,
          0.0951366549917921,
          0.10390345527482063,
          0.12218714334909844,
          -1.1493425592465587,
          0.5883479007961637,
          0.23124416068370013,
          1.0861293480045746,
          1.2786656219423185,
          -0.10469047643119377,
          0.664352682995852,
          -0.45585776757309304,
          -0.309786574014567,
          -1.1229610739076694
         ]
        },
        {
         "connectgaps": false,
         "fill": "tozeroy",
         "line": {
          "color": "green",
          "dash": "solid",
          "shape": "linear",
          "width": 0.5
         },
         "mode": "lines",
         "name": "Spread",
         "showlegend": false,
         "type": "scatter",
         "x": [
          0,
          1,
          2,
          3,
          4,
          5,
          6,
          7,
          8,
          9,
          10,
          11,
          12,
          13,
          14,
          15,
          16,
          17,
          18,
          19,
          20,
          21,
          22,
          23,
          24,
          25,
          26,
          27,
          28,
          29,
          30,
          31,
          32,
          33,
          34,
          35,
          36,
          37,
          38,
          39,
          40,
          41,
          42,
          43,
          44,
          45,
          46,
          47,
          48,
          49,
          50,
          51,
          52,
          53,
          54,
          55,
          56,
          57,
          58,
          59,
          60,
          61,
          62,
          63,
          64,
          65,
          66,
          67,
          68,
          69,
          70,
          71,
          72,
          73,
          74,
          75,
          76,
          77,
          78,
          79,
          80,
          81,
          82,
          83,
          84,
          85,
          86,
          87,
          88,
          89,
          90,
          91,
          92,
          93,
          94,
          95,
          96,
          97,
          98,
          99
         ],
         "xaxis": "x2",
         "y": [
          "",
          "",
          "",
          "",
          "",
          0.1916884921597235,
          0.5631898132575651,
          1.5348043748274955,
          0.5370759297404266,
          "",
          "",
          0.49492296829471355,
          1.4834659896763973,
          1.7129901080896723,
          "",
          "",
          0.19150330520487646,
          0.5931198115263581,
          0.6134599187493354,
          3.2911381813358247,
          1.0460449469259607,
          0.16557145388986744,
          "",
          "",
          0.9566327413260074,
          "",
          1.019385494196618,
          "",
          "",
          "",
          "",
          "",
          "",
          0.02871177608717157,
          1.1799099809842768,
          "",
          "",
          "",
          "",
          "",
          "",
          0.31552564790884163,
          1.255065679084151,
          "",
          "",
          3.2569506391655634,
          2.292914395180733,
          "",
          1.4192369340441378,
          "",
          1.121823841960127,
          "",
          "",
          "",
          "",
          1.7208615793244562,
          "",
          0.8229356459088097,
          0.27258112142128743,
          "",
          0.765965293291155,
          "",
          "",
          0.543981028314038,
          0.03032411110872446,
          "",
          0.6788932574094632,
          "",
          0.4012253833808368,
          "",
          "",
          "",
          0.5461177121936873,
          "",
          "",
          1.7902290532178555,
          "",
          "",
          0.9277965035003806,
          0.5577921304611546,
          1.2008218327627702,
          1.7985469695784508,
          1.4669277667298226,
          3.3444991639022055,
          "",
          0.11245607958152748,
          0.04463201215434487,
          "",
          "",
          0.2058724195890709,
          2.0305325860961863,
          "",
          "",
          "",
          "",
          "",
          "",
          "",
          0.5106363869227291,
          0.2848646459213776
         ],
         "yaxis": "y2"
        },
        {
         "connectgaps": false,
         "fill": "tozeroy",
         "line": {
          "color": "red",
          "dash": "solid",
          "shape": "linear",
          "width": 0.5
         },
         "mode": "lines",
         "name": "Spread",
         "showlegend": false,
         "type": "scatter",
         "x": [
          0,
          1,
          2,
          3,
          4,
          5,
          6,
          7,
          8,
          9,
          10,
          11,
          12,
          13,
          14,
          15,
          16,
          17,
          18,
          19,
          20,
          21,
          22,
          23,
          24,
          25,
          26,
          27,
          28,
          29,
          30,
          31,
          32,
          33,
          34,
          35,
          36,
          37,
          38,
          39,
          40,
          41,
          42,
          43,
          44,
          45,
          46,
          47,
          48,
          49,
          50,
          51,
          52,
          53,
          54,
          55,
          56,
          57,
          58,
          59,
          60,
          61,
          62,
          63,
          64,
          65,
          66,
          67,
          68,
          69,
          70,
          71,
          72,
          73,
          74,
          75,
          76,
          77,
          78,
          79,
          80,
          81,
          82,
          83,
          84,
          85,
          86,
          87,
          88,
          89,
          90,
          91,
          92,
          93,
          94,
          95,
          96,
          97,
          98,
          99
         ],
         "xaxis": "x2",
         "y": [
          -0.6244548320209907,
          -3.2373527633539254,
          -3.2877302621659483,
          -0.28805285368787925,
          -1.397926562817411,
          "",
          "",
          "",
          "",
          -0.3475603699109963,
          -0.3218344579172536,
          "",
          "",
          "",
          -0.668442857898216,
          -0.27483603461679285,
          "",
          "",
          "",
          "",
          "",
          "",
          -0.7368205832954491,
          -0.3749858597006541,
          "",
          -0.0647969632506259,
          "",
          -0.13030793252466366,
          -0.6053520760871396,
          -0.791835361612379,
          -0.6178805420101141,
          -0.3214612516112336,
          -0.21241042512052627,
          "",
          "",
          -0.26284573986895976,
          -0.30133528716626423,
          -0.8596914983747291,
          -0.361016572664123,
          -2.4502844933827186,
          -0.8956397635927619,
          "",
          "",
          -0.6738481764505427,
          -0.5869145620294214,
          "",
          "",
          -0.9094972578354754,
          "",
          -0.6867319269431372,
          "",
          -1.3630038051139728,
          -0.7883786001256569,
          -0.5051196938257374,
          -0.09400198592112576,
          "",
          -0.13693424756542671,
          "",
          "",
          -0.19795135343305137,
          "",
          -1.0980460582796256,
          -0.7483915025241308,
          "",
          "",
          -1.439359530096123,
          "",
          -0.3700302059316274,
          "",
          -0.23682416894637504,
          -0.9148484722144341,
          -1.4458833221407599,
          "",
          -0.6549616121482728,
          -1.2708387077062249,
          "",
          -0.3195960303304408,
          -2.864719697613848,
          "",
          "",
          "",
          "",
          "",
          "",
          -2.9706613903667654,
          "",
          "",
          -0.6370359519440703,
          -0.9960754456373605,
          "",
          "",
          -1.2523264080662604,
          -0.6385796606896552,
          -1.6601591927310948,
          -1.2452774878847963,
          -1.2866648680201005,
          -0.45504421836637576,
          -1.3622664886496512,
          "",
          ""
         ],
         "yaxis": "y2"
        }
       ],
       "layout": {
        "hovermode": "x",
        "legend": {
         "bgcolor": "#F5F6F9",
         "font": {
          "color": "#4D5663"
         }
        },
        "paper_bgcolor": "#F5F6F9",
        "plot_bgcolor": "#F5F6F9",
        "template": {
         "data": {
          "bar": [
           {
            "error_x": {
             "color": "#2a3f5f"
            },
            "error_y": {
             "color": "#2a3f5f"
            },
            "marker": {
             "line": {
              "color": "#E5ECF6",
              "width": 0.5
             }
            },
            "type": "bar"
           }
          ],
          "barpolar": [
           {
            "marker": {
             "line": {
              "color": "#E5ECF6",
              "width": 0.5
             }
            },
            "type": "barpolar"
           }
          ],
          "carpet": [
           {
            "aaxis": {
             "endlinecolor": "#2a3f5f",
             "gridcolor": "white",
             "linecolor": "white",
             "minorgridcolor": "white",
             "startlinecolor": "#2a3f5f"
            },
            "baxis": {
             "endlinecolor": "#2a3f5f",
             "gridcolor": "white",
             "linecolor": "white",
             "minorgridcolor": "white",
             "startlinecolor": "#2a3f5f"
            },
            "type": "carpet"
           }
          ],
          "choropleth": [
           {
            "colorbar": {
             "outlinewidth": 0,
             "ticks": ""
            },
            "type": "choropleth"
           }
          ],
          "contour": [
           {
            "colorbar": {
             "outlinewidth": 0,
             "ticks": ""
            },
            "colorscale": [
             [
              0,
              "#0d0887"
             ],
             [
              0.1111111111111111,
              "#46039f"
             ],
             [
              0.2222222222222222,
              "#7201a8"
             ],
             [
              0.3333333333333333,
              "#9c179e"
             ],
             [
              0.4444444444444444,
              "#bd3786"
             ],
             [
              0.5555555555555556,
              "#d8576b"
             ],
             [
              0.6666666666666666,
              "#ed7953"
             ],
             [
              0.7777777777777778,
              "#fb9f3a"
             ],
             [
              0.8888888888888888,
              "#fdca26"
             ],
             [
              1,
              "#f0f921"
             ]
            ],
            "type": "contour"
           }
          ],
          "contourcarpet": [
           {
            "colorbar": {
             "outlinewidth": 0,
             "ticks": ""
            },
            "type": "contourcarpet"
           }
          ],
          "heatmap": [
           {
            "colorbar": {
             "outlinewidth": 0,
             "ticks": ""
            },
            "colorscale": [
             [
              0,
              "#0d0887"
             ],
             [
              0.1111111111111111,
              "#46039f"
             ],
             [
              0.2222222222222222,
              "#7201a8"
             ],
             [
              0.3333333333333333,
              "#9c179e"
             ],
             [
              0.4444444444444444,
              "#bd3786"
             ],
             [
              0.5555555555555556,
              "#d8576b"
             ],
             [
              0.6666666666666666,
              "#ed7953"
             ],
             [
              0.7777777777777778,
              "#fb9f3a"
             ],
             [
              0.8888888888888888,
              "#fdca26"
             ],
             [
              1,
              "#f0f921"
             ]
            ],
            "type": "heatmap"
           }
          ],
          "heatmapgl": [
           {
            "colorbar": {
             "outlinewidth": 0,
             "ticks": ""
            },
            "colorscale": [
             [
              0,
              "#0d0887"
             ],
             [
              0.1111111111111111,
              "#46039f"
             ],
             [
              0.2222222222222222,
              "#7201a8"
             ],
             [
              0.3333333333333333,
              "#9c179e"
             ],
             [
              0.4444444444444444,
              "#bd3786"
             ],
             [
              0.5555555555555556,
              "#d8576b"
             ],
             [
              0.6666666666666666,
              "#ed7953"
             ],
             [
              0.7777777777777778,
              "#fb9f3a"
             ],
             [
              0.8888888888888888,
              "#fdca26"
             ],
             [
              1,
              "#f0f921"
             ]
            ],
            "type": "heatmapgl"
           }
          ],
          "histogram": [
           {
            "marker": {
             "colorbar": {
              "outlinewidth": 0,
              "ticks": ""
             }
            },
            "type": "histogram"
           }
          ],
          "histogram2d": [
           {
            "colorbar": {
             "outlinewidth": 0,
             "ticks": ""
            },
            "colorscale": [
             [
              0,
              "#0d0887"
             ],
             [
              0.1111111111111111,
              "#46039f"
             ],
             [
              0.2222222222222222,
              "#7201a8"
             ],
             [
              0.3333333333333333,
              "#9c179e"
             ],
             [
              0.4444444444444444,
              "#bd3786"
             ],
             [
              0.5555555555555556,
              "#d8576b"
             ],
             [
              0.6666666666666666,
              "#ed7953"
             ],
             [
              0.7777777777777778,
              "#fb9f3a"
             ],
             [
              0.8888888888888888,
              "#fdca26"
             ],
             [
              1,
              "#f0f921"
             ]
            ],
            "type": "histogram2d"
           }
          ],
          "histogram2dcontour": [
           {
            "colorbar": {
             "outlinewidth": 0,
             "ticks": ""
            },
            "colorscale": [
             [
              0,
              "#0d0887"
             ],
             [
              0.1111111111111111,
              "#46039f"
             ],
             [
              0.2222222222222222,
              "#7201a8"
             ],
             [
              0.3333333333333333,
              "#9c179e"
             ],
             [
              0.4444444444444444,
              "#bd3786"
             ],
             [
              0.5555555555555556,
              "#d8576b"
             ],
             [
              0.6666666666666666,
              "#ed7953"
             ],
             [
              0.7777777777777778,
              "#fb9f3a"
             ],
             [
              0.8888888888888888,
              "#fdca26"
             ],
             [
              1,
              "#f0f921"
             ]
            ],
            "type": "histogram2dcontour"
           }
          ],
          "mesh3d": [
           {
            "colorbar": {
             "outlinewidth": 0,
             "ticks": ""
            },
            "type": "mesh3d"
           }
          ],
          "parcoords": [
           {
            "line": {
             "colorbar": {
              "outlinewidth": 0,
              "ticks": ""
             }
            },
            "type": "parcoords"
           }
          ],
          "pie": [
           {
            "automargin": true,
            "type": "pie"
           }
          ],
          "scatter": [
           {
            "marker": {
             "colorbar": {
              "outlinewidth": 0,
              "ticks": ""
             }
            },
            "type": "scatter"
           }
          ],
          "scatter3d": [
           {
            "line": {
             "colorbar": {
              "outlinewidth": 0,
              "ticks": ""
             }
            },
            "marker": {
             "colorbar": {
              "outlinewidth": 0,
              "ticks": ""
             }
            },
            "type": "scatter3d"
           }
          ],
          "scattercarpet": [
           {
            "marker": {
             "colorbar": {
              "outlinewidth": 0,
              "ticks": ""
             }
            },
            "type": "scattercarpet"
           }
          ],
          "scattergeo": [
           {
            "marker": {
             "colorbar": {
              "outlinewidth": 0,
              "ticks": ""
             }
            },
            "type": "scattergeo"
           }
          ],
          "scattergl": [
           {
            "marker": {
             "colorbar": {
              "outlinewidth": 0,
              "ticks": ""
             }
            },
            "type": "scattergl"
           }
          ],
          "scattermapbox": [
           {
            "marker": {
             "colorbar": {
              "outlinewidth": 0,
              "ticks": ""
             }
            },
            "type": "scattermapbox"
           }
          ],
          "scatterpolar": [
           {
            "marker": {
             "colorbar": {
              "outlinewidth": 0,
              "ticks": ""
             }
            },
            "type": "scatterpolar"
           }
          ],
          "scatterpolargl": [
           {
            "marker": {
             "colorbar": {
              "outlinewidth": 0,
              "ticks": ""
             }
            },
            "type": "scatterpolargl"
           }
          ],
          "scatterternary": [
           {
            "marker": {
             "colorbar": {
              "outlinewidth": 0,
              "ticks": ""
             }
            },
            "type": "scatterternary"
           }
          ],
          "surface": [
           {
            "colorbar": {
             "outlinewidth": 0,
             "ticks": ""
            },
            "colorscale": [
             [
              0,
              "#0d0887"
             ],
             [
              0.1111111111111111,
              "#46039f"
             ],
             [
              0.2222222222222222,
              "#7201a8"
             ],
             [
              0.3333333333333333,
              "#9c179e"
             ],
             [
              0.4444444444444444,
              "#bd3786"
             ],
             [
              0.5555555555555556,
              "#d8576b"
             ],
             [
              0.6666666666666666,
              "#ed7953"
             ],
             [
              0.7777777777777778,
              "#fb9f3a"
             ],
             [
              0.8888888888888888,
              "#fdca26"
             ],
             [
              1,
              "#f0f921"
             ]
            ],
            "type": "surface"
           }
          ],
          "table": [
           {
            "cells": {
             "fill": {
              "color": "#EBF0F8"
             },
             "line": {
              "color": "white"
             }
            },
            "header": {
             "fill": {
              "color": "#C8D4E3"
             },
             "line": {
              "color": "white"
             }
            },
            "type": "table"
           }
          ]
         },
         "layout": {
          "annotationdefaults": {
           "arrowcolor": "#2a3f5f",
           "arrowhead": 0,
           "arrowwidth": 1
          },
          "coloraxis": {
           "colorbar": {
            "outlinewidth": 0,
            "ticks": ""
           }
          },
          "colorscale": {
           "diverging": [
            [
             0,
             "#8e0152"
            ],
            [
             0.1,
             "#c51b7d"
            ],
            [
             0.2,
             "#de77ae"
            ],
            [
             0.3,
             "#f1b6da"
            ],
            [
             0.4,
             "#fde0ef"
            ],
            [
             0.5,
             "#f7f7f7"
            ],
            [
             0.6,
             "#e6f5d0"
            ],
            [
             0.7,
             "#b8e186"
            ],
            [
             0.8,
             "#7fbc41"
            ],
            [
             0.9,
             "#4d9221"
            ],
            [
             1,
             "#276419"
            ]
           ],
           "sequential": [
            [
             0,
             "#0d0887"
            ],
            [
             0.1111111111111111,
             "#46039f"
            ],
            [
             0.2222222222222222,
             "#7201a8"
            ],
            [
             0.3333333333333333,
             "#9c179e"
            ],
            [
             0.4444444444444444,
             "#bd3786"
            ],
            [
             0.5555555555555556,
             "#d8576b"
            ],
            [
             0.6666666666666666,
             "#ed7953"
            ],
            [
             0.7777777777777778,
             "#fb9f3a"
            ],
            [
             0.8888888888888888,
             "#fdca26"
            ],
            [
             1,
             "#f0f921"
            ]
           ],
           "sequentialminus": [
            [
             0,
             "#0d0887"
            ],
            [
             0.1111111111111111,
             "#46039f"
            ],
            [
             0.2222222222222222,
             "#7201a8"
            ],
            [
             0.3333333333333333,
             "#9c179e"
            ],
            [
             0.4444444444444444,
             "#bd3786"
            ],
            [
             0.5555555555555556,
             "#d8576b"
            ],
            [
             0.6666666666666666,
             "#ed7953"
            ],
            [
             0.7777777777777778,
             "#fb9f3a"
            ],
            [
             0.8888888888888888,
             "#fdca26"
            ],
            [
             1,
             "#f0f921"
            ]
           ]
          },
          "colorway": [
           "#636efa",
           "#EF553B",
           "#00cc96",
           "#ab63fa",
           "#FFA15A",
           "#19d3f3",
           "#FF6692",
           "#B6E880",
           "#FF97FF",
           "#FECB52"
          ],
          "font": {
           "color": "#2a3f5f"
          },
          "geo": {
           "bgcolor": "white",
           "lakecolor": "white",
           "landcolor": "#E5ECF6",
           "showlakes": true,
           "showland": true,
           "subunitcolor": "white"
          },
          "hoverlabel": {
           "align": "left"
          },
          "hovermode": "closest",
          "mapbox": {
           "style": "light"
          },
          "paper_bgcolor": "white",
          "plot_bgcolor": "#E5ECF6",
          "polar": {
           "angularaxis": {
            "gridcolor": "white",
            "linecolor": "white",
            "ticks": ""
           },
           "bgcolor": "#E5ECF6",
           "radialaxis": {
            "gridcolor": "white",
            "linecolor": "white",
            "ticks": ""
           }
          },
          "scene": {
           "xaxis": {
            "backgroundcolor": "#E5ECF6",
            "gridcolor": "white",
            "gridwidth": 2,
            "linecolor": "white",
            "showbackground": true,
            "ticks": "",
            "zerolinecolor": "white"
           },
           "yaxis": {
            "backgroundcolor": "#E5ECF6",
            "gridcolor": "white",
            "gridwidth": 2,
            "linecolor": "white",
            "showbackground": true,
            "ticks": "",
            "zerolinecolor": "white"
           },
           "zaxis": {
            "backgroundcolor": "#E5ECF6",
            "gridcolor": "white",
            "gridwidth": 2,
            "linecolor": "white",
            "showbackground": true,
            "ticks": "",
            "zerolinecolor": "white"
           }
          },
          "shapedefaults": {
           "line": {
            "color": "#2a3f5f"
           }
          },
          "ternary": {
           "aaxis": {
            "gridcolor": "white",
            "linecolor": "white",
            "ticks": ""
           },
           "baxis": {
            "gridcolor": "white",
            "linecolor": "white",
            "ticks": ""
           },
           "bgcolor": "#E5ECF6",
           "caxis": {
            "gridcolor": "white",
            "linecolor": "white",
            "ticks": ""
           }
          },
          "title": {
           "x": 0.05
          },
          "xaxis": {
           "automargin": true,
           "gridcolor": "white",
           "linecolor": "white",
           "ticks": "",
           "title": {
            "standoff": 15
           },
           "zerolinecolor": "white",
           "zerolinewidth": 2
          },
          "yaxis": {
           "automargin": true,
           "gridcolor": "white",
           "linecolor": "white",
           "ticks": "",
           "title": {
            "standoff": 15
           },
           "zerolinecolor": "white",
           "zerolinewidth": 2
          }
         }
        },
        "title": {
         "font": {
          "color": "#4D5663"
         }
        },
        "xaxis": {
         "gridcolor": "#E1E5ED",
         "showgrid": true,
         "tickfont": {
          "color": "#4D5663"
         },
         "title": {
          "font": {
           "color": "#4D5663"
          },
          "text": ""
         },
         "zerolinecolor": "#E1E5ED"
        },
        "xaxis2": {
         "anchor": "y2",
         "gridcolor": "#E1E5ED",
         "showgrid": true,
         "showticklabels": false,
         "tickfont": {
          "color": "#4D5663"
         },
         "title": {
          "font": {
           "color": "#4D5663"
          },
          "text": ""
         },
         "zerolinecolor": "#E1E5ED"
        },
        "yaxis": {
         "domain": [
          0.3,
          1
         ],
         "gridcolor": "#E1E5ED",
         "showgrid": true,
         "tickfont": {
          "color": "#4D5663"
         },
         "title": {
          "font": {
           "color": "#4D5663"
          },
          "text": ""
         },
         "zerolinecolor": "#E1E5ED"
        },
        "yaxis2": {
         "domain": [
          0,
          0.25
         ],
         "gridcolor": "#E1E5ED",
         "showgrid": true,
         "tickfont": {
          "color": "#4D5663"
         },
         "title": {
          "font": {
           "color": "#4D5663"
          },
          "text": "Spread"
         },
         "zerolinecolor": "#E1E5ED"
        }
       }
      },
      "text/html": [
       "<div>\n",
       "        \n",
       "        \n",
       "            <div id=\"95123cea-8247-4293-8d72-201468185d9a\" class=\"plotly-graph-div\" style=\"height:525px; width:100%;\"></div>\n",
       "            <script type=\"text/javascript\">\n",
       "                require([\"plotly\"], function(Plotly) {\n",
       "                    window.PLOTLYENV=window.PLOTLYENV || {};\n",
       "                    window.PLOTLYENV.BASE_URL='https://plot.ly';\n",
       "                    \n",
       "                if (document.getElementById(\"95123cea-8247-4293-8d72-201468185d9a\")) {\n",
       "                    Plotly.newPlot(\n",
       "                        '95123cea-8247-4293-8d72-201468185d9a',\n",
       "                        [{\"line\": {\"color\": \"rgba(255, 153, 51, 1.0)\", \"dash\": \"solid\", \"shape\": \"linear\", \"width\": 1.3}, \"mode\": \"lines\", \"name\": \"A\", \"text\": \"\", \"type\": \"scatter\", \"x\": [0, 1, 2, 3, 4, 5, 6, 7, 8, 9, 10, 11, 12, 13, 14, 15, 16, 17, 18, 19, 20, 21, 22, 23, 24, 25, 26, 27, 28, 29, 30, 31, 32, 33, 34, 35, 36, 37, 38, 39, 40, 41, 42, 43, 44, 45, 46, 47, 48, 49, 50, 51, 52, 53, 54, 55, 56, 57, 58, 59, 60, 61, 62, 63, 64, 65, 66, 67, 68, 69, 70, 71, 72, 73, 74, 75, 76, 77, 78, 79, 80, 81, 82, 83, 84, 85, 86, 87, 88, 89, 90, 91, 92, 93, 94, 95, 96, 97, 98, 99], \"y\": [-0.13775086430743813, -1.9933049229514477, -0.9545044762222105, 1.4014164640928737, -1.13192187578824, -1.3617171661286414, -0.9083961716634638, 1.3303928616547227, 0.8057925035002808, -0.6897784200723086, -2.0953961176504903, 0.4779895237770411, 0.7541183143416599, 1.0885380483057463, -1.9447575190926418, 0.9975927283186687, 0.5396244432324852, -0.42383547340641514, 0.7186773780770584, 2.6607077784921724, 0.5419253101691794, 0.48168350903181256, 0.00016683141743905627, -1.434810587490341, 0.7715714846893815, 0.7456802660196701, -0.36542221125466307, -1.0166942651772195, 0.3093832415310271, -1.3304186784288994, -0.38208893085136053, 1.070745280547997, -0.24166411883649572, 1.0156796479926795, 0.34835168994849247, -0.4191523215594431, 0.06173604008436236, -1.432936038291852, 0.3258606651601762, -1.349954164282741, -0.7095098045451561, 1.010145452103435, -1.1105120080278759, 0.21666021830827295, 0.05047695299247232, 1.6979340768084248, 0.4829406701478865, -0.09070487712543199, 0.8532304688136618, -0.8942411416717861, -0.42457176708669925, -1.5657072405052173, -0.17728663186775215, -0.907529302042309, 0.015237382008090744, 0.17182485828798016, -0.422959094891893, -0.7740227863443343, -1.0208775652388034, -0.6324799702992057, 0.10822694435312787, -0.3496517337932419, 0.33060914060953733, -1.0106999926023936, -0.7222417619394348, -0.5332812245676131, -0.776755834796644, 1.1941171480095443, 1.2686298712847948, -1.017278861018582, -1.1774948698526817, -0.4239516911089791, -0.3945051098098888, -1.360817658415006, -0.863416437132497, 0.7226579837082056, -1.071158632435797, -0.7010972899518247, 1.2145562514183765, -0.28080634140698185, 0.4366347441230707, 1.314812375540971, 1.5722102595136485, 2.3812552615192804, -1.0672037558626681, -0.053593780034868706, 0.5976597621802904, -0.5418992969522781, -0.8921719903625399, 0.32805956293816935, 0.8811900268496274, -0.6639785072700968, -0.4073355000059551, -0.5740298447265203, 0.033388134057522056, -1.3913553444512943, 0.20930846462947625, -1.8181242562227442, 0.20084981290816206, -0.8380964279862918]}, {\"line\": {\"color\": \"rgba(55, 128, 191, 1.0)\", \"dash\": \"solid\", \"shape\": \"linear\", \"width\": 1.3}, \"mode\": \"lines\", \"name\": \"B\", \"text\": \"\", \"type\": \"scatter\", \"x\": [0, 1, 2, 3, 4, 5, 6, 7, 8, 9, 10, 11, 12, 13, 14, 15, 16, 17, 18, 19, 20, 21, 22, 23, 24, 25, 26, 27, 28, 29, 30, 31, 32, 33, 34, 35, 36, 37, 38, 39, 40, 41, 42, 43, 44, 45, 46, 47, 48, 49, 50, 51, 52, 53, 54, 55, 56, 57, 58, 59, 60, 61, 62, 63, 64, 65, 66, 67, 68, 69, 70, 71, 72, 73, 74, 75, 76, 77, 78, 79, 80, 81, 82, 83, 84, 85, 86, 87, 88, 89, 90, 91, 92, 93, 94, 95, 96, 97, 98, 99], \"y\": [0.4867039677135526, 1.244047840402478, 2.3332257859437378, 1.689469317780753, 0.26600468702917085, -1.5534056582883649, -1.4715859849210289, -0.2044115131727728, 0.26871657375985414, -0.3422180501613123, -1.7735616597332367, -0.016933444517672404, -0.7293476753347374, -0.624452059783926, -1.2763146611944258, 1.2724287629354616, 0.3481211380276087, -1.0169552849327732, 0.10521745932772313, -0.6304304028436521, -0.5041196367567813, 0.3161120551419451, 0.7369874147128881, -1.0598247277896868, -0.18506125663662593, 0.810477229270296, -1.384807705451281, -0.8863863326525558, 0.9147353176181667, -0.5385833168165204, 0.23579161115875363, 1.3922065321592305, -0.029253693715969455, 0.9869678719055079, -0.8315582910357844, -0.15630658169048334, 0.3630713272506266, -0.5732445399171228, 0.6868772378242992, 1.1003303290999775, 0.18612995904760574, 0.6946198041945933, -2.365577687112027, 0.8905083947588157, 0.6373915150218937, -1.5590165623571386, -1.8099737250328467, 0.8187923807100435, -0.566006465230476, -0.2075092147286489, -1.5463956090468263, -0.2027034353912444, 0.6110919682579047, -0.4024096082165716, 0.1092393679292165, -1.549036721036476, -0.28602484732646627, -1.596958432253144, -1.2934586866600908, -0.4345286168661543, -0.6577383489380272, 0.7483943244863837, 1.079000643133668, -1.5546810209164317, -0.7525658730481593, 0.9060783055285099, -1.4556490922061072, 1.5641473539411717, 0.867404487903958, -0.7804546920722069, -0.2626463976382476, 1.0219316310317808, -0.940622822003576, -0.7058560462667333, 0.40742227057372776, -1.06757106950965, -0.7515626021053561, 2.1636224076620234, 0.286759747917996, -0.8385984718681364, -0.7641870886396996, -0.48373459403747987, 0.10528249278382575, -0.9632439023829252, 1.903457634504097, -0.16604985961639618, 0.5530277500259455, 0.0951366549917921, 0.10390345527482063, 0.12218714334909844, -1.1493425592465587, 0.5883479007961637, 0.23124416068370013, 1.0861293480045746, 1.2786656219423185, -0.10469047643119377, 0.664352682995852, -0.45585776757309304, -0.309786574014567, -1.1229610739076694]}, {\"connectgaps\": false, \"fill\": \"tozeroy\", \"line\": {\"color\": \"green\", \"dash\": \"solid\", \"shape\": \"linear\", \"width\": 0.5}, \"mode\": \"lines\", \"name\": \"Spread\", \"showlegend\": false, \"type\": \"scatter\", \"x\": [0, 1, 2, 3, 4, 5, 6, 7, 8, 9, 10, 11, 12, 13, 14, 15, 16, 17, 18, 19, 20, 21, 22, 23, 24, 25, 26, 27, 28, 29, 30, 31, 32, 33, 34, 35, 36, 37, 38, 39, 40, 41, 42, 43, 44, 45, 46, 47, 48, 49, 50, 51, 52, 53, 54, 55, 56, 57, 58, 59, 60, 61, 62, 63, 64, 65, 66, 67, 68, 69, 70, 71, 72, 73, 74, 75, 76, 77, 78, 79, 80, 81, 82, 83, 84, 85, 86, 87, 88, 89, 90, 91, 92, 93, 94, 95, 96, 97, 98, 99], \"xaxis\": \"x2\", \"y\": [\"\", \"\", \"\", \"\", \"\", 0.1916884921597235, 0.5631898132575651, 1.5348043748274955, 0.5370759297404266, \"\", \"\", 0.49492296829471355, 1.4834659896763973, 1.7129901080896723, \"\", \"\", 0.19150330520487646, 0.5931198115263581, 0.6134599187493354, 3.2911381813358247, 1.0460449469259607, 0.16557145388986744, \"\", \"\", 0.9566327413260074, \"\", 1.019385494196618, \"\", \"\", \"\", \"\", \"\", \"\", 0.02871177608717157, 1.1799099809842768, \"\", \"\", \"\", \"\", \"\", \"\", 0.31552564790884163, 1.255065679084151, \"\", \"\", 3.2569506391655634, 2.292914395180733, \"\", 1.4192369340441378, \"\", 1.121823841960127, \"\", \"\", \"\", \"\", 1.7208615793244562, \"\", 0.8229356459088097, 0.27258112142128743, \"\", 0.765965293291155, \"\", \"\", 0.543981028314038, 0.03032411110872446, \"\", 0.6788932574094632, \"\", 0.4012253833808368, \"\", \"\", \"\", 0.5461177121936873, \"\", \"\", 1.7902290532178555, \"\", \"\", 0.9277965035003806, 0.5577921304611546, 1.2008218327627702, 1.7985469695784508, 1.4669277667298226, 3.3444991639022055, \"\", 0.11245607958152748, 0.04463201215434487, \"\", \"\", 0.2058724195890709, 2.0305325860961863, \"\", \"\", \"\", \"\", \"\", \"\", \"\", 0.5106363869227291, 0.2848646459213776], \"yaxis\": \"y2\"}, {\"connectgaps\": false, \"fill\": \"tozeroy\", \"line\": {\"color\": \"red\", \"dash\": \"solid\", \"shape\": \"linear\", \"width\": 0.5}, \"mode\": \"lines\", \"name\": \"Spread\", \"showlegend\": false, \"type\": \"scatter\", \"x\": [0, 1, 2, 3, 4, 5, 6, 7, 8, 9, 10, 11, 12, 13, 14, 15, 16, 17, 18, 19, 20, 21, 22, 23, 24, 25, 26, 27, 28, 29, 30, 31, 32, 33, 34, 35, 36, 37, 38, 39, 40, 41, 42, 43, 44, 45, 46, 47, 48, 49, 50, 51, 52, 53, 54, 55, 56, 57, 58, 59, 60, 61, 62, 63, 64, 65, 66, 67, 68, 69, 70, 71, 72, 73, 74, 75, 76, 77, 78, 79, 80, 81, 82, 83, 84, 85, 86, 87, 88, 89, 90, 91, 92, 93, 94, 95, 96, 97, 98, 99], \"xaxis\": \"x2\", \"y\": [-0.6244548320209907, -3.2373527633539254, -3.2877302621659483, -0.28805285368787925, -1.397926562817411, \"\", \"\", \"\", \"\", -0.3475603699109963, -0.3218344579172536, \"\", \"\", \"\", -0.668442857898216, -0.27483603461679285, \"\", \"\", \"\", \"\", \"\", \"\", -0.7368205832954491, -0.3749858597006541, \"\", -0.0647969632506259, \"\", -0.13030793252466366, -0.6053520760871396, -0.791835361612379, -0.6178805420101141, -0.3214612516112336, -0.21241042512052627, \"\", \"\", -0.26284573986895976, -0.30133528716626423, -0.8596914983747291, -0.361016572664123, -2.4502844933827186, -0.8956397635927619, \"\", \"\", -0.6738481764505427, -0.5869145620294214, \"\", \"\", -0.9094972578354754, \"\", -0.6867319269431372, \"\", -1.3630038051139728, -0.7883786001256569, -0.5051196938257374, -0.09400198592112576, \"\", -0.13693424756542671, \"\", \"\", -0.19795135343305137, \"\", -1.0980460582796256, -0.7483915025241308, \"\", \"\", -1.439359530096123, \"\", -0.3700302059316274, \"\", -0.23682416894637504, -0.9148484722144341, -1.4458833221407599, \"\", -0.6549616121482728, -1.2708387077062249, \"\", -0.3195960303304408, -2.864719697613848, \"\", \"\", \"\", \"\", \"\", \"\", -2.9706613903667654, \"\", \"\", -0.6370359519440703, -0.9960754456373605, \"\", \"\", -1.2523264080662604, -0.6385796606896552, -1.6601591927310948, -1.2452774878847963, -1.2866648680201005, -0.45504421836637576, -1.3622664886496512, \"\", \"\"], \"yaxis\": \"y2\"}],\n",
       "                        {\"hovermode\": \"x\", \"legend\": {\"bgcolor\": \"#F5F6F9\", \"font\": {\"color\": \"#4D5663\"}}, \"paper_bgcolor\": \"#F5F6F9\", \"plot_bgcolor\": \"#F5F6F9\", \"template\": {\"data\": {\"bar\": [{\"error_x\": {\"color\": \"#2a3f5f\"}, \"error_y\": {\"color\": \"#2a3f5f\"}, \"marker\": {\"line\": {\"color\": \"#E5ECF6\", \"width\": 0.5}}, \"type\": \"bar\"}], \"barpolar\": [{\"marker\": {\"line\": {\"color\": \"#E5ECF6\", \"width\": 0.5}}, \"type\": \"barpolar\"}], \"carpet\": [{\"aaxis\": {\"endlinecolor\": \"#2a3f5f\", \"gridcolor\": \"white\", \"linecolor\": \"white\", \"minorgridcolor\": \"white\", \"startlinecolor\": \"#2a3f5f\"}, \"baxis\": {\"endlinecolor\": \"#2a3f5f\", \"gridcolor\": \"white\", \"linecolor\": \"white\", \"minorgridcolor\": \"white\", \"startlinecolor\": \"#2a3f5f\"}, \"type\": \"carpet\"}], \"choropleth\": [{\"colorbar\": {\"outlinewidth\": 0, \"ticks\": \"\"}, \"type\": \"choropleth\"}], \"contour\": [{\"colorbar\": {\"outlinewidth\": 0, \"ticks\": \"\"}, \"colorscale\": [[0.0, \"#0d0887\"], [0.1111111111111111, \"#46039f\"], [0.2222222222222222, \"#7201a8\"], [0.3333333333333333, \"#9c179e\"], [0.4444444444444444, \"#bd3786\"], [0.5555555555555556, \"#d8576b\"], [0.6666666666666666, \"#ed7953\"], [0.7777777777777778, \"#fb9f3a\"], [0.8888888888888888, \"#fdca26\"], [1.0, \"#f0f921\"]], \"type\": \"contour\"}], \"contourcarpet\": [{\"colorbar\": {\"outlinewidth\": 0, \"ticks\": \"\"}, \"type\": \"contourcarpet\"}], \"heatmap\": [{\"colorbar\": {\"outlinewidth\": 0, \"ticks\": \"\"}, \"colorscale\": [[0.0, \"#0d0887\"], [0.1111111111111111, \"#46039f\"], [0.2222222222222222, \"#7201a8\"], [0.3333333333333333, \"#9c179e\"], [0.4444444444444444, \"#bd3786\"], [0.5555555555555556, \"#d8576b\"], [0.6666666666666666, \"#ed7953\"], [0.7777777777777778, \"#fb9f3a\"], [0.8888888888888888, \"#fdca26\"], [1.0, \"#f0f921\"]], \"type\": \"heatmap\"}], \"heatmapgl\": [{\"colorbar\": {\"outlinewidth\": 0, \"ticks\": \"\"}, \"colorscale\": [[0.0, \"#0d0887\"], [0.1111111111111111, \"#46039f\"], [0.2222222222222222, \"#7201a8\"], [0.3333333333333333, \"#9c179e\"], [0.4444444444444444, \"#bd3786\"], [0.5555555555555556, \"#d8576b\"], [0.6666666666666666, \"#ed7953\"], [0.7777777777777778, \"#fb9f3a\"], [0.8888888888888888, \"#fdca26\"], [1.0, \"#f0f921\"]], \"type\": \"heatmapgl\"}], \"histogram\": [{\"marker\": {\"colorbar\": {\"outlinewidth\": 0, \"ticks\": \"\"}}, \"type\": \"histogram\"}], \"histogram2d\": [{\"colorbar\": {\"outlinewidth\": 0, \"ticks\": \"\"}, \"colorscale\": [[0.0, \"#0d0887\"], [0.1111111111111111, \"#46039f\"], [0.2222222222222222, \"#7201a8\"], [0.3333333333333333, \"#9c179e\"], [0.4444444444444444, \"#bd3786\"], [0.5555555555555556, \"#d8576b\"], [0.6666666666666666, \"#ed7953\"], [0.7777777777777778, \"#fb9f3a\"], [0.8888888888888888, \"#fdca26\"], [1.0, \"#f0f921\"]], \"type\": \"histogram2d\"}], \"histogram2dcontour\": [{\"colorbar\": {\"outlinewidth\": 0, \"ticks\": \"\"}, \"colorscale\": [[0.0, \"#0d0887\"], [0.1111111111111111, \"#46039f\"], [0.2222222222222222, \"#7201a8\"], [0.3333333333333333, \"#9c179e\"], [0.4444444444444444, \"#bd3786\"], [0.5555555555555556, \"#d8576b\"], [0.6666666666666666, \"#ed7953\"], [0.7777777777777778, \"#fb9f3a\"], [0.8888888888888888, \"#fdca26\"], [1.0, \"#f0f921\"]], \"type\": \"histogram2dcontour\"}], \"mesh3d\": [{\"colorbar\": {\"outlinewidth\": 0, \"ticks\": \"\"}, \"type\": \"mesh3d\"}], \"parcoords\": [{\"line\": {\"colorbar\": {\"outlinewidth\": 0, \"ticks\": \"\"}}, \"type\": \"parcoords\"}], \"pie\": [{\"automargin\": true, \"type\": \"pie\"}], \"scatter\": [{\"marker\": {\"colorbar\": {\"outlinewidth\": 0, \"ticks\": \"\"}}, \"type\": \"scatter\"}], \"scatter3d\": [{\"line\": {\"colorbar\": {\"outlinewidth\": 0, \"ticks\": \"\"}}, \"marker\": {\"colorbar\": {\"outlinewidth\": 0, \"ticks\": \"\"}}, \"type\": \"scatter3d\"}], \"scattercarpet\": [{\"marker\": {\"colorbar\": {\"outlinewidth\": 0, \"ticks\": \"\"}}, \"type\": \"scattercarpet\"}], \"scattergeo\": [{\"marker\": {\"colorbar\": {\"outlinewidth\": 0, \"ticks\": \"\"}}, \"type\": \"scattergeo\"}], \"scattergl\": [{\"marker\": {\"colorbar\": {\"outlinewidth\": 0, \"ticks\": \"\"}}, \"type\": \"scattergl\"}], \"scattermapbox\": [{\"marker\": {\"colorbar\": {\"outlinewidth\": 0, \"ticks\": \"\"}}, \"type\": \"scattermapbox\"}], \"scatterpolar\": [{\"marker\": {\"colorbar\": {\"outlinewidth\": 0, \"ticks\": \"\"}}, \"type\": \"scatterpolar\"}], \"scatterpolargl\": [{\"marker\": {\"colorbar\": {\"outlinewidth\": 0, \"ticks\": \"\"}}, \"type\": \"scatterpolargl\"}], \"scatterternary\": [{\"marker\": {\"colorbar\": {\"outlinewidth\": 0, \"ticks\": \"\"}}, \"type\": \"scatterternary\"}], \"surface\": [{\"colorbar\": {\"outlinewidth\": 0, \"ticks\": \"\"}, \"colorscale\": [[0.0, \"#0d0887\"], [0.1111111111111111, \"#46039f\"], [0.2222222222222222, \"#7201a8\"], [0.3333333333333333, \"#9c179e\"], [0.4444444444444444, \"#bd3786\"], [0.5555555555555556, \"#d8576b\"], [0.6666666666666666, \"#ed7953\"], [0.7777777777777778, \"#fb9f3a\"], [0.8888888888888888, \"#fdca26\"], [1.0, \"#f0f921\"]], \"type\": \"surface\"}], \"table\": [{\"cells\": {\"fill\": {\"color\": \"#EBF0F8\"}, \"line\": {\"color\": \"white\"}}, \"header\": {\"fill\": {\"color\": \"#C8D4E3\"}, \"line\": {\"color\": \"white\"}}, \"type\": \"table\"}]}, \"layout\": {\"annotationdefaults\": {\"arrowcolor\": \"#2a3f5f\", \"arrowhead\": 0, \"arrowwidth\": 1}, \"coloraxis\": {\"colorbar\": {\"outlinewidth\": 0, \"ticks\": \"\"}}, \"colorscale\": {\"diverging\": [[0, \"#8e0152\"], [0.1, \"#c51b7d\"], [0.2, \"#de77ae\"], [0.3, \"#f1b6da\"], [0.4, \"#fde0ef\"], [0.5, \"#f7f7f7\"], [0.6, \"#e6f5d0\"], [0.7, \"#b8e186\"], [0.8, \"#7fbc41\"], [0.9, \"#4d9221\"], [1, \"#276419\"]], \"sequential\": [[0.0, \"#0d0887\"], [0.1111111111111111, \"#46039f\"], [0.2222222222222222, \"#7201a8\"], [0.3333333333333333, \"#9c179e\"], [0.4444444444444444, \"#bd3786\"], [0.5555555555555556, \"#d8576b\"], [0.6666666666666666, \"#ed7953\"], [0.7777777777777778, \"#fb9f3a\"], [0.8888888888888888, \"#fdca26\"], [1.0, \"#f0f921\"]], \"sequentialminus\": [[0.0, \"#0d0887\"], [0.1111111111111111, \"#46039f\"], [0.2222222222222222, \"#7201a8\"], [0.3333333333333333, \"#9c179e\"], [0.4444444444444444, \"#bd3786\"], [0.5555555555555556, \"#d8576b\"], [0.6666666666666666, \"#ed7953\"], [0.7777777777777778, \"#fb9f3a\"], [0.8888888888888888, \"#fdca26\"], [1.0, \"#f0f921\"]]}, \"colorway\": [\"#636efa\", \"#EF553B\", \"#00cc96\", \"#ab63fa\", \"#FFA15A\", \"#19d3f3\", \"#FF6692\", \"#B6E880\", \"#FF97FF\", \"#FECB52\"], \"font\": {\"color\": \"#2a3f5f\"}, \"geo\": {\"bgcolor\": \"white\", \"lakecolor\": \"white\", \"landcolor\": \"#E5ECF6\", \"showlakes\": true, \"showland\": true, \"subunitcolor\": \"white\"}, \"hoverlabel\": {\"align\": \"left\"}, \"hovermode\": \"closest\", \"mapbox\": {\"style\": \"light\"}, \"paper_bgcolor\": \"white\", \"plot_bgcolor\": \"#E5ECF6\", \"polar\": {\"angularaxis\": {\"gridcolor\": \"white\", \"linecolor\": \"white\", \"ticks\": \"\"}, \"bgcolor\": \"#E5ECF6\", \"radialaxis\": {\"gridcolor\": \"white\", \"linecolor\": \"white\", \"ticks\": \"\"}}, \"scene\": {\"xaxis\": {\"backgroundcolor\": \"#E5ECF6\", \"gridcolor\": \"white\", \"gridwidth\": 2, \"linecolor\": \"white\", \"showbackground\": true, \"ticks\": \"\", \"zerolinecolor\": \"white\"}, \"yaxis\": {\"backgroundcolor\": \"#E5ECF6\", \"gridcolor\": \"white\", \"gridwidth\": 2, \"linecolor\": \"white\", \"showbackground\": true, \"ticks\": \"\", \"zerolinecolor\": \"white\"}, \"zaxis\": {\"backgroundcolor\": \"#E5ECF6\", \"gridcolor\": \"white\", \"gridwidth\": 2, \"linecolor\": \"white\", \"showbackground\": true, \"ticks\": \"\", \"zerolinecolor\": \"white\"}}, \"shapedefaults\": {\"line\": {\"color\": \"#2a3f5f\"}}, \"ternary\": {\"aaxis\": {\"gridcolor\": \"white\", \"linecolor\": \"white\", \"ticks\": \"\"}, \"baxis\": {\"gridcolor\": \"white\", \"linecolor\": \"white\", \"ticks\": \"\"}, \"bgcolor\": \"#E5ECF6\", \"caxis\": {\"gridcolor\": \"white\", \"linecolor\": \"white\", \"ticks\": \"\"}}, \"title\": {\"x\": 0.05}, \"xaxis\": {\"automargin\": true, \"gridcolor\": \"white\", \"linecolor\": \"white\", \"ticks\": \"\", \"title\": {\"standoff\": 15}, \"zerolinecolor\": \"white\", \"zerolinewidth\": 2}, \"yaxis\": {\"automargin\": true, \"gridcolor\": \"white\", \"linecolor\": \"white\", \"ticks\": \"\", \"title\": {\"standoff\": 15}, \"zerolinecolor\": \"white\", \"zerolinewidth\": 2}}}, \"title\": {\"font\": {\"color\": \"#4D5663\"}}, \"xaxis\": {\"gridcolor\": \"#E1E5ED\", \"showgrid\": true, \"tickfont\": {\"color\": \"#4D5663\"}, \"title\": {\"font\": {\"color\": \"#4D5663\"}, \"text\": \"\"}, \"zerolinecolor\": \"#E1E5ED\"}, \"xaxis2\": {\"anchor\": \"y2\", \"gridcolor\": \"#E1E5ED\", \"showgrid\": true, \"showticklabels\": false, \"tickfont\": {\"color\": \"#4D5663\"}, \"title\": {\"font\": {\"color\": \"#4D5663\"}, \"text\": \"\"}, \"zerolinecolor\": \"#E1E5ED\"}, \"yaxis\": {\"domain\": [0.3, 1], \"gridcolor\": \"#E1E5ED\", \"showgrid\": true, \"tickfont\": {\"color\": \"#4D5663\"}, \"title\": {\"font\": {\"color\": \"#4D5663\"}, \"text\": \"\"}, \"zerolinecolor\": \"#E1E5ED\"}, \"yaxis2\": {\"domain\": [0, 0.25], \"gridcolor\": \"#E1E5ED\", \"showgrid\": true, \"tickfont\": {\"color\": \"#4D5663\"}, \"title\": {\"font\": {\"color\": \"#4D5663\"}, \"text\": \"Spread\"}, \"zerolinecolor\": \"#E1E5ED\"}},\n",
       "                        {\"showLink\": true, \"linkText\": \"Export to plot.ly\", \"plotlyServerURL\": \"https://plot.ly\", \"responsive\": true}\n",
       "                    ).then(function(){\n",
       "                            \n",
       "var gd = document.getElementById('95123cea-8247-4293-8d72-201468185d9a');\n",
       "var x = new MutationObserver(function (mutations, observer) {{\n",
       "        var display = window.getComputedStyle(gd).display;\n",
       "        if (!display || display === 'none') {{\n",
       "            console.log([gd, 'removed!']);\n",
       "            Plotly.purge(gd);\n",
       "            observer.disconnect();\n",
       "        }}\n",
       "}});\n",
       "\n",
       "// Listen for the removal of the full notebook cells\n",
       "var notebookContainer = gd.closest('#notebook-container');\n",
       "if (notebookContainer) {{\n",
       "    x.observe(notebookContainer, {childList: true});\n",
       "}}\n",
       "\n",
       "// Listen for the clearing of the current output cell\n",
       "var outputEl = gd.closest('.output');\n",
       "if (outputEl) {{\n",
       "    x.observe(outputEl, {childList: true});\n",
       "}}\n",
       "\n",
       "                        })\n",
       "                };\n",
       "                });\n",
       "            </script>\n",
       "        </div>"
      ]
     },
     "metadata": {},
     "output_type": "display_data"
    }
   ],
   "source": [
    "df[['A','B']].iplot(kind='spread')"
   ]
  },
  {
   "cell_type": "markdown",
   "metadata": {},
   "source": [
    "## histogram"
   ]
  },
  {
   "cell_type": "code",
   "execution_count": 22,
   "metadata": {},
   "outputs": [
    {
     "data": {
      "application/vnd.plotly.v1+json": {
       "config": {
        "linkText": "Export to plot.ly",
        "plotlyServerURL": "https://plot.ly",
        "showLink": true
       },
       "data": [
        {
         "histfunc": "count",
         "histnorm": "",
         "marker": {
          "color": "rgba(255, 153, 51, 1.0)",
          "line": {
           "color": "#4D5663",
           "width": 1.3
          }
         },
         "name": "A",
         "nbinsx": 25,
         "opacity": 0.8,
         "orientation": "v",
         "type": "histogram",
         "x": [
          -0.13775086430743813,
          -1.9933049229514477,
          -0.9545044762222105,
          1.4014164640928737,
          -1.13192187578824,
          -1.3617171661286414,
          -0.9083961716634638,
          1.3303928616547227,
          0.8057925035002808,
          -0.6897784200723086,
          -2.0953961176504903,
          0.4779895237770411,
          0.7541183143416599,
          1.0885380483057463,
          -1.9447575190926418,
          0.9975927283186687,
          0.5396244432324852,
          -0.42383547340641514,
          0.7186773780770584,
          2.6607077784921724,
          0.5419253101691794,
          0.48168350903181256,
          0.00016683141743905627,
          -1.434810587490341,
          0.7715714846893815,
          0.7456802660196701,
          -0.36542221125466307,
          -1.0166942651772195,
          0.3093832415310271,
          -1.3304186784288994,
          -0.38208893085136053,
          1.070745280547997,
          -0.24166411883649572,
          1.0156796479926795,
          0.34835168994849247,
          -0.4191523215594431,
          0.06173604008436236,
          -1.432936038291852,
          0.3258606651601762,
          -1.349954164282741,
          -0.7095098045451561,
          1.010145452103435,
          -1.1105120080278759,
          0.21666021830827295,
          0.05047695299247232,
          1.6979340768084248,
          0.4829406701478865,
          -0.09070487712543199,
          0.8532304688136618,
          -0.8942411416717861,
          -0.42457176708669925,
          -1.5657072405052173,
          -0.17728663186775215,
          -0.907529302042309,
          0.015237382008090744,
          0.17182485828798016,
          -0.422959094891893,
          -0.7740227863443343,
          -1.0208775652388034,
          -0.6324799702992057,
          0.10822694435312787,
          -0.3496517337932419,
          0.33060914060953733,
          -1.0106999926023936,
          -0.7222417619394348,
          -0.5332812245676131,
          -0.776755834796644,
          1.1941171480095443,
          1.2686298712847948,
          -1.017278861018582,
          -1.1774948698526817,
          -0.4239516911089791,
          -0.3945051098098888,
          -1.360817658415006,
          -0.863416437132497,
          0.7226579837082056,
          -1.071158632435797,
          -0.7010972899518247,
          1.2145562514183765,
          -0.28080634140698185,
          0.4366347441230707,
          1.314812375540971,
          1.5722102595136485,
          2.3812552615192804,
          -1.0672037558626681,
          -0.053593780034868706,
          0.5976597621802904,
          -0.5418992969522781,
          -0.8921719903625399,
          0.32805956293816935,
          0.8811900268496274,
          -0.6639785072700968,
          -0.4073355000059551,
          -0.5740298447265203,
          0.033388134057522056,
          -1.3913553444512943,
          0.20930846462947625,
          -1.8181242562227442,
          0.20084981290816206,
          -0.8380964279862918
         ]
        }
       ],
       "layout": {
        "barmode": "overlay",
        "legend": {
         "bgcolor": "#F5F6F9",
         "font": {
          "color": "#4D5663"
         }
        },
        "paper_bgcolor": "#F5F6F9",
        "plot_bgcolor": "#F5F6F9",
        "template": {
         "data": {
          "bar": [
           {
            "error_x": {
             "color": "#2a3f5f"
            },
            "error_y": {
             "color": "#2a3f5f"
            },
            "marker": {
             "line": {
              "color": "#E5ECF6",
              "width": 0.5
             }
            },
            "type": "bar"
           }
          ],
          "barpolar": [
           {
            "marker": {
             "line": {
              "color": "#E5ECF6",
              "width": 0.5
             }
            },
            "type": "barpolar"
           }
          ],
          "carpet": [
           {
            "aaxis": {
             "endlinecolor": "#2a3f5f",
             "gridcolor": "white",
             "linecolor": "white",
             "minorgridcolor": "white",
             "startlinecolor": "#2a3f5f"
            },
            "baxis": {
             "endlinecolor": "#2a3f5f",
             "gridcolor": "white",
             "linecolor": "white",
             "minorgridcolor": "white",
             "startlinecolor": "#2a3f5f"
            },
            "type": "carpet"
           }
          ],
          "choropleth": [
           {
            "colorbar": {
             "outlinewidth": 0,
             "ticks": ""
            },
            "type": "choropleth"
           }
          ],
          "contour": [
           {
            "colorbar": {
             "outlinewidth": 0,
             "ticks": ""
            },
            "colorscale": [
             [
              0,
              "#0d0887"
             ],
             [
              0.1111111111111111,
              "#46039f"
             ],
             [
              0.2222222222222222,
              "#7201a8"
             ],
             [
              0.3333333333333333,
              "#9c179e"
             ],
             [
              0.4444444444444444,
              "#bd3786"
             ],
             [
              0.5555555555555556,
              "#d8576b"
             ],
             [
              0.6666666666666666,
              "#ed7953"
             ],
             [
              0.7777777777777778,
              "#fb9f3a"
             ],
             [
              0.8888888888888888,
              "#fdca26"
             ],
             [
              1,
              "#f0f921"
             ]
            ],
            "type": "contour"
           }
          ],
          "contourcarpet": [
           {
            "colorbar": {
             "outlinewidth": 0,
             "ticks": ""
            },
            "type": "contourcarpet"
           }
          ],
          "heatmap": [
           {
            "colorbar": {
             "outlinewidth": 0,
             "ticks": ""
            },
            "colorscale": [
             [
              0,
              "#0d0887"
             ],
             [
              0.1111111111111111,
              "#46039f"
             ],
             [
              0.2222222222222222,
              "#7201a8"
             ],
             [
              0.3333333333333333,
              "#9c179e"
             ],
             [
              0.4444444444444444,
              "#bd3786"
             ],
             [
              0.5555555555555556,
              "#d8576b"
             ],
             [
              0.6666666666666666,
              "#ed7953"
             ],
             [
              0.7777777777777778,
              "#fb9f3a"
             ],
             [
              0.8888888888888888,
              "#fdca26"
             ],
             [
              1,
              "#f0f921"
             ]
            ],
            "type": "heatmap"
           }
          ],
          "heatmapgl": [
           {
            "colorbar": {
             "outlinewidth": 0,
             "ticks": ""
            },
            "colorscale": [
             [
              0,
              "#0d0887"
             ],
             [
              0.1111111111111111,
              "#46039f"
             ],
             [
              0.2222222222222222,
              "#7201a8"
             ],
             [
              0.3333333333333333,
              "#9c179e"
             ],
             [
              0.4444444444444444,
              "#bd3786"
             ],
             [
              0.5555555555555556,
              "#d8576b"
             ],
             [
              0.6666666666666666,
              "#ed7953"
             ],
             [
              0.7777777777777778,
              "#fb9f3a"
             ],
             [
              0.8888888888888888,
              "#fdca26"
             ],
             [
              1,
              "#f0f921"
             ]
            ],
            "type": "heatmapgl"
           }
          ],
          "histogram": [
           {
            "marker": {
             "colorbar": {
              "outlinewidth": 0,
              "ticks": ""
             }
            },
            "type": "histogram"
           }
          ],
          "histogram2d": [
           {
            "colorbar": {
             "outlinewidth": 0,
             "ticks": ""
            },
            "colorscale": [
             [
              0,
              "#0d0887"
             ],
             [
              0.1111111111111111,
              "#46039f"
             ],
             [
              0.2222222222222222,
              "#7201a8"
             ],
             [
              0.3333333333333333,
              "#9c179e"
             ],
             [
              0.4444444444444444,
              "#bd3786"
             ],
             [
              0.5555555555555556,
              "#d8576b"
             ],
             [
              0.6666666666666666,
              "#ed7953"
             ],
             [
              0.7777777777777778,
              "#fb9f3a"
             ],
             [
              0.8888888888888888,
              "#fdca26"
             ],
             [
              1,
              "#f0f921"
             ]
            ],
            "type": "histogram2d"
           }
          ],
          "histogram2dcontour": [
           {
            "colorbar": {
             "outlinewidth": 0,
             "ticks": ""
            },
            "colorscale": [
             [
              0,
              "#0d0887"
             ],
             [
              0.1111111111111111,
              "#46039f"
             ],
             [
              0.2222222222222222,
              "#7201a8"
             ],
             [
              0.3333333333333333,
              "#9c179e"
             ],
             [
              0.4444444444444444,
              "#bd3786"
             ],
             [
              0.5555555555555556,
              "#d8576b"
             ],
             [
              0.6666666666666666,
              "#ed7953"
             ],
             [
              0.7777777777777778,
              "#fb9f3a"
             ],
             [
              0.8888888888888888,
              "#fdca26"
             ],
             [
              1,
              "#f0f921"
             ]
            ],
            "type": "histogram2dcontour"
           }
          ],
          "mesh3d": [
           {
            "colorbar": {
             "outlinewidth": 0,
             "ticks": ""
            },
            "type": "mesh3d"
           }
          ],
          "parcoords": [
           {
            "line": {
             "colorbar": {
              "outlinewidth": 0,
              "ticks": ""
             }
            },
            "type": "parcoords"
           }
          ],
          "pie": [
           {
            "automargin": true,
            "type": "pie"
           }
          ],
          "scatter": [
           {
            "marker": {
             "colorbar": {
              "outlinewidth": 0,
              "ticks": ""
             }
            },
            "type": "scatter"
           }
          ],
          "scatter3d": [
           {
            "line": {
             "colorbar": {
              "outlinewidth": 0,
              "ticks": ""
             }
            },
            "marker": {
             "colorbar": {
              "outlinewidth": 0,
              "ticks": ""
             }
            },
            "type": "scatter3d"
           }
          ],
          "scattercarpet": [
           {
            "marker": {
             "colorbar": {
              "outlinewidth": 0,
              "ticks": ""
             }
            },
            "type": "scattercarpet"
           }
          ],
          "scattergeo": [
           {
            "marker": {
             "colorbar": {
              "outlinewidth": 0,
              "ticks": ""
             }
            },
            "type": "scattergeo"
           }
          ],
          "scattergl": [
           {
            "marker": {
             "colorbar": {
              "outlinewidth": 0,
              "ticks": ""
             }
            },
            "type": "scattergl"
           }
          ],
          "scattermapbox": [
           {
            "marker": {
             "colorbar": {
              "outlinewidth": 0,
              "ticks": ""
             }
            },
            "type": "scattermapbox"
           }
          ],
          "scatterpolar": [
           {
            "marker": {
             "colorbar": {
              "outlinewidth": 0,
              "ticks": ""
             }
            },
            "type": "scatterpolar"
           }
          ],
          "scatterpolargl": [
           {
            "marker": {
             "colorbar": {
              "outlinewidth": 0,
              "ticks": ""
             }
            },
            "type": "scatterpolargl"
           }
          ],
          "scatterternary": [
           {
            "marker": {
             "colorbar": {
              "outlinewidth": 0,
              "ticks": ""
             }
            },
            "type": "scatterternary"
           }
          ],
          "surface": [
           {
            "colorbar": {
             "outlinewidth": 0,
             "ticks": ""
            },
            "colorscale": [
             [
              0,
              "#0d0887"
             ],
             [
              0.1111111111111111,
              "#46039f"
             ],
             [
              0.2222222222222222,
              "#7201a8"
             ],
             [
              0.3333333333333333,
              "#9c179e"
             ],
             [
              0.4444444444444444,
              "#bd3786"
             ],
             [
              0.5555555555555556,
              "#d8576b"
             ],
             [
              0.6666666666666666,
              "#ed7953"
             ],
             [
              0.7777777777777778,
              "#fb9f3a"
             ],
             [
              0.8888888888888888,
              "#fdca26"
             ],
             [
              1,
              "#f0f921"
             ]
            ],
            "type": "surface"
           }
          ],
          "table": [
           {
            "cells": {
             "fill": {
              "color": "#EBF0F8"
             },
             "line": {
              "color": "white"
             }
            },
            "header": {
             "fill": {
              "color": "#C8D4E3"
             },
             "line": {
              "color": "white"
             }
            },
            "type": "table"
           }
          ]
         },
         "layout": {
          "annotationdefaults": {
           "arrowcolor": "#2a3f5f",
           "arrowhead": 0,
           "arrowwidth": 1
          },
          "coloraxis": {
           "colorbar": {
            "outlinewidth": 0,
            "ticks": ""
           }
          },
          "colorscale": {
           "diverging": [
            [
             0,
             "#8e0152"
            ],
            [
             0.1,
             "#c51b7d"
            ],
            [
             0.2,
             "#de77ae"
            ],
            [
             0.3,
             "#f1b6da"
            ],
            [
             0.4,
             "#fde0ef"
            ],
            [
             0.5,
             "#f7f7f7"
            ],
            [
             0.6,
             "#e6f5d0"
            ],
            [
             0.7,
             "#b8e186"
            ],
            [
             0.8,
             "#7fbc41"
            ],
            [
             0.9,
             "#4d9221"
            ],
            [
             1,
             "#276419"
            ]
           ],
           "sequential": [
            [
             0,
             "#0d0887"
            ],
            [
             0.1111111111111111,
             "#46039f"
            ],
            [
             0.2222222222222222,
             "#7201a8"
            ],
            [
             0.3333333333333333,
             "#9c179e"
            ],
            [
             0.4444444444444444,
             "#bd3786"
            ],
            [
             0.5555555555555556,
             "#d8576b"
            ],
            [
             0.6666666666666666,
             "#ed7953"
            ],
            [
             0.7777777777777778,
             "#fb9f3a"
            ],
            [
             0.8888888888888888,
             "#fdca26"
            ],
            [
             1,
             "#f0f921"
            ]
           ],
           "sequentialminus": [
            [
             0,
             "#0d0887"
            ],
            [
             0.1111111111111111,
             "#46039f"
            ],
            [
             0.2222222222222222,
             "#7201a8"
            ],
            [
             0.3333333333333333,
             "#9c179e"
            ],
            [
             0.4444444444444444,
             "#bd3786"
            ],
            [
             0.5555555555555556,
             "#d8576b"
            ],
            [
             0.6666666666666666,
             "#ed7953"
            ],
            [
             0.7777777777777778,
             "#fb9f3a"
            ],
            [
             0.8888888888888888,
             "#fdca26"
            ],
            [
             1,
             "#f0f921"
            ]
           ]
          },
          "colorway": [
           "#636efa",
           "#EF553B",
           "#00cc96",
           "#ab63fa",
           "#FFA15A",
           "#19d3f3",
           "#FF6692",
           "#B6E880",
           "#FF97FF",
           "#FECB52"
          ],
          "font": {
           "color": "#2a3f5f"
          },
          "geo": {
           "bgcolor": "white",
           "lakecolor": "white",
           "landcolor": "#E5ECF6",
           "showlakes": true,
           "showland": true,
           "subunitcolor": "white"
          },
          "hoverlabel": {
           "align": "left"
          },
          "hovermode": "closest",
          "mapbox": {
           "style": "light"
          },
          "paper_bgcolor": "white",
          "plot_bgcolor": "#E5ECF6",
          "polar": {
           "angularaxis": {
            "gridcolor": "white",
            "linecolor": "white",
            "ticks": ""
           },
           "bgcolor": "#E5ECF6",
           "radialaxis": {
            "gridcolor": "white",
            "linecolor": "white",
            "ticks": ""
           }
          },
          "scene": {
           "xaxis": {
            "backgroundcolor": "#E5ECF6",
            "gridcolor": "white",
            "gridwidth": 2,
            "linecolor": "white",
            "showbackground": true,
            "ticks": "",
            "zerolinecolor": "white"
           },
           "yaxis": {
            "backgroundcolor": "#E5ECF6",
            "gridcolor": "white",
            "gridwidth": 2,
            "linecolor": "white",
            "showbackground": true,
            "ticks": "",
            "zerolinecolor": "white"
           },
           "zaxis": {
            "backgroundcolor": "#E5ECF6",
            "gridcolor": "white",
            "gridwidth": 2,
            "linecolor": "white",
            "showbackground": true,
            "ticks": "",
            "zerolinecolor": "white"
           }
          },
          "shapedefaults": {
           "line": {
            "color": "#2a3f5f"
           }
          },
          "ternary": {
           "aaxis": {
            "gridcolor": "white",
            "linecolor": "white",
            "ticks": ""
           },
           "baxis": {
            "gridcolor": "white",
            "linecolor": "white",
            "ticks": ""
           },
           "bgcolor": "#E5ECF6",
           "caxis": {
            "gridcolor": "white",
            "linecolor": "white",
            "ticks": ""
           }
          },
          "title": {
           "x": 0.05
          },
          "xaxis": {
           "automargin": true,
           "gridcolor": "white",
           "linecolor": "white",
           "ticks": "",
           "title": {
            "standoff": 15
           },
           "zerolinecolor": "white",
           "zerolinewidth": 2
          },
          "yaxis": {
           "automargin": true,
           "gridcolor": "white",
           "linecolor": "white",
           "ticks": "",
           "title": {
            "standoff": 15
           },
           "zerolinecolor": "white",
           "zerolinewidth": 2
          }
         }
        },
        "title": {
         "font": {
          "color": "#4D5663"
         }
        },
        "xaxis": {
         "gridcolor": "#E1E5ED",
         "showgrid": true,
         "tickfont": {
          "color": "#4D5663"
         },
         "title": {
          "font": {
           "color": "#4D5663"
          },
          "text": ""
         },
         "zerolinecolor": "#E1E5ED"
        },
        "yaxis": {
         "gridcolor": "#E1E5ED",
         "showgrid": true,
         "tickfont": {
          "color": "#4D5663"
         },
         "title": {
          "font": {
           "color": "#4D5663"
          },
          "text": ""
         },
         "zerolinecolor": "#E1E5ED"
        }
       }
      },
      "text/html": [
       "<div>\n",
       "        \n",
       "        \n",
       "            <div id=\"5b1fb077-410c-412e-bdbd-262cc454b483\" class=\"plotly-graph-div\" style=\"height:525px; width:100%;\"></div>\n",
       "            <script type=\"text/javascript\">\n",
       "                require([\"plotly\"], function(Plotly) {\n",
       "                    window.PLOTLYENV=window.PLOTLYENV || {};\n",
       "                    window.PLOTLYENV.BASE_URL='https://plot.ly';\n",
       "                    \n",
       "                if (document.getElementById(\"5b1fb077-410c-412e-bdbd-262cc454b483\")) {\n",
       "                    Plotly.newPlot(\n",
       "                        '5b1fb077-410c-412e-bdbd-262cc454b483',\n",
       "                        [{\"histfunc\": \"count\", \"histnorm\": \"\", \"marker\": {\"color\": \"rgba(255, 153, 51, 1.0)\", \"line\": {\"color\": \"#4D5663\", \"width\": 1.3}}, \"name\": \"A\", \"nbinsx\": 25, \"opacity\": 0.8, \"orientation\": \"v\", \"type\": \"histogram\", \"x\": [-0.13775086430743813, -1.9933049229514477, -0.9545044762222105, 1.4014164640928737, -1.13192187578824, -1.3617171661286414, -0.9083961716634638, 1.3303928616547227, 0.8057925035002808, -0.6897784200723086, -2.0953961176504903, 0.4779895237770411, 0.7541183143416599, 1.0885380483057463, -1.9447575190926418, 0.9975927283186687, 0.5396244432324852, -0.42383547340641514, 0.7186773780770584, 2.6607077784921724, 0.5419253101691794, 0.48168350903181256, 0.00016683141743905627, -1.434810587490341, 0.7715714846893815, 0.7456802660196701, -0.36542221125466307, -1.0166942651772195, 0.3093832415310271, -1.3304186784288994, -0.38208893085136053, 1.070745280547997, -0.24166411883649572, 1.0156796479926795, 0.34835168994849247, -0.4191523215594431, 0.06173604008436236, -1.432936038291852, 0.3258606651601762, -1.349954164282741, -0.7095098045451561, 1.010145452103435, -1.1105120080278759, 0.21666021830827295, 0.05047695299247232, 1.6979340768084248, 0.4829406701478865, -0.09070487712543199, 0.8532304688136618, -0.8942411416717861, -0.42457176708669925, -1.5657072405052173, -0.17728663186775215, -0.907529302042309, 0.015237382008090744, 0.17182485828798016, -0.422959094891893, -0.7740227863443343, -1.0208775652388034, -0.6324799702992057, 0.10822694435312787, -0.3496517337932419, 0.33060914060953733, -1.0106999926023936, -0.7222417619394348, -0.5332812245676131, -0.776755834796644, 1.1941171480095443, 1.2686298712847948, -1.017278861018582, -1.1774948698526817, -0.4239516911089791, -0.3945051098098888, -1.360817658415006, -0.863416437132497, 0.7226579837082056, -1.071158632435797, -0.7010972899518247, 1.2145562514183765, -0.28080634140698185, 0.4366347441230707, 1.314812375540971, 1.5722102595136485, 2.3812552615192804, -1.0672037558626681, -0.053593780034868706, 0.5976597621802904, -0.5418992969522781, -0.8921719903625399, 0.32805956293816935, 0.8811900268496274, -0.6639785072700968, -0.4073355000059551, -0.5740298447265203, 0.033388134057522056, -1.3913553444512943, 0.20930846462947625, -1.8181242562227442, 0.20084981290816206, -0.8380964279862918]}],\n",
       "                        {\"barmode\": \"overlay\", \"legend\": {\"bgcolor\": \"#F5F6F9\", \"font\": {\"color\": \"#4D5663\"}}, \"paper_bgcolor\": \"#F5F6F9\", \"plot_bgcolor\": \"#F5F6F9\", \"template\": {\"data\": {\"bar\": [{\"error_x\": {\"color\": \"#2a3f5f\"}, \"error_y\": {\"color\": \"#2a3f5f\"}, \"marker\": {\"line\": {\"color\": \"#E5ECF6\", \"width\": 0.5}}, \"type\": \"bar\"}], \"barpolar\": [{\"marker\": {\"line\": {\"color\": \"#E5ECF6\", \"width\": 0.5}}, \"type\": \"barpolar\"}], \"carpet\": [{\"aaxis\": {\"endlinecolor\": \"#2a3f5f\", \"gridcolor\": \"white\", \"linecolor\": \"white\", \"minorgridcolor\": \"white\", \"startlinecolor\": \"#2a3f5f\"}, \"baxis\": {\"endlinecolor\": \"#2a3f5f\", \"gridcolor\": \"white\", \"linecolor\": \"white\", \"minorgridcolor\": \"white\", \"startlinecolor\": \"#2a3f5f\"}, \"type\": \"carpet\"}], \"choropleth\": [{\"colorbar\": {\"outlinewidth\": 0, \"ticks\": \"\"}, \"type\": \"choropleth\"}], \"contour\": [{\"colorbar\": {\"outlinewidth\": 0, \"ticks\": \"\"}, \"colorscale\": [[0.0, \"#0d0887\"], [0.1111111111111111, \"#46039f\"], [0.2222222222222222, \"#7201a8\"], [0.3333333333333333, \"#9c179e\"], [0.4444444444444444, \"#bd3786\"], [0.5555555555555556, \"#d8576b\"], [0.6666666666666666, \"#ed7953\"], [0.7777777777777778, \"#fb9f3a\"], [0.8888888888888888, \"#fdca26\"], [1.0, \"#f0f921\"]], \"type\": \"contour\"}], \"contourcarpet\": [{\"colorbar\": {\"outlinewidth\": 0, \"ticks\": \"\"}, \"type\": \"contourcarpet\"}], \"heatmap\": [{\"colorbar\": {\"outlinewidth\": 0, \"ticks\": \"\"}, \"colorscale\": [[0.0, \"#0d0887\"], [0.1111111111111111, \"#46039f\"], [0.2222222222222222, \"#7201a8\"], [0.3333333333333333, \"#9c179e\"], [0.4444444444444444, \"#bd3786\"], [0.5555555555555556, \"#d8576b\"], [0.6666666666666666, \"#ed7953\"], [0.7777777777777778, \"#fb9f3a\"], [0.8888888888888888, \"#fdca26\"], [1.0, \"#f0f921\"]], \"type\": \"heatmap\"}], \"heatmapgl\": [{\"colorbar\": {\"outlinewidth\": 0, \"ticks\": \"\"}, \"colorscale\": [[0.0, \"#0d0887\"], [0.1111111111111111, \"#46039f\"], [0.2222222222222222, \"#7201a8\"], [0.3333333333333333, \"#9c179e\"], [0.4444444444444444, \"#bd3786\"], [0.5555555555555556, \"#d8576b\"], [0.6666666666666666, \"#ed7953\"], [0.7777777777777778, \"#fb9f3a\"], [0.8888888888888888, \"#fdca26\"], [1.0, \"#f0f921\"]], \"type\": \"heatmapgl\"}], \"histogram\": [{\"marker\": {\"colorbar\": {\"outlinewidth\": 0, \"ticks\": \"\"}}, \"type\": \"histogram\"}], \"histogram2d\": [{\"colorbar\": {\"outlinewidth\": 0, \"ticks\": \"\"}, \"colorscale\": [[0.0, \"#0d0887\"], [0.1111111111111111, \"#46039f\"], [0.2222222222222222, \"#7201a8\"], [0.3333333333333333, \"#9c179e\"], [0.4444444444444444, \"#bd3786\"], [0.5555555555555556, \"#d8576b\"], [0.6666666666666666, \"#ed7953\"], [0.7777777777777778, \"#fb9f3a\"], [0.8888888888888888, \"#fdca26\"], [1.0, \"#f0f921\"]], \"type\": \"histogram2d\"}], \"histogram2dcontour\": [{\"colorbar\": {\"outlinewidth\": 0, \"ticks\": \"\"}, \"colorscale\": [[0.0, \"#0d0887\"], [0.1111111111111111, \"#46039f\"], [0.2222222222222222, \"#7201a8\"], [0.3333333333333333, \"#9c179e\"], [0.4444444444444444, \"#bd3786\"], [0.5555555555555556, \"#d8576b\"], [0.6666666666666666, \"#ed7953\"], [0.7777777777777778, \"#fb9f3a\"], [0.8888888888888888, \"#fdca26\"], [1.0, \"#f0f921\"]], \"type\": \"histogram2dcontour\"}], \"mesh3d\": [{\"colorbar\": {\"outlinewidth\": 0, \"ticks\": \"\"}, \"type\": \"mesh3d\"}], \"parcoords\": [{\"line\": {\"colorbar\": {\"outlinewidth\": 0, \"ticks\": \"\"}}, \"type\": \"parcoords\"}], \"pie\": [{\"automargin\": true, \"type\": \"pie\"}], \"scatter\": [{\"marker\": {\"colorbar\": {\"outlinewidth\": 0, \"ticks\": \"\"}}, \"type\": \"scatter\"}], \"scatter3d\": [{\"line\": {\"colorbar\": {\"outlinewidth\": 0, \"ticks\": \"\"}}, \"marker\": {\"colorbar\": {\"outlinewidth\": 0, \"ticks\": \"\"}}, \"type\": \"scatter3d\"}], \"scattercarpet\": [{\"marker\": {\"colorbar\": {\"outlinewidth\": 0, \"ticks\": \"\"}}, \"type\": \"scattercarpet\"}], \"scattergeo\": [{\"marker\": {\"colorbar\": {\"outlinewidth\": 0, \"ticks\": \"\"}}, \"type\": \"scattergeo\"}], \"scattergl\": [{\"marker\": {\"colorbar\": {\"outlinewidth\": 0, \"ticks\": \"\"}}, \"type\": \"scattergl\"}], \"scattermapbox\": [{\"marker\": {\"colorbar\": {\"outlinewidth\": 0, \"ticks\": \"\"}}, \"type\": \"scattermapbox\"}], \"scatterpolar\": [{\"marker\": {\"colorbar\": {\"outlinewidth\": 0, \"ticks\": \"\"}}, \"type\": \"scatterpolar\"}], \"scatterpolargl\": [{\"marker\": {\"colorbar\": {\"outlinewidth\": 0, \"ticks\": \"\"}}, \"type\": \"scatterpolargl\"}], \"scatterternary\": [{\"marker\": {\"colorbar\": {\"outlinewidth\": 0, \"ticks\": \"\"}}, \"type\": \"scatterternary\"}], \"surface\": [{\"colorbar\": {\"outlinewidth\": 0, \"ticks\": \"\"}, \"colorscale\": [[0.0, \"#0d0887\"], [0.1111111111111111, \"#46039f\"], [0.2222222222222222, \"#7201a8\"], [0.3333333333333333, \"#9c179e\"], [0.4444444444444444, \"#bd3786\"], [0.5555555555555556, \"#d8576b\"], [0.6666666666666666, \"#ed7953\"], [0.7777777777777778, \"#fb9f3a\"], [0.8888888888888888, \"#fdca26\"], [1.0, \"#f0f921\"]], \"type\": \"surface\"}], \"table\": [{\"cells\": {\"fill\": {\"color\": \"#EBF0F8\"}, \"line\": {\"color\": \"white\"}}, \"header\": {\"fill\": {\"color\": \"#C8D4E3\"}, \"line\": {\"color\": \"white\"}}, \"type\": \"table\"}]}, \"layout\": {\"annotationdefaults\": {\"arrowcolor\": \"#2a3f5f\", \"arrowhead\": 0, \"arrowwidth\": 1}, \"coloraxis\": {\"colorbar\": {\"outlinewidth\": 0, \"ticks\": \"\"}}, \"colorscale\": {\"diverging\": [[0, \"#8e0152\"], [0.1, \"#c51b7d\"], [0.2, \"#de77ae\"], [0.3, \"#f1b6da\"], [0.4, \"#fde0ef\"], [0.5, \"#f7f7f7\"], [0.6, \"#e6f5d0\"], [0.7, \"#b8e186\"], [0.8, \"#7fbc41\"], [0.9, \"#4d9221\"], [1, \"#276419\"]], \"sequential\": [[0.0, \"#0d0887\"], [0.1111111111111111, \"#46039f\"], [0.2222222222222222, \"#7201a8\"], [0.3333333333333333, \"#9c179e\"], [0.4444444444444444, \"#bd3786\"], [0.5555555555555556, \"#d8576b\"], [0.6666666666666666, \"#ed7953\"], [0.7777777777777778, \"#fb9f3a\"], [0.8888888888888888, \"#fdca26\"], [1.0, \"#f0f921\"]], \"sequentialminus\": [[0.0, \"#0d0887\"], [0.1111111111111111, \"#46039f\"], [0.2222222222222222, \"#7201a8\"], [0.3333333333333333, \"#9c179e\"], [0.4444444444444444, \"#bd3786\"], [0.5555555555555556, \"#d8576b\"], [0.6666666666666666, \"#ed7953\"], [0.7777777777777778, \"#fb9f3a\"], [0.8888888888888888, \"#fdca26\"], [1.0, \"#f0f921\"]]}, \"colorway\": [\"#636efa\", \"#EF553B\", \"#00cc96\", \"#ab63fa\", \"#FFA15A\", \"#19d3f3\", \"#FF6692\", \"#B6E880\", \"#FF97FF\", \"#FECB52\"], \"font\": {\"color\": \"#2a3f5f\"}, \"geo\": {\"bgcolor\": \"white\", \"lakecolor\": \"white\", \"landcolor\": \"#E5ECF6\", \"showlakes\": true, \"showland\": true, \"subunitcolor\": \"white\"}, \"hoverlabel\": {\"align\": \"left\"}, \"hovermode\": \"closest\", \"mapbox\": {\"style\": \"light\"}, \"paper_bgcolor\": \"white\", \"plot_bgcolor\": \"#E5ECF6\", \"polar\": {\"angularaxis\": {\"gridcolor\": \"white\", \"linecolor\": \"white\", \"ticks\": \"\"}, \"bgcolor\": \"#E5ECF6\", \"radialaxis\": {\"gridcolor\": \"white\", \"linecolor\": \"white\", \"ticks\": \"\"}}, \"scene\": {\"xaxis\": {\"backgroundcolor\": \"#E5ECF6\", \"gridcolor\": \"white\", \"gridwidth\": 2, \"linecolor\": \"white\", \"showbackground\": true, \"ticks\": \"\", \"zerolinecolor\": \"white\"}, \"yaxis\": {\"backgroundcolor\": \"#E5ECF6\", \"gridcolor\": \"white\", \"gridwidth\": 2, \"linecolor\": \"white\", \"showbackground\": true, \"ticks\": \"\", \"zerolinecolor\": \"white\"}, \"zaxis\": {\"backgroundcolor\": \"#E5ECF6\", \"gridcolor\": \"white\", \"gridwidth\": 2, \"linecolor\": \"white\", \"showbackground\": true, \"ticks\": \"\", \"zerolinecolor\": \"white\"}}, \"shapedefaults\": {\"line\": {\"color\": \"#2a3f5f\"}}, \"ternary\": {\"aaxis\": {\"gridcolor\": \"white\", \"linecolor\": \"white\", \"ticks\": \"\"}, \"baxis\": {\"gridcolor\": \"white\", \"linecolor\": \"white\", \"ticks\": \"\"}, \"bgcolor\": \"#E5ECF6\", \"caxis\": {\"gridcolor\": \"white\", \"linecolor\": \"white\", \"ticks\": \"\"}}, \"title\": {\"x\": 0.05}, \"xaxis\": {\"automargin\": true, \"gridcolor\": \"white\", \"linecolor\": \"white\", \"ticks\": \"\", \"title\": {\"standoff\": 15}, \"zerolinecolor\": \"white\", \"zerolinewidth\": 2}, \"yaxis\": {\"automargin\": true, \"gridcolor\": \"white\", \"linecolor\": \"white\", \"ticks\": \"\", \"title\": {\"standoff\": 15}, \"zerolinecolor\": \"white\", \"zerolinewidth\": 2}}}, \"title\": {\"font\": {\"color\": \"#4D5663\"}}, \"xaxis\": {\"gridcolor\": \"#E1E5ED\", \"showgrid\": true, \"tickfont\": {\"color\": \"#4D5663\"}, \"title\": {\"font\": {\"color\": \"#4D5663\"}, \"text\": \"\"}, \"zerolinecolor\": \"#E1E5ED\"}, \"yaxis\": {\"gridcolor\": \"#E1E5ED\", \"showgrid\": true, \"tickfont\": {\"color\": \"#4D5663\"}, \"title\": {\"font\": {\"color\": \"#4D5663\"}, \"text\": \"\"}, \"zerolinecolor\": \"#E1E5ED\"}},\n",
       "                        {\"showLink\": true, \"linkText\": \"Export to plot.ly\", \"plotlyServerURL\": \"https://plot.ly\", \"responsive\": true}\n",
       "                    ).then(function(){\n",
       "                            \n",
       "var gd = document.getElementById('5b1fb077-410c-412e-bdbd-262cc454b483');\n",
       "var x = new MutationObserver(function (mutations, observer) {{\n",
       "        var display = window.getComputedStyle(gd).display;\n",
       "        if (!display || display === 'none') {{\n",
       "            console.log([gd, 'removed!']);\n",
       "            Plotly.purge(gd);\n",
       "            observer.disconnect();\n",
       "        }}\n",
       "}});\n",
       "\n",
       "// Listen for the removal of the full notebook cells\n",
       "var notebookContainer = gd.closest('#notebook-container');\n",
       "if (notebookContainer) {{\n",
       "    x.observe(notebookContainer, {childList: true});\n",
       "}}\n",
       "\n",
       "// Listen for the clearing of the current output cell\n",
       "var outputEl = gd.closest('.output');\n",
       "if (outputEl) {{\n",
       "    x.observe(outputEl, {childList: true});\n",
       "}}\n",
       "\n",
       "                        })\n",
       "                };\n",
       "                });\n",
       "            </script>\n",
       "        </div>"
      ]
     },
     "metadata": {},
     "output_type": "display_data"
    }
   ],
   "source": [
    "df['A'].iplot(kind='hist',bins=25)"
   ]
  },
  {
   "cell_type": "code",
   "execution_count": 23,
   "metadata": {},
   "outputs": [
    {
     "data": {
      "application/vnd.plotly.v1+json": {
       "config": {
        "linkText": "Export to plot.ly",
        "plotlyServerURL": "https://plot.ly",
        "showLink": true
       },
       "data": [
        {
         "marker": {
          "color": [
           "rgb(255, 153, 51)",
           "rgb(55, 128, 191)",
           "rgb(50, 171, 96)",
           "rgb(128, 0, 128)",
           "rgb(219, 64, 82)",
           "rgb(0, 128, 128)",
           "rgb(255, 255, 51)",
           "rgb(128, 128, 0)",
           "rgb(251, 128, 114)",
           "rgb(128, 177, 211)"
          ],
          "line": {
           "width": 1.3
          },
          "size": [
           52,
           90,
           82,
           72,
           79,
           75,
           43,
           79,
           73,
           54,
           80,
           71,
           70,
           50,
           62,
           83,
           89,
           87,
           70,
           75,
           90,
           58,
           78,
           85,
           59,
           63,
           56,
           46,
           91,
           36,
           60,
           91,
           105,
           48,
           79,
           64,
           64,
           83,
           76,
           87,
           64,
           86,
           82,
           33,
           99,
           105,
           94,
           83,
           101,
           76,
           59,
           93,
           85,
           109,
           74,
           93,
           12,
           55,
           45,
           42,
           57,
           75,
           74,
           44,
           86,
           112,
           28,
           49,
           56,
           102,
           20,
           61,
           78,
           89,
           66,
           84,
           47,
           60,
           98,
           67,
           59,
           105,
           42,
           73,
           76,
           93,
           66,
           74,
           79,
           59,
           55,
           62,
           72,
           43,
           100,
           55,
           82,
           92,
           65,
           66
          ],
          "symbol": "circle"
         },
         "mode": "markers",
         "text": "",
         "type": "scatter",
         "x": [
          -0.13775086430743813,
          -1.9933049229514477,
          -0.9545044762222105,
          1.4014164640928737,
          -1.13192187578824,
          -1.3617171661286414,
          -0.9083961716634638,
          1.3303928616547227,
          0.8057925035002808,
          -0.6897784200723086,
          -2.0953961176504903,
          0.4779895237770411,
          0.7541183143416599,
          1.0885380483057463,
          -1.9447575190926418,
          0.9975927283186687,
          0.5396244432324852,
          -0.42383547340641514,
          0.7186773780770584,
          2.6607077784921724,
          0.5419253101691794,
          0.48168350903181256,
          0.00016683141743905627,
          -1.434810587490341,
          0.7715714846893815,
          0.7456802660196701,
          -0.36542221125466307,
          -1.0166942651772195,
          0.3093832415310271,
          -1.3304186784288994,
          -0.38208893085136053,
          1.070745280547997,
          -0.24166411883649572,
          1.0156796479926795,
          0.34835168994849247,
          -0.4191523215594431,
          0.06173604008436236,
          -1.432936038291852,
          0.3258606651601762,
          -1.349954164282741,
          -0.7095098045451561,
          1.010145452103435,
          -1.1105120080278759,
          0.21666021830827295,
          0.05047695299247232,
          1.6979340768084248,
          0.4829406701478865,
          -0.09070487712543199,
          0.8532304688136618,
          -0.8942411416717861,
          -0.42457176708669925,
          -1.5657072405052173,
          -0.17728663186775215,
          -0.907529302042309,
          0.015237382008090744,
          0.17182485828798016,
          -0.422959094891893,
          -0.7740227863443343,
          -1.0208775652388034,
          -0.6324799702992057,
          0.10822694435312787,
          -0.3496517337932419,
          0.33060914060953733,
          -1.0106999926023936,
          -0.7222417619394348,
          -0.5332812245676131,
          -0.776755834796644,
          1.1941171480095443,
          1.2686298712847948,
          -1.017278861018582,
          -1.1774948698526817,
          -0.4239516911089791,
          -0.3945051098098888,
          -1.360817658415006,
          -0.863416437132497,
          0.7226579837082056,
          -1.071158632435797,
          -0.7010972899518247,
          1.2145562514183765,
          -0.28080634140698185,
          0.4366347441230707,
          1.314812375540971,
          1.5722102595136485,
          2.3812552615192804,
          -1.0672037558626681,
          -0.053593780034868706,
          0.5976597621802904,
          -0.5418992969522781,
          -0.8921719903625399,
          0.32805956293816935,
          0.8811900268496274,
          -0.6639785072700968,
          -0.4073355000059551,
          -0.5740298447265203,
          0.033388134057522056,
          -1.3913553444512943,
          0.20930846462947625,
          -1.8181242562227442,
          0.20084981290816206,
          -0.8380964279862918
         ],
         "y": [
          0.4867039677135526,
          1.244047840402478,
          2.3332257859437378,
          1.689469317780753,
          0.26600468702917085,
          -1.5534056582883649,
          -1.4715859849210289,
          -0.2044115131727728,
          0.26871657375985414,
          -0.3422180501613123,
          -1.7735616597332367,
          -0.016933444517672404,
          -0.7293476753347374,
          -0.624452059783926,
          -1.2763146611944258,
          1.2724287629354616,
          0.3481211380276087,
          -1.0169552849327732,
          0.10521745932772313,
          -0.6304304028436521,
          -0.5041196367567813,
          0.3161120551419451,
          0.7369874147128881,
          -1.0598247277896868,
          -0.18506125663662593,
          0.810477229270296,
          -1.384807705451281,
          -0.8863863326525558,
          0.9147353176181667,
          -0.5385833168165204,
          0.23579161115875363,
          1.3922065321592305,
          -0.029253693715969455,
          0.9869678719055079,
          -0.8315582910357844,
          -0.15630658169048334,
          0.3630713272506266,
          -0.5732445399171228,
          0.6868772378242992,
          1.1003303290999775,
          0.18612995904760574,
          0.6946198041945933,
          -2.365577687112027,
          0.8905083947588157,
          0.6373915150218937,
          -1.5590165623571386,
          -1.8099737250328467,
          0.8187923807100435,
          -0.566006465230476,
          -0.2075092147286489,
          -1.5463956090468263,
          -0.2027034353912444,
          0.6110919682579047,
          -0.4024096082165716,
          0.1092393679292165,
          -1.549036721036476,
          -0.28602484732646627,
          -1.596958432253144,
          -1.2934586866600908,
          -0.4345286168661543,
          -0.6577383489380272,
          0.7483943244863837,
          1.079000643133668,
          -1.5546810209164317,
          -0.7525658730481593,
          0.9060783055285099,
          -1.4556490922061072,
          1.5641473539411717,
          0.867404487903958,
          -0.7804546920722069,
          -0.2626463976382476,
          1.0219316310317808,
          -0.940622822003576,
          -0.7058560462667333,
          0.40742227057372776,
          -1.06757106950965,
          -0.7515626021053561,
          2.1636224076620234,
          0.286759747917996,
          -0.8385984718681364,
          -0.7641870886396996,
          -0.48373459403747987,
          0.10528249278382575,
          -0.9632439023829252,
          1.903457634504097,
          -0.16604985961639618,
          0.5530277500259455,
          0.0951366549917921,
          0.10390345527482063,
          0.12218714334909844,
          -1.1493425592465587,
          0.5883479007961637,
          0.23124416068370013,
          1.0861293480045746,
          1.2786656219423185,
          -0.10469047643119377,
          0.664352682995852,
          -0.45585776757309304,
          -0.309786574014567,
          -1.1229610739076694
         ]
        }
       ],
       "layout": {
        "legend": {
         "bgcolor": "#F5F6F9",
         "font": {
          "color": "#4D5663"
         }
        },
        "paper_bgcolor": "#F5F6F9",
        "plot_bgcolor": "#F5F6F9",
        "template": {
         "data": {
          "bar": [
           {
            "error_x": {
             "color": "#2a3f5f"
            },
            "error_y": {
             "color": "#2a3f5f"
            },
            "marker": {
             "line": {
              "color": "#E5ECF6",
              "width": 0.5
             }
            },
            "type": "bar"
           }
          ],
          "barpolar": [
           {
            "marker": {
             "line": {
              "color": "#E5ECF6",
              "width": 0.5
             }
            },
            "type": "barpolar"
           }
          ],
          "carpet": [
           {
            "aaxis": {
             "endlinecolor": "#2a3f5f",
             "gridcolor": "white",
             "linecolor": "white",
             "minorgridcolor": "white",
             "startlinecolor": "#2a3f5f"
            },
            "baxis": {
             "endlinecolor": "#2a3f5f",
             "gridcolor": "white",
             "linecolor": "white",
             "minorgridcolor": "white",
             "startlinecolor": "#2a3f5f"
            },
            "type": "carpet"
           }
          ],
          "choropleth": [
           {
            "colorbar": {
             "outlinewidth": 0,
             "ticks": ""
            },
            "type": "choropleth"
           }
          ],
          "contour": [
           {
            "colorbar": {
             "outlinewidth": 0,
             "ticks": ""
            },
            "colorscale": [
             [
              0,
              "#0d0887"
             ],
             [
              0.1111111111111111,
              "#46039f"
             ],
             [
              0.2222222222222222,
              "#7201a8"
             ],
             [
              0.3333333333333333,
              "#9c179e"
             ],
             [
              0.4444444444444444,
              "#bd3786"
             ],
             [
              0.5555555555555556,
              "#d8576b"
             ],
             [
              0.6666666666666666,
              "#ed7953"
             ],
             [
              0.7777777777777778,
              "#fb9f3a"
             ],
             [
              0.8888888888888888,
              "#fdca26"
             ],
             [
              1,
              "#f0f921"
             ]
            ],
            "type": "contour"
           }
          ],
          "contourcarpet": [
           {
            "colorbar": {
             "outlinewidth": 0,
             "ticks": ""
            },
            "type": "contourcarpet"
           }
          ],
          "heatmap": [
           {
            "colorbar": {
             "outlinewidth": 0,
             "ticks": ""
            },
            "colorscale": [
             [
              0,
              "#0d0887"
             ],
             [
              0.1111111111111111,
              "#46039f"
             ],
             [
              0.2222222222222222,
              "#7201a8"
             ],
             [
              0.3333333333333333,
              "#9c179e"
             ],
             [
              0.4444444444444444,
              "#bd3786"
             ],
             [
              0.5555555555555556,
              "#d8576b"
             ],
             [
              0.6666666666666666,
              "#ed7953"
             ],
             [
              0.7777777777777778,
              "#fb9f3a"
             ],
             [
              0.8888888888888888,
              "#fdca26"
             ],
             [
              1,
              "#f0f921"
             ]
            ],
            "type": "heatmap"
           }
          ],
          "heatmapgl": [
           {
            "colorbar": {
             "outlinewidth": 0,
             "ticks": ""
            },
            "colorscale": [
             [
              0,
              "#0d0887"
             ],
             [
              0.1111111111111111,
              "#46039f"
             ],
             [
              0.2222222222222222,
              "#7201a8"
             ],
             [
              0.3333333333333333,
              "#9c179e"
             ],
             [
              0.4444444444444444,
              "#bd3786"
             ],
             [
              0.5555555555555556,
              "#d8576b"
             ],
             [
              0.6666666666666666,
              "#ed7953"
             ],
             [
              0.7777777777777778,
              "#fb9f3a"
             ],
             [
              0.8888888888888888,
              "#fdca26"
             ],
             [
              1,
              "#f0f921"
             ]
            ],
            "type": "heatmapgl"
           }
          ],
          "histogram": [
           {
            "marker": {
             "colorbar": {
              "outlinewidth": 0,
              "ticks": ""
             }
            },
            "type": "histogram"
           }
          ],
          "histogram2d": [
           {
            "colorbar": {
             "outlinewidth": 0,
             "ticks": ""
            },
            "colorscale": [
             [
              0,
              "#0d0887"
             ],
             [
              0.1111111111111111,
              "#46039f"
             ],
             [
              0.2222222222222222,
              "#7201a8"
             ],
             [
              0.3333333333333333,
              "#9c179e"
             ],
             [
              0.4444444444444444,
              "#bd3786"
             ],
             [
              0.5555555555555556,
              "#d8576b"
             ],
             [
              0.6666666666666666,
              "#ed7953"
             ],
             [
              0.7777777777777778,
              "#fb9f3a"
             ],
             [
              0.8888888888888888,
              "#fdca26"
             ],
             [
              1,
              "#f0f921"
             ]
            ],
            "type": "histogram2d"
           }
          ],
          "histogram2dcontour": [
           {
            "colorbar": {
             "outlinewidth": 0,
             "ticks": ""
            },
            "colorscale": [
             [
              0,
              "#0d0887"
             ],
             [
              0.1111111111111111,
              "#46039f"
             ],
             [
              0.2222222222222222,
              "#7201a8"
             ],
             [
              0.3333333333333333,
              "#9c179e"
             ],
             [
              0.4444444444444444,
              "#bd3786"
             ],
             [
              0.5555555555555556,
              "#d8576b"
             ],
             [
              0.6666666666666666,
              "#ed7953"
             ],
             [
              0.7777777777777778,
              "#fb9f3a"
             ],
             [
              0.8888888888888888,
              "#fdca26"
             ],
             [
              1,
              "#f0f921"
             ]
            ],
            "type": "histogram2dcontour"
           }
          ],
          "mesh3d": [
           {
            "colorbar": {
             "outlinewidth": 0,
             "ticks": ""
            },
            "type": "mesh3d"
           }
          ],
          "parcoords": [
           {
            "line": {
             "colorbar": {
              "outlinewidth": 0,
              "ticks": ""
             }
            },
            "type": "parcoords"
           }
          ],
          "pie": [
           {
            "automargin": true,
            "type": "pie"
           }
          ],
          "scatter": [
           {
            "marker": {
             "colorbar": {
              "outlinewidth": 0,
              "ticks": ""
             }
            },
            "type": "scatter"
           }
          ],
          "scatter3d": [
           {
            "line": {
             "colorbar": {
              "outlinewidth": 0,
              "ticks": ""
             }
            },
            "marker": {
             "colorbar": {
              "outlinewidth": 0,
              "ticks": ""
             }
            },
            "type": "scatter3d"
           }
          ],
          "scattercarpet": [
           {
            "marker": {
             "colorbar": {
              "outlinewidth": 0,
              "ticks": ""
             }
            },
            "type": "scattercarpet"
           }
          ],
          "scattergeo": [
           {
            "marker": {
             "colorbar": {
              "outlinewidth": 0,
              "ticks": ""
             }
            },
            "type": "scattergeo"
           }
          ],
          "scattergl": [
           {
            "marker": {
             "colorbar": {
              "outlinewidth": 0,
              "ticks": ""
             }
            },
            "type": "scattergl"
           }
          ],
          "scattermapbox": [
           {
            "marker": {
             "colorbar": {
              "outlinewidth": 0,
              "ticks": ""
             }
            },
            "type": "scattermapbox"
           }
          ],
          "scatterpolar": [
           {
            "marker": {
             "colorbar": {
              "outlinewidth": 0,
              "ticks": ""
             }
            },
            "type": "scatterpolar"
           }
          ],
          "scatterpolargl": [
           {
            "marker": {
             "colorbar": {
              "outlinewidth": 0,
              "ticks": ""
             }
            },
            "type": "scatterpolargl"
           }
          ],
          "scatterternary": [
           {
            "marker": {
             "colorbar": {
              "outlinewidth": 0,
              "ticks": ""
             }
            },
            "type": "scatterternary"
           }
          ],
          "surface": [
           {
            "colorbar": {
             "outlinewidth": 0,
             "ticks": ""
            },
            "colorscale": [
             [
              0,
              "#0d0887"
             ],
             [
              0.1111111111111111,
              "#46039f"
             ],
             [
              0.2222222222222222,
              "#7201a8"
             ],
             [
              0.3333333333333333,
              "#9c179e"
             ],
             [
              0.4444444444444444,
              "#bd3786"
             ],
             [
              0.5555555555555556,
              "#d8576b"
             ],
             [
              0.6666666666666666,
              "#ed7953"
             ],
             [
              0.7777777777777778,
              "#fb9f3a"
             ],
             [
              0.8888888888888888,
              "#fdca26"
             ],
             [
              1,
              "#f0f921"
             ]
            ],
            "type": "surface"
           }
          ],
          "table": [
           {
            "cells": {
             "fill": {
              "color": "#EBF0F8"
             },
             "line": {
              "color": "white"
             }
            },
            "header": {
             "fill": {
              "color": "#C8D4E3"
             },
             "line": {
              "color": "white"
             }
            },
            "type": "table"
           }
          ]
         },
         "layout": {
          "annotationdefaults": {
           "arrowcolor": "#2a3f5f",
           "arrowhead": 0,
           "arrowwidth": 1
          },
          "coloraxis": {
           "colorbar": {
            "outlinewidth": 0,
            "ticks": ""
           }
          },
          "colorscale": {
           "diverging": [
            [
             0,
             "#8e0152"
            ],
            [
             0.1,
             "#c51b7d"
            ],
            [
             0.2,
             "#de77ae"
            ],
            [
             0.3,
             "#f1b6da"
            ],
            [
             0.4,
             "#fde0ef"
            ],
            [
             0.5,
             "#f7f7f7"
            ],
            [
             0.6,
             "#e6f5d0"
            ],
            [
             0.7,
             "#b8e186"
            ],
            [
             0.8,
             "#7fbc41"
            ],
            [
             0.9,
             "#4d9221"
            ],
            [
             1,
             "#276419"
            ]
           ],
           "sequential": [
            [
             0,
             "#0d0887"
            ],
            [
             0.1111111111111111,
             "#46039f"
            ],
            [
             0.2222222222222222,
             "#7201a8"
            ],
            [
             0.3333333333333333,
             "#9c179e"
            ],
            [
             0.4444444444444444,
             "#bd3786"
            ],
            [
             0.5555555555555556,
             "#d8576b"
            ],
            [
             0.6666666666666666,
             "#ed7953"
            ],
            [
             0.7777777777777778,
             "#fb9f3a"
            ],
            [
             0.8888888888888888,
             "#fdca26"
            ],
            [
             1,
             "#f0f921"
            ]
           ],
           "sequentialminus": [
            [
             0,
             "#0d0887"
            ],
            [
             0.1111111111111111,
             "#46039f"
            ],
            [
             0.2222222222222222,
             "#7201a8"
            ],
            [
             0.3333333333333333,
             "#9c179e"
            ],
            [
             0.4444444444444444,
             "#bd3786"
            ],
            [
             0.5555555555555556,
             "#d8576b"
            ],
            [
             0.6666666666666666,
             "#ed7953"
            ],
            [
             0.7777777777777778,
             "#fb9f3a"
            ],
            [
             0.8888888888888888,
             "#fdca26"
            ],
            [
             1,
             "#f0f921"
            ]
           ]
          },
          "colorway": [
           "#636efa",
           "#EF553B",
           "#00cc96",
           "#ab63fa",
           "#FFA15A",
           "#19d3f3",
           "#FF6692",
           "#B6E880",
           "#FF97FF",
           "#FECB52"
          ],
          "font": {
           "color": "#2a3f5f"
          },
          "geo": {
           "bgcolor": "white",
           "lakecolor": "white",
           "landcolor": "#E5ECF6",
           "showlakes": true,
           "showland": true,
           "subunitcolor": "white"
          },
          "hoverlabel": {
           "align": "left"
          },
          "hovermode": "closest",
          "mapbox": {
           "style": "light"
          },
          "paper_bgcolor": "white",
          "plot_bgcolor": "#E5ECF6",
          "polar": {
           "angularaxis": {
            "gridcolor": "white",
            "linecolor": "white",
            "ticks": ""
           },
           "bgcolor": "#E5ECF6",
           "radialaxis": {
            "gridcolor": "white",
            "linecolor": "white",
            "ticks": ""
           }
          },
          "scene": {
           "xaxis": {
            "backgroundcolor": "#E5ECF6",
            "gridcolor": "white",
            "gridwidth": 2,
            "linecolor": "white",
            "showbackground": true,
            "ticks": "",
            "zerolinecolor": "white"
           },
           "yaxis": {
            "backgroundcolor": "#E5ECF6",
            "gridcolor": "white",
            "gridwidth": 2,
            "linecolor": "white",
            "showbackground": true,
            "ticks": "",
            "zerolinecolor": "white"
           },
           "zaxis": {
            "backgroundcolor": "#E5ECF6",
            "gridcolor": "white",
            "gridwidth": 2,
            "linecolor": "white",
            "showbackground": true,
            "ticks": "",
            "zerolinecolor": "white"
           }
          },
          "shapedefaults": {
           "line": {
            "color": "#2a3f5f"
           }
          },
          "ternary": {
           "aaxis": {
            "gridcolor": "white",
            "linecolor": "white",
            "ticks": ""
           },
           "baxis": {
            "gridcolor": "white",
            "linecolor": "white",
            "ticks": ""
           },
           "bgcolor": "#E5ECF6",
           "caxis": {
            "gridcolor": "white",
            "linecolor": "white",
            "ticks": ""
           }
          },
          "title": {
           "x": 0.05
          },
          "xaxis": {
           "automargin": true,
           "gridcolor": "white",
           "linecolor": "white",
           "ticks": "",
           "title": {
            "standoff": 15
           },
           "zerolinecolor": "white",
           "zerolinewidth": 2
          },
          "yaxis": {
           "automargin": true,
           "gridcolor": "white",
           "linecolor": "white",
           "ticks": "",
           "title": {
            "standoff": 15
           },
           "zerolinecolor": "white",
           "zerolinewidth": 2
          }
         }
        },
        "title": {
         "font": {
          "color": "#4D5663"
         }
        },
        "xaxis": {
         "gridcolor": "#E1E5ED",
         "showgrid": true,
         "tickfont": {
          "color": "#4D5663"
         },
         "title": {
          "font": {
           "color": "#4D5663"
          },
          "text": ""
         },
         "zerolinecolor": "#E1E5ED"
        },
        "yaxis": {
         "gridcolor": "#E1E5ED",
         "showgrid": true,
         "tickfont": {
          "color": "#4D5663"
         },
         "title": {
          "font": {
           "color": "#4D5663"
          },
          "text": ""
         },
         "zerolinecolor": "#E1E5ED"
        }
       }
      },
      "text/html": [
       "<div>\n",
       "        \n",
       "        \n",
       "            <div id=\"190b045b-3b89-4de9-899d-069f69e034ea\" class=\"plotly-graph-div\" style=\"height:525px; width:100%;\"></div>\n",
       "            <script type=\"text/javascript\">\n",
       "                require([\"plotly\"], function(Plotly) {\n",
       "                    window.PLOTLYENV=window.PLOTLYENV || {};\n",
       "                    window.PLOTLYENV.BASE_URL='https://plot.ly';\n",
       "                    \n",
       "                if (document.getElementById(\"190b045b-3b89-4de9-899d-069f69e034ea\")) {\n",
       "                    Plotly.newPlot(\n",
       "                        '190b045b-3b89-4de9-899d-069f69e034ea',\n",
       "                        [{\"marker\": {\"color\": [\"rgb(255, 153, 51)\", \"rgb(55, 128, 191)\", \"rgb(50, 171, 96)\", \"rgb(128, 0, 128)\", \"rgb(219, 64, 82)\", \"rgb(0, 128, 128)\", \"rgb(255, 255, 51)\", \"rgb(128, 128, 0)\", \"rgb(251, 128, 114)\", \"rgb(128, 177, 211)\"], \"line\": {\"width\": 1.3}, \"size\": [52, 90, 82, 72, 79, 75, 43, 79, 73, 54, 80, 71, 70, 50, 62, 83, 89, 87, 70, 75, 90, 58, 78, 85, 59, 63, 56, 46, 91, 36, 60, 91, 105, 48, 79, 64, 64, 83, 76, 87, 64, 86, 82, 33, 99, 105, 94, 83, 101, 76, 59, 93, 85, 109, 74, 93, 12, 55, 45, 42, 57, 75, 74, 44, 86, 112, 28, 49, 56, 102, 20, 61, 78, 89, 66, 84, 47, 60, 98, 67, 59, 105, 42, 73, 76, 93, 66, 74, 79, 59, 55, 62, 72, 43, 100, 55, 82, 92, 65, 66], \"symbol\": \"circle\"}, \"mode\": \"markers\", \"text\": \"\", \"type\": \"scatter\", \"x\": [-0.13775086430743813, -1.9933049229514477, -0.9545044762222105, 1.4014164640928737, -1.13192187578824, -1.3617171661286414, -0.9083961716634638, 1.3303928616547227, 0.8057925035002808, -0.6897784200723086, -2.0953961176504903, 0.4779895237770411, 0.7541183143416599, 1.0885380483057463, -1.9447575190926418, 0.9975927283186687, 0.5396244432324852, -0.42383547340641514, 0.7186773780770584, 2.6607077784921724, 0.5419253101691794, 0.48168350903181256, 0.00016683141743905627, -1.434810587490341, 0.7715714846893815, 0.7456802660196701, -0.36542221125466307, -1.0166942651772195, 0.3093832415310271, -1.3304186784288994, -0.38208893085136053, 1.070745280547997, -0.24166411883649572, 1.0156796479926795, 0.34835168994849247, -0.4191523215594431, 0.06173604008436236, -1.432936038291852, 0.3258606651601762, -1.349954164282741, -0.7095098045451561, 1.010145452103435, -1.1105120080278759, 0.21666021830827295, 0.05047695299247232, 1.6979340768084248, 0.4829406701478865, -0.09070487712543199, 0.8532304688136618, -0.8942411416717861, -0.42457176708669925, -1.5657072405052173, -0.17728663186775215, -0.907529302042309, 0.015237382008090744, 0.17182485828798016, -0.422959094891893, -0.7740227863443343, -1.0208775652388034, -0.6324799702992057, 0.10822694435312787, -0.3496517337932419, 0.33060914060953733, -1.0106999926023936, -0.7222417619394348, -0.5332812245676131, -0.776755834796644, 1.1941171480095443, 1.2686298712847948, -1.017278861018582, -1.1774948698526817, -0.4239516911089791, -0.3945051098098888, -1.360817658415006, -0.863416437132497, 0.7226579837082056, -1.071158632435797, -0.7010972899518247, 1.2145562514183765, -0.28080634140698185, 0.4366347441230707, 1.314812375540971, 1.5722102595136485, 2.3812552615192804, -1.0672037558626681, -0.053593780034868706, 0.5976597621802904, -0.5418992969522781, -0.8921719903625399, 0.32805956293816935, 0.8811900268496274, -0.6639785072700968, -0.4073355000059551, -0.5740298447265203, 0.033388134057522056, -1.3913553444512943, 0.20930846462947625, -1.8181242562227442, 0.20084981290816206, -0.8380964279862918], \"y\": [0.4867039677135526, 1.244047840402478, 2.3332257859437378, 1.689469317780753, 0.26600468702917085, -1.5534056582883649, -1.4715859849210289, -0.2044115131727728, 0.26871657375985414, -0.3422180501613123, -1.7735616597332367, -0.016933444517672404, -0.7293476753347374, -0.624452059783926, -1.2763146611944258, 1.2724287629354616, 0.3481211380276087, -1.0169552849327732, 0.10521745932772313, -0.6304304028436521, -0.5041196367567813, 0.3161120551419451, 0.7369874147128881, -1.0598247277896868, -0.18506125663662593, 0.810477229270296, -1.384807705451281, -0.8863863326525558, 0.9147353176181667, -0.5385833168165204, 0.23579161115875363, 1.3922065321592305, -0.029253693715969455, 0.9869678719055079, -0.8315582910357844, -0.15630658169048334, 0.3630713272506266, -0.5732445399171228, 0.6868772378242992, 1.1003303290999775, 0.18612995904760574, 0.6946198041945933, -2.365577687112027, 0.8905083947588157, 0.6373915150218937, -1.5590165623571386, -1.8099737250328467, 0.8187923807100435, -0.566006465230476, -0.2075092147286489, -1.5463956090468263, -0.2027034353912444, 0.6110919682579047, -0.4024096082165716, 0.1092393679292165, -1.549036721036476, -0.28602484732646627, -1.596958432253144, -1.2934586866600908, -0.4345286168661543, -0.6577383489380272, 0.7483943244863837, 1.079000643133668, -1.5546810209164317, -0.7525658730481593, 0.9060783055285099, -1.4556490922061072, 1.5641473539411717, 0.867404487903958, -0.7804546920722069, -0.2626463976382476, 1.0219316310317808, -0.940622822003576, -0.7058560462667333, 0.40742227057372776, -1.06757106950965, -0.7515626021053561, 2.1636224076620234, 0.286759747917996, -0.8385984718681364, -0.7641870886396996, -0.48373459403747987, 0.10528249278382575, -0.9632439023829252, 1.903457634504097, -0.16604985961639618, 0.5530277500259455, 0.0951366549917921, 0.10390345527482063, 0.12218714334909844, -1.1493425592465587, 0.5883479007961637, 0.23124416068370013, 1.0861293480045746, 1.2786656219423185, -0.10469047643119377, 0.664352682995852, -0.45585776757309304, -0.309786574014567, -1.1229610739076694]}],\n",
       "                        {\"legend\": {\"bgcolor\": \"#F5F6F9\", \"font\": {\"color\": \"#4D5663\"}}, \"paper_bgcolor\": \"#F5F6F9\", \"plot_bgcolor\": \"#F5F6F9\", \"template\": {\"data\": {\"bar\": [{\"error_x\": {\"color\": \"#2a3f5f\"}, \"error_y\": {\"color\": \"#2a3f5f\"}, \"marker\": {\"line\": {\"color\": \"#E5ECF6\", \"width\": 0.5}}, \"type\": \"bar\"}], \"barpolar\": [{\"marker\": {\"line\": {\"color\": \"#E5ECF6\", \"width\": 0.5}}, \"type\": \"barpolar\"}], \"carpet\": [{\"aaxis\": {\"endlinecolor\": \"#2a3f5f\", \"gridcolor\": \"white\", \"linecolor\": \"white\", \"minorgridcolor\": \"white\", \"startlinecolor\": \"#2a3f5f\"}, \"baxis\": {\"endlinecolor\": \"#2a3f5f\", \"gridcolor\": \"white\", \"linecolor\": \"white\", \"minorgridcolor\": \"white\", \"startlinecolor\": \"#2a3f5f\"}, \"type\": \"carpet\"}], \"choropleth\": [{\"colorbar\": {\"outlinewidth\": 0, \"ticks\": \"\"}, \"type\": \"choropleth\"}], \"contour\": [{\"colorbar\": {\"outlinewidth\": 0, \"ticks\": \"\"}, \"colorscale\": [[0.0, \"#0d0887\"], [0.1111111111111111, \"#46039f\"], [0.2222222222222222, \"#7201a8\"], [0.3333333333333333, \"#9c179e\"], [0.4444444444444444, \"#bd3786\"], [0.5555555555555556, \"#d8576b\"], [0.6666666666666666, \"#ed7953\"], [0.7777777777777778, \"#fb9f3a\"], [0.8888888888888888, \"#fdca26\"], [1.0, \"#f0f921\"]], \"type\": \"contour\"}], \"contourcarpet\": [{\"colorbar\": {\"outlinewidth\": 0, \"ticks\": \"\"}, \"type\": \"contourcarpet\"}], \"heatmap\": [{\"colorbar\": {\"outlinewidth\": 0, \"ticks\": \"\"}, \"colorscale\": [[0.0, \"#0d0887\"], [0.1111111111111111, \"#46039f\"], [0.2222222222222222, \"#7201a8\"], [0.3333333333333333, \"#9c179e\"], [0.4444444444444444, \"#bd3786\"], [0.5555555555555556, \"#d8576b\"], [0.6666666666666666, \"#ed7953\"], [0.7777777777777778, \"#fb9f3a\"], [0.8888888888888888, \"#fdca26\"], [1.0, \"#f0f921\"]], \"type\": \"heatmap\"}], \"heatmapgl\": [{\"colorbar\": {\"outlinewidth\": 0, \"ticks\": \"\"}, \"colorscale\": [[0.0, \"#0d0887\"], [0.1111111111111111, \"#46039f\"], [0.2222222222222222, \"#7201a8\"], [0.3333333333333333, \"#9c179e\"], [0.4444444444444444, \"#bd3786\"], [0.5555555555555556, \"#d8576b\"], [0.6666666666666666, \"#ed7953\"], [0.7777777777777778, \"#fb9f3a\"], [0.8888888888888888, \"#fdca26\"], [1.0, \"#f0f921\"]], \"type\": \"heatmapgl\"}], \"histogram\": [{\"marker\": {\"colorbar\": {\"outlinewidth\": 0, \"ticks\": \"\"}}, \"type\": \"histogram\"}], \"histogram2d\": [{\"colorbar\": {\"outlinewidth\": 0, \"ticks\": \"\"}, \"colorscale\": [[0.0, \"#0d0887\"], [0.1111111111111111, \"#46039f\"], [0.2222222222222222, \"#7201a8\"], [0.3333333333333333, \"#9c179e\"], [0.4444444444444444, \"#bd3786\"], [0.5555555555555556, \"#d8576b\"], [0.6666666666666666, \"#ed7953\"], [0.7777777777777778, \"#fb9f3a\"], [0.8888888888888888, \"#fdca26\"], [1.0, \"#f0f921\"]], \"type\": \"histogram2d\"}], \"histogram2dcontour\": [{\"colorbar\": {\"outlinewidth\": 0, \"ticks\": \"\"}, \"colorscale\": [[0.0, \"#0d0887\"], [0.1111111111111111, \"#46039f\"], [0.2222222222222222, \"#7201a8\"], [0.3333333333333333, \"#9c179e\"], [0.4444444444444444, \"#bd3786\"], [0.5555555555555556, \"#d8576b\"], [0.6666666666666666, \"#ed7953\"], [0.7777777777777778, \"#fb9f3a\"], [0.8888888888888888, \"#fdca26\"], [1.0, \"#f0f921\"]], \"type\": \"histogram2dcontour\"}], \"mesh3d\": [{\"colorbar\": {\"outlinewidth\": 0, \"ticks\": \"\"}, \"type\": \"mesh3d\"}], \"parcoords\": [{\"line\": {\"colorbar\": {\"outlinewidth\": 0, \"ticks\": \"\"}}, \"type\": \"parcoords\"}], \"pie\": [{\"automargin\": true, \"type\": \"pie\"}], \"scatter\": [{\"marker\": {\"colorbar\": {\"outlinewidth\": 0, \"ticks\": \"\"}}, \"type\": \"scatter\"}], \"scatter3d\": [{\"line\": {\"colorbar\": {\"outlinewidth\": 0, \"ticks\": \"\"}}, \"marker\": {\"colorbar\": {\"outlinewidth\": 0, \"ticks\": \"\"}}, \"type\": \"scatter3d\"}], \"scattercarpet\": [{\"marker\": {\"colorbar\": {\"outlinewidth\": 0, \"ticks\": \"\"}}, \"type\": \"scattercarpet\"}], \"scattergeo\": [{\"marker\": {\"colorbar\": {\"outlinewidth\": 0, \"ticks\": \"\"}}, \"type\": \"scattergeo\"}], \"scattergl\": [{\"marker\": {\"colorbar\": {\"outlinewidth\": 0, \"ticks\": \"\"}}, \"type\": \"scattergl\"}], \"scattermapbox\": [{\"marker\": {\"colorbar\": {\"outlinewidth\": 0, \"ticks\": \"\"}}, \"type\": \"scattermapbox\"}], \"scatterpolar\": [{\"marker\": {\"colorbar\": {\"outlinewidth\": 0, \"ticks\": \"\"}}, \"type\": \"scatterpolar\"}], \"scatterpolargl\": [{\"marker\": {\"colorbar\": {\"outlinewidth\": 0, \"ticks\": \"\"}}, \"type\": \"scatterpolargl\"}], \"scatterternary\": [{\"marker\": {\"colorbar\": {\"outlinewidth\": 0, \"ticks\": \"\"}}, \"type\": \"scatterternary\"}], \"surface\": [{\"colorbar\": {\"outlinewidth\": 0, \"ticks\": \"\"}, \"colorscale\": [[0.0, \"#0d0887\"], [0.1111111111111111, \"#46039f\"], [0.2222222222222222, \"#7201a8\"], [0.3333333333333333, \"#9c179e\"], [0.4444444444444444, \"#bd3786\"], [0.5555555555555556, \"#d8576b\"], [0.6666666666666666, \"#ed7953\"], [0.7777777777777778, \"#fb9f3a\"], [0.8888888888888888, \"#fdca26\"], [1.0, \"#f0f921\"]], \"type\": \"surface\"}], \"table\": [{\"cells\": {\"fill\": {\"color\": \"#EBF0F8\"}, \"line\": {\"color\": \"white\"}}, \"header\": {\"fill\": {\"color\": \"#C8D4E3\"}, \"line\": {\"color\": \"white\"}}, \"type\": \"table\"}]}, \"layout\": {\"annotationdefaults\": {\"arrowcolor\": \"#2a3f5f\", \"arrowhead\": 0, \"arrowwidth\": 1}, \"coloraxis\": {\"colorbar\": {\"outlinewidth\": 0, \"ticks\": \"\"}}, \"colorscale\": {\"diverging\": [[0, \"#8e0152\"], [0.1, \"#c51b7d\"], [0.2, \"#de77ae\"], [0.3, \"#f1b6da\"], [0.4, \"#fde0ef\"], [0.5, \"#f7f7f7\"], [0.6, \"#e6f5d0\"], [0.7, \"#b8e186\"], [0.8, \"#7fbc41\"], [0.9, \"#4d9221\"], [1, \"#276419\"]], \"sequential\": [[0.0, \"#0d0887\"], [0.1111111111111111, \"#46039f\"], [0.2222222222222222, \"#7201a8\"], [0.3333333333333333, \"#9c179e\"], [0.4444444444444444, \"#bd3786\"], [0.5555555555555556, \"#d8576b\"], [0.6666666666666666, \"#ed7953\"], [0.7777777777777778, \"#fb9f3a\"], [0.8888888888888888, \"#fdca26\"], [1.0, \"#f0f921\"]], \"sequentialminus\": [[0.0, \"#0d0887\"], [0.1111111111111111, \"#46039f\"], [0.2222222222222222, \"#7201a8\"], [0.3333333333333333, \"#9c179e\"], [0.4444444444444444, \"#bd3786\"], [0.5555555555555556, \"#d8576b\"], [0.6666666666666666, \"#ed7953\"], [0.7777777777777778, \"#fb9f3a\"], [0.8888888888888888, \"#fdca26\"], [1.0, \"#f0f921\"]]}, \"colorway\": [\"#636efa\", \"#EF553B\", \"#00cc96\", \"#ab63fa\", \"#FFA15A\", \"#19d3f3\", \"#FF6692\", \"#B6E880\", \"#FF97FF\", \"#FECB52\"], \"font\": {\"color\": \"#2a3f5f\"}, \"geo\": {\"bgcolor\": \"white\", \"lakecolor\": \"white\", \"landcolor\": \"#E5ECF6\", \"showlakes\": true, \"showland\": true, \"subunitcolor\": \"white\"}, \"hoverlabel\": {\"align\": \"left\"}, \"hovermode\": \"closest\", \"mapbox\": {\"style\": \"light\"}, \"paper_bgcolor\": \"white\", \"plot_bgcolor\": \"#E5ECF6\", \"polar\": {\"angularaxis\": {\"gridcolor\": \"white\", \"linecolor\": \"white\", \"ticks\": \"\"}, \"bgcolor\": \"#E5ECF6\", \"radialaxis\": {\"gridcolor\": \"white\", \"linecolor\": \"white\", \"ticks\": \"\"}}, \"scene\": {\"xaxis\": {\"backgroundcolor\": \"#E5ECF6\", \"gridcolor\": \"white\", \"gridwidth\": 2, \"linecolor\": \"white\", \"showbackground\": true, \"ticks\": \"\", \"zerolinecolor\": \"white\"}, \"yaxis\": {\"backgroundcolor\": \"#E5ECF6\", \"gridcolor\": \"white\", \"gridwidth\": 2, \"linecolor\": \"white\", \"showbackground\": true, \"ticks\": \"\", \"zerolinecolor\": \"white\"}, \"zaxis\": {\"backgroundcolor\": \"#E5ECF6\", \"gridcolor\": \"white\", \"gridwidth\": 2, \"linecolor\": \"white\", \"showbackground\": true, \"ticks\": \"\", \"zerolinecolor\": \"white\"}}, \"shapedefaults\": {\"line\": {\"color\": \"#2a3f5f\"}}, \"ternary\": {\"aaxis\": {\"gridcolor\": \"white\", \"linecolor\": \"white\", \"ticks\": \"\"}, \"baxis\": {\"gridcolor\": \"white\", \"linecolor\": \"white\", \"ticks\": \"\"}, \"bgcolor\": \"#E5ECF6\", \"caxis\": {\"gridcolor\": \"white\", \"linecolor\": \"white\", \"ticks\": \"\"}}, \"title\": {\"x\": 0.05}, \"xaxis\": {\"automargin\": true, \"gridcolor\": \"white\", \"linecolor\": \"white\", \"ticks\": \"\", \"title\": {\"standoff\": 15}, \"zerolinecolor\": \"white\", \"zerolinewidth\": 2}, \"yaxis\": {\"automargin\": true, \"gridcolor\": \"white\", \"linecolor\": \"white\", \"ticks\": \"\", \"title\": {\"standoff\": 15}, \"zerolinecolor\": \"white\", \"zerolinewidth\": 2}}}, \"title\": {\"font\": {\"color\": \"#4D5663\"}}, \"xaxis\": {\"gridcolor\": \"#E1E5ED\", \"showgrid\": true, \"tickfont\": {\"color\": \"#4D5663\"}, \"title\": {\"font\": {\"color\": \"#4D5663\"}, \"text\": \"\"}, \"zerolinecolor\": \"#E1E5ED\"}, \"yaxis\": {\"gridcolor\": \"#E1E5ED\", \"showgrid\": true, \"tickfont\": {\"color\": \"#4D5663\"}, \"title\": {\"font\": {\"color\": \"#4D5663\"}, \"text\": \"\"}, \"zerolinecolor\": \"#E1E5ED\"}},\n",
       "                        {\"showLink\": true, \"linkText\": \"Export to plot.ly\", \"plotlyServerURL\": \"https://plot.ly\", \"responsive\": true}\n",
       "                    ).then(function(){\n",
       "                            \n",
       "var gd = document.getElementById('190b045b-3b89-4de9-899d-069f69e034ea');\n",
       "var x = new MutationObserver(function (mutations, observer) {{\n",
       "        var display = window.getComputedStyle(gd).display;\n",
       "        if (!display || display === 'none') {{\n",
       "            console.log([gd, 'removed!']);\n",
       "            Plotly.purge(gd);\n",
       "            observer.disconnect();\n",
       "        }}\n",
       "}});\n",
       "\n",
       "// Listen for the removal of the full notebook cells\n",
       "var notebookContainer = gd.closest('#notebook-container');\n",
       "if (notebookContainer) {{\n",
       "    x.observe(notebookContainer, {childList: true});\n",
       "}}\n",
       "\n",
       "// Listen for the clearing of the current output cell\n",
       "var outputEl = gd.closest('.output');\n",
       "if (outputEl) {{\n",
       "    x.observe(outputEl, {childList: true});\n",
       "}}\n",
       "\n",
       "                        })\n",
       "                };\n",
       "                });\n",
       "            </script>\n",
       "        </div>"
      ]
     },
     "metadata": {},
     "output_type": "display_data"
    }
   ],
   "source": [
    "df.iplot(kind='bubble',x='A',y='B',size='C')"
   ]
  },
  {
   "cell_type": "markdown",
   "metadata": {},
   "source": [
    "## scatter_matrix()\n",
    "\n",
    "Similar to sns.pairplot()"
   ]
  },
  {
   "cell_type": "code",
   "execution_count": 24,
   "metadata": {},
   "outputs": [
    {
     "data": {
      "application/vnd.plotly.v1+json": {
       "config": {
        "linkText": "Export to plot.ly",
        "plotlyServerURL": "https://plot.ly",
        "showLink": true
       },
       "data": [
        {
         "histfunc": "count",
         "histnorm": "",
         "marker": {
          "color": "rgba(255, 153, 51, 1.0)",
          "line": {
           "color": "#4D5663",
           "width": 1.3
          }
         },
         "name": "A",
         "nbinsx": 10,
         "opacity": 0.8,
         "orientation": "v",
         "type": "histogram",
         "x": [
          -0.13775086430743813,
          -1.9933049229514477,
          -0.9545044762222105,
          1.4014164640928737,
          -1.13192187578824,
          -1.3617171661286414,
          -0.9083961716634638,
          1.3303928616547227,
          0.8057925035002808,
          -0.6897784200723086,
          -2.0953961176504903,
          0.4779895237770411,
          0.7541183143416599,
          1.0885380483057463,
          -1.9447575190926418,
          0.9975927283186687,
          0.5396244432324852,
          -0.42383547340641514,
          0.7186773780770584,
          2.6607077784921724,
          0.5419253101691794,
          0.48168350903181256,
          0.00016683141743905627,
          -1.434810587490341,
          0.7715714846893815,
          0.7456802660196701,
          -0.36542221125466307,
          -1.0166942651772195,
          0.3093832415310271,
          -1.3304186784288994,
          -0.38208893085136053,
          1.070745280547997,
          -0.24166411883649572,
          1.0156796479926795,
          0.34835168994849247,
          -0.4191523215594431,
          0.06173604008436236,
          -1.432936038291852,
          0.3258606651601762,
          -1.349954164282741,
          -0.7095098045451561,
          1.010145452103435,
          -1.1105120080278759,
          0.21666021830827295,
          0.05047695299247232,
          1.6979340768084248,
          0.4829406701478865,
          -0.09070487712543199,
          0.8532304688136618,
          -0.8942411416717861,
          -0.42457176708669925,
          -1.5657072405052173,
          -0.17728663186775215,
          -0.907529302042309,
          0.015237382008090744,
          0.17182485828798016,
          -0.422959094891893,
          -0.7740227863443343,
          -1.0208775652388034,
          -0.6324799702992057,
          0.10822694435312787,
          -0.3496517337932419,
          0.33060914060953733,
          -1.0106999926023936,
          -0.7222417619394348,
          -0.5332812245676131,
          -0.776755834796644,
          1.1941171480095443,
          1.2686298712847948,
          -1.017278861018582,
          -1.1774948698526817,
          -0.4239516911089791,
          -0.3945051098098888,
          -1.360817658415006,
          -0.863416437132497,
          0.7226579837082056,
          -1.071158632435797,
          -0.7010972899518247,
          1.2145562514183765,
          -0.28080634140698185,
          0.4366347441230707,
          1.314812375540971,
          1.5722102595136485,
          2.3812552615192804,
          -1.0672037558626681,
          -0.053593780034868706,
          0.5976597621802904,
          -0.5418992969522781,
          -0.8921719903625399,
          0.32805956293816935,
          0.8811900268496274,
          -0.6639785072700968,
          -0.4073355000059551,
          -0.5740298447265203,
          0.033388134057522056,
          -1.3913553444512943,
          0.20930846462947625,
          -1.8181242562227442,
          0.20084981290816206,
          -0.8380964279862918
         ],
         "xaxis": "x",
         "yaxis": "y"
        },
        {
         "line": {
          "color": "rgba(128, 128, 128, 1.0)",
          "dash": "solid",
          "shape": "linear",
          "width": 1.3
         },
         "marker": {
          "size": 2,
          "symbol": "circle"
         },
         "mode": "markers",
         "name": "A",
         "text": "",
         "type": "scatter",
         "x": [
          0.4867039677135526,
          1.244047840402478,
          2.3332257859437378,
          1.689469317780753,
          0.26600468702917085,
          -1.5534056582883649,
          -1.4715859849210289,
          -0.2044115131727728,
          0.26871657375985414,
          -0.3422180501613123,
          -1.7735616597332367,
          -0.016933444517672404,
          -0.7293476753347374,
          -0.624452059783926,
          -1.2763146611944258,
          1.2724287629354616,
          0.3481211380276087,
          -1.0169552849327732,
          0.10521745932772313,
          -0.6304304028436521,
          -0.5041196367567813,
          0.3161120551419451,
          0.7369874147128881,
          -1.0598247277896868,
          -0.18506125663662593,
          0.810477229270296,
          -1.384807705451281,
          -0.8863863326525558,
          0.9147353176181667,
          -0.5385833168165204,
          0.23579161115875363,
          1.3922065321592305,
          -0.029253693715969455,
          0.9869678719055079,
          -0.8315582910357844,
          -0.15630658169048334,
          0.3630713272506266,
          -0.5732445399171228,
          0.6868772378242992,
          1.1003303290999775,
          0.18612995904760574,
          0.6946198041945933,
          -2.365577687112027,
          0.8905083947588157,
          0.6373915150218937,
          -1.5590165623571386,
          -1.8099737250328467,
          0.8187923807100435,
          -0.566006465230476,
          -0.2075092147286489,
          -1.5463956090468263,
          -0.2027034353912444,
          0.6110919682579047,
          -0.4024096082165716,
          0.1092393679292165,
          -1.549036721036476,
          -0.28602484732646627,
          -1.596958432253144,
          -1.2934586866600908,
          -0.4345286168661543,
          -0.6577383489380272,
          0.7483943244863837,
          1.079000643133668,
          -1.5546810209164317,
          -0.7525658730481593,
          0.9060783055285099,
          -1.4556490922061072,
          1.5641473539411717,
          0.867404487903958,
          -0.7804546920722069,
          -0.2626463976382476,
          1.0219316310317808,
          -0.940622822003576,
          -0.7058560462667333,
          0.40742227057372776,
          -1.06757106950965,
          -0.7515626021053561,
          2.1636224076620234,
          0.286759747917996,
          -0.8385984718681364,
          -0.7641870886396996,
          -0.48373459403747987,
          0.10528249278382575,
          -0.9632439023829252,
          1.903457634504097,
          -0.16604985961639618,
          0.5530277500259455,
          0.0951366549917921,
          0.10390345527482063,
          0.12218714334909844,
          -1.1493425592465587,
          0.5883479007961637,
          0.23124416068370013,
          1.0861293480045746,
          1.2786656219423185,
          -0.10469047643119377,
          0.664352682995852,
          -0.45585776757309304,
          -0.309786574014567,
          -1.1229610739076694
         ],
         "xaxis": "x2",
         "y": [
          -0.13775086430743813,
          -1.9933049229514477,
          -0.9545044762222105,
          1.4014164640928737,
          -1.13192187578824,
          -1.3617171661286414,
          -0.9083961716634638,
          1.3303928616547227,
          0.8057925035002808,
          -0.6897784200723086,
          -2.0953961176504903,
          0.4779895237770411,
          0.7541183143416599,
          1.0885380483057463,
          -1.9447575190926418,
          0.9975927283186687,
          0.5396244432324852,
          -0.42383547340641514,
          0.7186773780770584,
          2.6607077784921724,
          0.5419253101691794,
          0.48168350903181256,
          0.00016683141743905627,
          -1.434810587490341,
          0.7715714846893815,
          0.7456802660196701,
          -0.36542221125466307,
          -1.0166942651772195,
          0.3093832415310271,
          -1.3304186784288994,
          -0.38208893085136053,
          1.070745280547997,
          -0.24166411883649572,
          1.0156796479926795,
          0.34835168994849247,
          -0.4191523215594431,
          0.06173604008436236,
          -1.432936038291852,
          0.3258606651601762,
          -1.349954164282741,
          -0.7095098045451561,
          1.010145452103435,
          -1.1105120080278759,
          0.21666021830827295,
          0.05047695299247232,
          1.6979340768084248,
          0.4829406701478865,
          -0.09070487712543199,
          0.8532304688136618,
          -0.8942411416717861,
          -0.42457176708669925,
          -1.5657072405052173,
          -0.17728663186775215,
          -0.907529302042309,
          0.015237382008090744,
          0.17182485828798016,
          -0.422959094891893,
          -0.7740227863443343,
          -1.0208775652388034,
          -0.6324799702992057,
          0.10822694435312787,
          -0.3496517337932419,
          0.33060914060953733,
          -1.0106999926023936,
          -0.7222417619394348,
          -0.5332812245676131,
          -0.776755834796644,
          1.1941171480095443,
          1.2686298712847948,
          -1.017278861018582,
          -1.1774948698526817,
          -0.4239516911089791,
          -0.3945051098098888,
          -1.360817658415006,
          -0.863416437132497,
          0.7226579837082056,
          -1.071158632435797,
          -0.7010972899518247,
          1.2145562514183765,
          -0.28080634140698185,
          0.4366347441230707,
          1.314812375540971,
          1.5722102595136485,
          2.3812552615192804,
          -1.0672037558626681,
          -0.053593780034868706,
          0.5976597621802904,
          -0.5418992969522781,
          -0.8921719903625399,
          0.32805956293816935,
          0.8811900268496274,
          -0.6639785072700968,
          -0.4073355000059551,
          -0.5740298447265203,
          0.033388134057522056,
          -1.3913553444512943,
          0.20930846462947625,
          -1.8181242562227442,
          0.20084981290816206,
          -0.8380964279862918
         ],
         "yaxis": "y2"
        },
        {
         "line": {
          "color": "rgba(128, 128, 128, 1.0)",
          "dash": "solid",
          "shape": "linear",
          "width": 1.3
         },
         "marker": {
          "size": 2,
          "symbol": "circle"
         },
         "mode": "markers",
         "name": "A",
         "text": "",
         "type": "scatter",
         "x": [
          -1.13749315482382,
          0.7653879229528251,
          0.36353993423080283,
          -0.1264559329598941,
          0.20902322993125227,
          0.004425724623742667,
          -1.5809516932518117,
          0.21132144886763912,
          -0.09207767881977709,
          -0.9986667851679848,
          0.24249197845322157,
          -0.1670722755498319,
          -0.25989403824354784,
          -1.2128858047674451,
          -0.6066845874730094,
          0.38747203527688656,
          0.6703817625268776,
          0.5893838408432945,
          -0.2515646505395043,
          0.015830081332728074,
          0.7518553601532176,
          -0.8279223222360815,
          0.13447461632924104,
          0.5038845288746462,
          -0.7991348009888153,
          -0.6017576901506447,
          -0.9471261239516784,
          -1.4158141594145313,
          0.8046294420633452,
          -1.88418076448262,
          -0.7244974928743495,
          0.8062482595739058,
          1.468972588346329,
          -1.3065576529651353,
          0.19761452884566194,
          -0.5142486337830402,
          -0.5366617937602675,
          0.41674173632929223,
          0.07040277780338344,
          0.5867604556708543,
          -0.5307208193118907,
          0.5532314718964406,
          0.33618900518926537,
          -2.0316632223733553,
          1.2037899892305588,
          1.495760261609705,
          0.9461871905850956,
          0.4148510504342809,
          1.2917872098988403,
          0.038159176615340996,
          -0.7903494308684608,
          0.8724093738391323,
          0.5084019544516403,
          1.6802366581185233,
          -0.03835829382367422,
          0.8921323672959719,
          -3.1048789733083635,
          -0.9959838237283308,
          -1.4776596679815992,
          -1.6042472658044309,
          -0.898057711597044,
          -0.0014952871568699056,
          -0.060323124861548186,
          -1.5214938503202469,
          0.5440691871580189,
          1.7948911997294532,
          -2.3114850872544577,
          -1.2511453085315185,
          -0.9192439666370511,
          1.3347845456976195,
          -2.7084887701278917,
          -0.6872683553989607,
          0.1633739608597954,
          0.7011899016772642,
          -0.43252875504230487,
          0.4669155858262645,
          -1.3804452333866417,
          -0.7129946601176602,
          1.1510291635751115,
          -0.37340888390995575,
          -0.7678549843810049,
          1.4537991209345367,
          -1.6103328597013777,
          -0.08098437022756322,
          0.04938978891788958,
          0.8818090088558648,
          -0.4463209623346439,
          -0.05772006728779314,
          0.2094643862383853,
          -0.788480693768257,
          -0.9700506115589369,
          -0.6309762622528706,
          -0.1496590724180059,
          -1.5557199092524507,
          1.2173731944856414,
          -0.9646377814844951,
          0.35472679974346744,
          0.8580392133991638,
          -0.47948073381113515,
          -0.4451400361562025
         ],
         "xaxis": "x3",
         "y": [
          -0.13775086430743813,
          -1.9933049229514477,
          -0.9545044762222105,
          1.4014164640928737,
          -1.13192187578824,
          -1.3617171661286414,
          -0.9083961716634638,
          1.3303928616547227,
          0.8057925035002808,
          -0.6897784200723086,
          -2.0953961176504903,
          0.4779895237770411,
          0.7541183143416599,
          1.0885380483057463,
          -1.9447575190926418,
          0.9975927283186687,
          0.5396244432324852,
          -0.42383547340641514,
          0.7186773780770584,
          2.6607077784921724,
          0.5419253101691794,
          0.48168350903181256,
          0.00016683141743905627,
          -1.434810587490341,
          0.7715714846893815,
          0.7456802660196701,
          -0.36542221125466307,
          -1.0166942651772195,
          0.3093832415310271,
          -1.3304186784288994,
          -0.38208893085136053,
          1.070745280547997,
          -0.24166411883649572,
          1.0156796479926795,
          0.34835168994849247,
          -0.4191523215594431,
          0.06173604008436236,
          -1.432936038291852,
          0.3258606651601762,
          -1.349954164282741,
          -0.7095098045451561,
          1.010145452103435,
          -1.1105120080278759,
          0.21666021830827295,
          0.05047695299247232,
          1.6979340768084248,
          0.4829406701478865,
          -0.09070487712543199,
          0.8532304688136618,
          -0.8942411416717861,
          -0.42457176708669925,
          -1.5657072405052173,
          -0.17728663186775215,
          -0.907529302042309,
          0.015237382008090744,
          0.17182485828798016,
          -0.422959094891893,
          -0.7740227863443343,
          -1.0208775652388034,
          -0.6324799702992057,
          0.10822694435312787,
          -0.3496517337932419,
          0.33060914060953733,
          -1.0106999926023936,
          -0.7222417619394348,
          -0.5332812245676131,
          -0.776755834796644,
          1.1941171480095443,
          1.2686298712847948,
          -1.017278861018582,
          -1.1774948698526817,
          -0.4239516911089791,
          -0.3945051098098888,
          -1.360817658415006,
          -0.863416437132497,
          0.7226579837082056,
          -1.071158632435797,
          -0.7010972899518247,
          1.2145562514183765,
          -0.28080634140698185,
          0.4366347441230707,
          1.314812375540971,
          1.5722102595136485,
          2.3812552615192804,
          -1.0672037558626681,
          -0.053593780034868706,
          0.5976597621802904,
          -0.5418992969522781,
          -0.8921719903625399,
          0.32805956293816935,
          0.8811900268496274,
          -0.6639785072700968,
          -0.4073355000059551,
          -0.5740298447265203,
          0.033388134057522056,
          -1.3913553444512943,
          0.20930846462947625,
          -1.8181242562227442,
          0.20084981290816206,
          -0.8380964279862918
         ],
         "yaxis": "y3"
        },
        {
         "line": {
          "color": "rgba(128, 128, 128, 1.0)",
          "dash": "solid",
          "shape": "linear",
          "width": 1.3
         },
         "marker": {
          "size": 2,
          "symbol": "circle"
         },
         "mode": "markers",
         "name": "A",
         "text": "",
         "type": "scatter",
         "x": [
          -0.7047235523489176,
          1.246993324176599,
          0.1403089172780101,
          -0.4549420408995085,
          0.06246430342814528,
          -0.0014477722750879122,
          0.7173287158977242,
          1.3939915546321147,
          -2.0722469934200163,
          1.126921877025309,
          1.1541613504362467,
          -1.1229505194346185,
          1.217198074129629,
          -0.22721537044679177,
          0.21435434921557553,
          -0.9376024029308394,
          -0.45691627457818557,
          -0.19797153024436692,
          -2.5355487909269643,
          -0.11762947145539833,
          0.6199621320706129,
          1.2091447197385286,
          -1.5780488351712234,
          -0.021510994529677023,
          -0.06212691573040214,
          -0.2559669080909139,
          -0.43365185916771815,
          -0.37165169246290414,
          0.4001482227159277,
          -0.2808384077050134,
          0.3200323481265974,
          0.548912422765533,
          -2.3704572275044256,
          -0.3644523198278164,
          0.039454027249712476,
          1.0623529672146794,
          0.7864934855343091,
          0.7256637434622966,
          0.6976639154125662,
          1.4743878281038973,
          -2.0616148606854043,
          -0.2937432964169668,
          -0.3792343959203282,
          0.576380223053573,
          -1.9159063740657722,
          0.40713157217015117,
          -0.29436880522574765,
          -0.9394752185978784,
          0.78876931567213,
          0.8895989554239737,
          1.5664726941314182,
          0.48441540775546776,
          -3.0591518070458266,
          2.3911231558435726,
          -1.4449033644934874,
          -1.3924275408123392,
          0.17382197797757712,
          -0.5567243993245482,
          -0.08447779634123187,
          0.4301868761448119,
          1.2355330417977177,
          -0.5063159694727445,
          -0.8187281572673231,
          1.6039646080964505,
          -0.2009598120941732,
          2.8029560142061323,
          0.2984548560518197,
          0.8999436772220767,
          -1.7319802294637427,
          -1.3607715721374827,
          -0.3818650465129761,
          -0.24119446662667235,
          0.49573677929622895,
          0.37516568660625255,
          -1.3963206832653954,
          0.08370478226323531,
          -0.802838008300142,
          1.126644556541517,
          0.2456983810060282,
          -0.31141590823350834,
          0.14924592582376356,
          0.0586862032747273,
          -0.8810342851515048,
          -0.5630394604053154,
          -1.0394141444088514,
          1.5754312986766652,
          1.080653351869836,
          -0.9897339047293988,
          0.45902392135464376,
          -1.34379459005792,
          0.987088063065103,
          -0.003852969120063484,
          0.003105491270756242,
          2.3288587458423207,
          -0.26636891054765377,
          -0.5588559210488281,
          -2.897762586549168,
          -0.9471056471452588,
          0.58355518513356,
          0.22462303171811882
         ],
         "xaxis": "x4",
         "y": [
          -0.13775086430743813,
          -1.9933049229514477,
          -0.9545044762222105,
          1.4014164640928737,
          -1.13192187578824,
          -1.3617171661286414,
          -0.9083961716634638,
          1.3303928616547227,
          0.8057925035002808,
          -0.6897784200723086,
          -2.0953961176504903,
          0.4779895237770411,
          0.7541183143416599,
          1.0885380483057463,
          -1.9447575190926418,
          0.9975927283186687,
          0.5396244432324852,
          -0.42383547340641514,
          0.7186773780770584,
          2.6607077784921724,
          0.5419253101691794,
          0.48168350903181256,
          0.00016683141743905627,
          -1.434810587490341,
          0.7715714846893815,
          0.7456802660196701,
          -0.36542221125466307,
          -1.0166942651772195,
          0.3093832415310271,
          -1.3304186784288994,
          -0.38208893085136053,
          1.070745280547997,
          -0.24166411883649572,
          1.0156796479926795,
          0.34835168994849247,
          -0.4191523215594431,
          0.06173604008436236,
          -1.432936038291852,
          0.3258606651601762,
          -1.349954164282741,
          -0.7095098045451561,
          1.010145452103435,
          -1.1105120080278759,
          0.21666021830827295,
          0.05047695299247232,
          1.6979340768084248,
          0.4829406701478865,
          -0.09070487712543199,
          0.8532304688136618,
          -0.8942411416717861,
          -0.42457176708669925,
          -1.5657072405052173,
          -0.17728663186775215,
          -0.907529302042309,
          0.015237382008090744,
          0.17182485828798016,
          -0.422959094891893,
          -0.7740227863443343,
          -1.0208775652388034,
          -0.6324799702992057,
          0.10822694435312787,
          -0.3496517337932419,
          0.33060914060953733,
          -1.0106999926023936,
          -0.7222417619394348,
          -0.5332812245676131,
          -0.776755834796644,
          1.1941171480095443,
          1.2686298712847948,
          -1.017278861018582,
          -1.1774948698526817,
          -0.4239516911089791,
          -0.3945051098098888,
          -1.360817658415006,
          -0.863416437132497,
          0.7226579837082056,
          -1.071158632435797,
          -0.7010972899518247,
          1.2145562514183765,
          -0.28080634140698185,
          0.4366347441230707,
          1.314812375540971,
          1.5722102595136485,
          2.3812552615192804,
          -1.0672037558626681,
          -0.053593780034868706,
          0.5976597621802904,
          -0.5418992969522781,
          -0.8921719903625399,
          0.32805956293816935,
          0.8811900268496274,
          -0.6639785072700968,
          -0.4073355000059551,
          -0.5740298447265203,
          0.033388134057522056,
          -1.3913553444512943,
          0.20930846462947625,
          -1.8181242562227442,
          0.20084981290816206,
          -0.8380964279862918
         ],
         "yaxis": "y4"
        },
        {
         "line": {
          "color": "rgba(128, 128, 128, 1.0)",
          "dash": "solid",
          "shape": "linear",
          "width": 1.3
         },
         "marker": {
          "size": 2,
          "symbol": "circle"
         },
         "mode": "markers",
         "name": "B",
         "text": "",
         "type": "scatter",
         "x": [
          -0.13775086430743813,
          -1.9933049229514477,
          -0.9545044762222105,
          1.4014164640928737,
          -1.13192187578824,
          -1.3617171661286414,
          -0.9083961716634638,
          1.3303928616547227,
          0.8057925035002808,
          -0.6897784200723086,
          -2.0953961176504903,
          0.4779895237770411,
          0.7541183143416599,
          1.0885380483057463,
          -1.9447575190926418,
          0.9975927283186687,
          0.5396244432324852,
          -0.42383547340641514,
          0.7186773780770584,
          2.6607077784921724,
          0.5419253101691794,
          0.48168350903181256,
          0.00016683141743905627,
          -1.434810587490341,
          0.7715714846893815,
          0.7456802660196701,
          -0.36542221125466307,
          -1.0166942651772195,
          0.3093832415310271,
          -1.3304186784288994,
          -0.38208893085136053,
          1.070745280547997,
          -0.24166411883649572,
          1.0156796479926795,
          0.34835168994849247,
          -0.4191523215594431,
          0.06173604008436236,
          -1.432936038291852,
          0.3258606651601762,
          -1.349954164282741,
          -0.7095098045451561,
          1.010145452103435,
          -1.1105120080278759,
          0.21666021830827295,
          0.05047695299247232,
          1.6979340768084248,
          0.4829406701478865,
          -0.09070487712543199,
          0.8532304688136618,
          -0.8942411416717861,
          -0.42457176708669925,
          -1.5657072405052173,
          -0.17728663186775215,
          -0.907529302042309,
          0.015237382008090744,
          0.17182485828798016,
          -0.422959094891893,
          -0.7740227863443343,
          -1.0208775652388034,
          -0.6324799702992057,
          0.10822694435312787,
          -0.3496517337932419,
          0.33060914060953733,
          -1.0106999926023936,
          -0.7222417619394348,
          -0.5332812245676131,
          -0.776755834796644,
          1.1941171480095443,
          1.2686298712847948,
          -1.017278861018582,
          -1.1774948698526817,
          -0.4239516911089791,
          -0.3945051098098888,
          -1.360817658415006,
          -0.863416437132497,
          0.7226579837082056,
          -1.071158632435797,
          -0.7010972899518247,
          1.2145562514183765,
          -0.28080634140698185,
          0.4366347441230707,
          1.314812375540971,
          1.5722102595136485,
          2.3812552615192804,
          -1.0672037558626681,
          -0.053593780034868706,
          0.5976597621802904,
          -0.5418992969522781,
          -0.8921719903625399,
          0.32805956293816935,
          0.8811900268496274,
          -0.6639785072700968,
          -0.4073355000059551,
          -0.5740298447265203,
          0.033388134057522056,
          -1.3913553444512943,
          0.20930846462947625,
          -1.8181242562227442,
          0.20084981290816206,
          -0.8380964279862918
         ],
         "xaxis": "x5",
         "y": [
          0.4867039677135526,
          1.244047840402478,
          2.3332257859437378,
          1.689469317780753,
          0.26600468702917085,
          -1.5534056582883649,
          -1.4715859849210289,
          -0.2044115131727728,
          0.26871657375985414,
          -0.3422180501613123,
          -1.7735616597332367,
          -0.016933444517672404,
          -0.7293476753347374,
          -0.624452059783926,
          -1.2763146611944258,
          1.2724287629354616,
          0.3481211380276087,
          -1.0169552849327732,
          0.10521745932772313,
          -0.6304304028436521,
          -0.5041196367567813,
          0.3161120551419451,
          0.7369874147128881,
          -1.0598247277896868,
          -0.18506125663662593,
          0.810477229270296,
          -1.384807705451281,
          -0.8863863326525558,
          0.9147353176181667,
          -0.5385833168165204,
          0.23579161115875363,
          1.3922065321592305,
          -0.029253693715969455,
          0.9869678719055079,
          -0.8315582910357844,
          -0.15630658169048334,
          0.3630713272506266,
          -0.5732445399171228,
          0.6868772378242992,
          1.1003303290999775,
          0.18612995904760574,
          0.6946198041945933,
          -2.365577687112027,
          0.8905083947588157,
          0.6373915150218937,
          -1.5590165623571386,
          -1.8099737250328467,
          0.8187923807100435,
          -0.566006465230476,
          -0.2075092147286489,
          -1.5463956090468263,
          -0.2027034353912444,
          0.6110919682579047,
          -0.4024096082165716,
          0.1092393679292165,
          -1.549036721036476,
          -0.28602484732646627,
          -1.596958432253144,
          -1.2934586866600908,
          -0.4345286168661543,
          -0.6577383489380272,
          0.7483943244863837,
          1.079000643133668,
          -1.5546810209164317,
          -0.7525658730481593,
          0.9060783055285099,
          -1.4556490922061072,
          1.5641473539411717,
          0.867404487903958,
          -0.7804546920722069,
          -0.2626463976382476,
          1.0219316310317808,
          -0.940622822003576,
          -0.7058560462667333,
          0.40742227057372776,
          -1.06757106950965,
          -0.7515626021053561,
          2.1636224076620234,
          0.286759747917996,
          -0.8385984718681364,
          -0.7641870886396996,
          -0.48373459403747987,
          0.10528249278382575,
          -0.9632439023829252,
          1.903457634504097,
          -0.16604985961639618,
          0.5530277500259455,
          0.0951366549917921,
          0.10390345527482063,
          0.12218714334909844,
          -1.1493425592465587,
          0.5883479007961637,
          0.23124416068370013,
          1.0861293480045746,
          1.2786656219423185,
          -0.10469047643119377,
          0.664352682995852,
          -0.45585776757309304,
          -0.309786574014567,
          -1.1229610739076694
         ],
         "yaxis": "y5"
        },
        {
         "histfunc": "count",
         "histnorm": "",
         "marker": {
          "color": "rgba(55, 128, 191, 1.0)",
          "line": {
           "color": "#4D5663",
           "width": 1.3
          }
         },
         "name": "B",
         "nbinsx": 10,
         "opacity": 0.8,
         "orientation": "v",
         "type": "histogram",
         "x": [
          0.4867039677135526,
          1.244047840402478,
          2.3332257859437378,
          1.689469317780753,
          0.26600468702917085,
          -1.5534056582883649,
          -1.4715859849210289,
          -0.2044115131727728,
          0.26871657375985414,
          -0.3422180501613123,
          -1.7735616597332367,
          -0.016933444517672404,
          -0.7293476753347374,
          -0.624452059783926,
          -1.2763146611944258,
          1.2724287629354616,
          0.3481211380276087,
          -1.0169552849327732,
          0.10521745932772313,
          -0.6304304028436521,
          -0.5041196367567813,
          0.3161120551419451,
          0.7369874147128881,
          -1.0598247277896868,
          -0.18506125663662593,
          0.810477229270296,
          -1.384807705451281,
          -0.8863863326525558,
          0.9147353176181667,
          -0.5385833168165204,
          0.23579161115875363,
          1.3922065321592305,
          -0.029253693715969455,
          0.9869678719055079,
          -0.8315582910357844,
          -0.15630658169048334,
          0.3630713272506266,
          -0.5732445399171228,
          0.6868772378242992,
          1.1003303290999775,
          0.18612995904760574,
          0.6946198041945933,
          -2.365577687112027,
          0.8905083947588157,
          0.6373915150218937,
          -1.5590165623571386,
          -1.8099737250328467,
          0.8187923807100435,
          -0.566006465230476,
          -0.2075092147286489,
          -1.5463956090468263,
          -0.2027034353912444,
          0.6110919682579047,
          -0.4024096082165716,
          0.1092393679292165,
          -1.549036721036476,
          -0.28602484732646627,
          -1.596958432253144,
          -1.2934586866600908,
          -0.4345286168661543,
          -0.6577383489380272,
          0.7483943244863837,
          1.079000643133668,
          -1.5546810209164317,
          -0.7525658730481593,
          0.9060783055285099,
          -1.4556490922061072,
          1.5641473539411717,
          0.867404487903958,
          -0.7804546920722069,
          -0.2626463976382476,
          1.0219316310317808,
          -0.940622822003576,
          -0.7058560462667333,
          0.40742227057372776,
          -1.06757106950965,
          -0.7515626021053561,
          2.1636224076620234,
          0.286759747917996,
          -0.8385984718681364,
          -0.7641870886396996,
          -0.48373459403747987,
          0.10528249278382575,
          -0.9632439023829252,
          1.903457634504097,
          -0.16604985961639618,
          0.5530277500259455,
          0.0951366549917921,
          0.10390345527482063,
          0.12218714334909844,
          -1.1493425592465587,
          0.5883479007961637,
          0.23124416068370013,
          1.0861293480045746,
          1.2786656219423185,
          -0.10469047643119377,
          0.664352682995852,
          -0.45585776757309304,
          -0.309786574014567,
          -1.1229610739076694
         ],
         "xaxis": "x6",
         "yaxis": "y6"
        },
        {
         "line": {
          "color": "rgba(128, 128, 128, 1.0)",
          "dash": "solid",
          "shape": "linear",
          "width": 1.3
         },
         "marker": {
          "size": 2,
          "symbol": "circle"
         },
         "mode": "markers",
         "name": "B",
         "text": "",
         "type": "scatter",
         "x": [
          -1.13749315482382,
          0.7653879229528251,
          0.36353993423080283,
          -0.1264559329598941,
          0.20902322993125227,
          0.004425724623742667,
          -1.5809516932518117,
          0.21132144886763912,
          -0.09207767881977709,
          -0.9986667851679848,
          0.24249197845322157,
          -0.1670722755498319,
          -0.25989403824354784,
          -1.2128858047674451,
          -0.6066845874730094,
          0.38747203527688656,
          0.6703817625268776,
          0.5893838408432945,
          -0.2515646505395043,
          0.015830081332728074,
          0.7518553601532176,
          -0.8279223222360815,
          0.13447461632924104,
          0.5038845288746462,
          -0.7991348009888153,
          -0.6017576901506447,
          -0.9471261239516784,
          -1.4158141594145313,
          0.8046294420633452,
          -1.88418076448262,
          -0.7244974928743495,
          0.8062482595739058,
          1.468972588346329,
          -1.3065576529651353,
          0.19761452884566194,
          -0.5142486337830402,
          -0.5366617937602675,
          0.41674173632929223,
          0.07040277780338344,
          0.5867604556708543,
          -0.5307208193118907,
          0.5532314718964406,
          0.33618900518926537,
          -2.0316632223733553,
          1.2037899892305588,
          1.495760261609705,
          0.9461871905850956,
          0.4148510504342809,
          1.2917872098988403,
          0.038159176615340996,
          -0.7903494308684608,
          0.8724093738391323,
          0.5084019544516403,
          1.6802366581185233,
          -0.03835829382367422,
          0.8921323672959719,
          -3.1048789733083635,
          -0.9959838237283308,
          -1.4776596679815992,
          -1.6042472658044309,
          -0.898057711597044,
          -0.0014952871568699056,
          -0.060323124861548186,
          -1.5214938503202469,
          0.5440691871580189,
          1.7948911997294532,
          -2.3114850872544577,
          -1.2511453085315185,
          -0.9192439666370511,
          1.3347845456976195,
          -2.7084887701278917,
          -0.6872683553989607,
          0.1633739608597954,
          0.7011899016772642,
          -0.43252875504230487,
          0.4669155858262645,
          -1.3804452333866417,
          -0.7129946601176602,
          1.1510291635751115,
          -0.37340888390995575,
          -0.7678549843810049,
          1.4537991209345367,
          -1.6103328597013777,
          -0.08098437022756322,
          0.04938978891788958,
          0.8818090088558648,
          -0.4463209623346439,
          -0.05772006728779314,
          0.2094643862383853,
          -0.788480693768257,
          -0.9700506115589369,
          -0.6309762622528706,
          -0.1496590724180059,
          -1.5557199092524507,
          1.2173731944856414,
          -0.9646377814844951,
          0.35472679974346744,
          0.8580392133991638,
          -0.47948073381113515,
          -0.4451400361562025
         ],
         "xaxis": "x7",
         "y": [
          0.4867039677135526,
          1.244047840402478,
          2.3332257859437378,
          1.689469317780753,
          0.26600468702917085,
          -1.5534056582883649,
          -1.4715859849210289,
          -0.2044115131727728,
          0.26871657375985414,
          -0.3422180501613123,
          -1.7735616597332367,
          -0.016933444517672404,
          -0.7293476753347374,
          -0.624452059783926,
          -1.2763146611944258,
          1.2724287629354616,
          0.3481211380276087,
          -1.0169552849327732,
          0.10521745932772313,
          -0.6304304028436521,
          -0.5041196367567813,
          0.3161120551419451,
          0.7369874147128881,
          -1.0598247277896868,
          -0.18506125663662593,
          0.810477229270296,
          -1.384807705451281,
          -0.8863863326525558,
          0.9147353176181667,
          -0.5385833168165204,
          0.23579161115875363,
          1.3922065321592305,
          -0.029253693715969455,
          0.9869678719055079,
          -0.8315582910357844,
          -0.15630658169048334,
          0.3630713272506266,
          -0.5732445399171228,
          0.6868772378242992,
          1.1003303290999775,
          0.18612995904760574,
          0.6946198041945933,
          -2.365577687112027,
          0.8905083947588157,
          0.6373915150218937,
          -1.5590165623571386,
          -1.8099737250328467,
          0.8187923807100435,
          -0.566006465230476,
          -0.2075092147286489,
          -1.5463956090468263,
          -0.2027034353912444,
          0.6110919682579047,
          -0.4024096082165716,
          0.1092393679292165,
          -1.549036721036476,
          -0.28602484732646627,
          -1.596958432253144,
          -1.2934586866600908,
          -0.4345286168661543,
          -0.6577383489380272,
          0.7483943244863837,
          1.079000643133668,
          -1.5546810209164317,
          -0.7525658730481593,
          0.9060783055285099,
          -1.4556490922061072,
          1.5641473539411717,
          0.867404487903958,
          -0.7804546920722069,
          -0.2626463976382476,
          1.0219316310317808,
          -0.940622822003576,
          -0.7058560462667333,
          0.40742227057372776,
          -1.06757106950965,
          -0.7515626021053561,
          2.1636224076620234,
          0.286759747917996,
          -0.8385984718681364,
          -0.7641870886396996,
          -0.48373459403747987,
          0.10528249278382575,
          -0.9632439023829252,
          1.903457634504097,
          -0.16604985961639618,
          0.5530277500259455,
          0.0951366549917921,
          0.10390345527482063,
          0.12218714334909844,
          -1.1493425592465587,
          0.5883479007961637,
          0.23124416068370013,
          1.0861293480045746,
          1.2786656219423185,
          -0.10469047643119377,
          0.664352682995852,
          -0.45585776757309304,
          -0.309786574014567,
          -1.1229610739076694
         ],
         "yaxis": "y7"
        },
        {
         "line": {
          "color": "rgba(128, 128, 128, 1.0)",
          "dash": "solid",
          "shape": "linear",
          "width": 1.3
         },
         "marker": {
          "size": 2,
          "symbol": "circle"
         },
         "mode": "markers",
         "name": "B",
         "text": "",
         "type": "scatter",
         "x": [
          -0.7047235523489176,
          1.246993324176599,
          0.1403089172780101,
          -0.4549420408995085,
          0.06246430342814528,
          -0.0014477722750879122,
          0.7173287158977242,
          1.3939915546321147,
          -2.0722469934200163,
          1.126921877025309,
          1.1541613504362467,
          -1.1229505194346185,
          1.217198074129629,
          -0.22721537044679177,
          0.21435434921557553,
          -0.9376024029308394,
          -0.45691627457818557,
          -0.19797153024436692,
          -2.5355487909269643,
          -0.11762947145539833,
          0.6199621320706129,
          1.2091447197385286,
          -1.5780488351712234,
          -0.021510994529677023,
          -0.06212691573040214,
          -0.2559669080909139,
          -0.43365185916771815,
          -0.37165169246290414,
          0.4001482227159277,
          -0.2808384077050134,
          0.3200323481265974,
          0.548912422765533,
          -2.3704572275044256,
          -0.3644523198278164,
          0.039454027249712476,
          1.0623529672146794,
          0.7864934855343091,
          0.7256637434622966,
          0.6976639154125662,
          1.4743878281038973,
          -2.0616148606854043,
          -0.2937432964169668,
          -0.3792343959203282,
          0.576380223053573,
          -1.9159063740657722,
          0.40713157217015117,
          -0.29436880522574765,
          -0.9394752185978784,
          0.78876931567213,
          0.8895989554239737,
          1.5664726941314182,
          0.48441540775546776,
          -3.0591518070458266,
          2.3911231558435726,
          -1.4449033644934874,
          -1.3924275408123392,
          0.17382197797757712,
          -0.5567243993245482,
          -0.08447779634123187,
          0.4301868761448119,
          1.2355330417977177,
          -0.5063159694727445,
          -0.8187281572673231,
          1.6039646080964505,
          -0.2009598120941732,
          2.8029560142061323,
          0.2984548560518197,
          0.8999436772220767,
          -1.7319802294637427,
          -1.3607715721374827,
          -0.3818650465129761,
          -0.24119446662667235,
          0.49573677929622895,
          0.37516568660625255,
          -1.3963206832653954,
          0.08370478226323531,
          -0.802838008300142,
          1.126644556541517,
          0.2456983810060282,
          -0.31141590823350834,
          0.14924592582376356,
          0.0586862032747273,
          -0.8810342851515048,
          -0.5630394604053154,
          -1.0394141444088514,
          1.5754312986766652,
          1.080653351869836,
          -0.9897339047293988,
          0.45902392135464376,
          -1.34379459005792,
          0.987088063065103,
          -0.003852969120063484,
          0.003105491270756242,
          2.3288587458423207,
          -0.26636891054765377,
          -0.5588559210488281,
          -2.897762586549168,
          -0.9471056471452588,
          0.58355518513356,
          0.22462303171811882
         ],
         "xaxis": "x8",
         "y": [
          0.4867039677135526,
          1.244047840402478,
          2.3332257859437378,
          1.689469317780753,
          0.26600468702917085,
          -1.5534056582883649,
          -1.4715859849210289,
          -0.2044115131727728,
          0.26871657375985414,
          -0.3422180501613123,
          -1.7735616597332367,
          -0.016933444517672404,
          -0.7293476753347374,
          -0.624452059783926,
          -1.2763146611944258,
          1.2724287629354616,
          0.3481211380276087,
          -1.0169552849327732,
          0.10521745932772313,
          -0.6304304028436521,
          -0.5041196367567813,
          0.3161120551419451,
          0.7369874147128881,
          -1.0598247277896868,
          -0.18506125663662593,
          0.810477229270296,
          -1.384807705451281,
          -0.8863863326525558,
          0.9147353176181667,
          -0.5385833168165204,
          0.23579161115875363,
          1.3922065321592305,
          -0.029253693715969455,
          0.9869678719055079,
          -0.8315582910357844,
          -0.15630658169048334,
          0.3630713272506266,
          -0.5732445399171228,
          0.6868772378242992,
          1.1003303290999775,
          0.18612995904760574,
          0.6946198041945933,
          -2.365577687112027,
          0.8905083947588157,
          0.6373915150218937,
          -1.5590165623571386,
          -1.8099737250328467,
          0.8187923807100435,
          -0.566006465230476,
          -0.2075092147286489,
          -1.5463956090468263,
          -0.2027034353912444,
          0.6110919682579047,
          -0.4024096082165716,
          0.1092393679292165,
          -1.549036721036476,
          -0.28602484732646627,
          -1.596958432253144,
          -1.2934586866600908,
          -0.4345286168661543,
          -0.6577383489380272,
          0.7483943244863837,
          1.079000643133668,
          -1.5546810209164317,
          -0.7525658730481593,
          0.9060783055285099,
          -1.4556490922061072,
          1.5641473539411717,
          0.867404487903958,
          -0.7804546920722069,
          -0.2626463976382476,
          1.0219316310317808,
          -0.940622822003576,
          -0.7058560462667333,
          0.40742227057372776,
          -1.06757106950965,
          -0.7515626021053561,
          2.1636224076620234,
          0.286759747917996,
          -0.8385984718681364,
          -0.7641870886396996,
          -0.48373459403747987,
          0.10528249278382575,
          -0.9632439023829252,
          1.903457634504097,
          -0.16604985961639618,
          0.5530277500259455,
          0.0951366549917921,
          0.10390345527482063,
          0.12218714334909844,
          -1.1493425592465587,
          0.5883479007961637,
          0.23124416068370013,
          1.0861293480045746,
          1.2786656219423185,
          -0.10469047643119377,
          0.664352682995852,
          -0.45585776757309304,
          -0.309786574014567,
          -1.1229610739076694
         ],
         "yaxis": "y8"
        },
        {
         "line": {
          "color": "rgba(128, 128, 128, 1.0)",
          "dash": "solid",
          "shape": "linear",
          "width": 1.3
         },
         "marker": {
          "size": 2,
          "symbol": "circle"
         },
         "mode": "markers",
         "name": "C",
         "text": "",
         "type": "scatter",
         "x": [
          -0.13775086430743813,
          -1.9933049229514477,
          -0.9545044762222105,
          1.4014164640928737,
          -1.13192187578824,
          -1.3617171661286414,
          -0.9083961716634638,
          1.3303928616547227,
          0.8057925035002808,
          -0.6897784200723086,
          -2.0953961176504903,
          0.4779895237770411,
          0.7541183143416599,
          1.0885380483057463,
          -1.9447575190926418,
          0.9975927283186687,
          0.5396244432324852,
          -0.42383547340641514,
          0.7186773780770584,
          2.6607077784921724,
          0.5419253101691794,
          0.48168350903181256,
          0.00016683141743905627,
          -1.434810587490341,
          0.7715714846893815,
          0.7456802660196701,
          -0.36542221125466307,
          -1.0166942651772195,
          0.3093832415310271,
          -1.3304186784288994,
          -0.38208893085136053,
          1.070745280547997,
          -0.24166411883649572,
          1.0156796479926795,
          0.34835168994849247,
          -0.4191523215594431,
          0.06173604008436236,
          -1.432936038291852,
          0.3258606651601762,
          -1.349954164282741,
          -0.7095098045451561,
          1.010145452103435,
          -1.1105120080278759,
          0.21666021830827295,
          0.05047695299247232,
          1.6979340768084248,
          0.4829406701478865,
          -0.09070487712543199,
          0.8532304688136618,
          -0.8942411416717861,
          -0.42457176708669925,
          -1.5657072405052173,
          -0.17728663186775215,
          -0.907529302042309,
          0.015237382008090744,
          0.17182485828798016,
          -0.422959094891893,
          -0.7740227863443343,
          -1.0208775652388034,
          -0.6324799702992057,
          0.10822694435312787,
          -0.3496517337932419,
          0.33060914060953733,
          -1.0106999926023936,
          -0.7222417619394348,
          -0.5332812245676131,
          -0.776755834796644,
          1.1941171480095443,
          1.2686298712847948,
          -1.017278861018582,
          -1.1774948698526817,
          -0.4239516911089791,
          -0.3945051098098888,
          -1.360817658415006,
          -0.863416437132497,
          0.7226579837082056,
          -1.071158632435797,
          -0.7010972899518247,
          1.2145562514183765,
          -0.28080634140698185,
          0.4366347441230707,
          1.314812375540971,
          1.5722102595136485,
          2.3812552615192804,
          -1.0672037558626681,
          -0.053593780034868706,
          0.5976597621802904,
          -0.5418992969522781,
          -0.8921719903625399,
          0.32805956293816935,
          0.8811900268496274,
          -0.6639785072700968,
          -0.4073355000059551,
          -0.5740298447265203,
          0.033388134057522056,
          -1.3913553444512943,
          0.20930846462947625,
          -1.8181242562227442,
          0.20084981290816206,
          -0.8380964279862918
         ],
         "xaxis": "x9",
         "y": [
          -1.13749315482382,
          0.7653879229528251,
          0.36353993423080283,
          -0.1264559329598941,
          0.20902322993125227,
          0.004425724623742667,
          -1.5809516932518117,
          0.21132144886763912,
          -0.09207767881977709,
          -0.9986667851679848,
          0.24249197845322157,
          -0.1670722755498319,
          -0.25989403824354784,
          -1.2128858047674451,
          -0.6066845874730094,
          0.38747203527688656,
          0.6703817625268776,
          0.5893838408432945,
          -0.2515646505395043,
          0.015830081332728074,
          0.7518553601532176,
          -0.8279223222360815,
          0.13447461632924104,
          0.5038845288746462,
          -0.7991348009888153,
          -0.6017576901506447,
          -0.9471261239516784,
          -1.4158141594145313,
          0.8046294420633452,
          -1.88418076448262,
          -0.7244974928743495,
          0.8062482595739058,
          1.468972588346329,
          -1.3065576529651353,
          0.19761452884566194,
          -0.5142486337830402,
          -0.5366617937602675,
          0.41674173632929223,
          0.07040277780338344,
          0.5867604556708543,
          -0.5307208193118907,
          0.5532314718964406,
          0.33618900518926537,
          -2.0316632223733553,
          1.2037899892305588,
          1.495760261609705,
          0.9461871905850956,
          0.4148510504342809,
          1.2917872098988403,
          0.038159176615340996,
          -0.7903494308684608,
          0.8724093738391323,
          0.5084019544516403,
          1.6802366581185233,
          -0.03835829382367422,
          0.8921323672959719,
          -3.1048789733083635,
          -0.9959838237283308,
          -1.4776596679815992,
          -1.6042472658044309,
          -0.898057711597044,
          -0.0014952871568699056,
          -0.060323124861548186,
          -1.5214938503202469,
          0.5440691871580189,
          1.7948911997294532,
          -2.3114850872544577,
          -1.2511453085315185,
          -0.9192439666370511,
          1.3347845456976195,
          -2.7084887701278917,
          -0.6872683553989607,
          0.1633739608597954,
          0.7011899016772642,
          -0.43252875504230487,
          0.4669155858262645,
          -1.3804452333866417,
          -0.7129946601176602,
          1.1510291635751115,
          -0.37340888390995575,
          -0.7678549843810049,
          1.4537991209345367,
          -1.6103328597013777,
          -0.08098437022756322,
          0.04938978891788958,
          0.8818090088558648,
          -0.4463209623346439,
          -0.05772006728779314,
          0.2094643862383853,
          -0.788480693768257,
          -0.9700506115589369,
          -0.6309762622528706,
          -0.1496590724180059,
          -1.5557199092524507,
          1.2173731944856414,
          -0.9646377814844951,
          0.35472679974346744,
          0.8580392133991638,
          -0.47948073381113515,
          -0.4451400361562025
         ],
         "yaxis": "y9"
        },
        {
         "line": {
          "color": "rgba(128, 128, 128, 1.0)",
          "dash": "solid",
          "shape": "linear",
          "width": 1.3
         },
         "marker": {
          "size": 2,
          "symbol": "circle"
         },
         "mode": "markers",
         "name": "C",
         "text": "",
         "type": "scatter",
         "x": [
          0.4867039677135526,
          1.244047840402478,
          2.3332257859437378,
          1.689469317780753,
          0.26600468702917085,
          -1.5534056582883649,
          -1.4715859849210289,
          -0.2044115131727728,
          0.26871657375985414,
          -0.3422180501613123,
          -1.7735616597332367,
          -0.016933444517672404,
          -0.7293476753347374,
          -0.624452059783926,
          -1.2763146611944258,
          1.2724287629354616,
          0.3481211380276087,
          -1.0169552849327732,
          0.10521745932772313,
          -0.6304304028436521,
          -0.5041196367567813,
          0.3161120551419451,
          0.7369874147128881,
          -1.0598247277896868,
          -0.18506125663662593,
          0.810477229270296,
          -1.384807705451281,
          -0.8863863326525558,
          0.9147353176181667,
          -0.5385833168165204,
          0.23579161115875363,
          1.3922065321592305,
          -0.029253693715969455,
          0.9869678719055079,
          -0.8315582910357844,
          -0.15630658169048334,
          0.3630713272506266,
          -0.5732445399171228,
          0.6868772378242992,
          1.1003303290999775,
          0.18612995904760574,
          0.6946198041945933,
          -2.365577687112027,
          0.8905083947588157,
          0.6373915150218937,
          -1.5590165623571386,
          -1.8099737250328467,
          0.8187923807100435,
          -0.566006465230476,
          -0.2075092147286489,
          -1.5463956090468263,
          -0.2027034353912444,
          0.6110919682579047,
          -0.4024096082165716,
          0.1092393679292165,
          -1.549036721036476,
          -0.28602484732646627,
          -1.596958432253144,
          -1.2934586866600908,
          -0.4345286168661543,
          -0.6577383489380272,
          0.7483943244863837,
          1.079000643133668,
          -1.5546810209164317,
          -0.7525658730481593,
          0.9060783055285099,
          -1.4556490922061072,
          1.5641473539411717,
          0.867404487903958,
          -0.7804546920722069,
          -0.2626463976382476,
          1.0219316310317808,
          -0.940622822003576,
          -0.7058560462667333,
          0.40742227057372776,
          -1.06757106950965,
          -0.7515626021053561,
          2.1636224076620234,
          0.286759747917996,
          -0.8385984718681364,
          -0.7641870886396996,
          -0.48373459403747987,
          0.10528249278382575,
          -0.9632439023829252,
          1.903457634504097,
          -0.16604985961639618,
          0.5530277500259455,
          0.0951366549917921,
          0.10390345527482063,
          0.12218714334909844,
          -1.1493425592465587,
          0.5883479007961637,
          0.23124416068370013,
          1.0861293480045746,
          1.2786656219423185,
          -0.10469047643119377,
          0.664352682995852,
          -0.45585776757309304,
          -0.309786574014567,
          -1.1229610739076694
         ],
         "xaxis": "x10",
         "y": [
          -1.13749315482382,
          0.7653879229528251,
          0.36353993423080283,
          -0.1264559329598941,
          0.20902322993125227,
          0.004425724623742667,
          -1.5809516932518117,
          0.21132144886763912,
          -0.09207767881977709,
          -0.9986667851679848,
          0.24249197845322157,
          -0.1670722755498319,
          -0.25989403824354784,
          -1.2128858047674451,
          -0.6066845874730094,
          0.38747203527688656,
          0.6703817625268776,
          0.5893838408432945,
          -0.2515646505395043,
          0.015830081332728074,
          0.7518553601532176,
          -0.8279223222360815,
          0.13447461632924104,
          0.5038845288746462,
          -0.7991348009888153,
          -0.6017576901506447,
          -0.9471261239516784,
          -1.4158141594145313,
          0.8046294420633452,
          -1.88418076448262,
          -0.7244974928743495,
          0.8062482595739058,
          1.468972588346329,
          -1.3065576529651353,
          0.19761452884566194,
          -0.5142486337830402,
          -0.5366617937602675,
          0.41674173632929223,
          0.07040277780338344,
          0.5867604556708543,
          -0.5307208193118907,
          0.5532314718964406,
          0.33618900518926537,
          -2.0316632223733553,
          1.2037899892305588,
          1.495760261609705,
          0.9461871905850956,
          0.4148510504342809,
          1.2917872098988403,
          0.038159176615340996,
          -0.7903494308684608,
          0.8724093738391323,
          0.5084019544516403,
          1.6802366581185233,
          -0.03835829382367422,
          0.8921323672959719,
          -3.1048789733083635,
          -0.9959838237283308,
          -1.4776596679815992,
          -1.6042472658044309,
          -0.898057711597044,
          -0.0014952871568699056,
          -0.060323124861548186,
          -1.5214938503202469,
          0.5440691871580189,
          1.7948911997294532,
          -2.3114850872544577,
          -1.2511453085315185,
          -0.9192439666370511,
          1.3347845456976195,
          -2.7084887701278917,
          -0.6872683553989607,
          0.1633739608597954,
          0.7011899016772642,
          -0.43252875504230487,
          0.4669155858262645,
          -1.3804452333866417,
          -0.7129946601176602,
          1.1510291635751115,
          -0.37340888390995575,
          -0.7678549843810049,
          1.4537991209345367,
          -1.6103328597013777,
          -0.08098437022756322,
          0.04938978891788958,
          0.8818090088558648,
          -0.4463209623346439,
          -0.05772006728779314,
          0.2094643862383853,
          -0.788480693768257,
          -0.9700506115589369,
          -0.6309762622528706,
          -0.1496590724180059,
          -1.5557199092524507,
          1.2173731944856414,
          -0.9646377814844951,
          0.35472679974346744,
          0.8580392133991638,
          -0.47948073381113515,
          -0.4451400361562025
         ],
         "yaxis": "y10"
        },
        {
         "histfunc": "count",
         "histnorm": "",
         "marker": {
          "color": "rgba(50, 171, 96, 1.0)",
          "line": {
           "color": "#4D5663",
           "width": 1.3
          }
         },
         "name": "C",
         "nbinsx": 10,
         "opacity": 0.8,
         "orientation": "v",
         "type": "histogram",
         "x": [
          -1.13749315482382,
          0.7653879229528251,
          0.36353993423080283,
          -0.1264559329598941,
          0.20902322993125227,
          0.004425724623742667,
          -1.5809516932518117,
          0.21132144886763912,
          -0.09207767881977709,
          -0.9986667851679848,
          0.24249197845322157,
          -0.1670722755498319,
          -0.25989403824354784,
          -1.2128858047674451,
          -0.6066845874730094,
          0.38747203527688656,
          0.6703817625268776,
          0.5893838408432945,
          -0.2515646505395043,
          0.015830081332728074,
          0.7518553601532176,
          -0.8279223222360815,
          0.13447461632924104,
          0.5038845288746462,
          -0.7991348009888153,
          -0.6017576901506447,
          -0.9471261239516784,
          -1.4158141594145313,
          0.8046294420633452,
          -1.88418076448262,
          -0.7244974928743495,
          0.8062482595739058,
          1.468972588346329,
          -1.3065576529651353,
          0.19761452884566194,
          -0.5142486337830402,
          -0.5366617937602675,
          0.41674173632929223,
          0.07040277780338344,
          0.5867604556708543,
          -0.5307208193118907,
          0.5532314718964406,
          0.33618900518926537,
          -2.0316632223733553,
          1.2037899892305588,
          1.495760261609705,
          0.9461871905850956,
          0.4148510504342809,
          1.2917872098988403,
          0.038159176615340996,
          -0.7903494308684608,
          0.8724093738391323,
          0.5084019544516403,
          1.6802366581185233,
          -0.03835829382367422,
          0.8921323672959719,
          -3.1048789733083635,
          -0.9959838237283308,
          -1.4776596679815992,
          -1.6042472658044309,
          -0.898057711597044,
          -0.0014952871568699056,
          -0.060323124861548186,
          -1.5214938503202469,
          0.5440691871580189,
          1.7948911997294532,
          -2.3114850872544577,
          -1.2511453085315185,
          -0.9192439666370511,
          1.3347845456976195,
          -2.7084887701278917,
          -0.6872683553989607,
          0.1633739608597954,
          0.7011899016772642,
          -0.43252875504230487,
          0.4669155858262645,
          -1.3804452333866417,
          -0.7129946601176602,
          1.1510291635751115,
          -0.37340888390995575,
          -0.7678549843810049,
          1.4537991209345367,
          -1.6103328597013777,
          -0.08098437022756322,
          0.04938978891788958,
          0.8818090088558648,
          -0.4463209623346439,
          -0.05772006728779314,
          0.2094643862383853,
          -0.788480693768257,
          -0.9700506115589369,
          -0.6309762622528706,
          -0.1496590724180059,
          -1.5557199092524507,
          1.2173731944856414,
          -0.9646377814844951,
          0.35472679974346744,
          0.8580392133991638,
          -0.47948073381113515,
          -0.4451400361562025
         ],
         "xaxis": "x11",
         "yaxis": "y11"
        },
        {
         "line": {
          "color": "rgba(128, 128, 128, 1.0)",
          "dash": "solid",
          "shape": "linear",
          "width": 1.3
         },
         "marker": {
          "size": 2,
          "symbol": "circle"
         },
         "mode": "markers",
         "name": "C",
         "text": "",
         "type": "scatter",
         "x": [
          -0.7047235523489176,
          1.246993324176599,
          0.1403089172780101,
          -0.4549420408995085,
          0.06246430342814528,
          -0.0014477722750879122,
          0.7173287158977242,
          1.3939915546321147,
          -2.0722469934200163,
          1.126921877025309,
          1.1541613504362467,
          -1.1229505194346185,
          1.217198074129629,
          -0.22721537044679177,
          0.21435434921557553,
          -0.9376024029308394,
          -0.45691627457818557,
          -0.19797153024436692,
          -2.5355487909269643,
          -0.11762947145539833,
          0.6199621320706129,
          1.2091447197385286,
          -1.5780488351712234,
          -0.021510994529677023,
          -0.06212691573040214,
          -0.2559669080909139,
          -0.43365185916771815,
          -0.37165169246290414,
          0.4001482227159277,
          -0.2808384077050134,
          0.3200323481265974,
          0.548912422765533,
          -2.3704572275044256,
          -0.3644523198278164,
          0.039454027249712476,
          1.0623529672146794,
          0.7864934855343091,
          0.7256637434622966,
          0.6976639154125662,
          1.4743878281038973,
          -2.0616148606854043,
          -0.2937432964169668,
          -0.3792343959203282,
          0.576380223053573,
          -1.9159063740657722,
          0.40713157217015117,
          -0.29436880522574765,
          -0.9394752185978784,
          0.78876931567213,
          0.8895989554239737,
          1.5664726941314182,
          0.48441540775546776,
          -3.0591518070458266,
          2.3911231558435726,
          -1.4449033644934874,
          -1.3924275408123392,
          0.17382197797757712,
          -0.5567243993245482,
          -0.08447779634123187,
          0.4301868761448119,
          1.2355330417977177,
          -0.5063159694727445,
          -0.8187281572673231,
          1.6039646080964505,
          -0.2009598120941732,
          2.8029560142061323,
          0.2984548560518197,
          0.8999436772220767,
          -1.7319802294637427,
          -1.3607715721374827,
          -0.3818650465129761,
          -0.24119446662667235,
          0.49573677929622895,
          0.37516568660625255,
          -1.3963206832653954,
          0.08370478226323531,
          -0.802838008300142,
          1.126644556541517,
          0.2456983810060282,
          -0.31141590823350834,
          0.14924592582376356,
          0.0586862032747273,
          -0.8810342851515048,
          -0.5630394604053154,
          -1.0394141444088514,
          1.5754312986766652,
          1.080653351869836,
          -0.9897339047293988,
          0.45902392135464376,
          -1.34379459005792,
          0.987088063065103,
          -0.003852969120063484,
          0.003105491270756242,
          2.3288587458423207,
          -0.26636891054765377,
          -0.5588559210488281,
          -2.897762586549168,
          -0.9471056471452588,
          0.58355518513356,
          0.22462303171811882
         ],
         "xaxis": "x12",
         "y": [
          -1.13749315482382,
          0.7653879229528251,
          0.36353993423080283,
          -0.1264559329598941,
          0.20902322993125227,
          0.004425724623742667,
          -1.5809516932518117,
          0.21132144886763912,
          -0.09207767881977709,
          -0.9986667851679848,
          0.24249197845322157,
          -0.1670722755498319,
          -0.25989403824354784,
          -1.2128858047674451,
          -0.6066845874730094,
          0.38747203527688656,
          0.6703817625268776,
          0.5893838408432945,
          -0.2515646505395043,
          0.015830081332728074,
          0.7518553601532176,
          -0.8279223222360815,
          0.13447461632924104,
          0.5038845288746462,
          -0.7991348009888153,
          -0.6017576901506447,
          -0.9471261239516784,
          -1.4158141594145313,
          0.8046294420633452,
          -1.88418076448262,
          -0.7244974928743495,
          0.8062482595739058,
          1.468972588346329,
          -1.3065576529651353,
          0.19761452884566194,
          -0.5142486337830402,
          -0.5366617937602675,
          0.41674173632929223,
          0.07040277780338344,
          0.5867604556708543,
          -0.5307208193118907,
          0.5532314718964406,
          0.33618900518926537,
          -2.0316632223733553,
          1.2037899892305588,
          1.495760261609705,
          0.9461871905850956,
          0.4148510504342809,
          1.2917872098988403,
          0.038159176615340996,
          -0.7903494308684608,
          0.8724093738391323,
          0.5084019544516403,
          1.6802366581185233,
          -0.03835829382367422,
          0.8921323672959719,
          -3.1048789733083635,
          -0.9959838237283308,
          -1.4776596679815992,
          -1.6042472658044309,
          -0.898057711597044,
          -0.0014952871568699056,
          -0.060323124861548186,
          -1.5214938503202469,
          0.5440691871580189,
          1.7948911997294532,
          -2.3114850872544577,
          -1.2511453085315185,
          -0.9192439666370511,
          1.3347845456976195,
          -2.7084887701278917,
          -0.6872683553989607,
          0.1633739608597954,
          0.7011899016772642,
          -0.43252875504230487,
          0.4669155858262645,
          -1.3804452333866417,
          -0.7129946601176602,
          1.1510291635751115,
          -0.37340888390995575,
          -0.7678549843810049,
          1.4537991209345367,
          -1.6103328597013777,
          -0.08098437022756322,
          0.04938978891788958,
          0.8818090088558648,
          -0.4463209623346439,
          -0.05772006728779314,
          0.2094643862383853,
          -0.788480693768257,
          -0.9700506115589369,
          -0.6309762622528706,
          -0.1496590724180059,
          -1.5557199092524507,
          1.2173731944856414,
          -0.9646377814844951,
          0.35472679974346744,
          0.8580392133991638,
          -0.47948073381113515,
          -0.4451400361562025
         ],
         "yaxis": "y12"
        },
        {
         "line": {
          "color": "rgba(128, 128, 128, 1.0)",
          "dash": "solid",
          "shape": "linear",
          "width": 1.3
         },
         "marker": {
          "size": 2,
          "symbol": "circle"
         },
         "mode": "markers",
         "name": "D",
         "text": "",
         "type": "scatter",
         "x": [
          -0.13775086430743813,
          -1.9933049229514477,
          -0.9545044762222105,
          1.4014164640928737,
          -1.13192187578824,
          -1.3617171661286414,
          -0.9083961716634638,
          1.3303928616547227,
          0.8057925035002808,
          -0.6897784200723086,
          -2.0953961176504903,
          0.4779895237770411,
          0.7541183143416599,
          1.0885380483057463,
          -1.9447575190926418,
          0.9975927283186687,
          0.5396244432324852,
          -0.42383547340641514,
          0.7186773780770584,
          2.6607077784921724,
          0.5419253101691794,
          0.48168350903181256,
          0.00016683141743905627,
          -1.434810587490341,
          0.7715714846893815,
          0.7456802660196701,
          -0.36542221125466307,
          -1.0166942651772195,
          0.3093832415310271,
          -1.3304186784288994,
          -0.38208893085136053,
          1.070745280547997,
          -0.24166411883649572,
          1.0156796479926795,
          0.34835168994849247,
          -0.4191523215594431,
          0.06173604008436236,
          -1.432936038291852,
          0.3258606651601762,
          -1.349954164282741,
          -0.7095098045451561,
          1.010145452103435,
          -1.1105120080278759,
          0.21666021830827295,
          0.05047695299247232,
          1.6979340768084248,
          0.4829406701478865,
          -0.09070487712543199,
          0.8532304688136618,
          -0.8942411416717861,
          -0.42457176708669925,
          -1.5657072405052173,
          -0.17728663186775215,
          -0.907529302042309,
          0.015237382008090744,
          0.17182485828798016,
          -0.422959094891893,
          -0.7740227863443343,
          -1.0208775652388034,
          -0.6324799702992057,
          0.10822694435312787,
          -0.3496517337932419,
          0.33060914060953733,
          -1.0106999926023936,
          -0.7222417619394348,
          -0.5332812245676131,
          -0.776755834796644,
          1.1941171480095443,
          1.2686298712847948,
          -1.017278861018582,
          -1.1774948698526817,
          -0.4239516911089791,
          -0.3945051098098888,
          -1.360817658415006,
          -0.863416437132497,
          0.7226579837082056,
          -1.071158632435797,
          -0.7010972899518247,
          1.2145562514183765,
          -0.28080634140698185,
          0.4366347441230707,
          1.314812375540971,
          1.5722102595136485,
          2.3812552615192804,
          -1.0672037558626681,
          -0.053593780034868706,
          0.5976597621802904,
          -0.5418992969522781,
          -0.8921719903625399,
          0.32805956293816935,
          0.8811900268496274,
          -0.6639785072700968,
          -0.4073355000059551,
          -0.5740298447265203,
          0.033388134057522056,
          -1.3913553444512943,
          0.20930846462947625,
          -1.8181242562227442,
          0.20084981290816206,
          -0.8380964279862918
         ],
         "xaxis": "x13",
         "y": [
          -0.7047235523489176,
          1.246993324176599,
          0.1403089172780101,
          -0.4549420408995085,
          0.06246430342814528,
          -0.0014477722750879122,
          0.7173287158977242,
          1.3939915546321147,
          -2.0722469934200163,
          1.126921877025309,
          1.1541613504362467,
          -1.1229505194346185,
          1.217198074129629,
          -0.22721537044679177,
          0.21435434921557553,
          -0.9376024029308394,
          -0.45691627457818557,
          -0.19797153024436692,
          -2.5355487909269643,
          -0.11762947145539833,
          0.6199621320706129,
          1.2091447197385286,
          -1.5780488351712234,
          -0.021510994529677023,
          -0.06212691573040214,
          -0.2559669080909139,
          -0.43365185916771815,
          -0.37165169246290414,
          0.4001482227159277,
          -0.2808384077050134,
          0.3200323481265974,
          0.548912422765533,
          -2.3704572275044256,
          -0.3644523198278164,
          0.039454027249712476,
          1.0623529672146794,
          0.7864934855343091,
          0.7256637434622966,
          0.6976639154125662,
          1.4743878281038973,
          -2.0616148606854043,
          -0.2937432964169668,
          -0.3792343959203282,
          0.576380223053573,
          -1.9159063740657722,
          0.40713157217015117,
          -0.29436880522574765,
          -0.9394752185978784,
          0.78876931567213,
          0.8895989554239737,
          1.5664726941314182,
          0.48441540775546776,
          -3.0591518070458266,
          2.3911231558435726,
          -1.4449033644934874,
          -1.3924275408123392,
          0.17382197797757712,
          -0.5567243993245482,
          -0.08447779634123187,
          0.4301868761448119,
          1.2355330417977177,
          -0.5063159694727445,
          -0.8187281572673231,
          1.6039646080964505,
          -0.2009598120941732,
          2.8029560142061323,
          0.2984548560518197,
          0.8999436772220767,
          -1.7319802294637427,
          -1.3607715721374827,
          -0.3818650465129761,
          -0.24119446662667235,
          0.49573677929622895,
          0.37516568660625255,
          -1.3963206832653954,
          0.08370478226323531,
          -0.802838008300142,
          1.126644556541517,
          0.2456983810060282,
          -0.31141590823350834,
          0.14924592582376356,
          0.0586862032747273,
          -0.8810342851515048,
          -0.5630394604053154,
          -1.0394141444088514,
          1.5754312986766652,
          1.080653351869836,
          -0.9897339047293988,
          0.45902392135464376,
          -1.34379459005792,
          0.987088063065103,
          -0.003852969120063484,
          0.003105491270756242,
          2.3288587458423207,
          -0.26636891054765377,
          -0.5588559210488281,
          -2.897762586549168,
          -0.9471056471452588,
          0.58355518513356,
          0.22462303171811882
         ],
         "yaxis": "y13"
        },
        {
         "line": {
          "color": "rgba(128, 128, 128, 1.0)",
          "dash": "solid",
          "shape": "linear",
          "width": 1.3
         },
         "marker": {
          "size": 2,
          "symbol": "circle"
         },
         "mode": "markers",
         "name": "D",
         "text": "",
         "type": "scatter",
         "x": [
          0.4867039677135526,
          1.244047840402478,
          2.3332257859437378,
          1.689469317780753,
          0.26600468702917085,
          -1.5534056582883649,
          -1.4715859849210289,
          -0.2044115131727728,
          0.26871657375985414,
          -0.3422180501613123,
          -1.7735616597332367,
          -0.016933444517672404,
          -0.7293476753347374,
          -0.624452059783926,
          -1.2763146611944258,
          1.2724287629354616,
          0.3481211380276087,
          -1.0169552849327732,
          0.10521745932772313,
          -0.6304304028436521,
          -0.5041196367567813,
          0.3161120551419451,
          0.7369874147128881,
          -1.0598247277896868,
          -0.18506125663662593,
          0.810477229270296,
          -1.384807705451281,
          -0.8863863326525558,
          0.9147353176181667,
          -0.5385833168165204,
          0.23579161115875363,
          1.3922065321592305,
          -0.029253693715969455,
          0.9869678719055079,
          -0.8315582910357844,
          -0.15630658169048334,
          0.3630713272506266,
          -0.5732445399171228,
          0.6868772378242992,
          1.1003303290999775,
          0.18612995904760574,
          0.6946198041945933,
          -2.365577687112027,
          0.8905083947588157,
          0.6373915150218937,
          -1.5590165623571386,
          -1.8099737250328467,
          0.8187923807100435,
          -0.566006465230476,
          -0.2075092147286489,
          -1.5463956090468263,
          -0.2027034353912444,
          0.6110919682579047,
          -0.4024096082165716,
          0.1092393679292165,
          -1.549036721036476,
          -0.28602484732646627,
          -1.596958432253144,
          -1.2934586866600908,
          -0.4345286168661543,
          -0.6577383489380272,
          0.7483943244863837,
          1.079000643133668,
          -1.5546810209164317,
          -0.7525658730481593,
          0.9060783055285099,
          -1.4556490922061072,
          1.5641473539411717,
          0.867404487903958,
          -0.7804546920722069,
          -0.2626463976382476,
          1.0219316310317808,
          -0.940622822003576,
          -0.7058560462667333,
          0.40742227057372776,
          -1.06757106950965,
          -0.7515626021053561,
          2.1636224076620234,
          0.286759747917996,
          -0.8385984718681364,
          -0.7641870886396996,
          -0.48373459403747987,
          0.10528249278382575,
          -0.9632439023829252,
          1.903457634504097,
          -0.16604985961639618,
          0.5530277500259455,
          0.0951366549917921,
          0.10390345527482063,
          0.12218714334909844,
          -1.1493425592465587,
          0.5883479007961637,
          0.23124416068370013,
          1.0861293480045746,
          1.2786656219423185,
          -0.10469047643119377,
          0.664352682995852,
          -0.45585776757309304,
          -0.309786574014567,
          -1.1229610739076694
         ],
         "xaxis": "x14",
         "y": [
          -0.7047235523489176,
          1.246993324176599,
          0.1403089172780101,
          -0.4549420408995085,
          0.06246430342814528,
          -0.0014477722750879122,
          0.7173287158977242,
          1.3939915546321147,
          -2.0722469934200163,
          1.126921877025309,
          1.1541613504362467,
          -1.1229505194346185,
          1.217198074129629,
          -0.22721537044679177,
          0.21435434921557553,
          -0.9376024029308394,
          -0.45691627457818557,
          -0.19797153024436692,
          -2.5355487909269643,
          -0.11762947145539833,
          0.6199621320706129,
          1.2091447197385286,
          -1.5780488351712234,
          -0.021510994529677023,
          -0.06212691573040214,
          -0.2559669080909139,
          -0.43365185916771815,
          -0.37165169246290414,
          0.4001482227159277,
          -0.2808384077050134,
          0.3200323481265974,
          0.548912422765533,
          -2.3704572275044256,
          -0.3644523198278164,
          0.039454027249712476,
          1.0623529672146794,
          0.7864934855343091,
          0.7256637434622966,
          0.6976639154125662,
          1.4743878281038973,
          -2.0616148606854043,
          -0.2937432964169668,
          -0.3792343959203282,
          0.576380223053573,
          -1.9159063740657722,
          0.40713157217015117,
          -0.29436880522574765,
          -0.9394752185978784,
          0.78876931567213,
          0.8895989554239737,
          1.5664726941314182,
          0.48441540775546776,
          -3.0591518070458266,
          2.3911231558435726,
          -1.4449033644934874,
          -1.3924275408123392,
          0.17382197797757712,
          -0.5567243993245482,
          -0.08447779634123187,
          0.4301868761448119,
          1.2355330417977177,
          -0.5063159694727445,
          -0.8187281572673231,
          1.6039646080964505,
          -0.2009598120941732,
          2.8029560142061323,
          0.2984548560518197,
          0.8999436772220767,
          -1.7319802294637427,
          -1.3607715721374827,
          -0.3818650465129761,
          -0.24119446662667235,
          0.49573677929622895,
          0.37516568660625255,
          -1.3963206832653954,
          0.08370478226323531,
          -0.802838008300142,
          1.126644556541517,
          0.2456983810060282,
          -0.31141590823350834,
          0.14924592582376356,
          0.0586862032747273,
          -0.8810342851515048,
          -0.5630394604053154,
          -1.0394141444088514,
          1.5754312986766652,
          1.080653351869836,
          -0.9897339047293988,
          0.45902392135464376,
          -1.34379459005792,
          0.987088063065103,
          -0.003852969120063484,
          0.003105491270756242,
          2.3288587458423207,
          -0.26636891054765377,
          -0.5588559210488281,
          -2.897762586549168,
          -0.9471056471452588,
          0.58355518513356,
          0.22462303171811882
         ],
         "yaxis": "y14"
        },
        {
         "line": {
          "color": "rgba(128, 128, 128, 1.0)",
          "dash": "solid",
          "shape": "linear",
          "width": 1.3
         },
         "marker": {
          "size": 2,
          "symbol": "circle"
         },
         "mode": "markers",
         "name": "D",
         "text": "",
         "type": "scatter",
         "x": [
          -1.13749315482382,
          0.7653879229528251,
          0.36353993423080283,
          -0.1264559329598941,
          0.20902322993125227,
          0.004425724623742667,
          -1.5809516932518117,
          0.21132144886763912,
          -0.09207767881977709,
          -0.9986667851679848,
          0.24249197845322157,
          -0.1670722755498319,
          -0.25989403824354784,
          -1.2128858047674451,
          -0.6066845874730094,
          0.38747203527688656,
          0.6703817625268776,
          0.5893838408432945,
          -0.2515646505395043,
          0.015830081332728074,
          0.7518553601532176,
          -0.8279223222360815,
          0.13447461632924104,
          0.5038845288746462,
          -0.7991348009888153,
          -0.6017576901506447,
          -0.9471261239516784,
          -1.4158141594145313,
          0.8046294420633452,
          -1.88418076448262,
          -0.7244974928743495,
          0.8062482595739058,
          1.468972588346329,
          -1.3065576529651353,
          0.19761452884566194,
          -0.5142486337830402,
          -0.5366617937602675,
          0.41674173632929223,
          0.07040277780338344,
          0.5867604556708543,
          -0.5307208193118907,
          0.5532314718964406,
          0.33618900518926537,
          -2.0316632223733553,
          1.2037899892305588,
          1.495760261609705,
          0.9461871905850956,
          0.4148510504342809,
          1.2917872098988403,
          0.038159176615340996,
          -0.7903494308684608,
          0.8724093738391323,
          0.5084019544516403,
          1.6802366581185233,
          -0.03835829382367422,
          0.8921323672959719,
          -3.1048789733083635,
          -0.9959838237283308,
          -1.4776596679815992,
          -1.6042472658044309,
          -0.898057711597044,
          -0.0014952871568699056,
          -0.060323124861548186,
          -1.5214938503202469,
          0.5440691871580189,
          1.7948911997294532,
          -2.3114850872544577,
          -1.2511453085315185,
          -0.9192439666370511,
          1.3347845456976195,
          -2.7084887701278917,
          -0.6872683553989607,
          0.1633739608597954,
          0.7011899016772642,
          -0.43252875504230487,
          0.4669155858262645,
          -1.3804452333866417,
          -0.7129946601176602,
          1.1510291635751115,
          -0.37340888390995575,
          -0.7678549843810049,
          1.4537991209345367,
          -1.6103328597013777,
          -0.08098437022756322,
          0.04938978891788958,
          0.8818090088558648,
          -0.4463209623346439,
          -0.05772006728779314,
          0.2094643862383853,
          -0.788480693768257,
          -0.9700506115589369,
          -0.6309762622528706,
          -0.1496590724180059,
          -1.5557199092524507,
          1.2173731944856414,
          -0.9646377814844951,
          0.35472679974346744,
          0.8580392133991638,
          -0.47948073381113515,
          -0.4451400361562025
         ],
         "xaxis": "x15",
         "y": [
          -0.7047235523489176,
          1.246993324176599,
          0.1403089172780101,
          -0.4549420408995085,
          0.06246430342814528,
          -0.0014477722750879122,
          0.7173287158977242,
          1.3939915546321147,
          -2.0722469934200163,
          1.126921877025309,
          1.1541613504362467,
          -1.1229505194346185,
          1.217198074129629,
          -0.22721537044679177,
          0.21435434921557553,
          -0.9376024029308394,
          -0.45691627457818557,
          -0.19797153024436692,
          -2.5355487909269643,
          -0.11762947145539833,
          0.6199621320706129,
          1.2091447197385286,
          -1.5780488351712234,
          -0.021510994529677023,
          -0.06212691573040214,
          -0.2559669080909139,
          -0.43365185916771815,
          -0.37165169246290414,
          0.4001482227159277,
          -0.2808384077050134,
          0.3200323481265974,
          0.548912422765533,
          -2.3704572275044256,
          -0.3644523198278164,
          0.039454027249712476,
          1.0623529672146794,
          0.7864934855343091,
          0.7256637434622966,
          0.6976639154125662,
          1.4743878281038973,
          -2.0616148606854043,
          -0.2937432964169668,
          -0.3792343959203282,
          0.576380223053573,
          -1.9159063740657722,
          0.40713157217015117,
          -0.29436880522574765,
          -0.9394752185978784,
          0.78876931567213,
          0.8895989554239737,
          1.5664726941314182,
          0.48441540775546776,
          -3.0591518070458266,
          2.3911231558435726,
          -1.4449033644934874,
          -1.3924275408123392,
          0.17382197797757712,
          -0.5567243993245482,
          -0.08447779634123187,
          0.4301868761448119,
          1.2355330417977177,
          -0.5063159694727445,
          -0.8187281572673231,
          1.6039646080964505,
          -0.2009598120941732,
          2.8029560142061323,
          0.2984548560518197,
          0.8999436772220767,
          -1.7319802294637427,
          -1.3607715721374827,
          -0.3818650465129761,
          -0.24119446662667235,
          0.49573677929622895,
          0.37516568660625255,
          -1.3963206832653954,
          0.08370478226323531,
          -0.802838008300142,
          1.126644556541517,
          0.2456983810060282,
          -0.31141590823350834,
          0.14924592582376356,
          0.0586862032747273,
          -0.8810342851515048,
          -0.5630394604053154,
          -1.0394141444088514,
          1.5754312986766652,
          1.080653351869836,
          -0.9897339047293988,
          0.45902392135464376,
          -1.34379459005792,
          0.987088063065103,
          -0.003852969120063484,
          0.003105491270756242,
          2.3288587458423207,
          -0.26636891054765377,
          -0.5588559210488281,
          -2.897762586549168,
          -0.9471056471452588,
          0.58355518513356,
          0.22462303171811882
         ],
         "yaxis": "y15"
        },
        {
         "histfunc": "count",
         "histnorm": "",
         "marker": {
          "color": "rgba(128, 0, 128, 1.0)",
          "line": {
           "color": "#4D5663",
           "width": 1.3
          }
         },
         "name": "D",
         "nbinsx": 10,
         "opacity": 0.8,
         "orientation": "v",
         "type": "histogram",
         "x": [
          -0.7047235523489176,
          1.246993324176599,
          0.1403089172780101,
          -0.4549420408995085,
          0.06246430342814528,
          -0.0014477722750879122,
          0.7173287158977242,
          1.3939915546321147,
          -2.0722469934200163,
          1.126921877025309,
          1.1541613504362467,
          -1.1229505194346185,
          1.217198074129629,
          -0.22721537044679177,
          0.21435434921557553,
          -0.9376024029308394,
          -0.45691627457818557,
          -0.19797153024436692,
          -2.5355487909269643,
          -0.11762947145539833,
          0.6199621320706129,
          1.2091447197385286,
          -1.5780488351712234,
          -0.021510994529677023,
          -0.06212691573040214,
          -0.2559669080909139,
          -0.43365185916771815,
          -0.37165169246290414,
          0.4001482227159277,
          -0.2808384077050134,
          0.3200323481265974,
          0.548912422765533,
          -2.3704572275044256,
          -0.3644523198278164,
          0.039454027249712476,
          1.0623529672146794,
          0.7864934855343091,
          0.7256637434622966,
          0.6976639154125662,
          1.4743878281038973,
          -2.0616148606854043,
          -0.2937432964169668,
          -0.3792343959203282,
          0.576380223053573,
          -1.9159063740657722,
          0.40713157217015117,
          -0.29436880522574765,
          -0.9394752185978784,
          0.78876931567213,
          0.8895989554239737,
          1.5664726941314182,
          0.48441540775546776,
          -3.0591518070458266,
          2.3911231558435726,
          -1.4449033644934874,
          -1.3924275408123392,
          0.17382197797757712,
          -0.5567243993245482,
          -0.08447779634123187,
          0.4301868761448119,
          1.2355330417977177,
          -0.5063159694727445,
          -0.8187281572673231,
          1.6039646080964505,
          -0.2009598120941732,
          2.8029560142061323,
          0.2984548560518197,
          0.8999436772220767,
          -1.7319802294637427,
          -1.3607715721374827,
          -0.3818650465129761,
          -0.24119446662667235,
          0.49573677929622895,
          0.37516568660625255,
          -1.3963206832653954,
          0.08370478226323531,
          -0.802838008300142,
          1.126644556541517,
          0.2456983810060282,
          -0.31141590823350834,
          0.14924592582376356,
          0.0586862032747273,
          -0.8810342851515048,
          -0.5630394604053154,
          -1.0394141444088514,
          1.5754312986766652,
          1.080653351869836,
          -0.9897339047293988,
          0.45902392135464376,
          -1.34379459005792,
          0.987088063065103,
          -0.003852969120063484,
          0.003105491270756242,
          2.3288587458423207,
          -0.26636891054765377,
          -0.5588559210488281,
          -2.897762586549168,
          -0.9471056471452588,
          0.58355518513356,
          0.22462303171811882
         ],
         "xaxis": "x16",
         "yaxis": "y16"
        }
       ],
       "layout": {
        "bargap": 0.02,
        "legend": {
         "bgcolor": "#F5F6F9",
         "font": {
          "color": "#4D5663"
         }
        },
        "paper_bgcolor": "#F5F6F9",
        "plot_bgcolor": "#F5F6F9",
        "showlegend": false,
        "template": {
         "data": {
          "bar": [
           {
            "error_x": {
             "color": "#2a3f5f"
            },
            "error_y": {
             "color": "#2a3f5f"
            },
            "marker": {
             "line": {
              "color": "#E5ECF6",
              "width": 0.5
             }
            },
            "type": "bar"
           }
          ],
          "barpolar": [
           {
            "marker": {
             "line": {
              "color": "#E5ECF6",
              "width": 0.5
             }
            },
            "type": "barpolar"
           }
          ],
          "carpet": [
           {
            "aaxis": {
             "endlinecolor": "#2a3f5f",
             "gridcolor": "white",
             "linecolor": "white",
             "minorgridcolor": "white",
             "startlinecolor": "#2a3f5f"
            },
            "baxis": {
             "endlinecolor": "#2a3f5f",
             "gridcolor": "white",
             "linecolor": "white",
             "minorgridcolor": "white",
             "startlinecolor": "#2a3f5f"
            },
            "type": "carpet"
           }
          ],
          "choropleth": [
           {
            "colorbar": {
             "outlinewidth": 0,
             "ticks": ""
            },
            "type": "choropleth"
           }
          ],
          "contour": [
           {
            "colorbar": {
             "outlinewidth": 0,
             "ticks": ""
            },
            "colorscale": [
             [
              0,
              "#0d0887"
             ],
             [
              0.1111111111111111,
              "#46039f"
             ],
             [
              0.2222222222222222,
              "#7201a8"
             ],
             [
              0.3333333333333333,
              "#9c179e"
             ],
             [
              0.4444444444444444,
              "#bd3786"
             ],
             [
              0.5555555555555556,
              "#d8576b"
             ],
             [
              0.6666666666666666,
              "#ed7953"
             ],
             [
              0.7777777777777778,
              "#fb9f3a"
             ],
             [
              0.8888888888888888,
              "#fdca26"
             ],
             [
              1,
              "#f0f921"
             ]
            ],
            "type": "contour"
           }
          ],
          "contourcarpet": [
           {
            "colorbar": {
             "outlinewidth": 0,
             "ticks": ""
            },
            "type": "contourcarpet"
           }
          ],
          "heatmap": [
           {
            "colorbar": {
             "outlinewidth": 0,
             "ticks": ""
            },
            "colorscale": [
             [
              0,
              "#0d0887"
             ],
             [
              0.1111111111111111,
              "#46039f"
             ],
             [
              0.2222222222222222,
              "#7201a8"
             ],
             [
              0.3333333333333333,
              "#9c179e"
             ],
             [
              0.4444444444444444,
              "#bd3786"
             ],
             [
              0.5555555555555556,
              "#d8576b"
             ],
             [
              0.6666666666666666,
              "#ed7953"
             ],
             [
              0.7777777777777778,
              "#fb9f3a"
             ],
             [
              0.8888888888888888,
              "#fdca26"
             ],
             [
              1,
              "#f0f921"
             ]
            ],
            "type": "heatmap"
           }
          ],
          "heatmapgl": [
           {
            "colorbar": {
             "outlinewidth": 0,
             "ticks": ""
            },
            "colorscale": [
             [
              0,
              "#0d0887"
             ],
             [
              0.1111111111111111,
              "#46039f"
             ],
             [
              0.2222222222222222,
              "#7201a8"
             ],
             [
              0.3333333333333333,
              "#9c179e"
             ],
             [
              0.4444444444444444,
              "#bd3786"
             ],
             [
              0.5555555555555556,
              "#d8576b"
             ],
             [
              0.6666666666666666,
              "#ed7953"
             ],
             [
              0.7777777777777778,
              "#fb9f3a"
             ],
             [
              0.8888888888888888,
              "#fdca26"
             ],
             [
              1,
              "#f0f921"
             ]
            ],
            "type": "heatmapgl"
           }
          ],
          "histogram": [
           {
            "marker": {
             "colorbar": {
              "outlinewidth": 0,
              "ticks": ""
             }
            },
            "type": "histogram"
           }
          ],
          "histogram2d": [
           {
            "colorbar": {
             "outlinewidth": 0,
             "ticks": ""
            },
            "colorscale": [
             [
              0,
              "#0d0887"
             ],
             [
              0.1111111111111111,
              "#46039f"
             ],
             [
              0.2222222222222222,
              "#7201a8"
             ],
             [
              0.3333333333333333,
              "#9c179e"
             ],
             [
              0.4444444444444444,
              "#bd3786"
             ],
             [
              0.5555555555555556,
              "#d8576b"
             ],
             [
              0.6666666666666666,
              "#ed7953"
             ],
             [
              0.7777777777777778,
              "#fb9f3a"
             ],
             [
              0.8888888888888888,
              "#fdca26"
             ],
             [
              1,
              "#f0f921"
             ]
            ],
            "type": "histogram2d"
           }
          ],
          "histogram2dcontour": [
           {
            "colorbar": {
             "outlinewidth": 0,
             "ticks": ""
            },
            "colorscale": [
             [
              0,
              "#0d0887"
             ],
             [
              0.1111111111111111,
              "#46039f"
             ],
             [
              0.2222222222222222,
              "#7201a8"
             ],
             [
              0.3333333333333333,
              "#9c179e"
             ],
             [
              0.4444444444444444,
              "#bd3786"
             ],
             [
              0.5555555555555556,
              "#d8576b"
             ],
             [
              0.6666666666666666,
              "#ed7953"
             ],
             [
              0.7777777777777778,
              "#fb9f3a"
             ],
             [
              0.8888888888888888,
              "#fdca26"
             ],
             [
              1,
              "#f0f921"
             ]
            ],
            "type": "histogram2dcontour"
           }
          ],
          "mesh3d": [
           {
            "colorbar": {
             "outlinewidth": 0,
             "ticks": ""
            },
            "type": "mesh3d"
           }
          ],
          "parcoords": [
           {
            "line": {
             "colorbar": {
              "outlinewidth": 0,
              "ticks": ""
             }
            },
            "type": "parcoords"
           }
          ],
          "pie": [
           {
            "automargin": true,
            "type": "pie"
           }
          ],
          "scatter": [
           {
            "marker": {
             "colorbar": {
              "outlinewidth": 0,
              "ticks": ""
             }
            },
            "type": "scatter"
           }
          ],
          "scatter3d": [
           {
            "line": {
             "colorbar": {
              "outlinewidth": 0,
              "ticks": ""
             }
            },
            "marker": {
             "colorbar": {
              "outlinewidth": 0,
              "ticks": ""
             }
            },
            "type": "scatter3d"
           }
          ],
          "scattercarpet": [
           {
            "marker": {
             "colorbar": {
              "outlinewidth": 0,
              "ticks": ""
             }
            },
            "type": "scattercarpet"
           }
          ],
          "scattergeo": [
           {
            "marker": {
             "colorbar": {
              "outlinewidth": 0,
              "ticks": ""
             }
            },
            "type": "scattergeo"
           }
          ],
          "scattergl": [
           {
            "marker": {
             "colorbar": {
              "outlinewidth": 0,
              "ticks": ""
             }
            },
            "type": "scattergl"
           }
          ],
          "scattermapbox": [
           {
            "marker": {
             "colorbar": {
              "outlinewidth": 0,
              "ticks": ""
             }
            },
            "type": "scattermapbox"
           }
          ],
          "scatterpolar": [
           {
            "marker": {
             "colorbar": {
              "outlinewidth": 0,
              "ticks": ""
             }
            },
            "type": "scatterpolar"
           }
          ],
          "scatterpolargl": [
           {
            "marker": {
             "colorbar": {
              "outlinewidth": 0,
              "ticks": ""
             }
            },
            "type": "scatterpolargl"
           }
          ],
          "scatterternary": [
           {
            "marker": {
             "colorbar": {
              "outlinewidth": 0,
              "ticks": ""
             }
            },
            "type": "scatterternary"
           }
          ],
          "surface": [
           {
            "colorbar": {
             "outlinewidth": 0,
             "ticks": ""
            },
            "colorscale": [
             [
              0,
              "#0d0887"
             ],
             [
              0.1111111111111111,
              "#46039f"
             ],
             [
              0.2222222222222222,
              "#7201a8"
             ],
             [
              0.3333333333333333,
              "#9c179e"
             ],
             [
              0.4444444444444444,
              "#bd3786"
             ],
             [
              0.5555555555555556,
              "#d8576b"
             ],
             [
              0.6666666666666666,
              "#ed7953"
             ],
             [
              0.7777777777777778,
              "#fb9f3a"
             ],
             [
              0.8888888888888888,
              "#fdca26"
             ],
             [
              1,
              "#f0f921"
             ]
            ],
            "type": "surface"
           }
          ],
          "table": [
           {
            "cells": {
             "fill": {
              "color": "#EBF0F8"
             },
             "line": {
              "color": "white"
             }
            },
            "header": {
             "fill": {
              "color": "#C8D4E3"
             },
             "line": {
              "color": "white"
             }
            },
            "type": "table"
           }
          ]
         },
         "layout": {
          "annotationdefaults": {
           "arrowcolor": "#2a3f5f",
           "arrowhead": 0,
           "arrowwidth": 1
          },
          "coloraxis": {
           "colorbar": {
            "outlinewidth": 0,
            "ticks": ""
           }
          },
          "colorscale": {
           "diverging": [
            [
             0,
             "#8e0152"
            ],
            [
             0.1,
             "#c51b7d"
            ],
            [
             0.2,
             "#de77ae"
            ],
            [
             0.3,
             "#f1b6da"
            ],
            [
             0.4,
             "#fde0ef"
            ],
            [
             0.5,
             "#f7f7f7"
            ],
            [
             0.6,
             "#e6f5d0"
            ],
            [
             0.7,
             "#b8e186"
            ],
            [
             0.8,
             "#7fbc41"
            ],
            [
             0.9,
             "#4d9221"
            ],
            [
             1,
             "#276419"
            ]
           ],
           "sequential": [
            [
             0,
             "#0d0887"
            ],
            [
             0.1111111111111111,
             "#46039f"
            ],
            [
             0.2222222222222222,
             "#7201a8"
            ],
            [
             0.3333333333333333,
             "#9c179e"
            ],
            [
             0.4444444444444444,
             "#bd3786"
            ],
            [
             0.5555555555555556,
             "#d8576b"
            ],
            [
             0.6666666666666666,
             "#ed7953"
            ],
            [
             0.7777777777777778,
             "#fb9f3a"
            ],
            [
             0.8888888888888888,
             "#fdca26"
            ],
            [
             1,
             "#f0f921"
            ]
           ],
           "sequentialminus": [
            [
             0,
             "#0d0887"
            ],
            [
             0.1111111111111111,
             "#46039f"
            ],
            [
             0.2222222222222222,
             "#7201a8"
            ],
            [
             0.3333333333333333,
             "#9c179e"
            ],
            [
             0.4444444444444444,
             "#bd3786"
            ],
            [
             0.5555555555555556,
             "#d8576b"
            ],
            [
             0.6666666666666666,
             "#ed7953"
            ],
            [
             0.7777777777777778,
             "#fb9f3a"
            ],
            [
             0.8888888888888888,
             "#fdca26"
            ],
            [
             1,
             "#f0f921"
            ]
           ]
          },
          "colorway": [
           "#636efa",
           "#EF553B",
           "#00cc96",
           "#ab63fa",
           "#FFA15A",
           "#19d3f3",
           "#FF6692",
           "#B6E880",
           "#FF97FF",
           "#FECB52"
          ],
          "font": {
           "color": "#2a3f5f"
          },
          "geo": {
           "bgcolor": "white",
           "lakecolor": "white",
           "landcolor": "#E5ECF6",
           "showlakes": true,
           "showland": true,
           "subunitcolor": "white"
          },
          "hoverlabel": {
           "align": "left"
          },
          "hovermode": "closest",
          "mapbox": {
           "style": "light"
          },
          "paper_bgcolor": "white",
          "plot_bgcolor": "#E5ECF6",
          "polar": {
           "angularaxis": {
            "gridcolor": "white",
            "linecolor": "white",
            "ticks": ""
           },
           "bgcolor": "#E5ECF6",
           "radialaxis": {
            "gridcolor": "white",
            "linecolor": "white",
            "ticks": ""
           }
          },
          "scene": {
           "xaxis": {
            "backgroundcolor": "#E5ECF6",
            "gridcolor": "white",
            "gridwidth": 2,
            "linecolor": "white",
            "showbackground": true,
            "ticks": "",
            "zerolinecolor": "white"
           },
           "yaxis": {
            "backgroundcolor": "#E5ECF6",
            "gridcolor": "white",
            "gridwidth": 2,
            "linecolor": "white",
            "showbackground": true,
            "ticks": "",
            "zerolinecolor": "white"
           },
           "zaxis": {
            "backgroundcolor": "#E5ECF6",
            "gridcolor": "white",
            "gridwidth": 2,
            "linecolor": "white",
            "showbackground": true,
            "ticks": "",
            "zerolinecolor": "white"
           }
          },
          "shapedefaults": {
           "line": {
            "color": "#2a3f5f"
           }
          },
          "ternary": {
           "aaxis": {
            "gridcolor": "white",
            "linecolor": "white",
            "ticks": ""
           },
           "baxis": {
            "gridcolor": "white",
            "linecolor": "white",
            "ticks": ""
           },
           "bgcolor": "#E5ECF6",
           "caxis": {
            "gridcolor": "white",
            "linecolor": "white",
            "ticks": ""
           }
          },
          "title": {
           "x": 0.05
          },
          "xaxis": {
           "automargin": true,
           "gridcolor": "white",
           "linecolor": "white",
           "ticks": "",
           "title": {
            "standoff": 15
           },
           "zerolinecolor": "white",
           "zerolinewidth": 2
          },
          "yaxis": {
           "automargin": true,
           "gridcolor": "white",
           "linecolor": "white",
           "ticks": "",
           "title": {
            "standoff": 15
           },
           "zerolinecolor": "white",
           "zerolinewidth": 2
          }
         }
        },
        "title": {
         "font": {
          "color": "#4D5663"
         }
        },
        "xaxis": {
         "anchor": "y",
         "domain": [
          0,
          0.2125
         ],
         "gridcolor": "#E1E5ED",
         "showgrid": false,
         "tickfont": {
          "color": "#4D5663"
         },
         "title": {
          "font": {
           "color": "#4D5663"
          },
          "text": ""
         },
         "zerolinecolor": "#E1E5ED"
        },
        "xaxis10": {
         "anchor": "y10",
         "domain": [
          0.2625,
          0.475
         ],
         "gridcolor": "#E1E5ED",
         "showgrid": false,
         "tickfont": {
          "color": "#4D5663"
         },
         "title": {
          "font": {
           "color": "#4D5663"
          },
          "text": ""
         },
         "zerolinecolor": "#E1E5ED"
        },
        "xaxis11": {
         "anchor": "y11",
         "domain": [
          0.525,
          0.7375
         ],
         "gridcolor": "#E1E5ED",
         "showgrid": false,
         "tickfont": {
          "color": "#4D5663"
         },
         "title": {
          "font": {
           "color": "#4D5663"
          },
          "text": ""
         },
         "zerolinecolor": "#E1E5ED"
        },
        "xaxis12": {
         "anchor": "y12",
         "domain": [
          0.7875,
          1
         ],
         "gridcolor": "#E1E5ED",
         "showgrid": false,
         "tickfont": {
          "color": "#4D5663"
         },
         "title": {
          "font": {
           "color": "#4D5663"
          },
          "text": ""
         },
         "zerolinecolor": "#E1E5ED"
        },
        "xaxis13": {
         "anchor": "y13",
         "domain": [
          0,
          0.2125
         ],
         "gridcolor": "#E1E5ED",
         "showgrid": false,
         "tickfont": {
          "color": "#4D5663"
         },
         "title": {
          "font": {
           "color": "#4D5663"
          },
          "text": ""
         },
         "zerolinecolor": "#E1E5ED"
        },
        "xaxis14": {
         "anchor": "y14",
         "domain": [
          0.2625,
          0.475
         ],
         "gridcolor": "#E1E5ED",
         "showgrid": false,
         "tickfont": {
          "color": "#4D5663"
         },
         "title": {
          "font": {
           "color": "#4D5663"
          },
          "text": ""
         },
         "zerolinecolor": "#E1E5ED"
        },
        "xaxis15": {
         "anchor": "y15",
         "domain": [
          0.525,
          0.7375
         ],
         "gridcolor": "#E1E5ED",
         "showgrid": false,
         "tickfont": {
          "color": "#4D5663"
         },
         "title": {
          "font": {
           "color": "#4D5663"
          },
          "text": ""
         },
         "zerolinecolor": "#E1E5ED"
        },
        "xaxis16": {
         "anchor": "y16",
         "domain": [
          0.7875,
          1
         ],
         "gridcolor": "#E1E5ED",
         "showgrid": false,
         "tickfont": {
          "color": "#4D5663"
         },
         "title": {
          "font": {
           "color": "#4D5663"
          },
          "text": ""
         },
         "zerolinecolor": "#E1E5ED"
        },
        "xaxis2": {
         "anchor": "y2",
         "domain": [
          0.2625,
          0.475
         ],
         "gridcolor": "#E1E5ED",
         "showgrid": false,
         "tickfont": {
          "color": "#4D5663"
         },
         "title": {
          "font": {
           "color": "#4D5663"
          },
          "text": ""
         },
         "zerolinecolor": "#E1E5ED"
        },
        "xaxis3": {
         "anchor": "y3",
         "domain": [
          0.525,
          0.7375
         ],
         "gridcolor": "#E1E5ED",
         "showgrid": false,
         "tickfont": {
          "color": "#4D5663"
         },
         "title": {
          "font": {
           "color": "#4D5663"
          },
          "text": ""
         },
         "zerolinecolor": "#E1E5ED"
        },
        "xaxis4": {
         "anchor": "y4",
         "domain": [
          0.7875,
          1
         ],
         "gridcolor": "#E1E5ED",
         "showgrid": false,
         "tickfont": {
          "color": "#4D5663"
         },
         "title": {
          "font": {
           "color": "#4D5663"
          },
          "text": ""
         },
         "zerolinecolor": "#E1E5ED"
        },
        "xaxis5": {
         "anchor": "y5",
         "domain": [
          0,
          0.2125
         ],
         "gridcolor": "#E1E5ED",
         "showgrid": false,
         "tickfont": {
          "color": "#4D5663"
         },
         "title": {
          "font": {
           "color": "#4D5663"
          },
          "text": ""
         },
         "zerolinecolor": "#E1E5ED"
        },
        "xaxis6": {
         "anchor": "y6",
         "domain": [
          0.2625,
          0.475
         ],
         "gridcolor": "#E1E5ED",
         "showgrid": false,
         "tickfont": {
          "color": "#4D5663"
         },
         "title": {
          "font": {
           "color": "#4D5663"
          },
          "text": ""
         },
         "zerolinecolor": "#E1E5ED"
        },
        "xaxis7": {
         "anchor": "y7",
         "domain": [
          0.525,
          0.7375
         ],
         "gridcolor": "#E1E5ED",
         "showgrid": false,
         "tickfont": {
          "color": "#4D5663"
         },
         "title": {
          "font": {
           "color": "#4D5663"
          },
          "text": ""
         },
         "zerolinecolor": "#E1E5ED"
        },
        "xaxis8": {
         "anchor": "y8",
         "domain": [
          0.7875,
          1
         ],
         "gridcolor": "#E1E5ED",
         "showgrid": false,
         "tickfont": {
          "color": "#4D5663"
         },
         "title": {
          "font": {
           "color": "#4D5663"
          },
          "text": ""
         },
         "zerolinecolor": "#E1E5ED"
        },
        "xaxis9": {
         "anchor": "y9",
         "domain": [
          0,
          0.2125
         ],
         "gridcolor": "#E1E5ED",
         "showgrid": false,
         "tickfont": {
          "color": "#4D5663"
         },
         "title": {
          "font": {
           "color": "#4D5663"
          },
          "text": ""
         },
         "zerolinecolor": "#E1E5ED"
        },
        "yaxis": {
         "anchor": "x",
         "domain": [
          0.8025,
          1
         ],
         "gridcolor": "#E1E5ED",
         "showgrid": false,
         "tickfont": {
          "color": "#4D5663"
         },
         "title": {
          "font": {
           "color": "#4D5663"
          },
          "text": ""
         },
         "zerolinecolor": "#E1E5ED"
        },
        "yaxis10": {
         "anchor": "x10",
         "domain": [
          0.2675,
          0.465
         ],
         "gridcolor": "#E1E5ED",
         "showgrid": false,
         "tickfont": {
          "color": "#4D5663"
         },
         "title": {
          "font": {
           "color": "#4D5663"
          },
          "text": ""
         },
         "zerolinecolor": "#E1E5ED"
        },
        "yaxis11": {
         "anchor": "x11",
         "domain": [
          0.2675,
          0.465
         ],
         "gridcolor": "#E1E5ED",
         "showgrid": false,
         "tickfont": {
          "color": "#4D5663"
         },
         "title": {
          "font": {
           "color": "#4D5663"
          },
          "text": ""
         },
         "zerolinecolor": "#E1E5ED"
        },
        "yaxis12": {
         "anchor": "x12",
         "domain": [
          0.2675,
          0.465
         ],
         "gridcolor": "#E1E5ED",
         "showgrid": false,
         "tickfont": {
          "color": "#4D5663"
         },
         "title": {
          "font": {
           "color": "#4D5663"
          },
          "text": ""
         },
         "zerolinecolor": "#E1E5ED"
        },
        "yaxis13": {
         "anchor": "x13",
         "domain": [
          0,
          0.1975
         ],
         "gridcolor": "#E1E5ED",
         "showgrid": false,
         "tickfont": {
          "color": "#4D5663"
         },
         "title": {
          "font": {
           "color": "#4D5663"
          },
          "text": ""
         },
         "zerolinecolor": "#E1E5ED"
        },
        "yaxis14": {
         "anchor": "x14",
         "domain": [
          0,
          0.1975
         ],
         "gridcolor": "#E1E5ED",
         "showgrid": false,
         "tickfont": {
          "color": "#4D5663"
         },
         "title": {
          "font": {
           "color": "#4D5663"
          },
          "text": ""
         },
         "zerolinecolor": "#E1E5ED"
        },
        "yaxis15": {
         "anchor": "x15",
         "domain": [
          0,
          0.1975
         ],
         "gridcolor": "#E1E5ED",
         "showgrid": false,
         "tickfont": {
          "color": "#4D5663"
         },
         "title": {
          "font": {
           "color": "#4D5663"
          },
          "text": ""
         },
         "zerolinecolor": "#E1E5ED"
        },
        "yaxis16": {
         "anchor": "x16",
         "domain": [
          0,
          0.1975
         ],
         "gridcolor": "#E1E5ED",
         "showgrid": false,
         "tickfont": {
          "color": "#4D5663"
         },
         "title": {
          "font": {
           "color": "#4D5663"
          },
          "text": ""
         },
         "zerolinecolor": "#E1E5ED"
        },
        "yaxis2": {
         "anchor": "x2",
         "domain": [
          0.8025,
          1
         ],
         "gridcolor": "#E1E5ED",
         "showgrid": false,
         "tickfont": {
          "color": "#4D5663"
         },
         "title": {
          "font": {
           "color": "#4D5663"
          },
          "text": ""
         },
         "zerolinecolor": "#E1E5ED"
        },
        "yaxis3": {
         "anchor": "x3",
         "domain": [
          0.8025,
          1
         ],
         "gridcolor": "#E1E5ED",
         "showgrid": false,
         "tickfont": {
          "color": "#4D5663"
         },
         "title": {
          "font": {
           "color": "#4D5663"
          },
          "text": ""
         },
         "zerolinecolor": "#E1E5ED"
        },
        "yaxis4": {
         "anchor": "x4",
         "domain": [
          0.8025,
          1
         ],
         "gridcolor": "#E1E5ED",
         "showgrid": false,
         "tickfont": {
          "color": "#4D5663"
         },
         "title": {
          "font": {
           "color": "#4D5663"
          },
          "text": ""
         },
         "zerolinecolor": "#E1E5ED"
        },
        "yaxis5": {
         "anchor": "x5",
         "domain": [
          0.535,
          0.7325
         ],
         "gridcolor": "#E1E5ED",
         "showgrid": false,
         "tickfont": {
          "color": "#4D5663"
         },
         "title": {
          "font": {
           "color": "#4D5663"
          },
          "text": ""
         },
         "zerolinecolor": "#E1E5ED"
        },
        "yaxis6": {
         "anchor": "x6",
         "domain": [
          0.535,
          0.7325
         ],
         "gridcolor": "#E1E5ED",
         "showgrid": false,
         "tickfont": {
          "color": "#4D5663"
         },
         "title": {
          "font": {
           "color": "#4D5663"
          },
          "text": ""
         },
         "zerolinecolor": "#E1E5ED"
        },
        "yaxis7": {
         "anchor": "x7",
         "domain": [
          0.535,
          0.7325
         ],
         "gridcolor": "#E1E5ED",
         "showgrid": false,
         "tickfont": {
          "color": "#4D5663"
         },
         "title": {
          "font": {
           "color": "#4D5663"
          },
          "text": ""
         },
         "zerolinecolor": "#E1E5ED"
        },
        "yaxis8": {
         "anchor": "x8",
         "domain": [
          0.535,
          0.7325
         ],
         "gridcolor": "#E1E5ED",
         "showgrid": false,
         "tickfont": {
          "color": "#4D5663"
         },
         "title": {
          "font": {
           "color": "#4D5663"
          },
          "text": ""
         },
         "zerolinecolor": "#E1E5ED"
        },
        "yaxis9": {
         "anchor": "x9",
         "domain": [
          0.2675,
          0.465
         ],
         "gridcolor": "#E1E5ED",
         "showgrid": false,
         "tickfont": {
          "color": "#4D5663"
         },
         "title": {
          "font": {
           "color": "#4D5663"
          },
          "text": ""
         },
         "zerolinecolor": "#E1E5ED"
        }
       }
      },
      "text/html": [
       "<div>\n",
       "        \n",
       "        \n",
       "            <div id=\"941619eb-fbb2-43c0-9067-4c531518e516\" class=\"plotly-graph-div\" style=\"height:525px; width:100%;\"></div>\n",
       "            <script type=\"text/javascript\">\n",
       "                require([\"plotly\"], function(Plotly) {\n",
       "                    window.PLOTLYENV=window.PLOTLYENV || {};\n",
       "                    window.PLOTLYENV.BASE_URL='https://plot.ly';\n",
       "                    \n",
       "                if (document.getElementById(\"941619eb-fbb2-43c0-9067-4c531518e516\")) {\n",
       "                    Plotly.newPlot(\n",
       "                        '941619eb-fbb2-43c0-9067-4c531518e516',\n",
       "                        [{\"histfunc\": \"count\", \"histnorm\": \"\", \"marker\": {\"color\": \"rgba(255, 153, 51, 1.0)\", \"line\": {\"color\": \"#4D5663\", \"width\": 1.3}}, \"name\": \"A\", \"nbinsx\": 10, \"opacity\": 0.8, \"orientation\": \"v\", \"type\": \"histogram\", \"x\": [-0.13775086430743813, -1.9933049229514477, -0.9545044762222105, 1.4014164640928737, -1.13192187578824, -1.3617171661286414, -0.9083961716634638, 1.3303928616547227, 0.8057925035002808, -0.6897784200723086, -2.0953961176504903, 0.4779895237770411, 0.7541183143416599, 1.0885380483057463, -1.9447575190926418, 0.9975927283186687, 0.5396244432324852, -0.42383547340641514, 0.7186773780770584, 2.6607077784921724, 0.5419253101691794, 0.48168350903181256, 0.00016683141743905627, -1.434810587490341, 0.7715714846893815, 0.7456802660196701, -0.36542221125466307, -1.0166942651772195, 0.3093832415310271, -1.3304186784288994, -0.38208893085136053, 1.070745280547997, -0.24166411883649572, 1.0156796479926795, 0.34835168994849247, -0.4191523215594431, 0.06173604008436236, -1.432936038291852, 0.3258606651601762, -1.349954164282741, -0.7095098045451561, 1.010145452103435, -1.1105120080278759, 0.21666021830827295, 0.05047695299247232, 1.6979340768084248, 0.4829406701478865, -0.09070487712543199, 0.8532304688136618, -0.8942411416717861, -0.42457176708669925, -1.5657072405052173, -0.17728663186775215, -0.907529302042309, 0.015237382008090744, 0.17182485828798016, -0.422959094891893, -0.7740227863443343, -1.0208775652388034, -0.6324799702992057, 0.10822694435312787, -0.3496517337932419, 0.33060914060953733, -1.0106999926023936, -0.7222417619394348, -0.5332812245676131, -0.776755834796644, 1.1941171480095443, 1.2686298712847948, -1.017278861018582, -1.1774948698526817, -0.4239516911089791, -0.3945051098098888, -1.360817658415006, -0.863416437132497, 0.7226579837082056, -1.071158632435797, -0.7010972899518247, 1.2145562514183765, -0.28080634140698185, 0.4366347441230707, 1.314812375540971, 1.5722102595136485, 2.3812552615192804, -1.0672037558626681, -0.053593780034868706, 0.5976597621802904, -0.5418992969522781, -0.8921719903625399, 0.32805956293816935, 0.8811900268496274, -0.6639785072700968, -0.4073355000059551, -0.5740298447265203, 0.033388134057522056, -1.3913553444512943, 0.20930846462947625, -1.8181242562227442, 0.20084981290816206, -0.8380964279862918], \"xaxis\": \"x\", \"yaxis\": \"y\"}, {\"line\": {\"color\": \"rgba(128, 128, 128, 1.0)\", \"dash\": \"solid\", \"shape\": \"linear\", \"width\": 1.3}, \"marker\": {\"size\": 2, \"symbol\": \"circle\"}, \"mode\": \"markers\", \"name\": \"A\", \"text\": \"\", \"type\": \"scatter\", \"x\": [0.4867039677135526, 1.244047840402478, 2.3332257859437378, 1.689469317780753, 0.26600468702917085, -1.5534056582883649, -1.4715859849210289, -0.2044115131727728, 0.26871657375985414, -0.3422180501613123, -1.7735616597332367, -0.016933444517672404, -0.7293476753347374, -0.624452059783926, -1.2763146611944258, 1.2724287629354616, 0.3481211380276087, -1.0169552849327732, 0.10521745932772313, -0.6304304028436521, -0.5041196367567813, 0.3161120551419451, 0.7369874147128881, -1.0598247277896868, -0.18506125663662593, 0.810477229270296, -1.384807705451281, -0.8863863326525558, 0.9147353176181667, -0.5385833168165204, 0.23579161115875363, 1.3922065321592305, -0.029253693715969455, 0.9869678719055079, -0.8315582910357844, -0.15630658169048334, 0.3630713272506266, -0.5732445399171228, 0.6868772378242992, 1.1003303290999775, 0.18612995904760574, 0.6946198041945933, -2.365577687112027, 0.8905083947588157, 0.6373915150218937, -1.5590165623571386, -1.8099737250328467, 0.8187923807100435, -0.566006465230476, -0.2075092147286489, -1.5463956090468263, -0.2027034353912444, 0.6110919682579047, -0.4024096082165716, 0.1092393679292165, -1.549036721036476, -0.28602484732646627, -1.596958432253144, -1.2934586866600908, -0.4345286168661543, -0.6577383489380272, 0.7483943244863837, 1.079000643133668, -1.5546810209164317, -0.7525658730481593, 0.9060783055285099, -1.4556490922061072, 1.5641473539411717, 0.867404487903958, -0.7804546920722069, -0.2626463976382476, 1.0219316310317808, -0.940622822003576, -0.7058560462667333, 0.40742227057372776, -1.06757106950965, -0.7515626021053561, 2.1636224076620234, 0.286759747917996, -0.8385984718681364, -0.7641870886396996, -0.48373459403747987, 0.10528249278382575, -0.9632439023829252, 1.903457634504097, -0.16604985961639618, 0.5530277500259455, 0.0951366549917921, 0.10390345527482063, 0.12218714334909844, -1.1493425592465587, 0.5883479007961637, 0.23124416068370013, 1.0861293480045746, 1.2786656219423185, -0.10469047643119377, 0.664352682995852, -0.45585776757309304, -0.309786574014567, -1.1229610739076694], \"xaxis\": \"x2\", \"y\": [-0.13775086430743813, -1.9933049229514477, -0.9545044762222105, 1.4014164640928737, -1.13192187578824, -1.3617171661286414, -0.9083961716634638, 1.3303928616547227, 0.8057925035002808, -0.6897784200723086, -2.0953961176504903, 0.4779895237770411, 0.7541183143416599, 1.0885380483057463, -1.9447575190926418, 0.9975927283186687, 0.5396244432324852, -0.42383547340641514, 0.7186773780770584, 2.6607077784921724, 0.5419253101691794, 0.48168350903181256, 0.00016683141743905627, -1.434810587490341, 0.7715714846893815, 0.7456802660196701, -0.36542221125466307, -1.0166942651772195, 0.3093832415310271, -1.3304186784288994, -0.38208893085136053, 1.070745280547997, -0.24166411883649572, 1.0156796479926795, 0.34835168994849247, -0.4191523215594431, 0.06173604008436236, -1.432936038291852, 0.3258606651601762, -1.349954164282741, -0.7095098045451561, 1.010145452103435, -1.1105120080278759, 0.21666021830827295, 0.05047695299247232, 1.6979340768084248, 0.4829406701478865, -0.09070487712543199, 0.8532304688136618, -0.8942411416717861, -0.42457176708669925, -1.5657072405052173, -0.17728663186775215, -0.907529302042309, 0.015237382008090744, 0.17182485828798016, -0.422959094891893, -0.7740227863443343, -1.0208775652388034, -0.6324799702992057, 0.10822694435312787, -0.3496517337932419, 0.33060914060953733, -1.0106999926023936, -0.7222417619394348, -0.5332812245676131, -0.776755834796644, 1.1941171480095443, 1.2686298712847948, -1.017278861018582, -1.1774948698526817, -0.4239516911089791, -0.3945051098098888, -1.360817658415006, -0.863416437132497, 0.7226579837082056, -1.071158632435797, -0.7010972899518247, 1.2145562514183765, -0.28080634140698185, 0.4366347441230707, 1.314812375540971, 1.5722102595136485, 2.3812552615192804, -1.0672037558626681, -0.053593780034868706, 0.5976597621802904, -0.5418992969522781, -0.8921719903625399, 0.32805956293816935, 0.8811900268496274, -0.6639785072700968, -0.4073355000059551, -0.5740298447265203, 0.033388134057522056, -1.3913553444512943, 0.20930846462947625, -1.8181242562227442, 0.20084981290816206, -0.8380964279862918], \"yaxis\": \"y2\"}, {\"line\": {\"color\": \"rgba(128, 128, 128, 1.0)\", \"dash\": \"solid\", \"shape\": \"linear\", \"width\": 1.3}, \"marker\": {\"size\": 2, \"symbol\": \"circle\"}, \"mode\": \"markers\", \"name\": \"A\", \"text\": \"\", \"type\": \"scatter\", \"x\": [-1.13749315482382, 0.7653879229528251, 0.36353993423080283, -0.1264559329598941, 0.20902322993125227, 0.004425724623742667, -1.5809516932518117, 0.21132144886763912, -0.09207767881977709, -0.9986667851679848, 0.24249197845322157, -0.1670722755498319, -0.25989403824354784, -1.2128858047674451, -0.6066845874730094, 0.38747203527688656, 0.6703817625268776, 0.5893838408432945, -0.2515646505395043, 0.015830081332728074, 0.7518553601532176, -0.8279223222360815, 0.13447461632924104, 0.5038845288746462, -0.7991348009888153, -0.6017576901506447, -0.9471261239516784, -1.4158141594145313, 0.8046294420633452, -1.88418076448262, -0.7244974928743495, 0.8062482595739058, 1.468972588346329, -1.3065576529651353, 0.19761452884566194, -0.5142486337830402, -0.5366617937602675, 0.41674173632929223, 0.07040277780338344, 0.5867604556708543, -0.5307208193118907, 0.5532314718964406, 0.33618900518926537, -2.0316632223733553, 1.2037899892305588, 1.495760261609705, 0.9461871905850956, 0.4148510504342809, 1.2917872098988403, 0.038159176615340996, -0.7903494308684608, 0.8724093738391323, 0.5084019544516403, 1.6802366581185233, -0.03835829382367422, 0.8921323672959719, -3.1048789733083635, -0.9959838237283308, -1.4776596679815992, -1.6042472658044309, -0.898057711597044, -0.0014952871568699056, -0.060323124861548186, -1.5214938503202469, 0.5440691871580189, 1.7948911997294532, -2.3114850872544577, -1.2511453085315185, -0.9192439666370511, 1.3347845456976195, -2.7084887701278917, -0.6872683553989607, 0.1633739608597954, 0.7011899016772642, -0.43252875504230487, 0.4669155858262645, -1.3804452333866417, -0.7129946601176602, 1.1510291635751115, -0.37340888390995575, -0.7678549843810049, 1.4537991209345367, -1.6103328597013777, -0.08098437022756322, 0.04938978891788958, 0.8818090088558648, -0.4463209623346439, -0.05772006728779314, 0.2094643862383853, -0.788480693768257, -0.9700506115589369, -0.6309762622528706, -0.1496590724180059, -1.5557199092524507, 1.2173731944856414, -0.9646377814844951, 0.35472679974346744, 0.8580392133991638, -0.47948073381113515, -0.4451400361562025], \"xaxis\": \"x3\", \"y\": [-0.13775086430743813, -1.9933049229514477, -0.9545044762222105, 1.4014164640928737, -1.13192187578824, -1.3617171661286414, -0.9083961716634638, 1.3303928616547227, 0.8057925035002808, -0.6897784200723086, -2.0953961176504903, 0.4779895237770411, 0.7541183143416599, 1.0885380483057463, -1.9447575190926418, 0.9975927283186687, 0.5396244432324852, -0.42383547340641514, 0.7186773780770584, 2.6607077784921724, 0.5419253101691794, 0.48168350903181256, 0.00016683141743905627, -1.434810587490341, 0.7715714846893815, 0.7456802660196701, -0.36542221125466307, -1.0166942651772195, 0.3093832415310271, -1.3304186784288994, -0.38208893085136053, 1.070745280547997, -0.24166411883649572, 1.0156796479926795, 0.34835168994849247, -0.4191523215594431, 0.06173604008436236, -1.432936038291852, 0.3258606651601762, -1.349954164282741, -0.7095098045451561, 1.010145452103435, -1.1105120080278759, 0.21666021830827295, 0.05047695299247232, 1.6979340768084248, 0.4829406701478865, -0.09070487712543199, 0.8532304688136618, -0.8942411416717861, -0.42457176708669925, -1.5657072405052173, -0.17728663186775215, -0.907529302042309, 0.015237382008090744, 0.17182485828798016, -0.422959094891893, -0.7740227863443343, -1.0208775652388034, -0.6324799702992057, 0.10822694435312787, -0.3496517337932419, 0.33060914060953733, -1.0106999926023936, -0.7222417619394348, -0.5332812245676131, -0.776755834796644, 1.1941171480095443, 1.2686298712847948, -1.017278861018582, -1.1774948698526817, -0.4239516911089791, -0.3945051098098888, -1.360817658415006, -0.863416437132497, 0.7226579837082056, -1.071158632435797, -0.7010972899518247, 1.2145562514183765, -0.28080634140698185, 0.4366347441230707, 1.314812375540971, 1.5722102595136485, 2.3812552615192804, -1.0672037558626681, -0.053593780034868706, 0.5976597621802904, -0.5418992969522781, -0.8921719903625399, 0.32805956293816935, 0.8811900268496274, -0.6639785072700968, -0.4073355000059551, -0.5740298447265203, 0.033388134057522056, -1.3913553444512943, 0.20930846462947625, -1.8181242562227442, 0.20084981290816206, -0.8380964279862918], \"yaxis\": \"y3\"}, {\"line\": {\"color\": \"rgba(128, 128, 128, 1.0)\", \"dash\": \"solid\", \"shape\": \"linear\", \"width\": 1.3}, \"marker\": {\"size\": 2, \"symbol\": \"circle\"}, \"mode\": \"markers\", \"name\": \"A\", \"text\": \"\", \"type\": \"scatter\", \"x\": [-0.7047235523489176, 1.246993324176599, 0.1403089172780101, -0.4549420408995085, 0.06246430342814528, -0.0014477722750879122, 0.7173287158977242, 1.3939915546321147, -2.0722469934200163, 1.126921877025309, 1.1541613504362467, -1.1229505194346185, 1.217198074129629, -0.22721537044679177, 0.21435434921557553, -0.9376024029308394, -0.45691627457818557, -0.19797153024436692, -2.5355487909269643, -0.11762947145539833, 0.6199621320706129, 1.2091447197385286, -1.5780488351712234, -0.021510994529677023, -0.06212691573040214, -0.2559669080909139, -0.43365185916771815, -0.37165169246290414, 0.4001482227159277, -0.2808384077050134, 0.3200323481265974, 0.548912422765533, -2.3704572275044256, -0.3644523198278164, 0.039454027249712476, 1.0623529672146794, 0.7864934855343091, 0.7256637434622966, 0.6976639154125662, 1.4743878281038973, -2.0616148606854043, -0.2937432964169668, -0.3792343959203282, 0.576380223053573, -1.9159063740657722, 0.40713157217015117, -0.29436880522574765, -0.9394752185978784, 0.78876931567213, 0.8895989554239737, 1.5664726941314182, 0.48441540775546776, -3.0591518070458266, 2.3911231558435726, -1.4449033644934874, -1.3924275408123392, 0.17382197797757712, -0.5567243993245482, -0.08447779634123187, 0.4301868761448119, 1.2355330417977177, -0.5063159694727445, -0.8187281572673231, 1.6039646080964505, -0.2009598120941732, 2.8029560142061323, 0.2984548560518197, 0.8999436772220767, -1.7319802294637427, -1.3607715721374827, -0.3818650465129761, -0.24119446662667235, 0.49573677929622895, 0.37516568660625255, -1.3963206832653954, 0.08370478226323531, -0.802838008300142, 1.126644556541517, 0.2456983810060282, -0.31141590823350834, 0.14924592582376356, 0.0586862032747273, -0.8810342851515048, -0.5630394604053154, -1.0394141444088514, 1.5754312986766652, 1.080653351869836, -0.9897339047293988, 0.45902392135464376, -1.34379459005792, 0.987088063065103, -0.003852969120063484, 0.003105491270756242, 2.3288587458423207, -0.26636891054765377, -0.5588559210488281, -2.897762586549168, -0.9471056471452588, 0.58355518513356, 0.22462303171811882], \"xaxis\": \"x4\", \"y\": [-0.13775086430743813, -1.9933049229514477, -0.9545044762222105, 1.4014164640928737, -1.13192187578824, -1.3617171661286414, -0.9083961716634638, 1.3303928616547227, 0.8057925035002808, -0.6897784200723086, -2.0953961176504903, 0.4779895237770411, 0.7541183143416599, 1.0885380483057463, -1.9447575190926418, 0.9975927283186687, 0.5396244432324852, -0.42383547340641514, 0.7186773780770584, 2.6607077784921724, 0.5419253101691794, 0.48168350903181256, 0.00016683141743905627, -1.434810587490341, 0.7715714846893815, 0.7456802660196701, -0.36542221125466307, -1.0166942651772195, 0.3093832415310271, -1.3304186784288994, -0.38208893085136053, 1.070745280547997, -0.24166411883649572, 1.0156796479926795, 0.34835168994849247, -0.4191523215594431, 0.06173604008436236, -1.432936038291852, 0.3258606651601762, -1.349954164282741, -0.7095098045451561, 1.010145452103435, -1.1105120080278759, 0.21666021830827295, 0.05047695299247232, 1.6979340768084248, 0.4829406701478865, -0.09070487712543199, 0.8532304688136618, -0.8942411416717861, -0.42457176708669925, -1.5657072405052173, -0.17728663186775215, -0.907529302042309, 0.015237382008090744, 0.17182485828798016, -0.422959094891893, -0.7740227863443343, -1.0208775652388034, -0.6324799702992057, 0.10822694435312787, -0.3496517337932419, 0.33060914060953733, -1.0106999926023936, -0.7222417619394348, -0.5332812245676131, -0.776755834796644, 1.1941171480095443, 1.2686298712847948, -1.017278861018582, -1.1774948698526817, -0.4239516911089791, -0.3945051098098888, -1.360817658415006, -0.863416437132497, 0.7226579837082056, -1.071158632435797, -0.7010972899518247, 1.2145562514183765, -0.28080634140698185, 0.4366347441230707, 1.314812375540971, 1.5722102595136485, 2.3812552615192804, -1.0672037558626681, -0.053593780034868706, 0.5976597621802904, -0.5418992969522781, -0.8921719903625399, 0.32805956293816935, 0.8811900268496274, -0.6639785072700968, -0.4073355000059551, -0.5740298447265203, 0.033388134057522056, -1.3913553444512943, 0.20930846462947625, -1.8181242562227442, 0.20084981290816206, -0.8380964279862918], \"yaxis\": \"y4\"}, {\"line\": {\"color\": \"rgba(128, 128, 128, 1.0)\", \"dash\": \"solid\", \"shape\": \"linear\", \"width\": 1.3}, \"marker\": {\"size\": 2, \"symbol\": \"circle\"}, \"mode\": \"markers\", \"name\": \"B\", \"text\": \"\", \"type\": \"scatter\", \"x\": [-0.13775086430743813, -1.9933049229514477, -0.9545044762222105, 1.4014164640928737, -1.13192187578824, -1.3617171661286414, -0.9083961716634638, 1.3303928616547227, 0.8057925035002808, -0.6897784200723086, -2.0953961176504903, 0.4779895237770411, 0.7541183143416599, 1.0885380483057463, -1.9447575190926418, 0.9975927283186687, 0.5396244432324852, -0.42383547340641514, 0.7186773780770584, 2.6607077784921724, 0.5419253101691794, 0.48168350903181256, 0.00016683141743905627, -1.434810587490341, 0.7715714846893815, 0.7456802660196701, -0.36542221125466307, -1.0166942651772195, 0.3093832415310271, -1.3304186784288994, -0.38208893085136053, 1.070745280547997, -0.24166411883649572, 1.0156796479926795, 0.34835168994849247, -0.4191523215594431, 0.06173604008436236, -1.432936038291852, 0.3258606651601762, -1.349954164282741, -0.7095098045451561, 1.010145452103435, -1.1105120080278759, 0.21666021830827295, 0.05047695299247232, 1.6979340768084248, 0.4829406701478865, -0.09070487712543199, 0.8532304688136618, -0.8942411416717861, -0.42457176708669925, -1.5657072405052173, -0.17728663186775215, -0.907529302042309, 0.015237382008090744, 0.17182485828798016, -0.422959094891893, -0.7740227863443343, -1.0208775652388034, -0.6324799702992057, 0.10822694435312787, -0.3496517337932419, 0.33060914060953733, -1.0106999926023936, -0.7222417619394348, -0.5332812245676131, -0.776755834796644, 1.1941171480095443, 1.2686298712847948, -1.017278861018582, -1.1774948698526817, -0.4239516911089791, -0.3945051098098888, -1.360817658415006, -0.863416437132497, 0.7226579837082056, -1.071158632435797, -0.7010972899518247, 1.2145562514183765, -0.28080634140698185, 0.4366347441230707, 1.314812375540971, 1.5722102595136485, 2.3812552615192804, -1.0672037558626681, -0.053593780034868706, 0.5976597621802904, -0.5418992969522781, -0.8921719903625399, 0.32805956293816935, 0.8811900268496274, -0.6639785072700968, -0.4073355000059551, -0.5740298447265203, 0.033388134057522056, -1.3913553444512943, 0.20930846462947625, -1.8181242562227442, 0.20084981290816206, -0.8380964279862918], \"xaxis\": \"x5\", \"y\": [0.4867039677135526, 1.244047840402478, 2.3332257859437378, 1.689469317780753, 0.26600468702917085, -1.5534056582883649, -1.4715859849210289, -0.2044115131727728, 0.26871657375985414, -0.3422180501613123, -1.7735616597332367, -0.016933444517672404, -0.7293476753347374, -0.624452059783926, -1.2763146611944258, 1.2724287629354616, 0.3481211380276087, -1.0169552849327732, 0.10521745932772313, -0.6304304028436521, -0.5041196367567813, 0.3161120551419451, 0.7369874147128881, -1.0598247277896868, -0.18506125663662593, 0.810477229270296, -1.384807705451281, -0.8863863326525558, 0.9147353176181667, -0.5385833168165204, 0.23579161115875363, 1.3922065321592305, -0.029253693715969455, 0.9869678719055079, -0.8315582910357844, -0.15630658169048334, 0.3630713272506266, -0.5732445399171228, 0.6868772378242992, 1.1003303290999775, 0.18612995904760574, 0.6946198041945933, -2.365577687112027, 0.8905083947588157, 0.6373915150218937, -1.5590165623571386, -1.8099737250328467, 0.8187923807100435, -0.566006465230476, -0.2075092147286489, -1.5463956090468263, -0.2027034353912444, 0.6110919682579047, -0.4024096082165716, 0.1092393679292165, -1.549036721036476, -0.28602484732646627, -1.596958432253144, -1.2934586866600908, -0.4345286168661543, -0.6577383489380272, 0.7483943244863837, 1.079000643133668, -1.5546810209164317, -0.7525658730481593, 0.9060783055285099, -1.4556490922061072, 1.5641473539411717, 0.867404487903958, -0.7804546920722069, -0.2626463976382476, 1.0219316310317808, -0.940622822003576, -0.7058560462667333, 0.40742227057372776, -1.06757106950965, -0.7515626021053561, 2.1636224076620234, 0.286759747917996, -0.8385984718681364, -0.7641870886396996, -0.48373459403747987, 0.10528249278382575, -0.9632439023829252, 1.903457634504097, -0.16604985961639618, 0.5530277500259455, 0.0951366549917921, 0.10390345527482063, 0.12218714334909844, -1.1493425592465587, 0.5883479007961637, 0.23124416068370013, 1.0861293480045746, 1.2786656219423185, -0.10469047643119377, 0.664352682995852, -0.45585776757309304, -0.309786574014567, -1.1229610739076694], \"yaxis\": \"y5\"}, {\"histfunc\": \"count\", \"histnorm\": \"\", \"marker\": {\"color\": \"rgba(55, 128, 191, 1.0)\", \"line\": {\"color\": \"#4D5663\", \"width\": 1.3}}, \"name\": \"B\", \"nbinsx\": 10, \"opacity\": 0.8, \"orientation\": \"v\", \"type\": \"histogram\", \"x\": [0.4867039677135526, 1.244047840402478, 2.3332257859437378, 1.689469317780753, 0.26600468702917085, -1.5534056582883649, -1.4715859849210289, -0.2044115131727728, 0.26871657375985414, -0.3422180501613123, -1.7735616597332367, -0.016933444517672404, -0.7293476753347374, -0.624452059783926, -1.2763146611944258, 1.2724287629354616, 0.3481211380276087, -1.0169552849327732, 0.10521745932772313, -0.6304304028436521, -0.5041196367567813, 0.3161120551419451, 0.7369874147128881, -1.0598247277896868, -0.18506125663662593, 0.810477229270296, -1.384807705451281, -0.8863863326525558, 0.9147353176181667, -0.5385833168165204, 0.23579161115875363, 1.3922065321592305, -0.029253693715969455, 0.9869678719055079, -0.8315582910357844, -0.15630658169048334, 0.3630713272506266, -0.5732445399171228, 0.6868772378242992, 1.1003303290999775, 0.18612995904760574, 0.6946198041945933, -2.365577687112027, 0.8905083947588157, 0.6373915150218937, -1.5590165623571386, -1.8099737250328467, 0.8187923807100435, -0.566006465230476, -0.2075092147286489, -1.5463956090468263, -0.2027034353912444, 0.6110919682579047, -0.4024096082165716, 0.1092393679292165, -1.549036721036476, -0.28602484732646627, -1.596958432253144, -1.2934586866600908, -0.4345286168661543, -0.6577383489380272, 0.7483943244863837, 1.079000643133668, -1.5546810209164317, -0.7525658730481593, 0.9060783055285099, -1.4556490922061072, 1.5641473539411717, 0.867404487903958, -0.7804546920722069, -0.2626463976382476, 1.0219316310317808, -0.940622822003576, -0.7058560462667333, 0.40742227057372776, -1.06757106950965, -0.7515626021053561, 2.1636224076620234, 0.286759747917996, -0.8385984718681364, -0.7641870886396996, -0.48373459403747987, 0.10528249278382575, -0.9632439023829252, 1.903457634504097, -0.16604985961639618, 0.5530277500259455, 0.0951366549917921, 0.10390345527482063, 0.12218714334909844, -1.1493425592465587, 0.5883479007961637, 0.23124416068370013, 1.0861293480045746, 1.2786656219423185, -0.10469047643119377, 0.664352682995852, -0.45585776757309304, -0.309786574014567, -1.1229610739076694], \"xaxis\": \"x6\", \"yaxis\": \"y6\"}, {\"line\": {\"color\": \"rgba(128, 128, 128, 1.0)\", \"dash\": \"solid\", \"shape\": \"linear\", \"width\": 1.3}, \"marker\": {\"size\": 2, \"symbol\": \"circle\"}, \"mode\": \"markers\", \"name\": \"B\", \"text\": \"\", \"type\": \"scatter\", \"x\": [-1.13749315482382, 0.7653879229528251, 0.36353993423080283, -0.1264559329598941, 0.20902322993125227, 0.004425724623742667, -1.5809516932518117, 0.21132144886763912, -0.09207767881977709, -0.9986667851679848, 0.24249197845322157, -0.1670722755498319, -0.25989403824354784, -1.2128858047674451, -0.6066845874730094, 0.38747203527688656, 0.6703817625268776, 0.5893838408432945, -0.2515646505395043, 0.015830081332728074, 0.7518553601532176, -0.8279223222360815, 0.13447461632924104, 0.5038845288746462, -0.7991348009888153, -0.6017576901506447, -0.9471261239516784, -1.4158141594145313, 0.8046294420633452, -1.88418076448262, -0.7244974928743495, 0.8062482595739058, 1.468972588346329, -1.3065576529651353, 0.19761452884566194, -0.5142486337830402, -0.5366617937602675, 0.41674173632929223, 0.07040277780338344, 0.5867604556708543, -0.5307208193118907, 0.5532314718964406, 0.33618900518926537, -2.0316632223733553, 1.2037899892305588, 1.495760261609705, 0.9461871905850956, 0.4148510504342809, 1.2917872098988403, 0.038159176615340996, -0.7903494308684608, 0.8724093738391323, 0.5084019544516403, 1.6802366581185233, -0.03835829382367422, 0.8921323672959719, -3.1048789733083635, -0.9959838237283308, -1.4776596679815992, -1.6042472658044309, -0.898057711597044, -0.0014952871568699056, -0.060323124861548186, -1.5214938503202469, 0.5440691871580189, 1.7948911997294532, -2.3114850872544577, -1.2511453085315185, -0.9192439666370511, 1.3347845456976195, -2.7084887701278917, -0.6872683553989607, 0.1633739608597954, 0.7011899016772642, -0.43252875504230487, 0.4669155858262645, -1.3804452333866417, -0.7129946601176602, 1.1510291635751115, -0.37340888390995575, -0.7678549843810049, 1.4537991209345367, -1.6103328597013777, -0.08098437022756322, 0.04938978891788958, 0.8818090088558648, -0.4463209623346439, -0.05772006728779314, 0.2094643862383853, -0.788480693768257, -0.9700506115589369, -0.6309762622528706, -0.1496590724180059, -1.5557199092524507, 1.2173731944856414, -0.9646377814844951, 0.35472679974346744, 0.8580392133991638, -0.47948073381113515, -0.4451400361562025], \"xaxis\": \"x7\", \"y\": [0.4867039677135526, 1.244047840402478, 2.3332257859437378, 1.689469317780753, 0.26600468702917085, -1.5534056582883649, -1.4715859849210289, -0.2044115131727728, 0.26871657375985414, -0.3422180501613123, -1.7735616597332367, -0.016933444517672404, -0.7293476753347374, -0.624452059783926, -1.2763146611944258, 1.2724287629354616, 0.3481211380276087, -1.0169552849327732, 0.10521745932772313, -0.6304304028436521, -0.5041196367567813, 0.3161120551419451, 0.7369874147128881, -1.0598247277896868, -0.18506125663662593, 0.810477229270296, -1.384807705451281, -0.8863863326525558, 0.9147353176181667, -0.5385833168165204, 0.23579161115875363, 1.3922065321592305, -0.029253693715969455, 0.9869678719055079, -0.8315582910357844, -0.15630658169048334, 0.3630713272506266, -0.5732445399171228, 0.6868772378242992, 1.1003303290999775, 0.18612995904760574, 0.6946198041945933, -2.365577687112027, 0.8905083947588157, 0.6373915150218937, -1.5590165623571386, -1.8099737250328467, 0.8187923807100435, -0.566006465230476, -0.2075092147286489, -1.5463956090468263, -0.2027034353912444, 0.6110919682579047, -0.4024096082165716, 0.1092393679292165, -1.549036721036476, -0.28602484732646627, -1.596958432253144, -1.2934586866600908, -0.4345286168661543, -0.6577383489380272, 0.7483943244863837, 1.079000643133668, -1.5546810209164317, -0.7525658730481593, 0.9060783055285099, -1.4556490922061072, 1.5641473539411717, 0.867404487903958, -0.7804546920722069, -0.2626463976382476, 1.0219316310317808, -0.940622822003576, -0.7058560462667333, 0.40742227057372776, -1.06757106950965, -0.7515626021053561, 2.1636224076620234, 0.286759747917996, -0.8385984718681364, -0.7641870886396996, -0.48373459403747987, 0.10528249278382575, -0.9632439023829252, 1.903457634504097, -0.16604985961639618, 0.5530277500259455, 0.0951366549917921, 0.10390345527482063, 0.12218714334909844, -1.1493425592465587, 0.5883479007961637, 0.23124416068370013, 1.0861293480045746, 1.2786656219423185, -0.10469047643119377, 0.664352682995852, -0.45585776757309304, -0.309786574014567, -1.1229610739076694], \"yaxis\": \"y7\"}, {\"line\": {\"color\": \"rgba(128, 128, 128, 1.0)\", \"dash\": \"solid\", \"shape\": \"linear\", \"width\": 1.3}, \"marker\": {\"size\": 2, \"symbol\": \"circle\"}, \"mode\": \"markers\", \"name\": \"B\", \"text\": \"\", \"type\": \"scatter\", \"x\": [-0.7047235523489176, 1.246993324176599, 0.1403089172780101, -0.4549420408995085, 0.06246430342814528, -0.0014477722750879122, 0.7173287158977242, 1.3939915546321147, -2.0722469934200163, 1.126921877025309, 1.1541613504362467, -1.1229505194346185, 1.217198074129629, -0.22721537044679177, 0.21435434921557553, -0.9376024029308394, -0.45691627457818557, -0.19797153024436692, -2.5355487909269643, -0.11762947145539833, 0.6199621320706129, 1.2091447197385286, -1.5780488351712234, -0.021510994529677023, -0.06212691573040214, -0.2559669080909139, -0.43365185916771815, -0.37165169246290414, 0.4001482227159277, -0.2808384077050134, 0.3200323481265974, 0.548912422765533, -2.3704572275044256, -0.3644523198278164, 0.039454027249712476, 1.0623529672146794, 0.7864934855343091, 0.7256637434622966, 0.6976639154125662, 1.4743878281038973, -2.0616148606854043, -0.2937432964169668, -0.3792343959203282, 0.576380223053573, -1.9159063740657722, 0.40713157217015117, -0.29436880522574765, -0.9394752185978784, 0.78876931567213, 0.8895989554239737, 1.5664726941314182, 0.48441540775546776, -3.0591518070458266, 2.3911231558435726, -1.4449033644934874, -1.3924275408123392, 0.17382197797757712, -0.5567243993245482, -0.08447779634123187, 0.4301868761448119, 1.2355330417977177, -0.5063159694727445, -0.8187281572673231, 1.6039646080964505, -0.2009598120941732, 2.8029560142061323, 0.2984548560518197, 0.8999436772220767, -1.7319802294637427, -1.3607715721374827, -0.3818650465129761, -0.24119446662667235, 0.49573677929622895, 0.37516568660625255, -1.3963206832653954, 0.08370478226323531, -0.802838008300142, 1.126644556541517, 0.2456983810060282, -0.31141590823350834, 0.14924592582376356, 0.0586862032747273, -0.8810342851515048, -0.5630394604053154, -1.0394141444088514, 1.5754312986766652, 1.080653351869836, -0.9897339047293988, 0.45902392135464376, -1.34379459005792, 0.987088063065103, -0.003852969120063484, 0.003105491270756242, 2.3288587458423207, -0.26636891054765377, -0.5588559210488281, -2.897762586549168, -0.9471056471452588, 0.58355518513356, 0.22462303171811882], \"xaxis\": \"x8\", \"y\": [0.4867039677135526, 1.244047840402478, 2.3332257859437378, 1.689469317780753, 0.26600468702917085, -1.5534056582883649, -1.4715859849210289, -0.2044115131727728, 0.26871657375985414, -0.3422180501613123, -1.7735616597332367, -0.016933444517672404, -0.7293476753347374, -0.624452059783926, -1.2763146611944258, 1.2724287629354616, 0.3481211380276087, -1.0169552849327732, 0.10521745932772313, -0.6304304028436521, -0.5041196367567813, 0.3161120551419451, 0.7369874147128881, -1.0598247277896868, -0.18506125663662593, 0.810477229270296, -1.384807705451281, -0.8863863326525558, 0.9147353176181667, -0.5385833168165204, 0.23579161115875363, 1.3922065321592305, -0.029253693715969455, 0.9869678719055079, -0.8315582910357844, -0.15630658169048334, 0.3630713272506266, -0.5732445399171228, 0.6868772378242992, 1.1003303290999775, 0.18612995904760574, 0.6946198041945933, -2.365577687112027, 0.8905083947588157, 0.6373915150218937, -1.5590165623571386, -1.8099737250328467, 0.8187923807100435, -0.566006465230476, -0.2075092147286489, -1.5463956090468263, -0.2027034353912444, 0.6110919682579047, -0.4024096082165716, 0.1092393679292165, -1.549036721036476, -0.28602484732646627, -1.596958432253144, -1.2934586866600908, -0.4345286168661543, -0.6577383489380272, 0.7483943244863837, 1.079000643133668, -1.5546810209164317, -0.7525658730481593, 0.9060783055285099, -1.4556490922061072, 1.5641473539411717, 0.867404487903958, -0.7804546920722069, -0.2626463976382476, 1.0219316310317808, -0.940622822003576, -0.7058560462667333, 0.40742227057372776, -1.06757106950965, -0.7515626021053561, 2.1636224076620234, 0.286759747917996, -0.8385984718681364, -0.7641870886396996, -0.48373459403747987, 0.10528249278382575, -0.9632439023829252, 1.903457634504097, -0.16604985961639618, 0.5530277500259455, 0.0951366549917921, 0.10390345527482063, 0.12218714334909844, -1.1493425592465587, 0.5883479007961637, 0.23124416068370013, 1.0861293480045746, 1.2786656219423185, -0.10469047643119377, 0.664352682995852, -0.45585776757309304, -0.309786574014567, -1.1229610739076694], \"yaxis\": \"y8\"}, {\"line\": {\"color\": \"rgba(128, 128, 128, 1.0)\", \"dash\": \"solid\", \"shape\": \"linear\", \"width\": 1.3}, \"marker\": {\"size\": 2, \"symbol\": \"circle\"}, \"mode\": \"markers\", \"name\": \"C\", \"text\": \"\", \"type\": \"scatter\", \"x\": [-0.13775086430743813, -1.9933049229514477, -0.9545044762222105, 1.4014164640928737, -1.13192187578824, -1.3617171661286414, -0.9083961716634638, 1.3303928616547227, 0.8057925035002808, -0.6897784200723086, -2.0953961176504903, 0.4779895237770411, 0.7541183143416599, 1.0885380483057463, -1.9447575190926418, 0.9975927283186687, 0.5396244432324852, -0.42383547340641514, 0.7186773780770584, 2.6607077784921724, 0.5419253101691794, 0.48168350903181256, 0.00016683141743905627, -1.434810587490341, 0.7715714846893815, 0.7456802660196701, -0.36542221125466307, -1.0166942651772195, 0.3093832415310271, -1.3304186784288994, -0.38208893085136053, 1.070745280547997, -0.24166411883649572, 1.0156796479926795, 0.34835168994849247, -0.4191523215594431, 0.06173604008436236, -1.432936038291852, 0.3258606651601762, -1.349954164282741, -0.7095098045451561, 1.010145452103435, -1.1105120080278759, 0.21666021830827295, 0.05047695299247232, 1.6979340768084248, 0.4829406701478865, -0.09070487712543199, 0.8532304688136618, -0.8942411416717861, -0.42457176708669925, -1.5657072405052173, -0.17728663186775215, -0.907529302042309, 0.015237382008090744, 0.17182485828798016, -0.422959094891893, -0.7740227863443343, -1.0208775652388034, -0.6324799702992057, 0.10822694435312787, -0.3496517337932419, 0.33060914060953733, -1.0106999926023936, -0.7222417619394348, -0.5332812245676131, -0.776755834796644, 1.1941171480095443, 1.2686298712847948, -1.017278861018582, -1.1774948698526817, -0.4239516911089791, -0.3945051098098888, -1.360817658415006, -0.863416437132497, 0.7226579837082056, -1.071158632435797, -0.7010972899518247, 1.2145562514183765, -0.28080634140698185, 0.4366347441230707, 1.314812375540971, 1.5722102595136485, 2.3812552615192804, -1.0672037558626681, -0.053593780034868706, 0.5976597621802904, -0.5418992969522781, -0.8921719903625399, 0.32805956293816935, 0.8811900268496274, -0.6639785072700968, -0.4073355000059551, -0.5740298447265203, 0.033388134057522056, -1.3913553444512943, 0.20930846462947625, -1.8181242562227442, 0.20084981290816206, -0.8380964279862918], \"xaxis\": \"x9\", \"y\": [-1.13749315482382, 0.7653879229528251, 0.36353993423080283, -0.1264559329598941, 0.20902322993125227, 0.004425724623742667, -1.5809516932518117, 0.21132144886763912, -0.09207767881977709, -0.9986667851679848, 0.24249197845322157, -0.1670722755498319, -0.25989403824354784, -1.2128858047674451, -0.6066845874730094, 0.38747203527688656, 0.6703817625268776, 0.5893838408432945, -0.2515646505395043, 0.015830081332728074, 0.7518553601532176, -0.8279223222360815, 0.13447461632924104, 0.5038845288746462, -0.7991348009888153, -0.6017576901506447, -0.9471261239516784, -1.4158141594145313, 0.8046294420633452, -1.88418076448262, -0.7244974928743495, 0.8062482595739058, 1.468972588346329, -1.3065576529651353, 0.19761452884566194, -0.5142486337830402, -0.5366617937602675, 0.41674173632929223, 0.07040277780338344, 0.5867604556708543, -0.5307208193118907, 0.5532314718964406, 0.33618900518926537, -2.0316632223733553, 1.2037899892305588, 1.495760261609705, 0.9461871905850956, 0.4148510504342809, 1.2917872098988403, 0.038159176615340996, -0.7903494308684608, 0.8724093738391323, 0.5084019544516403, 1.6802366581185233, -0.03835829382367422, 0.8921323672959719, -3.1048789733083635, -0.9959838237283308, -1.4776596679815992, -1.6042472658044309, -0.898057711597044, -0.0014952871568699056, -0.060323124861548186, -1.5214938503202469, 0.5440691871580189, 1.7948911997294532, -2.3114850872544577, -1.2511453085315185, -0.9192439666370511, 1.3347845456976195, -2.7084887701278917, -0.6872683553989607, 0.1633739608597954, 0.7011899016772642, -0.43252875504230487, 0.4669155858262645, -1.3804452333866417, -0.7129946601176602, 1.1510291635751115, -0.37340888390995575, -0.7678549843810049, 1.4537991209345367, -1.6103328597013777, -0.08098437022756322, 0.04938978891788958, 0.8818090088558648, -0.4463209623346439, -0.05772006728779314, 0.2094643862383853, -0.788480693768257, -0.9700506115589369, -0.6309762622528706, -0.1496590724180059, -1.5557199092524507, 1.2173731944856414, -0.9646377814844951, 0.35472679974346744, 0.8580392133991638, -0.47948073381113515, -0.4451400361562025], \"yaxis\": \"y9\"}, {\"line\": {\"color\": \"rgba(128, 128, 128, 1.0)\", \"dash\": \"solid\", \"shape\": \"linear\", \"width\": 1.3}, \"marker\": {\"size\": 2, \"symbol\": \"circle\"}, \"mode\": \"markers\", \"name\": \"C\", \"text\": \"\", \"type\": \"scatter\", \"x\": [0.4867039677135526, 1.244047840402478, 2.3332257859437378, 1.689469317780753, 0.26600468702917085, -1.5534056582883649, -1.4715859849210289, -0.2044115131727728, 0.26871657375985414, -0.3422180501613123, -1.7735616597332367, -0.016933444517672404, -0.7293476753347374, -0.624452059783926, -1.2763146611944258, 1.2724287629354616, 0.3481211380276087, -1.0169552849327732, 0.10521745932772313, -0.6304304028436521, -0.5041196367567813, 0.3161120551419451, 0.7369874147128881, -1.0598247277896868, -0.18506125663662593, 0.810477229270296, -1.384807705451281, -0.8863863326525558, 0.9147353176181667, -0.5385833168165204, 0.23579161115875363, 1.3922065321592305, -0.029253693715969455, 0.9869678719055079, -0.8315582910357844, -0.15630658169048334, 0.3630713272506266, -0.5732445399171228, 0.6868772378242992, 1.1003303290999775, 0.18612995904760574, 0.6946198041945933, -2.365577687112027, 0.8905083947588157, 0.6373915150218937, -1.5590165623571386, -1.8099737250328467, 0.8187923807100435, -0.566006465230476, -0.2075092147286489, -1.5463956090468263, -0.2027034353912444, 0.6110919682579047, -0.4024096082165716, 0.1092393679292165, -1.549036721036476, -0.28602484732646627, -1.596958432253144, -1.2934586866600908, -0.4345286168661543, -0.6577383489380272, 0.7483943244863837, 1.079000643133668, -1.5546810209164317, -0.7525658730481593, 0.9060783055285099, -1.4556490922061072, 1.5641473539411717, 0.867404487903958, -0.7804546920722069, -0.2626463976382476, 1.0219316310317808, -0.940622822003576, -0.7058560462667333, 0.40742227057372776, -1.06757106950965, -0.7515626021053561, 2.1636224076620234, 0.286759747917996, -0.8385984718681364, -0.7641870886396996, -0.48373459403747987, 0.10528249278382575, -0.9632439023829252, 1.903457634504097, -0.16604985961639618, 0.5530277500259455, 0.0951366549917921, 0.10390345527482063, 0.12218714334909844, -1.1493425592465587, 0.5883479007961637, 0.23124416068370013, 1.0861293480045746, 1.2786656219423185, -0.10469047643119377, 0.664352682995852, -0.45585776757309304, -0.309786574014567, -1.1229610739076694], \"xaxis\": \"x10\", \"y\": [-1.13749315482382, 0.7653879229528251, 0.36353993423080283, -0.1264559329598941, 0.20902322993125227, 0.004425724623742667, -1.5809516932518117, 0.21132144886763912, -0.09207767881977709, -0.9986667851679848, 0.24249197845322157, -0.1670722755498319, -0.25989403824354784, -1.2128858047674451, -0.6066845874730094, 0.38747203527688656, 0.6703817625268776, 0.5893838408432945, -0.2515646505395043, 0.015830081332728074, 0.7518553601532176, -0.8279223222360815, 0.13447461632924104, 0.5038845288746462, -0.7991348009888153, -0.6017576901506447, -0.9471261239516784, -1.4158141594145313, 0.8046294420633452, -1.88418076448262, -0.7244974928743495, 0.8062482595739058, 1.468972588346329, -1.3065576529651353, 0.19761452884566194, -0.5142486337830402, -0.5366617937602675, 0.41674173632929223, 0.07040277780338344, 0.5867604556708543, -0.5307208193118907, 0.5532314718964406, 0.33618900518926537, -2.0316632223733553, 1.2037899892305588, 1.495760261609705, 0.9461871905850956, 0.4148510504342809, 1.2917872098988403, 0.038159176615340996, -0.7903494308684608, 0.8724093738391323, 0.5084019544516403, 1.6802366581185233, -0.03835829382367422, 0.8921323672959719, -3.1048789733083635, -0.9959838237283308, -1.4776596679815992, -1.6042472658044309, -0.898057711597044, -0.0014952871568699056, -0.060323124861548186, -1.5214938503202469, 0.5440691871580189, 1.7948911997294532, -2.3114850872544577, -1.2511453085315185, -0.9192439666370511, 1.3347845456976195, -2.7084887701278917, -0.6872683553989607, 0.1633739608597954, 0.7011899016772642, -0.43252875504230487, 0.4669155858262645, -1.3804452333866417, -0.7129946601176602, 1.1510291635751115, -0.37340888390995575, -0.7678549843810049, 1.4537991209345367, -1.6103328597013777, -0.08098437022756322, 0.04938978891788958, 0.8818090088558648, -0.4463209623346439, -0.05772006728779314, 0.2094643862383853, -0.788480693768257, -0.9700506115589369, -0.6309762622528706, -0.1496590724180059, -1.5557199092524507, 1.2173731944856414, -0.9646377814844951, 0.35472679974346744, 0.8580392133991638, -0.47948073381113515, -0.4451400361562025], \"yaxis\": \"y10\"}, {\"histfunc\": \"count\", \"histnorm\": \"\", \"marker\": {\"color\": \"rgba(50, 171, 96, 1.0)\", \"line\": {\"color\": \"#4D5663\", \"width\": 1.3}}, \"name\": \"C\", \"nbinsx\": 10, \"opacity\": 0.8, \"orientation\": \"v\", \"type\": \"histogram\", \"x\": [-1.13749315482382, 0.7653879229528251, 0.36353993423080283, -0.1264559329598941, 0.20902322993125227, 0.004425724623742667, -1.5809516932518117, 0.21132144886763912, -0.09207767881977709, -0.9986667851679848, 0.24249197845322157, -0.1670722755498319, -0.25989403824354784, -1.2128858047674451, -0.6066845874730094, 0.38747203527688656, 0.6703817625268776, 0.5893838408432945, -0.2515646505395043, 0.015830081332728074, 0.7518553601532176, -0.8279223222360815, 0.13447461632924104, 0.5038845288746462, -0.7991348009888153, -0.6017576901506447, -0.9471261239516784, -1.4158141594145313, 0.8046294420633452, -1.88418076448262, -0.7244974928743495, 0.8062482595739058, 1.468972588346329, -1.3065576529651353, 0.19761452884566194, -0.5142486337830402, -0.5366617937602675, 0.41674173632929223, 0.07040277780338344, 0.5867604556708543, -0.5307208193118907, 0.5532314718964406, 0.33618900518926537, -2.0316632223733553, 1.2037899892305588, 1.495760261609705, 0.9461871905850956, 0.4148510504342809, 1.2917872098988403, 0.038159176615340996, -0.7903494308684608, 0.8724093738391323, 0.5084019544516403, 1.6802366581185233, -0.03835829382367422, 0.8921323672959719, -3.1048789733083635, -0.9959838237283308, -1.4776596679815992, -1.6042472658044309, -0.898057711597044, -0.0014952871568699056, -0.060323124861548186, -1.5214938503202469, 0.5440691871580189, 1.7948911997294532, -2.3114850872544577, -1.2511453085315185, -0.9192439666370511, 1.3347845456976195, -2.7084887701278917, -0.6872683553989607, 0.1633739608597954, 0.7011899016772642, -0.43252875504230487, 0.4669155858262645, -1.3804452333866417, -0.7129946601176602, 1.1510291635751115, -0.37340888390995575, -0.7678549843810049, 1.4537991209345367, -1.6103328597013777, -0.08098437022756322, 0.04938978891788958, 0.8818090088558648, -0.4463209623346439, -0.05772006728779314, 0.2094643862383853, -0.788480693768257, -0.9700506115589369, -0.6309762622528706, -0.1496590724180059, -1.5557199092524507, 1.2173731944856414, -0.9646377814844951, 0.35472679974346744, 0.8580392133991638, -0.47948073381113515, -0.4451400361562025], \"xaxis\": \"x11\", \"yaxis\": \"y11\"}, {\"line\": {\"color\": \"rgba(128, 128, 128, 1.0)\", \"dash\": \"solid\", \"shape\": \"linear\", \"width\": 1.3}, \"marker\": {\"size\": 2, \"symbol\": \"circle\"}, \"mode\": \"markers\", \"name\": \"C\", \"text\": \"\", \"type\": \"scatter\", \"x\": [-0.7047235523489176, 1.246993324176599, 0.1403089172780101, -0.4549420408995085, 0.06246430342814528, -0.0014477722750879122, 0.7173287158977242, 1.3939915546321147, -2.0722469934200163, 1.126921877025309, 1.1541613504362467, -1.1229505194346185, 1.217198074129629, -0.22721537044679177, 0.21435434921557553, -0.9376024029308394, -0.45691627457818557, -0.19797153024436692, -2.5355487909269643, -0.11762947145539833, 0.6199621320706129, 1.2091447197385286, -1.5780488351712234, -0.021510994529677023, -0.06212691573040214, -0.2559669080909139, -0.43365185916771815, -0.37165169246290414, 0.4001482227159277, -0.2808384077050134, 0.3200323481265974, 0.548912422765533, -2.3704572275044256, -0.3644523198278164, 0.039454027249712476, 1.0623529672146794, 0.7864934855343091, 0.7256637434622966, 0.6976639154125662, 1.4743878281038973, -2.0616148606854043, -0.2937432964169668, -0.3792343959203282, 0.576380223053573, -1.9159063740657722, 0.40713157217015117, -0.29436880522574765, -0.9394752185978784, 0.78876931567213, 0.8895989554239737, 1.5664726941314182, 0.48441540775546776, -3.0591518070458266, 2.3911231558435726, -1.4449033644934874, -1.3924275408123392, 0.17382197797757712, -0.5567243993245482, -0.08447779634123187, 0.4301868761448119, 1.2355330417977177, -0.5063159694727445, -0.8187281572673231, 1.6039646080964505, -0.2009598120941732, 2.8029560142061323, 0.2984548560518197, 0.8999436772220767, -1.7319802294637427, -1.3607715721374827, -0.3818650465129761, -0.24119446662667235, 0.49573677929622895, 0.37516568660625255, -1.3963206832653954, 0.08370478226323531, -0.802838008300142, 1.126644556541517, 0.2456983810060282, -0.31141590823350834, 0.14924592582376356, 0.0586862032747273, -0.8810342851515048, -0.5630394604053154, -1.0394141444088514, 1.5754312986766652, 1.080653351869836, -0.9897339047293988, 0.45902392135464376, -1.34379459005792, 0.987088063065103, -0.003852969120063484, 0.003105491270756242, 2.3288587458423207, -0.26636891054765377, -0.5588559210488281, -2.897762586549168, -0.9471056471452588, 0.58355518513356, 0.22462303171811882], \"xaxis\": \"x12\", \"y\": [-1.13749315482382, 0.7653879229528251, 0.36353993423080283, -0.1264559329598941, 0.20902322993125227, 0.004425724623742667, -1.5809516932518117, 0.21132144886763912, -0.09207767881977709, -0.9986667851679848, 0.24249197845322157, -0.1670722755498319, -0.25989403824354784, -1.2128858047674451, -0.6066845874730094, 0.38747203527688656, 0.6703817625268776, 0.5893838408432945, -0.2515646505395043, 0.015830081332728074, 0.7518553601532176, -0.8279223222360815, 0.13447461632924104, 0.5038845288746462, -0.7991348009888153, -0.6017576901506447, -0.9471261239516784, -1.4158141594145313, 0.8046294420633452, -1.88418076448262, -0.7244974928743495, 0.8062482595739058, 1.468972588346329, -1.3065576529651353, 0.19761452884566194, -0.5142486337830402, -0.5366617937602675, 0.41674173632929223, 0.07040277780338344, 0.5867604556708543, -0.5307208193118907, 0.5532314718964406, 0.33618900518926537, -2.0316632223733553, 1.2037899892305588, 1.495760261609705, 0.9461871905850956, 0.4148510504342809, 1.2917872098988403, 0.038159176615340996, -0.7903494308684608, 0.8724093738391323, 0.5084019544516403, 1.6802366581185233, -0.03835829382367422, 0.8921323672959719, -3.1048789733083635, -0.9959838237283308, -1.4776596679815992, -1.6042472658044309, -0.898057711597044, -0.0014952871568699056, -0.060323124861548186, -1.5214938503202469, 0.5440691871580189, 1.7948911997294532, -2.3114850872544577, -1.2511453085315185, -0.9192439666370511, 1.3347845456976195, -2.7084887701278917, -0.6872683553989607, 0.1633739608597954, 0.7011899016772642, -0.43252875504230487, 0.4669155858262645, -1.3804452333866417, -0.7129946601176602, 1.1510291635751115, -0.37340888390995575, -0.7678549843810049, 1.4537991209345367, -1.6103328597013777, -0.08098437022756322, 0.04938978891788958, 0.8818090088558648, -0.4463209623346439, -0.05772006728779314, 0.2094643862383853, -0.788480693768257, -0.9700506115589369, -0.6309762622528706, -0.1496590724180059, -1.5557199092524507, 1.2173731944856414, -0.9646377814844951, 0.35472679974346744, 0.8580392133991638, -0.47948073381113515, -0.4451400361562025], \"yaxis\": \"y12\"}, {\"line\": {\"color\": \"rgba(128, 128, 128, 1.0)\", \"dash\": \"solid\", \"shape\": \"linear\", \"width\": 1.3}, \"marker\": {\"size\": 2, \"symbol\": \"circle\"}, \"mode\": \"markers\", \"name\": \"D\", \"text\": \"\", \"type\": \"scatter\", \"x\": [-0.13775086430743813, -1.9933049229514477, -0.9545044762222105, 1.4014164640928737, -1.13192187578824, -1.3617171661286414, -0.9083961716634638, 1.3303928616547227, 0.8057925035002808, -0.6897784200723086, -2.0953961176504903, 0.4779895237770411, 0.7541183143416599, 1.0885380483057463, -1.9447575190926418, 0.9975927283186687, 0.5396244432324852, -0.42383547340641514, 0.7186773780770584, 2.6607077784921724, 0.5419253101691794, 0.48168350903181256, 0.00016683141743905627, -1.434810587490341, 0.7715714846893815, 0.7456802660196701, -0.36542221125466307, -1.0166942651772195, 0.3093832415310271, -1.3304186784288994, -0.38208893085136053, 1.070745280547997, -0.24166411883649572, 1.0156796479926795, 0.34835168994849247, -0.4191523215594431, 0.06173604008436236, -1.432936038291852, 0.3258606651601762, -1.349954164282741, -0.7095098045451561, 1.010145452103435, -1.1105120080278759, 0.21666021830827295, 0.05047695299247232, 1.6979340768084248, 0.4829406701478865, -0.09070487712543199, 0.8532304688136618, -0.8942411416717861, -0.42457176708669925, -1.5657072405052173, -0.17728663186775215, -0.907529302042309, 0.015237382008090744, 0.17182485828798016, -0.422959094891893, -0.7740227863443343, -1.0208775652388034, -0.6324799702992057, 0.10822694435312787, -0.3496517337932419, 0.33060914060953733, -1.0106999926023936, -0.7222417619394348, -0.5332812245676131, -0.776755834796644, 1.1941171480095443, 1.2686298712847948, -1.017278861018582, -1.1774948698526817, -0.4239516911089791, -0.3945051098098888, -1.360817658415006, -0.863416437132497, 0.7226579837082056, -1.071158632435797, -0.7010972899518247, 1.2145562514183765, -0.28080634140698185, 0.4366347441230707, 1.314812375540971, 1.5722102595136485, 2.3812552615192804, -1.0672037558626681, -0.053593780034868706, 0.5976597621802904, -0.5418992969522781, -0.8921719903625399, 0.32805956293816935, 0.8811900268496274, -0.6639785072700968, -0.4073355000059551, -0.5740298447265203, 0.033388134057522056, -1.3913553444512943, 0.20930846462947625, -1.8181242562227442, 0.20084981290816206, -0.8380964279862918], \"xaxis\": \"x13\", \"y\": [-0.7047235523489176, 1.246993324176599, 0.1403089172780101, -0.4549420408995085, 0.06246430342814528, -0.0014477722750879122, 0.7173287158977242, 1.3939915546321147, -2.0722469934200163, 1.126921877025309, 1.1541613504362467, -1.1229505194346185, 1.217198074129629, -0.22721537044679177, 0.21435434921557553, -0.9376024029308394, -0.45691627457818557, -0.19797153024436692, -2.5355487909269643, -0.11762947145539833, 0.6199621320706129, 1.2091447197385286, -1.5780488351712234, -0.021510994529677023, -0.06212691573040214, -0.2559669080909139, -0.43365185916771815, -0.37165169246290414, 0.4001482227159277, -0.2808384077050134, 0.3200323481265974, 0.548912422765533, -2.3704572275044256, -0.3644523198278164, 0.039454027249712476, 1.0623529672146794, 0.7864934855343091, 0.7256637434622966, 0.6976639154125662, 1.4743878281038973, -2.0616148606854043, -0.2937432964169668, -0.3792343959203282, 0.576380223053573, -1.9159063740657722, 0.40713157217015117, -0.29436880522574765, -0.9394752185978784, 0.78876931567213, 0.8895989554239737, 1.5664726941314182, 0.48441540775546776, -3.0591518070458266, 2.3911231558435726, -1.4449033644934874, -1.3924275408123392, 0.17382197797757712, -0.5567243993245482, -0.08447779634123187, 0.4301868761448119, 1.2355330417977177, -0.5063159694727445, -0.8187281572673231, 1.6039646080964505, -0.2009598120941732, 2.8029560142061323, 0.2984548560518197, 0.8999436772220767, -1.7319802294637427, -1.3607715721374827, -0.3818650465129761, -0.24119446662667235, 0.49573677929622895, 0.37516568660625255, -1.3963206832653954, 0.08370478226323531, -0.802838008300142, 1.126644556541517, 0.2456983810060282, -0.31141590823350834, 0.14924592582376356, 0.0586862032747273, -0.8810342851515048, -0.5630394604053154, -1.0394141444088514, 1.5754312986766652, 1.080653351869836, -0.9897339047293988, 0.45902392135464376, -1.34379459005792, 0.987088063065103, -0.003852969120063484, 0.003105491270756242, 2.3288587458423207, -0.26636891054765377, -0.5588559210488281, -2.897762586549168, -0.9471056471452588, 0.58355518513356, 0.22462303171811882], \"yaxis\": \"y13\"}, {\"line\": {\"color\": \"rgba(128, 128, 128, 1.0)\", \"dash\": \"solid\", \"shape\": \"linear\", \"width\": 1.3}, \"marker\": {\"size\": 2, \"symbol\": \"circle\"}, \"mode\": \"markers\", \"name\": \"D\", \"text\": \"\", \"type\": \"scatter\", \"x\": [0.4867039677135526, 1.244047840402478, 2.3332257859437378, 1.689469317780753, 0.26600468702917085, -1.5534056582883649, -1.4715859849210289, -0.2044115131727728, 0.26871657375985414, -0.3422180501613123, -1.7735616597332367, -0.016933444517672404, -0.7293476753347374, -0.624452059783926, -1.2763146611944258, 1.2724287629354616, 0.3481211380276087, -1.0169552849327732, 0.10521745932772313, -0.6304304028436521, -0.5041196367567813, 0.3161120551419451, 0.7369874147128881, -1.0598247277896868, -0.18506125663662593, 0.810477229270296, -1.384807705451281, -0.8863863326525558, 0.9147353176181667, -0.5385833168165204, 0.23579161115875363, 1.3922065321592305, -0.029253693715969455, 0.9869678719055079, -0.8315582910357844, -0.15630658169048334, 0.3630713272506266, -0.5732445399171228, 0.6868772378242992, 1.1003303290999775, 0.18612995904760574, 0.6946198041945933, -2.365577687112027, 0.8905083947588157, 0.6373915150218937, -1.5590165623571386, -1.8099737250328467, 0.8187923807100435, -0.566006465230476, -0.2075092147286489, -1.5463956090468263, -0.2027034353912444, 0.6110919682579047, -0.4024096082165716, 0.1092393679292165, -1.549036721036476, -0.28602484732646627, -1.596958432253144, -1.2934586866600908, -0.4345286168661543, -0.6577383489380272, 0.7483943244863837, 1.079000643133668, -1.5546810209164317, -0.7525658730481593, 0.9060783055285099, -1.4556490922061072, 1.5641473539411717, 0.867404487903958, -0.7804546920722069, -0.2626463976382476, 1.0219316310317808, -0.940622822003576, -0.7058560462667333, 0.40742227057372776, -1.06757106950965, -0.7515626021053561, 2.1636224076620234, 0.286759747917996, -0.8385984718681364, -0.7641870886396996, -0.48373459403747987, 0.10528249278382575, -0.9632439023829252, 1.903457634504097, -0.16604985961639618, 0.5530277500259455, 0.0951366549917921, 0.10390345527482063, 0.12218714334909844, -1.1493425592465587, 0.5883479007961637, 0.23124416068370013, 1.0861293480045746, 1.2786656219423185, -0.10469047643119377, 0.664352682995852, -0.45585776757309304, -0.309786574014567, -1.1229610739076694], \"xaxis\": \"x14\", \"y\": [-0.7047235523489176, 1.246993324176599, 0.1403089172780101, -0.4549420408995085, 0.06246430342814528, -0.0014477722750879122, 0.7173287158977242, 1.3939915546321147, -2.0722469934200163, 1.126921877025309, 1.1541613504362467, -1.1229505194346185, 1.217198074129629, -0.22721537044679177, 0.21435434921557553, -0.9376024029308394, -0.45691627457818557, -0.19797153024436692, -2.5355487909269643, -0.11762947145539833, 0.6199621320706129, 1.2091447197385286, -1.5780488351712234, -0.021510994529677023, -0.06212691573040214, -0.2559669080909139, -0.43365185916771815, -0.37165169246290414, 0.4001482227159277, -0.2808384077050134, 0.3200323481265974, 0.548912422765533, -2.3704572275044256, -0.3644523198278164, 0.039454027249712476, 1.0623529672146794, 0.7864934855343091, 0.7256637434622966, 0.6976639154125662, 1.4743878281038973, -2.0616148606854043, -0.2937432964169668, -0.3792343959203282, 0.576380223053573, -1.9159063740657722, 0.40713157217015117, -0.29436880522574765, -0.9394752185978784, 0.78876931567213, 0.8895989554239737, 1.5664726941314182, 0.48441540775546776, -3.0591518070458266, 2.3911231558435726, -1.4449033644934874, -1.3924275408123392, 0.17382197797757712, -0.5567243993245482, -0.08447779634123187, 0.4301868761448119, 1.2355330417977177, -0.5063159694727445, -0.8187281572673231, 1.6039646080964505, -0.2009598120941732, 2.8029560142061323, 0.2984548560518197, 0.8999436772220767, -1.7319802294637427, -1.3607715721374827, -0.3818650465129761, -0.24119446662667235, 0.49573677929622895, 0.37516568660625255, -1.3963206832653954, 0.08370478226323531, -0.802838008300142, 1.126644556541517, 0.2456983810060282, -0.31141590823350834, 0.14924592582376356, 0.0586862032747273, -0.8810342851515048, -0.5630394604053154, -1.0394141444088514, 1.5754312986766652, 1.080653351869836, -0.9897339047293988, 0.45902392135464376, -1.34379459005792, 0.987088063065103, -0.003852969120063484, 0.003105491270756242, 2.3288587458423207, -0.26636891054765377, -0.5588559210488281, -2.897762586549168, -0.9471056471452588, 0.58355518513356, 0.22462303171811882], \"yaxis\": \"y14\"}, {\"line\": {\"color\": \"rgba(128, 128, 128, 1.0)\", \"dash\": \"solid\", \"shape\": \"linear\", \"width\": 1.3}, \"marker\": {\"size\": 2, \"symbol\": \"circle\"}, \"mode\": \"markers\", \"name\": \"D\", \"text\": \"\", \"type\": \"scatter\", \"x\": [-1.13749315482382, 0.7653879229528251, 0.36353993423080283, -0.1264559329598941, 0.20902322993125227, 0.004425724623742667, -1.5809516932518117, 0.21132144886763912, -0.09207767881977709, -0.9986667851679848, 0.24249197845322157, -0.1670722755498319, -0.25989403824354784, -1.2128858047674451, -0.6066845874730094, 0.38747203527688656, 0.6703817625268776, 0.5893838408432945, -0.2515646505395043, 0.015830081332728074, 0.7518553601532176, -0.8279223222360815, 0.13447461632924104, 0.5038845288746462, -0.7991348009888153, -0.6017576901506447, -0.9471261239516784, -1.4158141594145313, 0.8046294420633452, -1.88418076448262, -0.7244974928743495, 0.8062482595739058, 1.468972588346329, -1.3065576529651353, 0.19761452884566194, -0.5142486337830402, -0.5366617937602675, 0.41674173632929223, 0.07040277780338344, 0.5867604556708543, -0.5307208193118907, 0.5532314718964406, 0.33618900518926537, -2.0316632223733553, 1.2037899892305588, 1.495760261609705, 0.9461871905850956, 0.4148510504342809, 1.2917872098988403, 0.038159176615340996, -0.7903494308684608, 0.8724093738391323, 0.5084019544516403, 1.6802366581185233, -0.03835829382367422, 0.8921323672959719, -3.1048789733083635, -0.9959838237283308, -1.4776596679815992, -1.6042472658044309, -0.898057711597044, -0.0014952871568699056, -0.060323124861548186, -1.5214938503202469, 0.5440691871580189, 1.7948911997294532, -2.3114850872544577, -1.2511453085315185, -0.9192439666370511, 1.3347845456976195, -2.7084887701278917, -0.6872683553989607, 0.1633739608597954, 0.7011899016772642, -0.43252875504230487, 0.4669155858262645, -1.3804452333866417, -0.7129946601176602, 1.1510291635751115, -0.37340888390995575, -0.7678549843810049, 1.4537991209345367, -1.6103328597013777, -0.08098437022756322, 0.04938978891788958, 0.8818090088558648, -0.4463209623346439, -0.05772006728779314, 0.2094643862383853, -0.788480693768257, -0.9700506115589369, -0.6309762622528706, -0.1496590724180059, -1.5557199092524507, 1.2173731944856414, -0.9646377814844951, 0.35472679974346744, 0.8580392133991638, -0.47948073381113515, -0.4451400361562025], \"xaxis\": \"x15\", \"y\": [-0.7047235523489176, 1.246993324176599, 0.1403089172780101, -0.4549420408995085, 0.06246430342814528, -0.0014477722750879122, 0.7173287158977242, 1.3939915546321147, -2.0722469934200163, 1.126921877025309, 1.1541613504362467, -1.1229505194346185, 1.217198074129629, -0.22721537044679177, 0.21435434921557553, -0.9376024029308394, -0.45691627457818557, -0.19797153024436692, -2.5355487909269643, -0.11762947145539833, 0.6199621320706129, 1.2091447197385286, -1.5780488351712234, -0.021510994529677023, -0.06212691573040214, -0.2559669080909139, -0.43365185916771815, -0.37165169246290414, 0.4001482227159277, -0.2808384077050134, 0.3200323481265974, 0.548912422765533, -2.3704572275044256, -0.3644523198278164, 0.039454027249712476, 1.0623529672146794, 0.7864934855343091, 0.7256637434622966, 0.6976639154125662, 1.4743878281038973, -2.0616148606854043, -0.2937432964169668, -0.3792343959203282, 0.576380223053573, -1.9159063740657722, 0.40713157217015117, -0.29436880522574765, -0.9394752185978784, 0.78876931567213, 0.8895989554239737, 1.5664726941314182, 0.48441540775546776, -3.0591518070458266, 2.3911231558435726, -1.4449033644934874, -1.3924275408123392, 0.17382197797757712, -0.5567243993245482, -0.08447779634123187, 0.4301868761448119, 1.2355330417977177, -0.5063159694727445, -0.8187281572673231, 1.6039646080964505, -0.2009598120941732, 2.8029560142061323, 0.2984548560518197, 0.8999436772220767, -1.7319802294637427, -1.3607715721374827, -0.3818650465129761, -0.24119446662667235, 0.49573677929622895, 0.37516568660625255, -1.3963206832653954, 0.08370478226323531, -0.802838008300142, 1.126644556541517, 0.2456983810060282, -0.31141590823350834, 0.14924592582376356, 0.0586862032747273, -0.8810342851515048, -0.5630394604053154, -1.0394141444088514, 1.5754312986766652, 1.080653351869836, -0.9897339047293988, 0.45902392135464376, -1.34379459005792, 0.987088063065103, -0.003852969120063484, 0.003105491270756242, 2.3288587458423207, -0.26636891054765377, -0.5588559210488281, -2.897762586549168, -0.9471056471452588, 0.58355518513356, 0.22462303171811882], \"yaxis\": \"y15\"}, {\"histfunc\": \"count\", \"histnorm\": \"\", \"marker\": {\"color\": \"rgba(128, 0, 128, 1.0)\", \"line\": {\"color\": \"#4D5663\", \"width\": 1.3}}, \"name\": \"D\", \"nbinsx\": 10, \"opacity\": 0.8, \"orientation\": \"v\", \"type\": \"histogram\", \"x\": [-0.7047235523489176, 1.246993324176599, 0.1403089172780101, -0.4549420408995085, 0.06246430342814528, -0.0014477722750879122, 0.7173287158977242, 1.3939915546321147, -2.0722469934200163, 1.126921877025309, 1.1541613504362467, -1.1229505194346185, 1.217198074129629, -0.22721537044679177, 0.21435434921557553, -0.9376024029308394, -0.45691627457818557, -0.19797153024436692, -2.5355487909269643, -0.11762947145539833, 0.6199621320706129, 1.2091447197385286, -1.5780488351712234, -0.021510994529677023, -0.06212691573040214, -0.2559669080909139, -0.43365185916771815, -0.37165169246290414, 0.4001482227159277, -0.2808384077050134, 0.3200323481265974, 0.548912422765533, -2.3704572275044256, -0.3644523198278164, 0.039454027249712476, 1.0623529672146794, 0.7864934855343091, 0.7256637434622966, 0.6976639154125662, 1.4743878281038973, -2.0616148606854043, -0.2937432964169668, -0.3792343959203282, 0.576380223053573, -1.9159063740657722, 0.40713157217015117, -0.29436880522574765, -0.9394752185978784, 0.78876931567213, 0.8895989554239737, 1.5664726941314182, 0.48441540775546776, -3.0591518070458266, 2.3911231558435726, -1.4449033644934874, -1.3924275408123392, 0.17382197797757712, -0.5567243993245482, -0.08447779634123187, 0.4301868761448119, 1.2355330417977177, -0.5063159694727445, -0.8187281572673231, 1.6039646080964505, -0.2009598120941732, 2.8029560142061323, 0.2984548560518197, 0.8999436772220767, -1.7319802294637427, -1.3607715721374827, -0.3818650465129761, -0.24119446662667235, 0.49573677929622895, 0.37516568660625255, -1.3963206832653954, 0.08370478226323531, -0.802838008300142, 1.126644556541517, 0.2456983810060282, -0.31141590823350834, 0.14924592582376356, 0.0586862032747273, -0.8810342851515048, -0.5630394604053154, -1.0394141444088514, 1.5754312986766652, 1.080653351869836, -0.9897339047293988, 0.45902392135464376, -1.34379459005792, 0.987088063065103, -0.003852969120063484, 0.003105491270756242, 2.3288587458423207, -0.26636891054765377, -0.5588559210488281, -2.897762586549168, -0.9471056471452588, 0.58355518513356, 0.22462303171811882], \"xaxis\": \"x16\", \"yaxis\": \"y16\"}],\n",
       "                        {\"bargap\": 0.02, \"legend\": {\"bgcolor\": \"#F5F6F9\", \"font\": {\"color\": \"#4D5663\"}}, \"paper_bgcolor\": \"#F5F6F9\", \"plot_bgcolor\": \"#F5F6F9\", \"showlegend\": false, \"template\": {\"data\": {\"bar\": [{\"error_x\": {\"color\": \"#2a3f5f\"}, \"error_y\": {\"color\": \"#2a3f5f\"}, \"marker\": {\"line\": {\"color\": \"#E5ECF6\", \"width\": 0.5}}, \"type\": \"bar\"}], \"barpolar\": [{\"marker\": {\"line\": {\"color\": \"#E5ECF6\", \"width\": 0.5}}, \"type\": \"barpolar\"}], \"carpet\": [{\"aaxis\": {\"endlinecolor\": \"#2a3f5f\", \"gridcolor\": \"white\", \"linecolor\": \"white\", \"minorgridcolor\": \"white\", \"startlinecolor\": \"#2a3f5f\"}, \"baxis\": {\"endlinecolor\": \"#2a3f5f\", \"gridcolor\": \"white\", \"linecolor\": \"white\", \"minorgridcolor\": \"white\", \"startlinecolor\": \"#2a3f5f\"}, \"type\": \"carpet\"}], \"choropleth\": [{\"colorbar\": {\"outlinewidth\": 0, \"ticks\": \"\"}, \"type\": \"choropleth\"}], \"contour\": [{\"colorbar\": {\"outlinewidth\": 0, \"ticks\": \"\"}, \"colorscale\": [[0.0, \"#0d0887\"], [0.1111111111111111, \"#46039f\"], [0.2222222222222222, \"#7201a8\"], [0.3333333333333333, \"#9c179e\"], [0.4444444444444444, \"#bd3786\"], [0.5555555555555556, \"#d8576b\"], [0.6666666666666666, \"#ed7953\"], [0.7777777777777778, \"#fb9f3a\"], [0.8888888888888888, \"#fdca26\"], [1.0, \"#f0f921\"]], \"type\": \"contour\"}], \"contourcarpet\": [{\"colorbar\": {\"outlinewidth\": 0, \"ticks\": \"\"}, \"type\": \"contourcarpet\"}], \"heatmap\": [{\"colorbar\": {\"outlinewidth\": 0, \"ticks\": \"\"}, \"colorscale\": [[0.0, \"#0d0887\"], [0.1111111111111111, \"#46039f\"], [0.2222222222222222, \"#7201a8\"], [0.3333333333333333, \"#9c179e\"], [0.4444444444444444, \"#bd3786\"], [0.5555555555555556, \"#d8576b\"], [0.6666666666666666, \"#ed7953\"], [0.7777777777777778, \"#fb9f3a\"], [0.8888888888888888, \"#fdca26\"], [1.0, \"#f0f921\"]], \"type\": \"heatmap\"}], \"heatmapgl\": [{\"colorbar\": {\"outlinewidth\": 0, \"ticks\": \"\"}, \"colorscale\": [[0.0, \"#0d0887\"], [0.1111111111111111, \"#46039f\"], [0.2222222222222222, \"#7201a8\"], [0.3333333333333333, \"#9c179e\"], [0.4444444444444444, \"#bd3786\"], [0.5555555555555556, \"#d8576b\"], [0.6666666666666666, \"#ed7953\"], [0.7777777777777778, \"#fb9f3a\"], [0.8888888888888888, \"#fdca26\"], [1.0, \"#f0f921\"]], \"type\": \"heatmapgl\"}], \"histogram\": [{\"marker\": {\"colorbar\": {\"outlinewidth\": 0, \"ticks\": \"\"}}, \"type\": \"histogram\"}], \"histogram2d\": [{\"colorbar\": {\"outlinewidth\": 0, \"ticks\": \"\"}, \"colorscale\": [[0.0, \"#0d0887\"], [0.1111111111111111, \"#46039f\"], [0.2222222222222222, \"#7201a8\"], [0.3333333333333333, \"#9c179e\"], [0.4444444444444444, \"#bd3786\"], [0.5555555555555556, \"#d8576b\"], [0.6666666666666666, \"#ed7953\"], [0.7777777777777778, \"#fb9f3a\"], [0.8888888888888888, \"#fdca26\"], [1.0, \"#f0f921\"]], \"type\": \"histogram2d\"}], \"histogram2dcontour\": [{\"colorbar\": {\"outlinewidth\": 0, \"ticks\": \"\"}, \"colorscale\": [[0.0, \"#0d0887\"], [0.1111111111111111, \"#46039f\"], [0.2222222222222222, \"#7201a8\"], [0.3333333333333333, \"#9c179e\"], [0.4444444444444444, \"#bd3786\"], [0.5555555555555556, \"#d8576b\"], [0.6666666666666666, \"#ed7953\"], [0.7777777777777778, \"#fb9f3a\"], [0.8888888888888888, \"#fdca26\"], [1.0, \"#f0f921\"]], \"type\": \"histogram2dcontour\"}], \"mesh3d\": [{\"colorbar\": {\"outlinewidth\": 0, \"ticks\": \"\"}, \"type\": \"mesh3d\"}], \"parcoords\": [{\"line\": {\"colorbar\": {\"outlinewidth\": 0, \"ticks\": \"\"}}, \"type\": \"parcoords\"}], \"pie\": [{\"automargin\": true, \"type\": \"pie\"}], \"scatter\": [{\"marker\": {\"colorbar\": {\"outlinewidth\": 0, \"ticks\": \"\"}}, \"type\": \"scatter\"}], \"scatter3d\": [{\"line\": {\"colorbar\": {\"outlinewidth\": 0, \"ticks\": \"\"}}, \"marker\": {\"colorbar\": {\"outlinewidth\": 0, \"ticks\": \"\"}}, \"type\": \"scatter3d\"}], \"scattercarpet\": [{\"marker\": {\"colorbar\": {\"outlinewidth\": 0, \"ticks\": \"\"}}, \"type\": \"scattercarpet\"}], \"scattergeo\": [{\"marker\": {\"colorbar\": {\"outlinewidth\": 0, \"ticks\": \"\"}}, \"type\": \"scattergeo\"}], \"scattergl\": [{\"marker\": {\"colorbar\": {\"outlinewidth\": 0, \"ticks\": \"\"}}, \"type\": \"scattergl\"}], \"scattermapbox\": [{\"marker\": {\"colorbar\": {\"outlinewidth\": 0, \"ticks\": \"\"}}, \"type\": \"scattermapbox\"}], \"scatterpolar\": [{\"marker\": {\"colorbar\": {\"outlinewidth\": 0, \"ticks\": \"\"}}, \"type\": \"scatterpolar\"}], \"scatterpolargl\": [{\"marker\": {\"colorbar\": {\"outlinewidth\": 0, \"ticks\": \"\"}}, \"type\": \"scatterpolargl\"}], \"scatterternary\": [{\"marker\": {\"colorbar\": {\"outlinewidth\": 0, \"ticks\": \"\"}}, \"type\": \"scatterternary\"}], \"surface\": [{\"colorbar\": {\"outlinewidth\": 0, \"ticks\": \"\"}, \"colorscale\": [[0.0, \"#0d0887\"], [0.1111111111111111, \"#46039f\"], [0.2222222222222222, \"#7201a8\"], [0.3333333333333333, \"#9c179e\"], [0.4444444444444444, \"#bd3786\"], [0.5555555555555556, \"#d8576b\"], [0.6666666666666666, \"#ed7953\"], [0.7777777777777778, \"#fb9f3a\"], [0.8888888888888888, \"#fdca26\"], [1.0, \"#f0f921\"]], \"type\": \"surface\"}], \"table\": [{\"cells\": {\"fill\": {\"color\": \"#EBF0F8\"}, \"line\": {\"color\": \"white\"}}, \"header\": {\"fill\": {\"color\": \"#C8D4E3\"}, \"line\": {\"color\": \"white\"}}, \"type\": \"table\"}]}, \"layout\": {\"annotationdefaults\": {\"arrowcolor\": \"#2a3f5f\", \"arrowhead\": 0, \"arrowwidth\": 1}, \"coloraxis\": {\"colorbar\": {\"outlinewidth\": 0, \"ticks\": \"\"}}, \"colorscale\": {\"diverging\": [[0, \"#8e0152\"], [0.1, \"#c51b7d\"], [0.2, \"#de77ae\"], [0.3, \"#f1b6da\"], [0.4, \"#fde0ef\"], [0.5, \"#f7f7f7\"], [0.6, \"#e6f5d0\"], [0.7, \"#b8e186\"], [0.8, \"#7fbc41\"], [0.9, \"#4d9221\"], [1, \"#276419\"]], \"sequential\": [[0.0, \"#0d0887\"], [0.1111111111111111, \"#46039f\"], [0.2222222222222222, \"#7201a8\"], [0.3333333333333333, \"#9c179e\"], [0.4444444444444444, \"#bd3786\"], [0.5555555555555556, \"#d8576b\"], [0.6666666666666666, \"#ed7953\"], [0.7777777777777778, \"#fb9f3a\"], [0.8888888888888888, \"#fdca26\"], [1.0, \"#f0f921\"]], \"sequentialminus\": [[0.0, \"#0d0887\"], [0.1111111111111111, \"#46039f\"], [0.2222222222222222, \"#7201a8\"], [0.3333333333333333, \"#9c179e\"], [0.4444444444444444, \"#bd3786\"], [0.5555555555555556, \"#d8576b\"], [0.6666666666666666, \"#ed7953\"], [0.7777777777777778, \"#fb9f3a\"], [0.8888888888888888, \"#fdca26\"], [1.0, \"#f0f921\"]]}, \"colorway\": [\"#636efa\", \"#EF553B\", \"#00cc96\", \"#ab63fa\", \"#FFA15A\", \"#19d3f3\", \"#FF6692\", \"#B6E880\", \"#FF97FF\", \"#FECB52\"], \"font\": {\"color\": \"#2a3f5f\"}, \"geo\": {\"bgcolor\": \"white\", \"lakecolor\": \"white\", \"landcolor\": \"#E5ECF6\", \"showlakes\": true, \"showland\": true, \"subunitcolor\": \"white\"}, \"hoverlabel\": {\"align\": \"left\"}, \"hovermode\": \"closest\", \"mapbox\": {\"style\": \"light\"}, \"paper_bgcolor\": \"white\", \"plot_bgcolor\": \"#E5ECF6\", \"polar\": {\"angularaxis\": {\"gridcolor\": \"white\", \"linecolor\": \"white\", \"ticks\": \"\"}, \"bgcolor\": \"#E5ECF6\", \"radialaxis\": {\"gridcolor\": \"white\", \"linecolor\": \"white\", \"ticks\": \"\"}}, \"scene\": {\"xaxis\": {\"backgroundcolor\": \"#E5ECF6\", \"gridcolor\": \"white\", \"gridwidth\": 2, \"linecolor\": \"white\", \"showbackground\": true, \"ticks\": \"\", \"zerolinecolor\": \"white\"}, \"yaxis\": {\"backgroundcolor\": \"#E5ECF6\", \"gridcolor\": \"white\", \"gridwidth\": 2, \"linecolor\": \"white\", \"showbackground\": true, \"ticks\": \"\", \"zerolinecolor\": \"white\"}, \"zaxis\": {\"backgroundcolor\": \"#E5ECF6\", \"gridcolor\": \"white\", \"gridwidth\": 2, \"linecolor\": \"white\", \"showbackground\": true, \"ticks\": \"\", \"zerolinecolor\": \"white\"}}, \"shapedefaults\": {\"line\": {\"color\": \"#2a3f5f\"}}, \"ternary\": {\"aaxis\": {\"gridcolor\": \"white\", \"linecolor\": \"white\", \"ticks\": \"\"}, \"baxis\": {\"gridcolor\": \"white\", \"linecolor\": \"white\", \"ticks\": \"\"}, \"bgcolor\": \"#E5ECF6\", \"caxis\": {\"gridcolor\": \"white\", \"linecolor\": \"white\", \"ticks\": \"\"}}, \"title\": {\"x\": 0.05}, \"xaxis\": {\"automargin\": true, \"gridcolor\": \"white\", \"linecolor\": \"white\", \"ticks\": \"\", \"title\": {\"standoff\": 15}, \"zerolinecolor\": \"white\", \"zerolinewidth\": 2}, \"yaxis\": {\"automargin\": true, \"gridcolor\": \"white\", \"linecolor\": \"white\", \"ticks\": \"\", \"title\": {\"standoff\": 15}, \"zerolinecolor\": \"white\", \"zerolinewidth\": 2}}}, \"title\": {\"font\": {\"color\": \"#4D5663\"}}, \"xaxis\": {\"anchor\": \"y\", \"domain\": [0.0, 0.2125], \"gridcolor\": \"#E1E5ED\", \"showgrid\": false, \"tickfont\": {\"color\": \"#4D5663\"}, \"title\": {\"font\": {\"color\": \"#4D5663\"}, \"text\": \"\"}, \"zerolinecolor\": \"#E1E5ED\"}, \"xaxis10\": {\"anchor\": \"y10\", \"domain\": [0.2625, 0.475], \"gridcolor\": \"#E1E5ED\", \"showgrid\": false, \"tickfont\": {\"color\": \"#4D5663\"}, \"title\": {\"font\": {\"color\": \"#4D5663\"}, \"text\": \"\"}, \"zerolinecolor\": \"#E1E5ED\"}, \"xaxis11\": {\"anchor\": \"y11\", \"domain\": [0.525, 0.7375], \"gridcolor\": \"#E1E5ED\", \"showgrid\": false, \"tickfont\": {\"color\": \"#4D5663\"}, \"title\": {\"font\": {\"color\": \"#4D5663\"}, \"text\": \"\"}, \"zerolinecolor\": \"#E1E5ED\"}, \"xaxis12\": {\"anchor\": \"y12\", \"domain\": [0.7875, 1.0], \"gridcolor\": \"#E1E5ED\", \"showgrid\": false, \"tickfont\": {\"color\": \"#4D5663\"}, \"title\": {\"font\": {\"color\": \"#4D5663\"}, \"text\": \"\"}, \"zerolinecolor\": \"#E1E5ED\"}, \"xaxis13\": {\"anchor\": \"y13\", \"domain\": [0.0, 0.2125], \"gridcolor\": \"#E1E5ED\", \"showgrid\": false, \"tickfont\": {\"color\": \"#4D5663\"}, \"title\": {\"font\": {\"color\": \"#4D5663\"}, \"text\": \"\"}, \"zerolinecolor\": \"#E1E5ED\"}, \"xaxis14\": {\"anchor\": \"y14\", \"domain\": [0.2625, 0.475], \"gridcolor\": \"#E1E5ED\", \"showgrid\": false, \"tickfont\": {\"color\": \"#4D5663\"}, \"title\": {\"font\": {\"color\": \"#4D5663\"}, \"text\": \"\"}, \"zerolinecolor\": \"#E1E5ED\"}, \"xaxis15\": {\"anchor\": \"y15\", \"domain\": [0.525, 0.7375], \"gridcolor\": \"#E1E5ED\", \"showgrid\": false, \"tickfont\": {\"color\": \"#4D5663\"}, \"title\": {\"font\": {\"color\": \"#4D5663\"}, \"text\": \"\"}, \"zerolinecolor\": \"#E1E5ED\"}, \"xaxis16\": {\"anchor\": \"y16\", \"domain\": [0.7875, 1.0], \"gridcolor\": \"#E1E5ED\", \"showgrid\": false, \"tickfont\": {\"color\": \"#4D5663\"}, \"title\": {\"font\": {\"color\": \"#4D5663\"}, \"text\": \"\"}, \"zerolinecolor\": \"#E1E5ED\"}, \"xaxis2\": {\"anchor\": \"y2\", \"domain\": [0.2625, 0.475], \"gridcolor\": \"#E1E5ED\", \"showgrid\": false, \"tickfont\": {\"color\": \"#4D5663\"}, \"title\": {\"font\": {\"color\": \"#4D5663\"}, \"text\": \"\"}, \"zerolinecolor\": \"#E1E5ED\"}, \"xaxis3\": {\"anchor\": \"y3\", \"domain\": [0.525, 0.7375], \"gridcolor\": \"#E1E5ED\", \"showgrid\": false, \"tickfont\": {\"color\": \"#4D5663\"}, \"title\": {\"font\": {\"color\": \"#4D5663\"}, \"text\": \"\"}, \"zerolinecolor\": \"#E1E5ED\"}, \"xaxis4\": {\"anchor\": \"y4\", \"domain\": [0.7875, 1.0], \"gridcolor\": \"#E1E5ED\", \"showgrid\": false, \"tickfont\": {\"color\": \"#4D5663\"}, \"title\": {\"font\": {\"color\": \"#4D5663\"}, \"text\": \"\"}, \"zerolinecolor\": \"#E1E5ED\"}, \"xaxis5\": {\"anchor\": \"y5\", \"domain\": [0.0, 0.2125], \"gridcolor\": \"#E1E5ED\", \"showgrid\": false, \"tickfont\": {\"color\": \"#4D5663\"}, \"title\": {\"font\": {\"color\": \"#4D5663\"}, \"text\": \"\"}, \"zerolinecolor\": \"#E1E5ED\"}, \"xaxis6\": {\"anchor\": \"y6\", \"domain\": [0.2625, 0.475], \"gridcolor\": \"#E1E5ED\", \"showgrid\": false, \"tickfont\": {\"color\": \"#4D5663\"}, \"title\": {\"font\": {\"color\": \"#4D5663\"}, \"text\": \"\"}, \"zerolinecolor\": \"#E1E5ED\"}, \"xaxis7\": {\"anchor\": \"y7\", \"domain\": [0.525, 0.7375], \"gridcolor\": \"#E1E5ED\", \"showgrid\": false, \"tickfont\": {\"color\": \"#4D5663\"}, \"title\": {\"font\": {\"color\": \"#4D5663\"}, \"text\": \"\"}, \"zerolinecolor\": \"#E1E5ED\"}, \"xaxis8\": {\"anchor\": \"y8\", \"domain\": [0.7875, 1.0], \"gridcolor\": \"#E1E5ED\", \"showgrid\": false, \"tickfont\": {\"color\": \"#4D5663\"}, \"title\": {\"font\": {\"color\": \"#4D5663\"}, \"text\": \"\"}, \"zerolinecolor\": \"#E1E5ED\"}, \"xaxis9\": {\"anchor\": \"y9\", \"domain\": [0.0, 0.2125], \"gridcolor\": \"#E1E5ED\", \"showgrid\": false, \"tickfont\": {\"color\": \"#4D5663\"}, \"title\": {\"font\": {\"color\": \"#4D5663\"}, \"text\": \"\"}, \"zerolinecolor\": \"#E1E5ED\"}, \"yaxis\": {\"anchor\": \"x\", \"domain\": [0.8025, 1.0], \"gridcolor\": \"#E1E5ED\", \"showgrid\": false, \"tickfont\": {\"color\": \"#4D5663\"}, \"title\": {\"font\": {\"color\": \"#4D5663\"}, \"text\": \"\"}, \"zerolinecolor\": \"#E1E5ED\"}, \"yaxis10\": {\"anchor\": \"x10\", \"domain\": [0.2675, 0.465], \"gridcolor\": \"#E1E5ED\", \"showgrid\": false, \"tickfont\": {\"color\": \"#4D5663\"}, \"title\": {\"font\": {\"color\": \"#4D5663\"}, \"text\": \"\"}, \"zerolinecolor\": \"#E1E5ED\"}, \"yaxis11\": {\"anchor\": \"x11\", \"domain\": [0.2675, 0.465], \"gridcolor\": \"#E1E5ED\", \"showgrid\": false, \"tickfont\": {\"color\": \"#4D5663\"}, \"title\": {\"font\": {\"color\": \"#4D5663\"}, \"text\": \"\"}, \"zerolinecolor\": \"#E1E5ED\"}, \"yaxis12\": {\"anchor\": \"x12\", \"domain\": [0.2675, 0.465], \"gridcolor\": \"#E1E5ED\", \"showgrid\": false, \"tickfont\": {\"color\": \"#4D5663\"}, \"title\": {\"font\": {\"color\": \"#4D5663\"}, \"text\": \"\"}, \"zerolinecolor\": \"#E1E5ED\"}, \"yaxis13\": {\"anchor\": \"x13\", \"domain\": [0.0, 0.1975], \"gridcolor\": \"#E1E5ED\", \"showgrid\": false, \"tickfont\": {\"color\": \"#4D5663\"}, \"title\": {\"font\": {\"color\": \"#4D5663\"}, \"text\": \"\"}, \"zerolinecolor\": \"#E1E5ED\"}, \"yaxis14\": {\"anchor\": \"x14\", \"domain\": [0.0, 0.1975], \"gridcolor\": \"#E1E5ED\", \"showgrid\": false, \"tickfont\": {\"color\": \"#4D5663\"}, \"title\": {\"font\": {\"color\": \"#4D5663\"}, \"text\": \"\"}, \"zerolinecolor\": \"#E1E5ED\"}, \"yaxis15\": {\"anchor\": \"x15\", \"domain\": [0.0, 0.1975], \"gridcolor\": \"#E1E5ED\", \"showgrid\": false, \"tickfont\": {\"color\": \"#4D5663\"}, \"title\": {\"font\": {\"color\": \"#4D5663\"}, \"text\": \"\"}, \"zerolinecolor\": \"#E1E5ED\"}, \"yaxis16\": {\"anchor\": \"x16\", \"domain\": [0.0, 0.1975], \"gridcolor\": \"#E1E5ED\", \"showgrid\": false, \"tickfont\": {\"color\": \"#4D5663\"}, \"title\": {\"font\": {\"color\": \"#4D5663\"}, \"text\": \"\"}, \"zerolinecolor\": \"#E1E5ED\"}, \"yaxis2\": {\"anchor\": \"x2\", \"domain\": [0.8025, 1.0], \"gridcolor\": \"#E1E5ED\", \"showgrid\": false, \"tickfont\": {\"color\": \"#4D5663\"}, \"title\": {\"font\": {\"color\": \"#4D5663\"}, \"text\": \"\"}, \"zerolinecolor\": \"#E1E5ED\"}, \"yaxis3\": {\"anchor\": \"x3\", \"domain\": [0.8025, 1.0], \"gridcolor\": \"#E1E5ED\", \"showgrid\": false, \"tickfont\": {\"color\": \"#4D5663\"}, \"title\": {\"font\": {\"color\": \"#4D5663\"}, \"text\": \"\"}, \"zerolinecolor\": \"#E1E5ED\"}, \"yaxis4\": {\"anchor\": \"x4\", \"domain\": [0.8025, 1.0], \"gridcolor\": \"#E1E5ED\", \"showgrid\": false, \"tickfont\": {\"color\": \"#4D5663\"}, \"title\": {\"font\": {\"color\": \"#4D5663\"}, \"text\": \"\"}, \"zerolinecolor\": \"#E1E5ED\"}, \"yaxis5\": {\"anchor\": \"x5\", \"domain\": [0.535, 0.7325], \"gridcolor\": \"#E1E5ED\", \"showgrid\": false, \"tickfont\": {\"color\": \"#4D5663\"}, \"title\": {\"font\": {\"color\": \"#4D5663\"}, \"text\": \"\"}, \"zerolinecolor\": \"#E1E5ED\"}, \"yaxis6\": {\"anchor\": \"x6\", \"domain\": [0.535, 0.7325], \"gridcolor\": \"#E1E5ED\", \"showgrid\": false, \"tickfont\": {\"color\": \"#4D5663\"}, \"title\": {\"font\": {\"color\": \"#4D5663\"}, \"text\": \"\"}, \"zerolinecolor\": \"#E1E5ED\"}, \"yaxis7\": {\"anchor\": \"x7\", \"domain\": [0.535, 0.7325], \"gridcolor\": \"#E1E5ED\", \"showgrid\": false, \"tickfont\": {\"color\": \"#4D5663\"}, \"title\": {\"font\": {\"color\": \"#4D5663\"}, \"text\": \"\"}, \"zerolinecolor\": \"#E1E5ED\"}, \"yaxis8\": {\"anchor\": \"x8\", \"domain\": [0.535, 0.7325], \"gridcolor\": \"#E1E5ED\", \"showgrid\": false, \"tickfont\": {\"color\": \"#4D5663\"}, \"title\": {\"font\": {\"color\": \"#4D5663\"}, \"text\": \"\"}, \"zerolinecolor\": \"#E1E5ED\"}, \"yaxis9\": {\"anchor\": \"x9\", \"domain\": [0.2675, 0.465], \"gridcolor\": \"#E1E5ED\", \"showgrid\": false, \"tickfont\": {\"color\": \"#4D5663\"}, \"title\": {\"font\": {\"color\": \"#4D5663\"}, \"text\": \"\"}, \"zerolinecolor\": \"#E1E5ED\"}},\n",
       "                        {\"showLink\": true, \"linkText\": \"Export to plot.ly\", \"plotlyServerURL\": \"https://plot.ly\", \"responsive\": true}\n",
       "                    ).then(function(){\n",
       "                            \n",
       "var gd = document.getElementById('941619eb-fbb2-43c0-9067-4c531518e516');\n",
       "var x = new MutationObserver(function (mutations, observer) {{\n",
       "        var display = window.getComputedStyle(gd).display;\n",
       "        if (!display || display === 'none') {{\n",
       "            console.log([gd, 'removed!']);\n",
       "            Plotly.purge(gd);\n",
       "            observer.disconnect();\n",
       "        }}\n",
       "}});\n",
       "\n",
       "// Listen for the removal of the full notebook cells\n",
       "var notebookContainer = gd.closest('#notebook-container');\n",
       "if (notebookContainer) {{\n",
       "    x.observe(notebookContainer, {childList: true});\n",
       "}}\n",
       "\n",
       "// Listen for the clearing of the current output cell\n",
       "var outputEl = gd.closest('.output');\n",
       "if (outputEl) {{\n",
       "    x.observe(outputEl, {childList: true});\n",
       "}}\n",
       "\n",
       "                        })\n",
       "                };\n",
       "                });\n",
       "            </script>\n",
       "        </div>"
      ]
     },
     "metadata": {},
     "output_type": "display_data"
    }
   ],
   "source": [
    "df.scatter_matrix()"
   ]
  },
  {
   "cell_type": "markdown",
   "metadata": {
    "collapsed": true
   },
   "source": [
    "# Great Job!"
   ]
  }
 ],
 "metadata": {
  "kernelspec": {
   "display_name": "Python 3",
   "language": "python",
   "name": "python3"
  },
  "language_info": {
   "codemirror_mode": {
    "name": "ipython",
    "version": 3
   },
   "file_extension": ".py",
   "mimetype": "text/x-python",
   "name": "python",
   "nbconvert_exporter": "python",
   "pygments_lexer": "ipython3",
   "version": "3.7.6"
  }
 },
 "nbformat": 4,
 "nbformat_minor": 1
}
